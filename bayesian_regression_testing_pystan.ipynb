{
 "cells": [
  {
   "cell_type": "markdown",
   "source": [
    "### File containing the functionalities of our bayesian model"
   ],
   "metadata": {
    "collapsed": false
   }
  },
  {
   "cell_type": "markdown",
   "source": [
    "## I. Prerequesites"
   ],
   "metadata": {
    "collapsed": false
   }
  },
  {
   "cell_type": "markdown",
   "source": [
    "**1. Import Packages**"
   ],
   "metadata": {
    "collapsed": false
   }
  },
  {
   "cell_type": "code",
   "execution_count": 1,
   "outputs": [
    {
     "name": "stderr",
     "output_type": "stream",
     "text": [
      "C:\\Users\\Uwe Drauz\\anaconda3\\envs\\bachelor_thesis_pymc\\lib\\site-packages\\scipy\\__init__.py:146: UserWarning: A NumPy version >=1.17.3 and <1.25.0 is required for this version of SciPy (detected version 1.25.2\n",
      "  warnings.warn(f\"A NumPy version >={np_minversion} and <{np_maxversion}\"\n"
     ]
    },
    {
     "ename": "ModuleNotFoundError",
     "evalue": "No module named 'pystan'",
     "output_type": "error",
     "traceback": [
      "\u001B[1;31m---------------------------------------------------------------------------\u001B[0m",
      "\u001B[1;31mModuleNotFoundError\u001B[0m                       Traceback (most recent call last)",
      "Cell \u001B[1;32mIn[1], line 5\u001B[0m\n\u001B[0;32m      3\u001B[0m \u001B[38;5;28;01mimport\u001B[39;00m \u001B[38;5;21;01mnumpy\u001B[39;00m \u001B[38;5;28;01mas\u001B[39;00m \u001B[38;5;21;01mnp\u001B[39;00m\n\u001B[0;32m      4\u001B[0m \u001B[38;5;28;01mimport\u001B[39;00m \u001B[38;5;21;01mpandas\u001B[39;00m \u001B[38;5;28;01mas\u001B[39;00m \u001B[38;5;21;01mpd\u001B[39;00m\n\u001B[1;32m----> 5\u001B[0m \u001B[38;5;28;01mimport\u001B[39;00m \u001B[38;5;21;01mpystan\u001B[39;00m\n\u001B[0;32m      6\u001B[0m \u001B[38;5;28;01mimport\u001B[39;00m \u001B[38;5;21;01mpatsy\u001B[39;00m \u001B[38;5;28;01mas\u001B[39;00m \u001B[38;5;21;01mps\u001B[39;00m\n\u001B[0;32m      7\u001B[0m \u001B[38;5;28;01mfrom\u001B[39;00m \u001B[38;5;21;01msklearn\u001B[39;00m\u001B[38;5;21;01m.\u001B[39;00m\u001B[38;5;21;01mmodel_selection\u001B[39;00m \u001B[38;5;28;01mimport\u001B[39;00m TimeSeriesSplit\n",
      "\u001B[1;31mModuleNotFoundError\u001B[0m: No module named 'pystan'"
     ]
    }
   ],
   "source": [
    "import arviz as az\n",
    "import numpy as np\n",
    "import pandas as pd\n",
    "import pystan\n",
    "import patsy as ps\n",
    "from sklearn.model_selection import TimeSeriesSplit\n",
    "\n",
    "from data_gathering import gather_data_actuals, gather_data_features\n",
    "from data_preparation import standardize, take_logarithm\n",
    "from data_modelling_bayes import calculate_crps, generate_penalty_matrix\n",
    "from mappings import import_country_mapping"
   ],
   "metadata": {
    "collapsed": false,
    "ExecuteTime": {
     "end_time": "2023-08-31T09:11:25.379154400Z",
     "start_time": "2023-08-31T09:11:20.279271500Z"
    }
   }
  },
  {
   "cell_type": "markdown",
   "source": [
    "**2. Define functions**"
   ],
   "metadata": {
    "collapsed": false
   }
  },
  {
   "cell_type": "code",
   "execution_count": null,
   "outputs": [],
   "source": [],
   "metadata": {
    "collapsed": false,
    "ExecuteTime": {
     "start_time": "2023-08-31T09:11:25.364194800Z"
    }
   }
  },
  {
   "cell_type": "code",
   "execution_count": null,
   "outputs": [],
   "source": [
    "k_test = generate_penalty_matrix(14)"
   ],
   "metadata": {
    "collapsed": false,
    "ExecuteTime": {
     "start_time": "2023-08-31T09:11:25.370178400Z"
    }
   }
  },
  {
   "cell_type": "code",
   "execution_count": null,
   "outputs": [],
   "source": [
    "k_test"
   ],
   "metadata": {
    "collapsed": false,
    "ExecuteTime": {
     "start_time": "2023-08-31T09:11:25.376166200Z"
    }
   }
  },
  {
   "cell_type": "code",
   "execution_count": null,
   "outputs": [],
   "source": [
    "np.linalg.matrix_rank(k_test)"
   ],
   "metadata": {
    "collapsed": false,
    "ExecuteTime": {
     "end_time": "2023-08-31T09:11:25.435463Z",
     "start_time": "2023-08-31T09:11:25.381149600Z"
    }
   }
  },
  {
   "cell_type": "code",
   "execution_count": null,
   "outputs": [],
   "source": [
    "# # Note: WIP\n",
    "# def model_training(df:pd.DataFrame, model_params: dict, validation_year: int, K:int):\n",
    "#     # Extracting year and month from month_id\n",
    "#     df['year'] = ((df['month_id'] - 1) // 12) + 1990\n",
    "#     df['month'] = ((df['month_id'] - 1) % 12) + 1\n",
    "# \n",
    "#     # Step 1: Split data into training and test sets\n",
    "#     train_data = df[(df['year'] >= 1990) & (df['year'] < 2018)]\n",
    "#     test_data = df[df['year'] == 2018]\n",
    "# \n",
    "#     # Step 2: Perform \"10-Fold\" time series cross-validation within the training set with a 2-month-gap\n",
    "#     tscv = TimeSeriesSplit(n_splits=K)\n",
    "# \n",
    "#     for train_index, val_index in tscv.split(train_data):\n",
    "#         # Extract train and validation sets for the current fold\n",
    "#         train_fold = train_data.iloc[train_index]\n",
    "#         val_fold = train_data.iloc[val_index]\n",
    "# \n",
    "#         # Exclude last two months (November and December) from the training set\n",
    "#         train_fold = train_fold[~((train_fold['month'] == 11) | (train_fold['month'] == 12))]\n",
    "# \n",
    "#         # Step 3: Train the model on the training set\n",
    "#         model, trace = build_bayesian_model(df, model_params)\n",
    "# \n",
    "#         # Step 4: Predict the validation set\n",
    "#         crps_scores, crps_average = calculate_crps(trace, val_fold)\n",
    "# \n"
   ],
   "metadata": {
    "collapsed": false,
    "ExecuteTime": {
     "start_time": "2023-08-31T09:11:25.385138600Z"
    }
   }
  },
  {
   "cell_type": "code",
   "execution_count": null,
   "outputs": [],
   "source": [],
   "metadata": {
    "collapsed": false,
    "ExecuteTime": {
     "start_time": "2023-08-31T09:11:25.390124900Z"
    }
   }
  },
  {
   "cell_type": "code",
   "execution_count": null,
   "outputs": [],
   "source": [
    "# # Note WIP\n",
    "# model_params = {\n",
    "#     \"coords\": COORDS,\n",
    "#     \"intercept_prior_sigma\": 0.1,\n",
    "#     \"slopes_prior_mu\": 0.0,\n",
    "#     \"slopes_prior_sd\": 10,\n",
    "#     \"alpha_prior_alpha\": 0.1,\n",
    "#     \"alpha_prior_beta\": 0.1,\n",
    "#     \"regressors_data\": [df.ged_sb_tlag_1.to_numpy(), df.ged_sb_tsum_24.to_numpy()],  # Add more predictors' data as needed\n",
    "#     \"Y_data\": df.ged_sb.to_numpy(),\n",
    "#     \"regularization_param\": 0.01,  # Add your desired regularization parameter value\n",
    "#     \"num_knots\": 10,  # Add your desired number of knots for P-splines\n",
    "#     \"draws\": 1000,\n",
    "#     \"tune\": 2000,\n",
    "#     \"random_seed\": rng,\n",
    "#     \"target_accept\": 0.95\n",
    "# }\n"
   ],
   "metadata": {
    "collapsed": false,
    "ExecuteTime": {
     "start_time": "2023-08-31T09:11:25.396110Z"
    }
   }
  },
  {
   "cell_type": "code",
   "execution_count": null,
   "outputs": [],
   "source": [
    "# # Note: WIP\n",
    "# def build_bayesian_model(df: pd.DataFrame(), model_params: dict):\n",
    "#     \"\"\"\n",
    "#     Build the Bayesian model for the negative binomial regression with P-splines.\n",
    "# \n",
    "#     Parameters:\n",
    "#         df (pd.DataFrame): DataFrame containing the data.\n",
    "#         model_params (dict): Dictionary containing the model parameters.\n",
    "# \n",
    "#     Returns:\n",
    "#         model: PyMC3 model object\n",
    "#         trace: PyMC3 trace object\n",
    "#     \"\"\"\n",
    "#     # Extract the model parameters\n",
    "#     coords = model_params[\"coords\"]\n",
    "#     intercept_prior_sigma = model_params[\"intercept_prior_sigma\"]\n",
    "#     slopes_prior_mu = model_params[\"slopes_prior_mu\"]\n",
    "#     slopes_prior_sd = model_params[\"slopes_prior_sd\"]\n",
    "#     alpha_prior_alpha = model_params[\"alpha_prior_alpha\"]\n",
    "#     alpha_prior_beta = model_params[\"alpha_prior_beta\"]\n",
    "#     regressors_data = model_params[\"regressors_data\"]\n",
    "#     Y_data = model_params[\"Y_data\"]\n",
    "#     regularization_param = model_params[\"regularization_param\"]\n",
    "#     num_knots = model_params[\"num_knots\"]\n",
    "#     draws = model_params[\"draws\"]\n",
    "#     tune = model_params[\"tune\"]\n",
    "#     random_seed = model_params[\"random_seed\"]\n",
    "#     target_accept = model_params[\"target_accept\"]\n",
    "# \n",
    "#     # Build the model\n",
    "#     with pm.Model(coords=coords) as bayesian_model_nb:\n",
    "#         # Define the priors for the intercept, slopes, and over-dispersion parameter\n",
    "#         intercept = pm.Normal(\"intercept\", 0.0, intercept_prior_sigma)\n",
    "#         slopes = pm.Normal(\"slopes\", slopes_prior_mu, slopes_prior_sd, dims=\"predictors\")\n",
    "#         alpha = pm.Gamma('alpha', alpha_prior_alpha, alpha_prior_beta)\n",
    "# \n",
    "#         # Specify the data\n",
    "#         X = []\n",
    "#         for i in range(len(regressors_data)):\n",
    "#             X.append(pm.ConstantData(\"X{}\".format(i), regressors_data[i], dims=\"obs_idx\"))\n",
    "#         Y = pm.ConstantData(\"Y\", Y_data, dims=\"obs_idx\")\n",
    "# \n",
    "#         # Define the basis functions\n",
    "#         knots = np.linspace(df['month_id'].min(), df['month_id'].max(), num_knots + 2)[1:-1]\n",
    "#         basis_funcs = pm.spline.make_spline_basis(knots, degree=3)\n",
    "# \n",
    "#         # Define the coefficients for the basis functions\n",
    "#         beta = pm.Normal(\"beta\", mu=0, sigma=regularization_param, dims=\"basis_funcs\")\n",
    "# \n",
    "#         # Define the mean of the negative binomial distribution\n",
    "#         mu = pm.math.exp(intercept + pm.math.dot(X, slopes) + pm.math.dot(basis_funcs, beta))\n",
    "# \n",
    "#         # Define the likelihood\n",
    "#         obs = pm.NegativeBinomial(\"obs\", mu=mu, alpha=alpha, observed=Y, dims=\"obs_idx\")\n",
    "# \n",
    "#         # Run the sampling using the No-U-Turn Sampler (NUTS) for the specified number of samples\n",
    "#         trace = pm.sample(draws=draws, tune=tune, random_seed=random_seed, target_accept=target_accept)\n",
    "# \n",
    "#         return bayesian_model_nb, trace\n",
    "# \n"
   ],
   "metadata": {
    "collapsed": false,
    "ExecuteTime": {
     "start_time": "2023-08-31T09:11:25.400098700Z"
    }
   }
  },
  {
   "cell_type": "code",
   "execution_count": null,
   "outputs": [],
   "source": [
    "def add_year_column(df: pd.DataFrame) -> pd.DataFrame:\n",
    "    # Extracting year from month_id by dividing by 12 and adding the base year 1990\n",
    "    df['year'] = ((df['month_id'] - 1) // 12) + 1990\n",
    "    return df"
   ],
   "metadata": {
    "collapsed": false,
    "ExecuteTime": {
     "start_time": "2023-08-31T09:11:25.403089600Z"
    }
   }
  },
  {
   "cell_type": "markdown",
   "source": [
    "**3. Set style and generate random seed**"
   ],
   "metadata": {
    "collapsed": false
   }
  },
  {
   "cell_type": "code",
   "execution_count": null,
   "outputs": [],
   "source": [
    "az.style.use(\"arviz-darkgrid\")\n",
    "RANDOM_SEED = 58\n",
    "rng = np.random.default_rng(RANDOM_SEED)"
   ],
   "metadata": {
    "collapsed": false,
    "ExecuteTime": {
     "start_time": "2023-08-31T09:11:25.404086900Z"
    }
   }
  },
  {
   "cell_type": "markdown",
   "source": [
    "## II. Data Preparation"
   ],
   "metadata": {
    "collapsed": false
   }
  },
  {
   "cell_type": "markdown",
   "source": [
    " **1. Load data**"
   ],
   "metadata": {
    "collapsed": false
   }
  },
  {
   "cell_type": "code",
   "execution_count": null,
   "outputs": [],
   "source": [
    "data_cm_actual_2018, data_cm_actual_2019, data_cm_actual_2020, data_cm_actual_2021, data_cm_actual_allyears \\\n",
    "    = gather_data_actuals()\n",
    "# Load features data\n",
    "data_cm_features_2017, data_cm_features_2018, data_cm_features_2019, data_cm_features_2020, data_cm_features_allyears \\\n",
    "    = gather_data_features()"
   ],
   "metadata": {
    "collapsed": false,
    "ExecuteTime": {
     "start_time": "2023-08-31T09:11:25.407085Z"
    }
   }
  },
  {
   "cell_type": "code",
   "execution_count": null,
   "outputs": [],
   "source": [
    "predictors = ['ged_sb_tlag_1', 'ged_sb_tsum_24']\n",
    "target_variable = ['ged_sb']\n",
    "country_mapping = import_country_mapping()\n",
    "country = 'Syria'\n",
    "country_id = country_mapping.loc[country_mapping['name'] == country, 'country_id'].iloc[0]"
   ],
   "metadata": {
    "collapsed": false,
    "ExecuteTime": {
     "start_time": "2023-08-31T09:11:25.409080300Z"
    }
   }
  },
  {
   "cell_type": "code",
   "execution_count": null,
   "outputs": [],
   "source": [
    "X = data_cm_features_allyears.loc[data_cm_features_allyears['country_id'] == country_id, predictors]\n",
    "y = data_cm_features_allyears.loc[data_cm_features_allyears['country_id'] == country_id, target_variable]\n",
    "X = X.reset_index(drop=True, inplace=False)\n",
    "y = y.reset_index(drop=True, inplace=False)"
   ],
   "metadata": {
    "collapsed": false,
    "ExecuteTime": {
     "start_time": "2023-08-31T09:11:25.411070500Z"
    }
   }
  },
  {
   "cell_type": "markdown",
   "source": [
    "**2. Standardize data and/or take loagrithm of data**"
   ],
   "metadata": {
    "collapsed": false
   }
  },
  {
   "cell_type": "code",
   "execution_count": null,
   "outputs": [],
   "source": [
    "# Standardize target variable y\n",
    "y_std = standardize(y)\n",
    "\n",
    "# Calculate the standardized logarithm of input data X\n",
    "X_std= standardize(X)\n",
    "X_std_log = take_logarithm(X_std)"
   ],
   "metadata": {
    "collapsed": false,
    "ExecuteTime": {
     "start_time": "2023-08-31T09:11:25.413066400Z"
    }
   }
  },
  {
   "cell_type": "markdown",
   "source": [
    "**3. Create data frames with standardized and/or logarithmized data**"
   ],
   "metadata": {
    "collapsed": false
   }
  },
  {
   "cell_type": "code",
   "execution_count": null,
   "outputs": [],
   "source": [
    "# Create data frame with target variable and standardized input data\n",
    "df_Y_non_std_X_std = pd.concat([y, X_std], axis=1)\n",
    "# Create data frame with standardized target variable and standardized input data\n",
    "df_Y_std_X_std = pd.concat([y_std, X_std], axis=1)\n",
    "# Create data frame with target variable and standardized logarithm of input data\n",
    "df_Y_non_std_X_std_log = pd.concat([y, X_std_log], axis=1)\n",
    "# Create data frame with standardized target variable and standardized logarithm of input data\n",
    "df_Y_std_X_std_log = pd.concat([y_std, X_std_log], axis=1)"
   ],
   "metadata": {
    "collapsed": false,
    "ExecuteTime": {
     "start_time": "2023-08-31T09:11:25.416055400Z"
    }
   }
  },
  {
   "cell_type": "markdown",
   "source": [
    "**4. Define which data to use**"
   ],
   "metadata": {
    "collapsed": false
   }
  },
  {
   "cell_type": "code",
   "execution_count": null,
   "outputs": [],
   "source": [
    "df = df_Y_std_X_std"
   ],
   "metadata": {
    "collapsed": false,
    "ExecuteTime": {
     "start_time": "2023-08-31T09:11:25.418051200Z"
    }
   }
  },
  {
   "cell_type": "markdown",
   "source": [
    "## III. Model Building"
   ],
   "metadata": {
    "collapsed": false
   }
  },
  {
   "cell_type": "markdown",
   "source": [
    "**1. Build Bayesian model with Gaussian distribution**"
   ],
   "metadata": {
    "collapsed": false
   }
  },
  {
   "cell_type": "markdown",
   "source": [
    "**2. Build Bayesian model with Negative Binomial distribution (alpha HalfNormal distributed)**"
   ],
   "metadata": {
    "collapsed": false
   }
  },
  {
   "cell_type": "markdown",
   "source": [
    "**3. Build Bayesian model with Negative Binomial distribution (alpha Gamma distributed)**"
   ],
   "metadata": {
    "collapsed": false
   }
  },
  {
   "cell_type": "markdown",
   "source": [
    "**4. Build Bayesian model with Negative Binomial distribution (alpha Gamma distributed) and regression splines (B-Splines)**"
   ],
   "metadata": {
    "collapsed": false
   }
  },
  {
   "cell_type": "markdown",
   "source": [
    "Test functionality with simulated data"
   ],
   "metadata": {
    "collapsed": false
   }
  },
  {
   "cell_type": "markdown",
   "source": [
    "Test with actual data"
   ],
   "metadata": {
    "collapsed": false
   }
  },
  {
   "cell_type": "code",
   "execution_count": 12,
   "outputs": [],
   "source": [
    "dataX1 = df.ged_sb_tlag_1.to_numpy()\n",
    "dataX2 = df.ged_sb_tsum_24.to_numpy()\n",
    "dataY = df.ged_sb.to_numpy()\n",
    "# Note: If knots are intended to be not equally spaces (e.g. set by quantiles) the consequence on penalized splines has to be evaluated\n",
    "# Define the knot positions\n",
    "num_knots = 10\n",
    "spline_degree = 3\n",
    "# We define the knot list such that we'll have num_knots knot inbetween the boundaries of the data\n",
    "knot_list_X1 = np.linspace(dataX1.min(), dataX1.max(), num_knots + 2)[1:-1]\n",
    "knot_list_X2 = np.linspace(dataX2.min(), dataX2.max(), num_knots + 2)[1:-1]\n",
    "\n",
    "# Define the basis functions\n",
    "# Note: We include the intercept once in the model via the intercept parameter, to prevent having additional '1' columns in basis functions include_intercept is set to False and automatic creation of '1' column of patsy is prevented by '-1'\n",
    "basis_X1 = ps.dmatrix(\"bs(X1, knots=knots, degree=spline_degree, include_intercept=False) -1\", {\"X1\": dataX1, \"knots\": knot_list_X1, \"spline_degree\": spline_degree})\n",
    "basis_X2 = ps.dmatrix(\"bs(X2, knots=knots, degree=spline_degree, include_intercept=False) -1\", {\"X2\": dataX2, \"knots\": knot_list_X2, \"spline_degree\": spline_degree})\n",
    "# Define variables for tau priors\n",
    "a_X1 = a_X2 = 500\n",
    "b_X1 = b_X2 = 0.0001\n",
    "\n",
    "no_X1_coefficients = basis_X1.shape[1]\n",
    "no_X2_coefficients = basis_X2.shape[1]\n",
    "K_X1 = generate_penalty_matrix(no_X1_coefficients)\n",
    "K_X2 = generate_penalty_matrix(no_X2_coefficients)"
   ],
   "metadata": {
    "collapsed": false,
    "ExecuteTime": {
     "end_time": "2023-08-31T07:03:18.943950300Z",
     "start_time": "2023-08-31T07:03:18.833247Z"
    }
   }
  },
  {
   "cell_type": "code",
   "execution_count": 13,
   "outputs": [],
   "source": [
    "num_basis_X1 = basis_X1.shape[1]\n",
    "num_basis_X2 = basis_X2.shape[1]"
   ],
   "metadata": {
    "collapsed": false,
    "ExecuteTime": {
     "end_time": "2023-08-31T07:03:20.786678800Z",
     "start_time": "2023-08-31T07:03:20.646054500Z"
    }
   }
  },
  {
   "cell_type": "code",
   "execution_count": 29,
   "outputs": [
    {
     "data": {
      "text/plain": "(370, 14)"
     },
     "execution_count": 29,
     "metadata": {},
     "output_type": "execute_result"
    }
   ],
   "source": [
    "np.asarray(basis_X1, order=\"F\").shape"
   ],
   "metadata": {
    "collapsed": false,
    "ExecuteTime": {
     "end_time": "2023-08-31T08:03:58.046420400Z",
     "start_time": "2023-08-31T08:03:57.971620900Z"
    }
   }
  },
  {
   "cell_type": "code",
   "execution_count": 27,
   "outputs": [
    {
     "data": {
      "text/plain": "10"
     },
     "execution_count": 27,
     "metadata": {},
     "output_type": "execute_result"
    }
   ],
   "source": [
    "len(knot_list_X1)"
   ],
   "metadata": {
    "collapsed": false,
    "ExecuteTime": {
     "end_time": "2023-08-31T08:03:20.898304300Z",
     "start_time": "2023-08-31T08:03:20.815515700Z"
    }
   }
  },
  {
   "cell_type": "markdown",
   "source": [
    "### STAN model (WIP)"
   ],
   "metadata": {
    "collapsed": false
   }
  },
  {
   "cell_type": "code",
   "execution_count": 14,
   "outputs": [],
   "source": [
    "a_tau_X1 = 1\n",
    "b_tau_X1 = 0.005\n",
    "a_tau_X2 = 1\n",
    "b_tau_X2 = 0.005"
   ],
   "metadata": {
    "collapsed": false,
    "ExecuteTime": {
     "end_time": "2023-08-31T07:03:23.954400500Z",
     "start_time": "2023-08-31T07:03:23.798817400Z"
    }
   }
  },
  {
   "cell_type": "code",
   "execution_count": 74,
   "outputs": [
    {
     "data": {
      "text/plain": "'\\nSTAN syntax explained:\\nint variable_name[N] = array of length N containing integers\\nreal variable_name[N] = array of length N containing decimals\\n'"
     },
     "execution_count": 74,
     "metadata": {},
     "output_type": "execute_result"
    }
   ],
   "source": [
    "\"\"\"\n",
    "STAN syntax explained:\n",
    "int variable_name[N] = array of length N containing integers\n",
    "real variable_name[N] = array of length N containing decimals\n",
    "\"\"\""
   ],
   "metadata": {
    "collapsed": false,
    "ExecuteTime": {
     "end_time": "2023-08-28T16:42:46.850417200Z",
     "start_time": "2023-08-28T16:42:46.541244400Z"
    }
   }
  },
  {
   "cell_type": "code",
   "execution_count": 74,
   "outputs": [],
   "source": [],
   "metadata": {
    "collapsed": false,
    "ExecuteTime": {
     "end_time": "2023-08-28T16:42:48.868085700Z",
     "start_time": "2023-08-28T16:42:48.573830900Z"
    }
   }
  },
  {
   "cell_type": "code",
   "execution_count": null,
   "outputs": [],
   "source": [
    "model_b_spline = \"\"\"\n",
    "data {\n",
    "    int<lower=0> N;                      // Number of data points\n",
    "    int<lower=1> num_basis_X1;           // Number of coefficients for P-splines for X1\n",
    "    int<lower=1> num_basis_X2;           // Number of coefficients for P-splines for X2\n",
    "\n",
    "    real X1[N];                           // Regressor X1\n",
    "    real X2[N];                           // Regressor X2\n",
    "    matrix[N, num_basis_X1] basis_X1;    // Basis matrix for regressor X1\n",
    "    matrix[N, num_basis_X2] basis_X2;    // Basis matrix for regressor X2\n",
    "    int Y[N];                            // Observed Target variable\n",
    "}\n",
    "\"\"\""
   ],
   "metadata": {
    "collapsed": false
   }
  },
  {
   "cell_type": "code",
   "execution_count": 19,
   "outputs": [],
   "source": [
    "model_b_spline_penalized = \"\"\"\n",
    "data {\n",
    "    int<lower=0> N;                      // Number of data points\n",
    "    int<lower=1> num_basis_X1;           // Number of coefficients for P-splines for X1\n",
    "    int<lower=1> num_basis_X2;           // Number of coefficients for P-splines for X2\n",
    "\n",
    "    real X1[N];                           // Regressor X1\n",
    "    real X2[N];                           // Regressor X2\n",
    "    matrix[N, num_basis_X1] basis_X1;    // Basis matrix for regressor X1\n",
    "    matrix[N, num_basis_X2] basis_X2;    // Basis matrix for regressor X2\n",
    "    int Y[N];                            // Observed Target variable\n",
    "    real a_tau_X1;                       // Shape parameter for InverseGamma of tau for X1\n",
    "    real b_tau_X1;                       // Scale parameter for InverseGamma of tau for X1\n",
    "    real a_tau_X2;                       // Shape parameter for InverseGamma of tau for X2\n",
    "    real b_tau_X2;                       // Scale parameter for InverseGamma of tau for X2\n",
    "}\n",
    "\n",
    "parameters {\n",
    "    vector[num_basis_X1] spline_coefficients_X1_raw;\n",
    "    vector[num_basis_X2] spline_coefficients_X2_raw;\n",
    "    real spline_coefficients_X1_0;\n",
    "    real spline_coefficients_X2_0;\n",
    "    real<lower=0> tau_X1;\n",
    "    real<lower=0> tau_X2;\n",
    "    real<lower=0> alpha;\n",
    "}\n",
    "\n",
    "transformed parameters {\n",
    "    vector[num_basis_X1] spline_coefficients_X1;\n",
    "    vector[num_basis_X2] spline_coefficients_X2;\n",
    "    vector[N] mu;\n",
    "    \n",
    "    spline_coefficients_X1[1] = spline_coefficients_X1_raw[1];\n",
    "    for (i in 2:num_basis_X1) {\n",
    "        spline_coefficients_X1[i] = spline_coefficients_X1_raw[i-1] * tau_X1;\n",
    "    }\n",
    "\n",
    "    spline_coefficients_X2[1] = spline_coefficients_X2_raw[1];\n",
    "    for (i in 2:num_basis_X2) {\n",
    "        spline_coefficients_X2[i] = spline_coefficients_X2_raw[i-1] * tau_X2;\n",
    "    }\n",
    "    mu = exp(spline_coefficients_X1_0 * to_vector(X1) + to_vector(basis_X1 * spline_coefficients_X1) + spline_coefficients_X2_0 * to_vector(X2) + to_vector(basis_X2 * spline_coefficients_X2));\n",
    "}\n",
    "\n",
    "model {\n",
    "    spline_coefficients_X1_raw ~ normal(0, 1);      // should have something like a sd of tau because of multiplication with tau\n",
    "    spline_coefficients_X2_raw ~ normal(0, 1);\n",
    "    tau_X1 ~ inv_gamma(a_tau_X1, b_tau_X1);\n",
    "    tau_X2 ~ inv_gamma(a_tau_X2, b_tau_X2);\n",
    "    alpha ~ gamma(0, 0.1);\n",
    "    Y ~ neg_binomial_2(mu, alpha);\n",
    "}\n",
    "\"\"\"\n",
    "\n"
   ],
   "metadata": {
    "collapsed": false,
    "ExecuteTime": {
     "end_time": "2023-08-31T07:22:34.556412200Z",
     "start_time": "2023-08-31T07:22:34.477621600Z"
    }
   }
  },
  {
   "cell_type": "code",
   "execution_count": null,
   "outputs": [],
   "source": [
    "model_b_spline_penalized_personal_approach = \"\"\"\n",
    "data {\n",
    "    int<lower=0> N;                      // Number of data points\n",
    "    int<lower=1> num_basis_X1;           // Number of coefficients for P-splines for X1\n",
    "    int<lower=1> num_basis_X2;           // Number of coefficients for P-splines for X2\n",
    "\n",
    "    real X1[N];                           // Regressor X1\n",
    "    real X2[N];                           // Regressor X2\n",
    "    matrix[N, num_basis_X1] basis_X1;    // Basis matrix for regressor X1\n",
    "    matrix[N, num_basis_X2] basis_X2;    // Basis matrix for regressor X2\n",
    "    int Y[N];                            // Observed Target variable\n",
    "    real a_tau_X1;                       // Shape parameter for InverseGamma of tau for X1\n",
    "    real b_tau_X1;                       // Scale parameter for InverseGamma of tau for X1\n",
    "    real a_tau_X2;                       // Shape parameter for InverseGamma of tau for X2\n",
    "    real b_tau_X2;                       // Scale parameter for InverseGamma of tau for X2\n",
    "}\n",
    "\n",
    "parameters {\n",
    "    vector[num_basis_X1] spline_coefficients_X1;\n",
    "    vector[num_basis_X2] spline_coefficients_X2;\n",
    "    real intercept;\n",
    "    real<lower=0> tau_X1;\n",
    "    real<lower=0> tau_X2;\n",
    "    real<lower=0> alpha;\n",
    "}\n",
    "\n",
    "transformed parameters {\n",
    "    vector[N] mu;\n",
    "    mu = exp(intercept + to_vector(basis_X1 * spline_coefficients_X1) + to_vector(basis_X2 * spline_coefficients_X2));\n",
    "}\n",
    "\n",
    "model {\n",
    "    tau_X1 ~ inv_gamma(a_tau_X1, b_tau_X1);\n",
    "    tau_X2 ~ inv_gamma(a_tau_X2, b_tau_X2);\n",
    "\n",
    "    spline_coefficients_X1[1] ~ normal(0, 10);      // diffuse prior for first coefficient\n",
    "    for (i in 2:num_basis_X1) {                     // random walk prior for coefficients\n",
    "        spline_coefficients_X1[i] ~ normal(spline_coefficients_X1[i-1], tau_X1);\n",
    "    }\n",
    "    \n",
    "    spline_coefficients_X2[1] ~ normal(0, 10);      // diffuse prior for first coefficient\n",
    "    for (i in 2:num_basis_X2) {                     // random walk prior for coefficients\n",
    "        spline_coefficients_X2[i] ~ normal(spline_coefficients_X2[i-1], tau_X2);\n",
    "    }\n",
    "    \n",
    "    alpha ~ gamma(0.1, 0.1);\n",
    "    Y ~ neg_binomial_2(mu, alpha);\n",
    "}\n",
    "\"\"\"\n",
    "\n"
   ],
   "metadata": {
    "collapsed": false
   }
  },
  {
   "cell_type": "code",
   "execution_count": 22,
   "outputs": [
    {
     "name": "stderr",
     "output_type": "stream",
     "text": [
      "INFO:pystan:COMPILING THE C++ CODE FOR MODEL anon_model_7e2b0c84b66b9a90b9a741f732083084 NOW.\n"
     ]
    }
   ],
   "source": [
    "stan_code = model_rw\n",
    "\n",
    "stan_data = {\n",
    "    'N': len(dataY),\n",
    "    'num_basis_X1': num_basis_X1,\n",
    "    'num_basis_X2': num_basis_X1,\n",
    "    'basis_X1': np.asarray(basis_X1, order=\"F\"),\n",
    "    'basis_X2': np.asarray(basis_X2, order=\"F\"),\n",
    "    'Y': dataY.astype(int),\n",
    "    'X1': dataX1,\n",
    "    'X2': dataX2,\n",
    "    'K_X1': K_X1,\n",
    "    'K_X2': K_X2,\n",
    "    'a_tau_X1': a_tau_X1,\n",
    "    'b_tau_X1': b_tau_X1,\n",
    "    'a_tau_X2': a_tau_X2,\n",
    "    'b_tau_X2': b_tau_X2\n",
    "}\n",
    "# Compile and run the Stan model\n",
    "stan_model = pystan.StanModel(model_code=stan_code)"
   ],
   "metadata": {
    "collapsed": false,
    "ExecuteTime": {
     "end_time": "2023-08-31T07:32:53.141135900Z",
     "start_time": "2023-08-31T07:32:05.129965400Z"
    }
   }
  },
  {
   "cell_type": "code",
   "execution_count": null,
   "outputs": [],
   "source": [
    "stan_rw = stan_model.sampling(data=stan_data, iter=1000, chains=4, seed=123, control={'adapt_delta': 0.95}, verbose=True)"
   ],
   "metadata": {
    "collapsed": false
   }
  },
  {
   "cell_type": "code",
   "execution_count": 21,
   "outputs": [],
   "source": [
    "model_mv = \"\"\"\n",
    "data {\n",
    "    int<lower=1> N;          // Number of data points\n",
    "    int<lower=1> num_basis_X1;  // Number of coefficients for P-splines for X1\n",
    "    int<lower=1> num_basis_X2;  // Number of coefficients for P-splines for X2\n",
    "\n",
    "    matrix[N, num_basis_X1] basis_X1;  // Basis matrix for regressor X1\n",
    "    matrix[N, num_basis_X2] basis_X2;  // Basis matrix for regressor X2\n",
    "    int Y[N];             // Observed Target variable\n",
    "    \n",
    "    matrix[num_basis_X1, num_basis_X1] K_X1;  // Penalty matrix for X1\n",
    "    matrix[num_basis_X2, num_basis_X2] K_X2;  // Penalty matrix for X2\n",
    "    \n",
    "    real a_tau_X1;              // Shape parameter for InverseGamma of tau for X1\n",
    "    real b_tau_X1;              // Scale parameter for InverseGamma of tau for X1\n",
    "    real a_tau_X2;            // Shape parameter for InverseGamma of tau for X2\n",
    "    real b_tau_X2;            // Scale parameter for InverseGamma of tau for X2\n",
    "}\n",
    "\n",
    "parameters {\n",
    "    real intercept;                           // regression intercept\n",
    "    vector[num_basis_X1] spline_coefficients_X1; // Spline coefficients for X1\n",
    "    vector[num_basis_X2] spline_coefficients_X2; // Spline coefficients for X2\n",
    "    real<lower=0> tau_X1;                        // Precision parameter for Gaussian random walk for X1\n",
    "    real<lower=0> tau_X2;                      // Precision parameter for Gaussian random walk for X2\n",
    "    real<lower=0> alpha;                      // Negative Binomial dispersion parameter\n",
    "}\n",
    "transformed parameters {\n",
    "    vector[N] mu; // Mean of Negative Binomial distribution\n",
    "    matrix[num_basis_X1, num_basis_X1] covariance_matrix_X1;  // Covariance matrix for X1\n",
    "    matrix[num_basis_X2, num_basis_X2] covariance_matrix_X2;  // Covariance matrix for X2\n",
    "\n",
    "    mu = exp(intercept + basis_X1 * spline_coefficients_X1 + basis_X2 * spline_coefficients_X2); //taking exponential as a link function of a GAM\n",
    "\n",
    "    precision_matrix_X1 = K_X1 / pow(tau_X1, 2);  // Defining precision matrix for X1\n",
    "    precision_matrix_X2 = K_X2 / pow(tau_X2, 2);  // Defining precision matrix for X2\n",
    "}\n",
    "\n",
    "model {\n",
    "    // Priors\n",
    "    intercept ~ normal(0, 10);               // Diffuse prior for intercept\n",
    "    tau_X1 ~ inv_gamma(a_tau_X1, b_tau_X1);  // Inverse Gamma prior for tau_X1\n",
    "    tau_X2 ~ inv_gamma(a_tau_X2, b_tau_X2);  // Inverse Gamma prior for tau_X2\n",
    "    alpha ~ gamma(0.1, 0.1);              // Gamma prior for alpha\n",
    "    \n",
    "    spline_coefficients_X1 ~ multi_normal_prec(rep_vector(0, num_basis_X1), precision_matrix_X1);  // Prior for spline coefficients for X1\n",
    "    spline_coefficients_X2 ~ multi_normal_prec(rep_vector(0, num_basis_X2), precision_matrix_X2);  // Prior for spline coefficients for X2\n",
    "\n",
    "    // Likelihood\n",
    "    Y ~ neg_binomial_2(mu, alpha);\n",
    "}\n",
    "generated quantities {\n",
    "    int y_pred_train[N];\n",
    "    int y_pred_eval[N_eval];\n",
    "    vector[N_eval] mu_eval;\n",
    "    \n",
    "    mu_eval = exp(intercept + to_vector(basis_X1_eval * spline_coefficients_X1) + to_vector(basis_X2_eval * spline_coefficients_X2));\n",
    "    for (n in 1:N) {\n",
    "        y_pred_train[n] = neg_binomial_2_rng(mu[n], alpha);\n",
    "    }\n",
    "    for (n_eval in 1:N_eval) {\n",
    "        y_pred_eval[n_eval] = neg_binomial_2_rng(mu_eval[n_eval], alpha);\n",
    "    }\n",
    "\n",
    "\"\"\"\n",
    "\n"
   ],
   "metadata": {
    "collapsed": false,
    "ExecuteTime": {
     "end_time": "2023-08-30T09:19:22.933308Z",
     "start_time": "2023-08-30T09:19:22.827096Z"
    }
   }
  },
  {
   "cell_type": "markdown",
   "source": [
    "**Synthesize data to test model functionality**"
   ],
   "metadata": {
    "collapsed": false
   }
  },
  {
   "cell_type": "code",
   "execution_count": 52,
   "outputs": [
    {
     "ename": "LinAlgError",
     "evalue": "Singular matrix",
     "output_type": "error",
     "traceback": [
      "\u001B[1;31m---------------------------------------------------------------------------\u001B[0m",
      "\u001B[1;31mLinAlgError\u001B[0m                               Traceback (most recent call last)",
      "\u001B[1;32m~\\AppData\\Local\\Temp\\ipykernel_13784\\913887220.py\u001B[0m in \u001B[0;36m<module>\u001B[1;34m\u001B[0m\n\u001B[0;32m     33\u001B[0m \u001B[0mmean_tau_X2\u001B[0m \u001B[1;33m=\u001B[0m \u001B[0mnp\u001B[0m\u001B[1;33m.\u001B[0m\u001B[0mmean\u001B[0m\u001B[1;33m(\u001B[0m\u001B[0mtau_X2\u001B[0m\u001B[1;33m)\u001B[0m\u001B[1;33m\u001B[0m\u001B[1;33m\u001B[0m\u001B[0m\n\u001B[0;32m     34\u001B[0m \u001B[1;33m\u001B[0m\u001B[0m\n\u001B[1;32m---> 35\u001B[1;33m \u001B[0mcov_X1\u001B[0m \u001B[1;33m=\u001B[0m \u001B[0mnp\u001B[0m\u001B[1;33m.\u001B[0m\u001B[0mlinalg\u001B[0m\u001B[1;33m.\u001B[0m\u001B[0minv\u001B[0m\u001B[1;33m(\u001B[0m\u001B[0mK_X1\u001B[0m \u001B[1;33m/\u001B[0m \u001B[0mmean_tau_X1\u001B[0m \u001B[1;33m**\u001B[0m \u001B[1;36m2\u001B[0m\u001B[1;33m)\u001B[0m\u001B[1;33m\u001B[0m\u001B[1;33m\u001B[0m\u001B[0m\n\u001B[0m\u001B[0;32m     36\u001B[0m \u001B[0mcov_X2\u001B[0m \u001B[1;33m=\u001B[0m \u001B[0mnp\u001B[0m\u001B[1;33m.\u001B[0m\u001B[0mlinalg\u001B[0m\u001B[1;33m.\u001B[0m\u001B[0minv\u001B[0m\u001B[1;33m(\u001B[0m\u001B[0mK_X2\u001B[0m \u001B[1;33m/\u001B[0m \u001B[0mmean_tau_X2\u001B[0m \u001B[1;33m**\u001B[0m \u001B[1;36m2\u001B[0m\u001B[1;33m)\u001B[0m\u001B[1;33m\u001B[0m\u001B[1;33m\u001B[0m\u001B[0m\n\u001B[0;32m     37\u001B[0m \u001B[0mspline_coefficients_X1\u001B[0m \u001B[1;33m=\u001B[0m \u001B[0mstats\u001B[0m\u001B[1;33m.\u001B[0m\u001B[0mmultivariate_normal\u001B[0m\u001B[1;33m.\u001B[0m\u001B[0mrvs\u001B[0m\u001B[1;33m(\u001B[0m\u001B[0mmean\u001B[0m\u001B[1;33m=\u001B[0m\u001B[0mnp\u001B[0m\u001B[1;33m.\u001B[0m\u001B[0mzeros\u001B[0m\u001B[1;33m(\u001B[0m\u001B[0mnum_basis_X1\u001B[0m\u001B[1;33m)\u001B[0m\u001B[1;33m,\u001B[0m \u001B[0mcov\u001B[0m\u001B[1;33m=\u001B[0m\u001B[0mcov_X1\u001B[0m\u001B[1;33m,\u001B[0m \u001B[0msize\u001B[0m\u001B[1;33m=\u001B[0m\u001B[0mn_samples\u001B[0m\u001B[1;33m)\u001B[0m\u001B[1;33m\u001B[0m\u001B[1;33m\u001B[0m\u001B[0m\n",
      "\u001B[1;32m<__array_function__ internals>\u001B[0m in \u001B[0;36minv\u001B[1;34m(*args, **kwargs)\u001B[0m\n",
      "\u001B[1;32m~\\anaconda3\\envs\\bachelor_thesis_pystan\\lib\\site-packages\\numpy\\linalg\\linalg.py\u001B[0m in \u001B[0;36minv\u001B[1;34m(a)\u001B[0m\n\u001B[0;32m    543\u001B[0m     \u001B[0msignature\u001B[0m \u001B[1;33m=\u001B[0m \u001B[1;34m'D->D'\u001B[0m \u001B[1;32mif\u001B[0m \u001B[0misComplexType\u001B[0m\u001B[1;33m(\u001B[0m\u001B[0mt\u001B[0m\u001B[1;33m)\u001B[0m \u001B[1;32melse\u001B[0m \u001B[1;34m'd->d'\u001B[0m\u001B[1;33m\u001B[0m\u001B[1;33m\u001B[0m\u001B[0m\n\u001B[0;32m    544\u001B[0m     \u001B[0mextobj\u001B[0m \u001B[1;33m=\u001B[0m \u001B[0mget_linalg_error_extobj\u001B[0m\u001B[1;33m(\u001B[0m\u001B[0m_raise_linalgerror_singular\u001B[0m\u001B[1;33m)\u001B[0m\u001B[1;33m\u001B[0m\u001B[1;33m\u001B[0m\u001B[0m\n\u001B[1;32m--> 545\u001B[1;33m     \u001B[0mainv\u001B[0m \u001B[1;33m=\u001B[0m \u001B[0m_umath_linalg\u001B[0m\u001B[1;33m.\u001B[0m\u001B[0minv\u001B[0m\u001B[1;33m(\u001B[0m\u001B[0ma\u001B[0m\u001B[1;33m,\u001B[0m \u001B[0msignature\u001B[0m\u001B[1;33m=\u001B[0m\u001B[0msignature\u001B[0m\u001B[1;33m,\u001B[0m \u001B[0mextobj\u001B[0m\u001B[1;33m=\u001B[0m\u001B[0mextobj\u001B[0m\u001B[1;33m)\u001B[0m\u001B[1;33m\u001B[0m\u001B[1;33m\u001B[0m\u001B[0m\n\u001B[0m\u001B[0;32m    546\u001B[0m     \u001B[1;32mreturn\u001B[0m \u001B[0mwrap\u001B[0m\u001B[1;33m(\u001B[0m\u001B[0mainv\u001B[0m\u001B[1;33m.\u001B[0m\u001B[0mastype\u001B[0m\u001B[1;33m(\u001B[0m\u001B[0mresult_t\u001B[0m\u001B[1;33m,\u001B[0m \u001B[0mcopy\u001B[0m\u001B[1;33m=\u001B[0m\u001B[1;32mFalse\u001B[0m\u001B[1;33m)\u001B[0m\u001B[1;33m)\u001B[0m\u001B[1;33m\u001B[0m\u001B[1;33m\u001B[0m\u001B[0m\n\u001B[0;32m    547\u001B[0m \u001B[1;33m\u001B[0m\u001B[0m\n",
      "\u001B[1;32m~\\anaconda3\\envs\\bachelor_thesis_pystan\\lib\\site-packages\\numpy\\linalg\\linalg.py\u001B[0m in \u001B[0;36m_raise_linalgerror_singular\u001B[1;34m(err, flag)\u001B[0m\n\u001B[0;32m     86\u001B[0m \u001B[1;33m\u001B[0m\u001B[0m\n\u001B[0;32m     87\u001B[0m \u001B[1;32mdef\u001B[0m \u001B[0m_raise_linalgerror_singular\u001B[0m\u001B[1;33m(\u001B[0m\u001B[0merr\u001B[0m\u001B[1;33m,\u001B[0m \u001B[0mflag\u001B[0m\u001B[1;33m)\u001B[0m\u001B[1;33m:\u001B[0m\u001B[1;33m\u001B[0m\u001B[1;33m\u001B[0m\u001B[0m\n\u001B[1;32m---> 88\u001B[1;33m     \u001B[1;32mraise\u001B[0m \u001B[0mLinAlgError\u001B[0m\u001B[1;33m(\u001B[0m\u001B[1;34m\"Singular matrix\"\u001B[0m\u001B[1;33m)\u001B[0m\u001B[1;33m\u001B[0m\u001B[1;33m\u001B[0m\u001B[0m\n\u001B[0m\u001B[0;32m     89\u001B[0m \u001B[1;33m\u001B[0m\u001B[0m\n\u001B[0;32m     90\u001B[0m \u001B[1;32mdef\u001B[0m \u001B[0m_raise_linalgerror_nonposdef\u001B[0m\u001B[1;33m(\u001B[0m\u001B[0merr\u001B[0m\u001B[1;33m,\u001B[0m \u001B[0mflag\u001B[0m\u001B[1;33m)\u001B[0m\u001B[1;33m:\u001B[0m\u001B[1;33m\u001B[0m\u001B[1;33m\u001B[0m\u001B[0m\n",
      "\u001B[1;31mLinAlgError\u001B[0m: Singular matrix"
     ]
    }
   ],
   "source": [
    "import scipy.stats as stats\n",
    "# Number of data points\n",
    "N = 400\n",
    "n_samples = 500\n",
    "num_basis_X1 = 14\n",
    "num_basis_X2 = 14\n",
    "spline_degree = 3\n",
    "\n",
    "# Generate data\n",
    "np.random.seed(42) \n",
    "dataX1 = np.linspace(0, 10, N)\n",
    "dataX2 = np.sin(dataX1) + 0.5 * np.random.normal(size=N)\n",
    "\n",
    "# We define the knot list such that we'll have num_knots knot inbetween the boundaries of the data\n",
    "knot_list_X1 = np.linspace(dataX1.min(), dataX1.max(), num_knots + 2)[1:-1]\n",
    "knot_list_X2 = np.linspace(dataX2.min(), dataX2.max(), num_knots + 2)[1:-1]\n",
    "\n",
    "# Define the basis functions\n",
    "basis_X1 = ps.dmatrix(\"bs(X1, knots=knots, degree=spline_degree, include_intercept=False) -1\", {\"X1\": dataX1, \"knots\": knot_list_X1, \"spline_degree\": spline_degree})\n",
    "basis_X2 = ps.dmatrix(\"bs(X2, knots=knots, degree=spline_degree, include_intercept=False) -1\", {\"X2\": dataX2, \"knots\": knot_list_X2, \"spline_degree\": spline_degree})\n",
    "\n",
    "# Define variables for tau priors\n",
    "K_X1 = generate_penalty_matrix(num_basis_X1)\n",
    "K_X2 = generate_penalty_matrix(num_basis_X2)\n",
    "\n",
    "# Define parameters consistent with priors of intended stan model\n",
    "intercept = stats.norm.rvs(loc=0, scale=10, size=n_samples)\n",
    "intercept_mean = np.mean(intercept)\n",
    "\n",
    "tau_X1 = stats.invgamma.rvs(a=a_tau_X1, scale=b_tau_X1, size=n_samples)\n",
    "mean_tau_X1 = np.mean(tau_X1)\n",
    "tau_X2 = stats.invgamma.rvs(a=a_tau_X2, scale=b_tau_X2, size=n_samples)\n",
    "mean_tau_X2 = np.mean(tau_X2)\n",
    "\n",
    "cov_X1 = np.linalg.inv(K_X1 / mean_tau_X1 ** 2)\n",
    "cov_X2 = np.linalg.inv(K_X2 / mean_tau_X2 ** 2)\n",
    "spline_coefficients_X1 = stats.multivariate_normal.rvs(mean=np.zeros(num_basis_X1), cov=cov_X1, size=n_samples)\n",
    "spline_coefficients_X2 = stats.multivariate_normal.rvs(mean=np.zeros(num_basis_X2), cov=cov_X2, size=n_samples)\n",
    "spline_coefficients_X1_mean = np.mean(spline_coefficients_X1, axis=0)\n",
    "spline_coefficients_X2_mean = np.mean(spline_coefficients_X2, axis=0)\n",
    "\n",
    "alpha = stats.gamma.rvs(a=0, scale=0.1, size=n_samples)\n",
    "alpha_mean = np.mean(alpha)\n",
    "\n",
    "mu = intercept_mean + basis_X1 @ spline_coefficients_X1_mean + basis_X2 @ spline_coefficients_X2_mean\n",
    "\n",
    "Y = stats.nbinom.rvs(n=alpha_mean, p= alpha_mean/ (alpha_mean + mu), size=N)\n",
    "\n",
    "# Data dictionary for Stan\n",
    "data_for_stan = {\n",
    "    'N': N,\n",
    "    'num_basis_X1': num_basis_X1,\n",
    "    'num_basis_X2': num_basis_X2,\n",
    "    'basis_X1': basis_X1,\n",
    "    'basis_X2': basis_X2,\n",
    "    'Y': Y,\n",
    "    'K_X1': K_X1,\n",
    "    'K_X2': K_X2,\n",
    "    'a_tau_X1': a_tau_X1,\n",
    "    'b_tau_X1': b_tau_X1,\n",
    "    'a_tau_X2': a_tau_X2,\n",
    "    'b_tau_X2': b_tau_X2\n",
    "}\n"
   ],
   "metadata": {
    "collapsed": false,
    "ExecuteTime": {
     "end_time": "2023-08-30T10:37:30.431821Z",
     "start_time": "2023-08-30T10:32:42.886449500Z"
    }
   }
  },
  {
   "cell_type": "code",
   "execution_count": null,
   "outputs": [],
   "source": [
    "# # Compile and run the Stan model\n",
    "# stan_model = pystan.StanModel(model_code=model_mv)\n",
    "# stan_fit = stan_model.sampling(data=data_for_stan, iter=1000, chains=4, seed=123, control={'adapt_delta': 0.95})"
   ],
   "metadata": {
    "collapsed": false
   }
  },
  {
   "cell_type": "code",
   "execution_count": 20,
   "outputs": [
    {
     "name": "stderr",
     "output_type": "stream",
     "text": [
      "INFO:pystan:COMPILING THE C++ CODE FOR MODEL anon_model_7e2b0c84b66b9a90b9a741f732083084 NOW.\n"
     ]
    }
   ],
   "source": [
    "stan_code = model_rw\n",
    "\n",
    "stan_data = {\n",
    "    'N': len(dataY),\n",
    "    'num_basis_X1': num_basis_X1,\n",
    "    'num_basis_X2': num_basis_X1,\n",
    "    'basis_X1': np.asarray(basis_X1, order=\"F\"),\n",
    "    'basis_X2': np.asarray(basis_X2, order=\"F\"),\n",
    "    'Y': dataY.astype(int),\n",
    "    'K_X1': K_X1,\n",
    "    'K_X2': K_X2,\n",
    "    'a_tau_X1': a_tau_X1,\n",
    "    'b_tau_X1': b_tau_X1,\n",
    "    'a_tau_X2': a_tau_X2,\n",
    "    'b_tau_X2': b_tau_X2\n",
    "}\n",
    "# Compile and run the Stan model\n",
    "stan_model = pystan.StanModel(model_code=stan_code)"
   ],
   "metadata": {
    "collapsed": false,
    "ExecuteTime": {
     "end_time": "2023-08-31T07:24:19.172415200Z",
     "start_time": "2023-08-31T07:22:37.300327700Z"
    }
   }
  },
  {
   "cell_type": "code",
   "execution_count": 21,
   "outputs": [
    {
     "ename": "RuntimeError",
     "evalue": "Exception: variable does not exist; processing stage=data initialization; variable name=X1; base type=double  (in 'unknown file name' at line 7)\n",
     "output_type": "error",
     "traceback": [
      "\u001B[1;31m---------------------------------------------------------------------------\u001B[0m",
      "\u001B[1;31mRuntimeError\u001B[0m                              Traceback (most recent call last)",
      "\u001B[1;32m~\\AppData\\Local\\Temp\\ipykernel_11104\\1414956091.py\u001B[0m in \u001B[0;36m<module>\u001B[1;34m\u001B[0m\n\u001B[1;32m----> 1\u001B[1;33m \u001B[0mstan_fit\u001B[0m \u001B[1;33m=\u001B[0m \u001B[0mstan_model\u001B[0m\u001B[1;33m.\u001B[0m\u001B[0msampling\u001B[0m\u001B[1;33m(\u001B[0m\u001B[0mdata\u001B[0m\u001B[1;33m=\u001B[0m\u001B[0mstan_data\u001B[0m\u001B[1;33m,\u001B[0m \u001B[0miter\u001B[0m\u001B[1;33m=\u001B[0m\u001B[1;36m1000\u001B[0m\u001B[1;33m,\u001B[0m \u001B[0mchains\u001B[0m\u001B[1;33m=\u001B[0m\u001B[1;36m4\u001B[0m\u001B[1;33m,\u001B[0m \u001B[0mseed\u001B[0m\u001B[1;33m=\u001B[0m\u001B[1;36m123\u001B[0m\u001B[1;33m,\u001B[0m \u001B[0mcontrol\u001B[0m\u001B[1;33m=\u001B[0m\u001B[1;33m{\u001B[0m\u001B[1;34m'adapt_delta'\u001B[0m\u001B[1;33m:\u001B[0m \u001B[1;36m0.95\u001B[0m\u001B[1;33m}\u001B[0m\u001B[1;33m)\u001B[0m\u001B[1;33m\u001B[0m\u001B[1;33m\u001B[0m\u001B[0m\n\u001B[0m",
      "\u001B[1;32m~\\anaconda3\\envs\\bachelor_thesis_pystan\\lib\\site-packages\\pystan\\model.py\u001B[0m in \u001B[0;36msampling\u001B[1;34m(self, data, pars, chains, iter, warmup, thin, seed, init, sample_file, diagnostic_file, verbose, algorithm, control, n_jobs, **kwargs)\u001B[0m\n\u001B[0;32m    756\u001B[0m                 \u001B[1;32mraise\u001B[0m \u001B[0mValueError\u001B[0m\u001B[1;33m(\u001B[0m\u001B[1;34m\"Warmup samples must be greater than 0 when adaptation is enabled (`adapt_engaged=True`)\"\u001B[0m\u001B[1;33m)\u001B[0m\u001B[1;33m\u001B[0m\u001B[1;33m\u001B[0m\u001B[0m\n\u001B[0;32m    757\u001B[0m         \u001B[0mseed\u001B[0m \u001B[1;33m=\u001B[0m \u001B[0mpystan\u001B[0m\u001B[1;33m.\u001B[0m\u001B[0mmisc\u001B[0m\u001B[1;33m.\u001B[0m\u001B[0m_check_seed\u001B[0m\u001B[1;33m(\u001B[0m\u001B[0mseed\u001B[0m\u001B[1;33m)\u001B[0m\u001B[1;33m\u001B[0m\u001B[1;33m\u001B[0m\u001B[0m\n\u001B[1;32m--> 758\u001B[1;33m         \u001B[0mfit\u001B[0m \u001B[1;33m=\u001B[0m \u001B[0mself\u001B[0m\u001B[1;33m.\u001B[0m\u001B[0mfit_class\u001B[0m\u001B[1;33m(\u001B[0m\u001B[0mdata\u001B[0m\u001B[1;33m,\u001B[0m \u001B[0mseed\u001B[0m\u001B[1;33m)\u001B[0m\u001B[1;33m\u001B[0m\u001B[1;33m\u001B[0m\u001B[0m\n\u001B[0m\u001B[0;32m    759\u001B[0m \u001B[1;33m\u001B[0m\u001B[0m\n\u001B[0;32m    760\u001B[0m         \u001B[0mm_pars\u001B[0m \u001B[1;33m=\u001B[0m \u001B[0mfit\u001B[0m\u001B[1;33m.\u001B[0m\u001B[0m_get_param_names\u001B[0m\u001B[1;33m(\u001B[0m\u001B[1;33m)\u001B[0m\u001B[1;33m\u001B[0m\u001B[1;33m\u001B[0m\u001B[0m\n",
      "\u001B[1;32mstanfit4anon_model_7e2b0c84b66b9a90b9a741f732083084_8685199901563921246.pyx\u001B[0m in \u001B[0;36mstanfit4anon_model_7e2b0c84b66b9a90b9a741f732083084_8685199901563921246.StanFit4Model.__cinit__\u001B[1;34m()\u001B[0m\n",
      "\u001B[1;31mRuntimeError\u001B[0m: Exception: variable does not exist; processing stage=data initialization; variable name=X1; base type=double  (in 'unknown file name' at line 7)\n"
     ]
    }
   ],
   "source": [
    "stan_fit = stan_model.sampling(data=stan_data, iter=1000, chains=4, seed=123, control={'adapt_delta': 0.95})"
   ],
   "metadata": {
    "collapsed": false,
    "ExecuteTime": {
     "end_time": "2023-08-31T07:24:19.222283200Z",
     "start_time": "2023-08-31T07:24:19.178399500Z"
    }
   }
  },
  {
   "cell_type": "markdown",
   "source": [
    "Test Three"
   ],
   "metadata": {
    "collapsed": false
   }
  },
  {
   "cell_type": "code",
   "execution_count": 55,
   "outputs": [
    {
     "data": {
      "text/plain": "array([   0,   54,  149,   39,    8,    0,  545,    0,    0,  631,   27,\n         25,    3,    5,  190, 1885,  182,   52,   82,  320,   20,  239,\n        279,   45,    0,   35,    5,   99,  794,  182,  161, 2694,   67,\n        150,    0,  100,  122, 1589,   30,   37, 1034,   51,  372,  272,\n         75,  168,  306,   15, 1271,  260,  552, 1419,  147,  393,  311,\n       2072,  483,  199,   55, 1775,  294,   75,  956, 1027, 1044,  321,\n        239,  280,  105,  629,  406,  123,   98,  122,  155,  388,  194,\n        160,  150,  129,  550,  513,  645,   73,   69,  182,  243,  228,\n       1553,  605,  177,  225, 2533,  425,   58,   98,   34,   65,  194,\n         15,   69,  105,  426, 2144, 1123,  572,  376, 1133,  162,   16,\n         47,  113,  320,  150,  480, 1638,  703,  769,  162,   69,   54,\n         86,  267,  205,  376,   70, 1123,  864, 1850,  224,   78,   38,\n        147,    1,   11,  114,  103,  398,  132,   27,  299, 1216, 1399,\n       1208,  148,    4,  562,   27,   24,    6,   58,   25,   30,   11,\n          3,    2,   23,   27,   46,  123,    2,   67,   61,  159,   56,\n         43,   33,   47,   49,    8,   34,   42,   65,   90,   69,   78,\n        112,   92,   41,   35,   36,   25,   38,  110,  149,  235,  212,\n        271,  179,  188,   67,   85,   54,  112,  187,  205,  483,  661,\n        551,  503,  908,  516,  332,  238,  314,  173,  360,  619,  546,\n        956,  843,  608,  973,  647,  517,  350,  150,  195,  291,  345,\n        450,  753,  634,  980,  406,  514,  542,  292,  297,  321,  442,\n        434,  778,  604,  783,  581,  689,  556,  512,  344,  327,  469,\n        375,  486,  485,  950,  652,  918,  512,  762,  517,  411,  498,\n        457,  445,  547,  714,  698,  937,  647,  787,  668,  554,  451,\n        343,  236,  392,  654,  779,  876, 1009, 1055,  942,  689,  411,\n        345,  299,  389,  478,  482, 1150, 1142, 1104,  861,  801,  528,\n        471,  351,  434,  460,  410,  547,  828, 1013,  909, 1121, 1472,\n       1334, 2656, 1110,  694, 1161, 1177, 1094, 3353, 1392, 1048, 1760,\n       1484, 2368,  765,  977,  945, 1285, 1131, 1556, 1827, 1480, 1253,\n       2141, 1533, 2892, 1053,  891, 1244, 1403, 1958, 1443, 1940,  921,\n       2465, 2217, 1455, 1731, 1225, 1012, 1734, 1530, 1475, 1697, 2590,\n       1730, 2690, 2394, 2301, 2368, 2766, 2421, 2138, 1697, 2430, 2034,\n       2787, 2760, 3742, 2616, 3603, 2448, 1634, 2051, 1638, 1270, 1069,\n       1006, 1165, 1455, 3115, 1380, 1758, 2335])"
     },
     "execution_count": 55,
     "metadata": {},
     "output_type": "execute_result"
    }
   ],
   "source": [
    "Y = df.ged_sb.to_numpy()\n",
    "for x in Y: int(x); Y\n",
    "Y.astype(int)"
   ],
   "metadata": {
    "collapsed": false,
    "ExecuteTime": {
     "end_time": "2023-08-28T16:03:51.446217600Z",
     "start_time": "2023-08-28T16:03:51.130064800Z"
    }
   }
  },
  {
   "cell_type": "code",
   "execution_count": 36,
   "outputs": [
    {
     "name": "stderr",
     "output_type": "stream",
     "text": [
      "INFO:pystan:COMPILING THE C++ CODE FOR MODEL anon_model_4da3566ca4f53e669008f1f0b80bdf21 NOW.\n"
     ]
    },
    {
     "ename": "RuntimeError",
     "evalue": "Must use algorithm=\"Fixed_param\" for model that has no parameters.",
     "output_type": "error",
     "traceback": [
      "\u001B[1;31m---------------------------------------------------------------------------\u001B[0m",
      "\u001B[1;31mRemoteTraceback\u001B[0m                           Traceback (most recent call last)",
      "\u001B[1;31mRemoteTraceback\u001B[0m: \n\"\"\"\nTraceback (most recent call last):\n  File \"C:\\Users\\Uwe Drauz\\anaconda3\\envs\\bachelor_thesis_pystan\\lib\\multiprocessing\\pool.py\", line 121, in worker\n    result = (True, func(*args, **kwds))\n  File \"C:\\Users\\Uwe Drauz\\anaconda3\\envs\\bachelor_thesis_pystan\\lib\\multiprocessing\\pool.py\", line 44, in mapstar\n    return list(map(*args))\n  File \"stanfit4anon_model_4da3566ca4f53e669008f1f0b80bdf21_9171402545697371155.pyx\", line 373, in stanfit4anon_model_4da3566ca4f53e669008f1f0b80bdf21_9171402545697371155._call_sampler_star\n  File \"stanfit4anon_model_4da3566ca4f53e669008f1f0b80bdf21_9171402545697371155.pyx\", line 406, in stanfit4anon_model_4da3566ca4f53e669008f1f0b80bdf21_9171402545697371155._call_sampler\nRuntimeError: Must use algorithm=\"Fixed_param\" for model that has no parameters.\n\"\"\"",
      "\nThe above exception was the direct cause of the following exception:\n",
      "\u001B[1;31mRuntimeError\u001B[0m                              Traceback (most recent call last)",
      "\u001B[1;32m~\\AppData\\Local\\Temp\\ipykernel_10508\\3251514797.py\u001B[0m in \u001B[0;36m<module>\u001B[1;34m\u001B[0m\n\u001B[0;32m     14\u001B[0m \u001B[1;33m\u001B[0m\u001B[0m\n\u001B[0;32m     15\u001B[0m \u001B[1;31m# Fit the model\u001B[0m\u001B[1;33m\u001B[0m\u001B[1;33m\u001B[0m\u001B[1;33m\u001B[0m\u001B[0m\n\u001B[1;32m---> 16\u001B[1;33m \u001B[0mrats_fit\u001B[0m \u001B[1;33m=\u001B[0m \u001B[0msm\u001B[0m\u001B[1;33m.\u001B[0m\u001B[0msampling\u001B[0m\u001B[1;33m(\u001B[0m\u001B[0mdata\u001B[0m\u001B[1;33m=\u001B[0m\u001B[1;33m{\u001B[0m\u001B[1;34m'N'\u001B[0m\u001B[1;33m:\u001B[0m \u001B[0mN\u001B[0m\u001B[1;33m,\u001B[0m \u001B[1;34m'T'\u001B[0m\u001B[1;33m:\u001B[0m \u001B[0mT\u001B[0m\u001B[1;33m,\u001B[0m \u001B[1;34m'y'\u001B[0m\u001B[1;33m:\u001B[0m \u001B[0my\u001B[0m\u001B[1;33m,\u001B[0m \u001B[1;34m'x'\u001B[0m\u001B[1;33m:\u001B[0m \u001B[0mx\u001B[0m\u001B[1;33m,\u001B[0m \u001B[1;34m'xbar'\u001B[0m\u001B[1;33m:\u001B[0m \u001B[0mxbar\u001B[0m\u001B[1;33m}\u001B[0m\u001B[1;33m)\u001B[0m\u001B[1;33m\u001B[0m\u001B[1;33m\u001B[0m\u001B[0m\n\u001B[0m\u001B[0;32m     17\u001B[0m \u001B[1;33m\u001B[0m\u001B[0m\n\u001B[0;32m     18\u001B[0m \u001B[1;31m# Print the summary\u001B[0m\u001B[1;33m\u001B[0m\u001B[1;33m\u001B[0m\u001B[1;33m\u001B[0m\u001B[0m\n",
      "\u001B[1;32m~\\anaconda3\\envs\\bachelor_thesis_pystan\\lib\\site-packages\\pystan\\model.py\u001B[0m in \u001B[0;36msampling\u001B[1;34m(self, data, pars, chains, iter, warmup, thin, seed, init, sample_file, diagnostic_file, verbose, algorithm, control, n_jobs, **kwargs)\u001B[0m\n\u001B[0;32m    811\u001B[0m         \u001B[0mcall_sampler_args\u001B[0m \u001B[1;33m=\u001B[0m \u001B[0mizip\u001B[0m\u001B[1;33m(\u001B[0m\u001B[0mitertools\u001B[0m\u001B[1;33m.\u001B[0m\u001B[0mrepeat\u001B[0m\u001B[1;33m(\u001B[0m\u001B[0mdata\u001B[0m\u001B[1;33m)\u001B[0m\u001B[1;33m,\u001B[0m \u001B[0margs_list\u001B[0m\u001B[1;33m,\u001B[0m \u001B[0mitertools\u001B[0m\u001B[1;33m.\u001B[0m\u001B[0mrepeat\u001B[0m\u001B[1;33m(\u001B[0m\u001B[0mpars\u001B[0m\u001B[1;33m)\u001B[0m\u001B[1;33m)\u001B[0m\u001B[1;33m\u001B[0m\u001B[1;33m\u001B[0m\u001B[0m\n\u001B[0;32m    812\u001B[0m         \u001B[0mcall_sampler_star\u001B[0m \u001B[1;33m=\u001B[0m \u001B[0mself\u001B[0m\u001B[1;33m.\u001B[0m\u001B[0mmodule\u001B[0m\u001B[1;33m.\u001B[0m\u001B[0m_call_sampler_star\u001B[0m\u001B[1;33m\u001B[0m\u001B[1;33m\u001B[0m\u001B[0m\n\u001B[1;32m--> 813\u001B[1;33m         \u001B[0mret_and_samples\u001B[0m \u001B[1;33m=\u001B[0m \u001B[0m_map_parallel\u001B[0m\u001B[1;33m(\u001B[0m\u001B[0mcall_sampler_star\u001B[0m\u001B[1;33m,\u001B[0m \u001B[0mcall_sampler_args\u001B[0m\u001B[1;33m,\u001B[0m \u001B[0mn_jobs\u001B[0m\u001B[1;33m)\u001B[0m\u001B[1;33m\u001B[0m\u001B[1;33m\u001B[0m\u001B[0m\n\u001B[0m\u001B[0;32m    814\u001B[0m         \u001B[0msamples\u001B[0m \u001B[1;33m=\u001B[0m \u001B[1;33m[\u001B[0m\u001B[0msmpl\u001B[0m \u001B[1;32mfor\u001B[0m \u001B[0m_\u001B[0m\u001B[1;33m,\u001B[0m \u001B[0msmpl\u001B[0m \u001B[1;32min\u001B[0m \u001B[0mret_and_samples\u001B[0m\u001B[1;33m]\u001B[0m\u001B[1;33m\u001B[0m\u001B[1;33m\u001B[0m\u001B[0m\n\u001B[0;32m    815\u001B[0m \u001B[1;33m\u001B[0m\u001B[0m\n",
      "\u001B[1;32m~\\anaconda3\\envs\\bachelor_thesis_pystan\\lib\\site-packages\\pystan\\model.py\u001B[0m in \u001B[0;36m_map_parallel\u001B[1;34m(function, args, n_jobs)\u001B[0m\n\u001B[0;32m     83\u001B[0m         \u001B[1;32mtry\u001B[0m\u001B[1;33m:\u001B[0m\u001B[1;33m\u001B[0m\u001B[1;33m\u001B[0m\u001B[0m\n\u001B[0;32m     84\u001B[0m             \u001B[0mpool\u001B[0m \u001B[1;33m=\u001B[0m \u001B[0mmultiprocessing\u001B[0m\u001B[1;33m.\u001B[0m\u001B[0mPool\u001B[0m\u001B[1;33m(\u001B[0m\u001B[0mprocesses\u001B[0m\u001B[1;33m=\u001B[0m\u001B[0mn_jobs\u001B[0m\u001B[1;33m)\u001B[0m\u001B[1;33m\u001B[0m\u001B[1;33m\u001B[0m\u001B[0m\n\u001B[1;32m---> 85\u001B[1;33m             \u001B[0mmap_result\u001B[0m \u001B[1;33m=\u001B[0m \u001B[0mpool\u001B[0m\u001B[1;33m.\u001B[0m\u001B[0mmap\u001B[0m\u001B[1;33m(\u001B[0m\u001B[0mfunction\u001B[0m\u001B[1;33m,\u001B[0m \u001B[0margs\u001B[0m\u001B[1;33m)\u001B[0m\u001B[1;33m\u001B[0m\u001B[1;33m\u001B[0m\u001B[0m\n\u001B[0m\u001B[0;32m     86\u001B[0m         \u001B[1;32mfinally\u001B[0m\u001B[1;33m:\u001B[0m\u001B[1;33m\u001B[0m\u001B[1;33m\u001B[0m\u001B[0m\n\u001B[0;32m     87\u001B[0m             \u001B[0mpool\u001B[0m\u001B[1;33m.\u001B[0m\u001B[0mclose\u001B[0m\u001B[1;33m(\u001B[0m\u001B[1;33m)\u001B[0m\u001B[1;33m\u001B[0m\u001B[1;33m\u001B[0m\u001B[0m\n",
      "\u001B[1;32m~\\anaconda3\\envs\\bachelor_thesis_pystan\\lib\\multiprocessing\\pool.py\u001B[0m in \u001B[0;36mmap\u001B[1;34m(self, func, iterable, chunksize)\u001B[0m\n\u001B[0;32m    266\u001B[0m         \u001B[1;32min\u001B[0m \u001B[0ma\u001B[0m \u001B[0mlist\u001B[0m \u001B[0mthat\u001B[0m \u001B[1;32mis\u001B[0m \u001B[0mreturned\u001B[0m\u001B[1;33m.\u001B[0m\u001B[1;33m\u001B[0m\u001B[1;33m\u001B[0m\u001B[0m\n\u001B[0;32m    267\u001B[0m         '''\n\u001B[1;32m--> 268\u001B[1;33m         \u001B[1;32mreturn\u001B[0m \u001B[0mself\u001B[0m\u001B[1;33m.\u001B[0m\u001B[0m_map_async\u001B[0m\u001B[1;33m(\u001B[0m\u001B[0mfunc\u001B[0m\u001B[1;33m,\u001B[0m \u001B[0miterable\u001B[0m\u001B[1;33m,\u001B[0m \u001B[0mmapstar\u001B[0m\u001B[1;33m,\u001B[0m \u001B[0mchunksize\u001B[0m\u001B[1;33m)\u001B[0m\u001B[1;33m.\u001B[0m\u001B[0mget\u001B[0m\u001B[1;33m(\u001B[0m\u001B[1;33m)\u001B[0m\u001B[1;33m\u001B[0m\u001B[1;33m\u001B[0m\u001B[0m\n\u001B[0m\u001B[0;32m    269\u001B[0m \u001B[1;33m\u001B[0m\u001B[0m\n\u001B[0;32m    270\u001B[0m     \u001B[1;32mdef\u001B[0m \u001B[0mstarmap\u001B[0m\u001B[1;33m(\u001B[0m\u001B[0mself\u001B[0m\u001B[1;33m,\u001B[0m \u001B[0mfunc\u001B[0m\u001B[1;33m,\u001B[0m \u001B[0miterable\u001B[0m\u001B[1;33m,\u001B[0m \u001B[0mchunksize\u001B[0m\u001B[1;33m=\u001B[0m\u001B[1;32mNone\u001B[0m\u001B[1;33m)\u001B[0m\u001B[1;33m:\u001B[0m\u001B[1;33m\u001B[0m\u001B[1;33m\u001B[0m\u001B[0m\n",
      "\u001B[1;32m~\\anaconda3\\envs\\bachelor_thesis_pystan\\lib\\multiprocessing\\pool.py\u001B[0m in \u001B[0;36mget\u001B[1;34m(self, timeout)\u001B[0m\n\u001B[0;32m    655\u001B[0m             \u001B[1;32mreturn\u001B[0m \u001B[0mself\u001B[0m\u001B[1;33m.\u001B[0m\u001B[0m_value\u001B[0m\u001B[1;33m\u001B[0m\u001B[1;33m\u001B[0m\u001B[0m\n\u001B[0;32m    656\u001B[0m         \u001B[1;32melse\u001B[0m\u001B[1;33m:\u001B[0m\u001B[1;33m\u001B[0m\u001B[1;33m\u001B[0m\u001B[0m\n\u001B[1;32m--> 657\u001B[1;33m             \u001B[1;32mraise\u001B[0m \u001B[0mself\u001B[0m\u001B[1;33m.\u001B[0m\u001B[0m_value\u001B[0m\u001B[1;33m\u001B[0m\u001B[1;33m\u001B[0m\u001B[0m\n\u001B[0m\u001B[0;32m    658\u001B[0m \u001B[1;33m\u001B[0m\u001B[0m\n\u001B[0;32m    659\u001B[0m     \u001B[1;32mdef\u001B[0m \u001B[0m_set\u001B[0m\u001B[1;33m(\u001B[0m\u001B[0mself\u001B[0m\u001B[1;33m,\u001B[0m \u001B[0mi\u001B[0m\u001B[1;33m,\u001B[0m \u001B[0mobj\u001B[0m\u001B[1;33m)\u001B[0m\u001B[1;33m:\u001B[0m\u001B[1;33m\u001B[0m\u001B[1;33m\u001B[0m\u001B[0m\n",
      "\u001B[1;31mRuntimeError\u001B[0m: Must use algorithm=\"Fixed_param\" for model that has no parameters."
     ]
    }
   ],
   "source": [
    "# Read in the data\n",
    "y = pd.read_csv('https://raw.github.com/wiki/stan-dev/rstan/rats.txt', sep=\" \").values\n",
    "x = np.array([8, 15, 22, 29, 36])\n",
    "xbar = np.mean(x)\n",
    "N, T = y.shape\n",
    "\n",
    "# Load the Stan model code\n",
    "stan_code = \"\"\"\n",
    "// Copy the content from https://raw.githubusercontent.com/stan-dev/example-models/master/bugs_examples/vol1/rats/rats.stan\n",
    "\"\"\"\n",
    "\n",
    "# Compile the Stan model\n",
    "sm = pystan.StanModel(model_code=stan_code)\n",
    "\n",
    "# Fit the model\n",
    "rats_fit = sm.sampling(data={'N': N, 'T': T, 'y': y, 'x': x, 'xbar': xbar})\n",
    "\n",
    "# Print the summary\n",
    "print(rats_fit)"
   ],
   "metadata": {
    "collapsed": false,
    "ExecuteTime": {
     "end_time": "2023-08-28T15:13:23.106106300Z",
     "start_time": "2023-08-28T15:12:19.495226900Z"
    }
   }
  },
  {
   "cell_type": "markdown",
   "source": [
    "### Test funtionality with simulated data"
   ],
   "metadata": {
    "collapsed": false
   }
  },
  {
   "cell_type": "markdown",
   "source": [
    "##Step 1: Import Libraries"
   ],
   "metadata": {
    "collapsed": false
   }
  },
  {
   "cell_type": "code",
   "execution_count": 1,
   "outputs": [],
   "source": [
    "import pystan\n",
    "import numpy as np\n",
    "import pandas as pd\n",
    "import matplotlib.pyplot as plt\n",
    "import patsy as ps\n"
   ],
   "metadata": {
    "collapsed": false,
    "ExecuteTime": {
     "end_time": "2023-08-29T08:46:57.276597700Z",
     "start_time": "2023-08-29T08:46:52.891373100Z"
    }
   }
  },
  {
   "cell_type": "markdown",
   "source": [
    "##Step 2: Generate simulated data"
   ],
   "metadata": {
    "collapsed": false
   }
  },
  {
   "cell_type": "code",
   "execution_count": 6,
   "outputs": [],
   "source": [
    "# Number of data points\n",
    "N = 500\n",
    "\n",
    "# Generate synthetic data\n",
    "np.random.seed(42)\n",
    "x1 = np.linspace(0, 10, N)\n",
    "x2 = np.linspace(0, 10, N)\n",
    "noise = np.random.normal(0, 0.5, N)\n",
    "\n",
    "# Simulate a nonlinear function\n",
    "y = (np.sin(x1) + np.sin(x2) + noise).astype(int)\n",
    "y = np.clip(y, 0, None)  # Ensure counts are non-negative\n",
    "\n",
    "# Convert the data into basis matrices for splines\n",
    "num_knots = 10\n",
    "splines_degree = 3\n",
    "\n",
    "knot_list_X1 = np.linspace(x1.min(), x1.max(), num_knots+2)[1:-1]\n",
    "knot_list_X2 = np.linspace(x2.min(), x2.max(), num_knots+2)[1:-1]\n",
    "\n",
    "basis_X1 = ps.dmatrix(f\"bs(X1, knots=knots, degree=splines_degree, include_intercept=False) -1\", {\"X1\": x1, \"knots\": knot_list_X1, \"splines_degree\": splines_degree})\n",
    "basis_X2 = ps.dmatrix(f\"bs(X2, knots=knots, degree=splines_degree, include_intercept=False) -1\", {\"X2\": x2, \"knots\": knot_list_X2, \"splines_degree\": splines_degree})\n",
    "\n",
    "data = {\n",
    "    'N': N,\n",
    "    'num_basis_X1': basis_X1.shape[1],\n",
    "    'num_basis_X2': basis_X2.shape[1],\n",
    "    'basis_X1': np.asarray(basis_X1, order=\"F\"),\n",
    "    'basis_X2': np.asarray(basis_X2, order=\"F\"),\n",
    "    'Y': y,\n",
    "    'a_tau_X1': 1,\n",
    "    'b_tau_X1': 0.005,\n",
    "    'a_tau_X2': 1,\n",
    "    'b_tau_X2': 0.005\n",
    "}\n"
   ],
   "metadata": {
    "collapsed": false,
    "ExecuteTime": {
     "end_time": "2023-08-29T08:50:02.693778700Z",
     "start_time": "2023-08-29T08:50:02.544179900Z"
    }
   }
  },
  {
   "cell_type": "markdown",
   "source": [],
   "metadata": {
    "collapsed": false
   }
  },
  {
   "cell_type": "markdown",
   "source": [
    "Step 3: Visualize the Simulated Data"
   ],
   "metadata": {
    "collapsed": false
   }
  },
  {
   "cell_type": "code",
   "execution_count": 3,
   "outputs": [
    {
     "data": {
      "text/plain": "<Figure size 1200x600 with 2 Axes>",
      "image/png": "[encoded data removed]"
     },
     "metadata": {},
     "output_type": "display_data"
    }
   ],
   "source": [
    "# Visualizing data\n",
    "fig, axes = plt.subplots(1, 2, figsize=(12, 6))\n",
    "axes[0].scatter(x1, y, color='blue', alpha=0.6, label=\"dataX1\")\n",
    "axes[0].set_title('Generated Data vs. dataX1')\n",
    "axes[0].set_xlabel('dataX1')\n",
    "axes[0].set_ylabel('Counts')\n",
    "axes[0].legend()\n",
    "\n",
    "axes[1].scatter(x2, y, color='red', alpha=0.6, label=\"dataX2\")\n",
    "axes[1].set_title('Generated Data vs. dataX2')\n",
    "axes[1].set_xlabel('dataX2')\n",
    "axes[1].set_ylabel('Counts')\n",
    "axes[1].legend()\n",
    "\n",
    "plt.tight_layout()\n",
    "plt.show()\n"
   ],
   "metadata": {
    "collapsed": false,
    "ExecuteTime": {
     "end_time": "2023-08-29T08:47:05.724179800Z",
     "start_time": "2023-08-29T08:47:05.055882700Z"
    }
   }
  },
  {
   "cell_type": "markdown",
   "source": [
    "##Step 4: Define the Stan Model"
   ],
   "metadata": {
    "collapsed": false
   }
  },
  {
   "cell_type": "code",
   "execution_count": 4,
   "outputs": [],
   "source": [
    "model = \"\"\"\n",
    "data {\n",
    "    int<lower=0> N;                      // Number of data points\n",
    "    int<lower=1> num_basis_X1;           // Number of coefficients for P-splines for X1\n",
    "    int<lower=1> num_basis_X2;           // Number of coefficients for P-splines for X2\n",
    "\n",
    "    matrix[N, num_basis_X1] basis_X1;    // Basis matrix for regressor X1\n",
    "    matrix[N, num_basis_X2] basis_X2;    // Basis matrix for regressor X2\n",
    "    int Y[N];                            // Observed Target variable\n",
    "    real a_tau_X1;                       // Shape parameter for InverseGamma of tau for X1\n",
    "    real b_tau_X1;                       // Scale parameter for InverseGamma of tau for X1\n",
    "    real a_tau_X2;                       // Shape parameter for InverseGamma of tau for X2\n",
    "    real b_tau_X2;                       // Scale parameter for InverseGamma of tau for X2\n",
    "}\n",
    "\n",
    "parameters {\n",
    "    real intercept;\n",
    "    vector[num_basis_X1] spline_coefficients_X1;\n",
    "    vector[num_basis_X2] spline_coefficients_X2;\n",
    "    real<lower=0> tau_X1;\n",
    "    real<lower=0> tau_X2;\n",
    "    real<lower=0> alpha;\n",
    "}\n",
    "\n",
    "transformed parameters {\n",
    "    vector[N] mu;\n",
    "    mu = exp(intercept + basis_X1 * spline_coefficients_X1 + basis_X2 * spline_coefficients_X2);\n",
    "}\n",
    "\n",
    "model {\n",
    "    intercept ~ normal(0, 1);\n",
    "\n",
    "    tau_X1 ~ inv_gamma(a_tau_X1, b_tau_X1);\n",
    "    tau_X2 ~ inv_gamma(a_tau_X2, b_tau_X2);\n",
    "    alpha ~ gamma(0, 0.1);\n",
    "\n",
    "    spline_coefficients_X1[1] ~ normal(0, 1);  // Assuming a diffuse prior for the first coefficient.\n",
    "    for (i in 2:num_basis_X1) {\n",
    "        spline_coefficients_X1[i] ~ normal(spline_coefficients_X1[i-1], tau_X1);\n",
    "    }\n",
    "\n",
    "    spline_coefficients_X2[1] ~ normal(0, 1);  // Again, assuming a diffuse prior for the first coefficient.\n",
    "    for (i in 2:num_basis_X2) {\n",
    "        spline_coefficients_X2[i] ~ normal(spline_coefficients_X2[i-1], tau_X2);\n",
    "    }\n",
    "\n",
    "    Y ~ neg_binomial_2(mu, alpha);\n",
    "}\n",
    "\"\"\"\n",
    "\n"
   ],
   "metadata": {
    "collapsed": false,
    "ExecuteTime": {
     "end_time": "2023-08-29T08:47:48.778648700Z",
     "start_time": "2023-08-29T08:47:48.752718500Z"
    }
   }
  },
  {
   "cell_type": "markdown",
   "source": [
    "##Step 5: Compile and Run the Stan Model"
   ],
   "metadata": {
    "collapsed": false
   }
  },
  {
   "cell_type": "code",
   "execution_count": 7,
   "outputs": [
    {
     "name": "stderr",
     "output_type": "stream",
     "text": [
      "INFO:pystan:COMPILING THE C++ CODE FOR MODEL anon_model_8ea56801efb494f627c4e55d064e86e4 NOW.\n"
     ]
    },
    {
     "ename": "RuntimeError",
     "evalue": "Initialization failed.",
     "output_type": "error",
     "traceback": [
      "\u001B[1;31m---------------------------------------------------------------------------\u001B[0m",
      "\u001B[1;31mRemoteTraceback\u001B[0m                           Traceback (most recent call last)",
      "\u001B[1;31mRemoteTraceback\u001B[0m: \n\"\"\"\nTraceback (most recent call last):\n  File \"C:\\Users\\Uwe Drauz\\anaconda3\\envs\\bachelor_thesis_pystan\\lib\\multiprocessing\\pool.py\", line 121, in worker\n    result = (True, func(*args, **kwds))\n  File \"C:\\Users\\Uwe Drauz\\anaconda3\\envs\\bachelor_thesis_pystan\\lib\\multiprocessing\\pool.py\", line 44, in mapstar\n    return list(map(*args))\n  File \"stanfit4anon_model_8ea56801efb494f627c4e55d064e86e4_425559817829031928.pyx\", line 373, in stanfit4anon_model_8ea56801efb494f627c4e55d064e86e4_425559817829031928._call_sampler_star\n  File \"stanfit4anon_model_8ea56801efb494f627c4e55d064e86e4_425559817829031928.pyx\", line 406, in stanfit4anon_model_8ea56801efb494f627c4e55d064e86e4_425559817829031928._call_sampler\nRuntimeError: Initialization failed.\n\"\"\"",
      "\nThe above exception was the direct cause of the following exception:\n",
      "\u001B[1;31mRuntimeError\u001B[0m                              Traceback (most recent call last)",
      "\u001B[1;32m~\\AppData\\Local\\Temp\\ipykernel_11440\\438942844.py\u001B[0m in \u001B[0;36m<module>\u001B[1;34m\u001B[0m\n\u001B[0;32m      1\u001B[0m \u001B[0msm\u001B[0m \u001B[1;33m=\u001B[0m \u001B[0mpystan\u001B[0m\u001B[1;33m.\u001B[0m\u001B[0mStanModel\u001B[0m\u001B[1;33m(\u001B[0m\u001B[0mmodel_code\u001B[0m\u001B[1;33m=\u001B[0m\u001B[0mmodel\u001B[0m\u001B[1;33m)\u001B[0m\u001B[1;33m\u001B[0m\u001B[1;33m\u001B[0m\u001B[0m\n\u001B[1;32m----> 2\u001B[1;33m \u001B[0mfit\u001B[0m \u001B[1;33m=\u001B[0m \u001B[0msm\u001B[0m\u001B[1;33m.\u001B[0m\u001B[0msampling\u001B[0m\u001B[1;33m(\u001B[0m\u001B[0mdata\u001B[0m\u001B[1;33m=\u001B[0m\u001B[0mdata\u001B[0m\u001B[1;33m,\u001B[0m \u001B[0miter\u001B[0m\u001B[1;33m=\u001B[0m\u001B[1;36m1000\u001B[0m\u001B[1;33m,\u001B[0m \u001B[0mchains\u001B[0m\u001B[1;33m=\u001B[0m\u001B[1;36m4\u001B[0m\u001B[1;33m)\u001B[0m\u001B[1;33m\u001B[0m\u001B[1;33m\u001B[0m\u001B[0m\n\u001B[0m\u001B[0;32m      3\u001B[0m \u001B[0mprint\u001B[0m\u001B[1;33m(\u001B[0m\u001B[0mfit\u001B[0m\u001B[1;33m)\u001B[0m\u001B[1;33m\u001B[0m\u001B[1;33m\u001B[0m\u001B[0m\n\u001B[0;32m      4\u001B[0m \u001B[1;33m\u001B[0m\u001B[0m\n",
      "\u001B[1;32m~\\anaconda3\\envs\\bachelor_thesis_pystan\\lib\\site-packages\\pystan\\model.py\u001B[0m in \u001B[0;36msampling\u001B[1;34m(self, data, pars, chains, iter, warmup, thin, seed, init, sample_file, diagnostic_file, verbose, algorithm, control, n_jobs, **kwargs)\u001B[0m\n\u001B[0;32m    811\u001B[0m         \u001B[0mcall_sampler_args\u001B[0m \u001B[1;33m=\u001B[0m \u001B[0mizip\u001B[0m\u001B[1;33m(\u001B[0m\u001B[0mitertools\u001B[0m\u001B[1;33m.\u001B[0m\u001B[0mrepeat\u001B[0m\u001B[1;33m(\u001B[0m\u001B[0mdata\u001B[0m\u001B[1;33m)\u001B[0m\u001B[1;33m,\u001B[0m \u001B[0margs_list\u001B[0m\u001B[1;33m,\u001B[0m \u001B[0mitertools\u001B[0m\u001B[1;33m.\u001B[0m\u001B[0mrepeat\u001B[0m\u001B[1;33m(\u001B[0m\u001B[0mpars\u001B[0m\u001B[1;33m)\u001B[0m\u001B[1;33m)\u001B[0m\u001B[1;33m\u001B[0m\u001B[1;33m\u001B[0m\u001B[0m\n\u001B[0;32m    812\u001B[0m         \u001B[0mcall_sampler_star\u001B[0m \u001B[1;33m=\u001B[0m \u001B[0mself\u001B[0m\u001B[1;33m.\u001B[0m\u001B[0mmodule\u001B[0m\u001B[1;33m.\u001B[0m\u001B[0m_call_sampler_star\u001B[0m\u001B[1;33m\u001B[0m\u001B[1;33m\u001B[0m\u001B[0m\n\u001B[1;32m--> 813\u001B[1;33m         \u001B[0mret_and_samples\u001B[0m \u001B[1;33m=\u001B[0m \u001B[0m_map_parallel\u001B[0m\u001B[1;33m(\u001B[0m\u001B[0mcall_sampler_star\u001B[0m\u001B[1;33m,\u001B[0m \u001B[0mcall_sampler_args\u001B[0m\u001B[1;33m,\u001B[0m \u001B[0mn_jobs\u001B[0m\u001B[1;33m)\u001B[0m\u001B[1;33m\u001B[0m\u001B[1;33m\u001B[0m\u001B[0m\n\u001B[0m\u001B[0;32m    814\u001B[0m         \u001B[0msamples\u001B[0m \u001B[1;33m=\u001B[0m \u001B[1;33m[\u001B[0m\u001B[0msmpl\u001B[0m \u001B[1;32mfor\u001B[0m \u001B[0m_\u001B[0m\u001B[1;33m,\u001B[0m \u001B[0msmpl\u001B[0m \u001B[1;32min\u001B[0m \u001B[0mret_and_samples\u001B[0m\u001B[1;33m]\u001B[0m\u001B[1;33m\u001B[0m\u001B[1;33m\u001B[0m\u001B[0m\n\u001B[0;32m    815\u001B[0m \u001B[1;33m\u001B[0m\u001B[0m\n",
      "\u001B[1;32m~\\anaconda3\\envs\\bachelor_thesis_pystan\\lib\\site-packages\\pystan\\model.py\u001B[0m in \u001B[0;36m_map_parallel\u001B[1;34m(function, args, n_jobs)\u001B[0m\n\u001B[0;32m     83\u001B[0m         \u001B[1;32mtry\u001B[0m\u001B[1;33m:\u001B[0m\u001B[1;33m\u001B[0m\u001B[1;33m\u001B[0m\u001B[0m\n\u001B[0;32m     84\u001B[0m             \u001B[0mpool\u001B[0m \u001B[1;33m=\u001B[0m \u001B[0mmultiprocessing\u001B[0m\u001B[1;33m.\u001B[0m\u001B[0mPool\u001B[0m\u001B[1;33m(\u001B[0m\u001B[0mprocesses\u001B[0m\u001B[1;33m=\u001B[0m\u001B[0mn_jobs\u001B[0m\u001B[1;33m)\u001B[0m\u001B[1;33m\u001B[0m\u001B[1;33m\u001B[0m\u001B[0m\n\u001B[1;32m---> 85\u001B[1;33m             \u001B[0mmap_result\u001B[0m \u001B[1;33m=\u001B[0m \u001B[0mpool\u001B[0m\u001B[1;33m.\u001B[0m\u001B[0mmap\u001B[0m\u001B[1;33m(\u001B[0m\u001B[0mfunction\u001B[0m\u001B[1;33m,\u001B[0m \u001B[0margs\u001B[0m\u001B[1;33m)\u001B[0m\u001B[1;33m\u001B[0m\u001B[1;33m\u001B[0m\u001B[0m\n\u001B[0m\u001B[0;32m     86\u001B[0m         \u001B[1;32mfinally\u001B[0m\u001B[1;33m:\u001B[0m\u001B[1;33m\u001B[0m\u001B[1;33m\u001B[0m\u001B[0m\n\u001B[0;32m     87\u001B[0m             \u001B[0mpool\u001B[0m\u001B[1;33m.\u001B[0m\u001B[0mclose\u001B[0m\u001B[1;33m(\u001B[0m\u001B[1;33m)\u001B[0m\u001B[1;33m\u001B[0m\u001B[1;33m\u001B[0m\u001B[0m\n",
      "\u001B[1;32m~\\anaconda3\\envs\\bachelor_thesis_pystan\\lib\\multiprocessing\\pool.py\u001B[0m in \u001B[0;36mmap\u001B[1;34m(self, func, iterable, chunksize)\u001B[0m\n\u001B[0;32m    266\u001B[0m         \u001B[1;32min\u001B[0m \u001B[0ma\u001B[0m \u001B[0mlist\u001B[0m \u001B[0mthat\u001B[0m \u001B[1;32mis\u001B[0m \u001B[0mreturned\u001B[0m\u001B[1;33m.\u001B[0m\u001B[1;33m\u001B[0m\u001B[1;33m\u001B[0m\u001B[0m\n\u001B[0;32m    267\u001B[0m         '''\n\u001B[1;32m--> 268\u001B[1;33m         \u001B[1;32mreturn\u001B[0m \u001B[0mself\u001B[0m\u001B[1;33m.\u001B[0m\u001B[0m_map_async\u001B[0m\u001B[1;33m(\u001B[0m\u001B[0mfunc\u001B[0m\u001B[1;33m,\u001B[0m \u001B[0miterable\u001B[0m\u001B[1;33m,\u001B[0m \u001B[0mmapstar\u001B[0m\u001B[1;33m,\u001B[0m \u001B[0mchunksize\u001B[0m\u001B[1;33m)\u001B[0m\u001B[1;33m.\u001B[0m\u001B[0mget\u001B[0m\u001B[1;33m(\u001B[0m\u001B[1;33m)\u001B[0m\u001B[1;33m\u001B[0m\u001B[1;33m\u001B[0m\u001B[0m\n\u001B[0m\u001B[0;32m    269\u001B[0m \u001B[1;33m\u001B[0m\u001B[0m\n\u001B[0;32m    270\u001B[0m     \u001B[1;32mdef\u001B[0m \u001B[0mstarmap\u001B[0m\u001B[1;33m(\u001B[0m\u001B[0mself\u001B[0m\u001B[1;33m,\u001B[0m \u001B[0mfunc\u001B[0m\u001B[1;33m,\u001B[0m \u001B[0miterable\u001B[0m\u001B[1;33m,\u001B[0m \u001B[0mchunksize\u001B[0m\u001B[1;33m=\u001B[0m\u001B[1;32mNone\u001B[0m\u001B[1;33m)\u001B[0m\u001B[1;33m:\u001B[0m\u001B[1;33m\u001B[0m\u001B[1;33m\u001B[0m\u001B[0m\n",
      "\u001B[1;32m~\\anaconda3\\envs\\bachelor_thesis_pystan\\lib\\multiprocessing\\pool.py\u001B[0m in \u001B[0;36mget\u001B[1;34m(self, timeout)\u001B[0m\n\u001B[0;32m    655\u001B[0m             \u001B[1;32mreturn\u001B[0m \u001B[0mself\u001B[0m\u001B[1;33m.\u001B[0m\u001B[0m_value\u001B[0m\u001B[1;33m\u001B[0m\u001B[1;33m\u001B[0m\u001B[0m\n\u001B[0;32m    656\u001B[0m         \u001B[1;32melse\u001B[0m\u001B[1;33m:\u001B[0m\u001B[1;33m\u001B[0m\u001B[1;33m\u001B[0m\u001B[0m\n\u001B[1;32m--> 657\u001B[1;33m             \u001B[1;32mraise\u001B[0m \u001B[0mself\u001B[0m\u001B[1;33m.\u001B[0m\u001B[0m_value\u001B[0m\u001B[1;33m\u001B[0m\u001B[1;33m\u001B[0m\u001B[0m\n\u001B[0m\u001B[0;32m    658\u001B[0m \u001B[1;33m\u001B[0m\u001B[0m\n\u001B[0;32m    659\u001B[0m     \u001B[1;32mdef\u001B[0m \u001B[0m_set\u001B[0m\u001B[1;33m(\u001B[0m\u001B[0mself\u001B[0m\u001B[1;33m,\u001B[0m \u001B[0mi\u001B[0m\u001B[1;33m,\u001B[0m \u001B[0mobj\u001B[0m\u001B[1;33m)\u001B[0m\u001B[1;33m:\u001B[0m\u001B[1;33m\u001B[0m\u001B[1;33m\u001B[0m\u001B[0m\n",
      "\u001B[1;31mRuntimeError\u001B[0m: Initialization failed."
     ]
    }
   ],
   "source": [
    "sm = pystan.StanModel(model_code=model)\n",
    "fit = sm.sampling(data=data, iter=1000, chains=4)\n",
    "print(fit)\n"
   ],
   "metadata": {
    "collapsed": false,
    "ExecuteTime": {
     "end_time": "2023-08-29T08:51:19.366427200Z",
     "start_time": "2023-08-29T08:50:08.678742600Z"
    }
   }
  },
  {
   "cell_type": "code",
   "execution_count": 32,
   "outputs": [
    {
     "data": {
      "text/plain": "7.588633466552457"
     },
     "execution_count": 32,
     "metadata": {},
     "output_type": "execute_result"
    }
   ],
   "source": [
    "dataY.max()"
   ],
   "metadata": {
    "collapsed": false,
    "ExecuteTime": {
     "end_time": "2023-08-31T09:02:35.609415Z",
     "start_time": "2023-08-31T09:02:35.463497200Z"
    }
   }
  },
  {
   "cell_type": "markdown",
   "source": [
    "## Original draft for PyMC Bayesian model with Negative Binomial distribution (alpha Gamma distributed) and penalized regression splines"
   ],
   "metadata": {
    "collapsed": false
   }
  },
  {
   "cell_type": "code",
   "execution_count": 14,
   "outputs": [],
   "source": [
    "dataX1 = df.ged_sb_tlag_1.to_numpy()\n",
    "dataX2 = df.ged_sb_tsum_24.to_numpy()\n",
    "dataY = df.ged_sb.to_numpy()\n",
    "# Note: If knots are intended to be not equally spaces (e.g. set by quantiles) the consequence on penalized splines has to be evaluated\n",
    "# Define the knot positions\n",
    "num_knots = 10\n",
    "\n",
    "# We define the knot list such that we'll have num_knots knot inbetween the boundaries of the data\n",
    "knot_list_X1 = np.linspace(dataX1.min(), dataX1.max(), num_knots + 2)[1:-1]\n",
    "knot_list_X2 = np.linspace(dataX2.min(), dataX2.max(), num_knots + 2)[1:-1]\n",
    "\n",
    "# Define the basis functions\n",
    "# ToDo: How do we include the intercept?\n",
    "# ToDo: Why '-1' in the formula?\n",
    "basis_X1 = ps.dmatrix(\"bs(X1, knots=knots, degree=3, include_intercept=False) -1\", {\"X1\": dataX1, \"knots\": knot_list_X1})\n",
    "basis_X2 = ps.dmatrix(\"bs(X2, knots=knots, degree=3, include_intercept=False) -1\", {\"X2\": dataX2, \"knots\": knot_list_X2})\n",
    "# Define variables for tau priors\n",
    "a_X1 = a_X2 = 500\n",
    "b_X1 = b_X2 = 0.0001\n",
    "\n",
    "\n",
    "def generate_penalty_matrix(no_coefficients):\n",
    "    penalty_matrix = -2 * np.eye(no_coefficients) + np.eye(no_coefficients, k=1) + np.eye(no_coefficients, k=-1)\n",
    "    penalty_matrix[0, 0] = 1\n",
    "    penalty_matrix[no_coefficients - 1, no_coefficients - 1] = 1\n",
    "    return penalty_matrix\n",
    "\n",
    "\n",
    "no_X1_coefficients = basis_X1.shape[1]\n",
    "no_X2_coefficients = basis_X2.shape[1]\n",
    "K_X1 = generate_penalty_matrix(no_X1_coefficients)\n",
    "K_X2 = generate_penalty_matrix(no_X2_coefficients)"
   ],
   "metadata": {
    "collapsed": false,
    "ExecuteTime": {
     "start_time": "2023-08-30T08:11:52.141743Z"
    }
   }
  },
  {
   "cell_type": "code",
   "execution_count": null,
   "outputs": [],
   "source": [
    "COORDS_penalized_splines = \\\n",
    "    {\"obs_idx\": df.index, \"splines_x1_rest\": np.arange(basis_X1.shape[1] -1), \"splines_x2_rest\": np.arange(basis_X2.shape[1] -1)}\n",
    "\n",
    "# NOTE: WIP: Implementation of penalized regression splines still to be figured out, Version with Penalty deduction in likeihood\n",
    "with pm.Model(coords=COORDS_penalized_splines) as bayesian_model_nb_gamma_penalized_splines_penalty_potential:\n",
    "    # Specify the data\n",
    "    X1 = pm.ConstantData(\"fatality lag t=1\", dataX1, dims=\"obs_idx\")\n",
    "    X2 = pm.ConstantData(\"fatality rolling average t=24\", dataX2, dims=\"obs_idx\")\n",
    "    Y = pm.ConstantData(\"fatility count\", dataY, dims=\"obs_idx\")\n",
    "\n",
    "    # Define the priors for regressors and negative binomial over-dispersion parameter\n",
    "    intercept = pm.HalfNormal(\"intercept\", sigma=0.1)\n",
    "\n",
    "    # Define first order random walk to incorporate regularization\n",
    "    tau_X1 = pm.InverseGamma(\"tauX1\", alpha=a_X1, beta=b_X1)\n",
    "    tau_X2 = pm.InverseGamma(\"tauX2\", alpha=a_X2, beta=b_X2)\n",
    "\n",
    "    # Create deterministic variables for squared taus\n",
    "    tau_X1_squared = pm.Deterministic(\"tau_X1_squared\", tau_X1 ** 2)\n",
    "    tau_X2_squared = pm.Deterministic(\"tau_X2_squared\", tau_X2 ** 2)\n",
    "\n",
    "    # Introduce flat priors for the first regression coeffcients of the splines\n",
    "    beta_X1_0 = pm.Flat(\"slopesX1_0\")\n",
    "    beta_X2_0 = pm.Flat(\"slopesX2_0\")\n",
    "    \n",
    "    # Define remaining betas as normal variables with standard deviation tau\n",
    "    beta_X1_rest = pm.Normal(\"slopesX1_rest\", 0.0, tau_X1, dims=\"splines_x1_rest\")\n",
    "    beta_X2_rest = pm.Normal(\"slopesX2_rest\", 0.0, tau_X2, dims=\"splines_x2_rest\")\n",
    "    \n",
    "    # Concatenate the flat priors to the beginning of the coefficients\n",
    "    beta_X1 = pm.Deterministic(\"slopesX1\", pm.math.concatenate([[beta_X1_0], beta_X1_rest]))\n",
    "    beta_X2 = pm.Deterministic(\"slopesX2\", pm.math.concatenate([[beta_X2_0], beta_X2_rest]))\n",
    "\n",
    "\n",
    "    alpha = pm.Gamma('alpha', 0.1, 0.1)\n",
    "\n",
    "    # Define mean of negative binomial distribution\n",
    "    mu = pm.math.exp(intercept + pm.math.dot(np.asarray(basis_X1, order=\"F\"), beta_X1.T) + pm.math.dot(np.asarray(basis_X2, order=\"F\"), beta_X2.T))\n",
    "\n",
    "    # Define the likelihood\n",
    "    obs = pm.NegativeBinomial(\"obs\", mu=mu, alpha=alpha, observed=Y, dims=\"obs_idx\")\n",
    "\n",
    "    # Define the penalty term and incorporate it using pm.Potential\n",
    "    penalty_term_X1 = pm.math.dot(beta_X1.T, pm.math.dot(K_X1, beta_X1)) / (2 * tau_X1_squared)\n",
    "    penalty_X1 = pm.Potential(\"penalty_X1\", -penalty_term_X1)\n",
    "\n",
    "    penalty_term_X2 = pm.math.dot(beta_X2, pm.math.dot(K_X2, beta_X2)) / (2 * tau_X2_squared)\n",
    "    penalty_X2 = pm.Potential(\"penalty_X2\", -penalty_term_X2)\n",
    "\n",
    "    # Run the sampling using the No-U-Turn Sampler (NUTS) for the specified number of samples\n",
    "    idata_bayesian_nb_gamma_penalized_splines_penalty_potential = pm.sample(draws=2000, tune=4000, random_seed=rng, target_accept=0.99)\n"
   ],
   "metadata": {
    "collapsed": false
   }
  },
  {
   "cell_type": "markdown",
   "source": [
    "**Visualisations**"
   ],
   "metadata": {
    "collapsed": false
   }
  },
  {
   "cell_type": "code",
   "execution_count": 12,
   "outputs": [
    {
     "ename": "NameError",
     "evalue": "name 'idata' is not defined",
     "output_type": "error",
     "traceback": [
      "\u001B[1;31m---------------------------------------------------------------------------\u001B[0m",
      "\u001B[1;31mNameError\u001B[0m                                 Traceback (most recent call last)",
      "\u001B[1;32m~\\AppData\\Local\\Temp\\ipykernel_10508\\73246243.py\u001B[0m in \u001B[0;36m<module>\u001B[1;34m\u001B[0m\n\u001B[0;32m      1\u001B[0m \u001B[1;31m# Plotting trace with parameters transformed back to original scale\u001B[0m\u001B[1;33m\u001B[0m\u001B[1;33m\u001B[0m\u001B[1;33m\u001B[0m\u001B[0m\n\u001B[0;32m      2\u001B[0m \u001B[1;31m# Plotting trace plots with appropriate size\u001B[0m\u001B[1;33m\u001B[0m\u001B[1;33m\u001B[0m\u001B[1;33m\u001B[0m\u001B[0m\n\u001B[1;32m----> 3\u001B[1;33m \u001B[0maz\u001B[0m\u001B[1;33m.\u001B[0m\u001B[0mplot_trace\u001B[0m\u001B[1;33m(\u001B[0m\u001B[0mnp\u001B[0m\u001B[1;33m.\u001B[0m\u001B[0mexp\u001B[0m\u001B[1;33m(\u001B[0m\u001B[0midata\u001B[0m\u001B[1;33m.\u001B[0m\u001B[0mposterior\u001B[0m\u001B[1;33m)\u001B[0m\u001B[1;33m,\u001B[0m \u001B[0mvar_names\u001B[0m\u001B[1;33m=\u001B[0m\u001B[1;33m[\u001B[0m\u001B[1;34m\"intercept\"\u001B[0m\u001B[1;33m,\u001B[0m \u001B[1;34m\"slopesX1\"\u001B[0m\u001B[1;33m,\u001B[0m \u001B[1;34m\"slopesX2\"\u001B[0m\u001B[1;33m]\u001B[0m\u001B[1;33m,\u001B[0m \u001B[0mcombined\u001B[0m\u001B[1;33m=\u001B[0m\u001B[1;32mTrue\u001B[0m\u001B[1;33m,\u001B[0m \u001B[0mfigsize\u001B[0m\u001B[1;33m=\u001B[0m\u001B[1;33m(\u001B[0m\u001B[1;36m10\u001B[0m\u001B[1;33m,\u001B[0m \u001B[1;36m6\u001B[0m\u001B[1;33m)\u001B[0m\u001B[1;33m)\u001B[0m\u001B[1;33m\u001B[0m\u001B[1;33m\u001B[0m\u001B[0m\n\u001B[0m\u001B[0;32m      4\u001B[0m \u001B[0maz\u001B[0m\u001B[1;33m.\u001B[0m\u001B[0mplot_trace\u001B[0m\u001B[1;33m(\u001B[0m\u001B[0midata\u001B[0m\u001B[1;33m.\u001B[0m\u001B[0mposterior\u001B[0m\u001B[1;33m,\u001B[0m \u001B[0mvar_names\u001B[0m\u001B[1;33m=\u001B[0m\u001B[1;33m[\u001B[0m\u001B[1;34m\"alpha\"\u001B[0m\u001B[1;33m]\u001B[0m\u001B[1;33m,\u001B[0m \u001B[0mcombined\u001B[0m\u001B[1;33m=\u001B[0m\u001B[1;32mTrue\u001B[0m\u001B[1;33m,\u001B[0m \u001B[0mfigsize\u001B[0m\u001B[1;33m=\u001B[0m\u001B[1;33m(\u001B[0m\u001B[1;36m10\u001B[0m\u001B[1;33m,\u001B[0m \u001B[1;36m3\u001B[0m\u001B[1;33m)\u001B[0m\u001B[1;33m)\u001B[0m\u001B[1;33m\u001B[0m\u001B[1;33m\u001B[0m\u001B[0m\n",
      "\u001B[1;31mNameError\u001B[0m: name 'idata' is not defined"
     ]
    }
   ],
   "source": [
    "# Plotting trace with parameters transformed back to original scale\n",
    "# Plotting trace plots with appropriate size\n",
    "az.plot_trace(np.exp(idata.posterior), var_names=[\"intercept\", \"slopesX1\", \"slopesX2\"], combined=True, figsize=(10, 6))\n",
    "az.plot_trace(idata.posterior, var_names=[\"alpha\"], combined=True, figsize=(10, 3))"
   ],
   "metadata": {
    "collapsed": false,
    "ExecuteTime": {
     "start_time": "2023-08-28T10:39:51.790535500Z"
    }
   }
  },
  {
   "cell_type": "code",
   "execution_count": null,
   "outputs": [],
   "source": [
    "# Plotting posterior plots with appropriate size\n",
    "az.plot_posterior(np.exp(idata.posterior), var_names=[\"intercept\", \"slopesX1\", \"slopesX2\"])\n",
    "az.plot_posterior(idata, var_names=[\"alpha\"], figsize=(4, 3))"
   ],
   "metadata": {
    "collapsed": false
   }
  },
  {
   "cell_type": "code",
   "execution_count": null,
   "outputs": [],
   "source": [
    "# Plotting trace plots in logaritmic scale\n",
    "az.plot_trace(idata, figsize=(10, 9))\n",
    "az.plot_trace(idata, combined=True, figsize=(10, 9))\n",
    "az.plot_posterior(idata)"
   ],
   "metadata": {
    "collapsed": false
   }
  },
  {
   "cell_type": "code",
   "execution_count": null,
   "outputs": [],
   "source": [
    "try:\n",
    "    az.plot_ppc(idata, num_pp_samples=50, kind=\"scatter\")\n",
    "except Exception as error:\n",
    "    print(\"Error\", error)"
   ],
   "metadata": {
    "collapsed": false
   }
  },
  {
   "cell_type": "markdown",
   "source": [
    "**Summary Statistics**"
   ],
   "metadata": {
    "collapsed": false
   }
  },
  {
   "cell_type": "code",
   "execution_count": null,
   "outputs": [],
   "source": [
    "# Transform coefficients to recover parameter values\n",
    "az.summary(np.exp(idata.posterior), kind=\"stats\", var_names=[\"intercept\", \"slopesX1\", \"slopesX2\"])"
   ],
   "metadata": {
    "collapsed": false
   }
  },
  {
   "cell_type": "code",
   "execution_count": null,
   "outputs": [],
   "source": [
    "az.summary(idata.posterior, kind=\"stats\", var_names=\"alpha\")"
   ],
   "metadata": {
    "collapsed": false
   }
  },
  {
   "cell_type": "markdown",
   "source": [
    "**CRPS evaluation**"
   ],
   "metadata": {
    "collapsed": false
   }
  },
  {
   "cell_type": "code",
   "execution_count": null,
   "outputs": [],
   "source": [
    "# Calculate CRPS for posterior predictive\n",
    "crps_nb_gamma_penalized_splines, crps_average_nb_gamma_penalized_splines = calculate_crps(idata, actuals=y); crps_average_nb_gamma_penalized_splines"
   ],
   "metadata": {
    "collapsed": false
   }
  }
 ],
 "metadata": {
  "kernelspec": {
   "display_name": "Python 3",
   "language": "python",
   "name": "python3"
  },
  "language_info": {
   "codemirror_mode": {
    "name": "ipython",
    "version": 2
   },
   "file_extension": ".py",
   "mimetype": "text/x-python",
   "name": "python",
   "nbconvert_exporter": "python",
   "pygments_lexer": "ipython2",
   "version": "2.7.6"
  }
 },
 "nbformat": 4,
 "nbformat_minor": 0
}
