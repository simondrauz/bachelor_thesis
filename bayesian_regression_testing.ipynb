{
 "cells": [
  {
   "cell_type": "markdown",
   "source": [
    "### General information referring to some of the code"
   ],
   "metadata": {
    "collapsed": false
   }
  },
  {
   "cell_type": "markdown",
   "source": [
    "**patsy**\n",
    "*Generating design matrices*\n",
    "We include the intercept once in the model via the intercept parameter, to prevent having additional '1' columns in basis functions include_intercept is set to False and automatic creation of '1' column of patsy is prevented by '-1' in the formula.\n",
    "\n",
    "*Passing design matrices to PyMc/ Stan*\n",
    "For the spline regression we generate our design matrices using patsy. This returns an object of the class 'DesignMatrix' which contains additional metadata comparede to a numpy array. However in comparioson to numpy arrays, those objects of the DesignMatrix clss do not support pickling.\n",
    "Therefore we convert the matrices to numpy arrays by np.asarray() - essentially dropping the metadata - before passing them to the model.\n",
    "THe additional argument order=\"F\" is used to have the array in Fortran order which is preferred by PyMC3 and Stan.\n",
    "\n",
    "**Understanding posterior predictives and cross validation**\n",
    "(1) We specify a model and incorporate some prior belief for the model parameters.\n",
    "(2) Using the training data and the MCMC algorithm we update our prior beliefs to better represent the data we obeserve. Thereby we obtain posterior distributions for our model parameters.\n",
    "(3) With new data (our evaluation set), we can verify our model. Notice, that the posterior distributions of all parameters we defined in our model remain unchanged. In our specific example only mu is individual for each parameter as it is dependent on the covariates of a observation. This explains how we obtain a different mu for every obeservation if the covariates aren't identical. To verify the model we draw samples from the posterior distribution of each observation and calculate the CRPS.\n",
    "(how are the posterior predictive samples obtained: we draw a set of paramters based on their underlying posterior distribution and use those to draw one sample. This is repeated several times to reflect the uncertainty within  the posteriors for this obeservation.\n",
    "\n",
    "**Implementing cross validation**\n",
    "PyStan: Add corresponding code to the 'generate quantities block' to generate the posterior predictive samples based on obtained posteriors and new data\n",
    "PyMc: Define covariates as \"theano.shared\" variables before feeding them into the model and integrate evaluation data via the \"set_value()\" function. Afterwards, pm.sample_posterior_predictive() will generate predictives for the evaluation data only. \n",
    "\n",
    "**Transforming data**\n",
    "According to Bretzger, Lang (2004) it is desirable to standardize out target variable as \"the amount of smoothness allowed by a particular prior specification depends (weakly) on the scale of the responses\". However, initially in Stan this rose an error originating from working with a negative binomial distribution. Further inspection is necessary.\n",
    "\n",
    "**Defining knots for splines**\n",
    "So far we use equally-spaced knots for our spline regression. As our data is zero-inflated and overdispersed this leads to having the majority of the data within a minorty of the knots. Quantile-based knots are therefore a valid option. However, the P-Splines definition through a penalty matrix is not compatible with quantile-based knots. For an integration of quantile-based knots further investigation is necessary."
   ],
   "metadata": {
    "collapsed": false
   }
  },
  {
   "cell_type": "markdown",
   "source": [
    "## I. Prerequisites"
   ],
   "metadata": {
    "collapsed": false
   }
  },
  {
   "cell_type": "markdown",
   "source": [
    "**1. Import Packages**"
   ],
   "metadata": {
    "collapsed": false
   }
  },
  {
   "cell_type": "code",
   "execution_count": 1,
   "outputs": [
    {
     "ename": "ModuleNotFoundError",
     "evalue": "No module named 'data_modelling_bayes'",
     "output_type": "error",
     "traceback": [
      "\u001B[1;31m---------------------------------------------------------------------------\u001B[0m",
      "\u001B[1;31mModuleNotFoundError\u001B[0m                       Traceback (most recent call last)",
      "\u001B[1;32m~\\AppData\\Local\\Temp\\ipykernel_4296\\1570021365.py\u001B[0m in \u001B[0;36m<module>\u001B[1;34m\u001B[0m\n\u001B[0;32m      7\u001B[0m \u001B[1;32mfrom\u001B[0m \u001B[0mdata_preparation\u001B[0m \u001B[1;32mimport\u001B[0m \u001B[0mpreprocess_data\u001B[0m\u001B[1;33m,\u001B[0m \u001B[0mgenerate_knots\u001B[0m\u001B[1;33m,\u001B[0m \u001B[0mgenerate_spline_design_matrix\u001B[0m\u001B[1;33m\u001B[0m\u001B[1;33m\u001B[0m\u001B[0m\n\u001B[0;32m      8\u001B[0m \u001B[1;32mfrom\u001B[0m \u001B[0mdata_exploration\u001B[0m \u001B[1;32mimport\u001B[0m \u001B[0mcalculate_data_characteristics\u001B[0m\u001B[1;33m\u001B[0m\u001B[1;33m\u001B[0m\u001B[0m\n\u001B[1;32m----> 9\u001B[1;33m \u001B[1;32mfrom\u001B[0m \u001B[0mdata_modelling_bayes\u001B[0m \u001B[1;32mimport\u001B[0m \u001B[0mcalculate_crps\u001B[0m\u001B[1;33m,\u001B[0m \u001B[0mgenerate_penalty_matrix\u001B[0m\u001B[1;33m\u001B[0m\u001B[1;33m\u001B[0m\u001B[0m\n\u001B[0m\u001B[0;32m     10\u001B[0m \u001B[1;32mfrom\u001B[0m \u001B[0mdata_logging\u001B[0m \u001B[1;32mimport\u001B[0m \u001B[0mgenerate_all_dictionaries\u001B[0m\u001B[1;33m,\u001B[0m \u001B[0mml_flow_tracking\u001B[0m\u001B[1;33m,\u001B[0m \u001B[0mcount_divergences\u001B[0m\u001B[1;33m\u001B[0m\u001B[1;33m\u001B[0m\u001B[0m\n\u001B[0;32m     11\u001B[0m \u001B[1;32mfrom\u001B[0m \u001B[0mhelp_functions\u001B[0m \u001B[1;32mimport\u001B[0m \u001B[0mMLFlowServer\u001B[0m\u001B[1;33m\u001B[0m\u001B[1;33m\u001B[0m\u001B[0m\n",
      "\u001B[1;31mModuleNotFoundError\u001B[0m: No module named 'data_modelling_bayes'"
     ]
    }
   ],
   "source": [
    "import arviz as az\n",
    "import numpy as np\n",
    "import pandas as pd\n",
    "import time\n",
    "\n",
    "from data_gathering import gather_data_actuals, gather_data_features\n",
    "from data_preparation import preprocess_data, generate_knots, generate_spline_design_matrix\n",
    "from data_exploration import calculate_data_characteristics\n",
    "from data_modelling_bayes import calculate_crps, generate_penalty_matrix\n",
    "from data_logging import generate_all_dictionaries, ml_flow_tracking, count_divergences\n",
    "from help_functions import MLFlowServer\n",
    "from importlib import reload"
   ],
   "metadata": {
    "collapsed": false,
    "ExecuteTime": {
     "end_time": "2023-09-19T15:20:30.677587100Z",
     "start_time": "2023-09-19T15:20:25.732820200Z"
    }
   }
  },
  {
   "cell_type": "code",
   "execution_count": null,
   "outputs": [],
   "source": [
    "import help_functions\n",
    "reload(help_functions)\n",
    "from help_functions import MLFlowServer"
   ],
   "metadata": {
    "collapsed": false,
    "ExecuteTime": {
     "start_time": "2023-09-19T15:20:30.646670Z"
    }
   }
  },
  {
   "cell_type": "code",
   "execution_count": null,
   "outputs": [],
   "source": [
    "pymc = False\n",
    "stan = True\n",
    "example_export = False\n",
    "start_server = True\n",
    "stop_server = False"
   ],
   "metadata": {
    "collapsed": false,
    "ExecuteTime": {
     "start_time": "2023-09-19T15:20:30.651656600Z"
    }
   }
  },
  {
   "cell_type": "markdown",
   "source": [
    "**PyMc specific packages**"
   ],
   "metadata": {
    "collapsed": false
   }
  },
  {
   "cell_type": "code",
   "execution_count": null,
   "outputs": [],
   "source": [
    "if pymc:\n",
    "    import pymc as pm"
   ],
   "metadata": {
    "collapsed": false,
    "ExecuteTime": {
     "start_time": "2023-09-19T15:20:30.656644300Z"
    }
   }
  },
  {
   "cell_type": "markdown",
   "source": [
    "**PyStan specific packages**"
   ],
   "metadata": {
    "collapsed": false
   }
  },
  {
   "cell_type": "code",
   "execution_count": null,
   "outputs": [],
   "source": [
    "if stan:\n",
    "    import pystan"
   ],
   "metadata": {
    "collapsed": false,
    "ExecuteTime": {
     "start_time": "2023-09-19T15:20:30.659636700Z"
    }
   }
  },
  {
   "cell_type": "code",
   "execution_count": 2,
   "outputs": [
    {
     "name": "stderr",
     "output_type": "stream",
     "text": [
      "2023/09/15 10:54:26 INFO mlflow.tracking.fluent: Experiment with name 'baseline_model' does not exist. Creating a new experiment.\n"
     ]
    }
   ],
   "source": [
    "from help_functions import MLFlowServer\n",
    "if start_server:\n",
    "    # Start mlflow server: Necessary before every first mlflow_logging\n",
    "    server = MLFlowServer(experiment_name=\"baseline_model\")\n",
    "    server.start()"
   ],
   "metadata": {
    "collapsed": false,
    "ExecuteTime": {
     "end_time": "2023-09-15T08:54:26.676046100Z",
     "start_time": "2023-09-15T08:54:14.490772100Z"
    }
   }
  },
  {
   "cell_type": "code",
   "execution_count": 17,
   "outputs": [
    {
     "ename": "KeyboardInterrupt",
     "evalue": "",
     "output_type": "error",
     "traceback": [
      "\u001B[1;31m---------------------------------------------------------------------------\u001B[0m",
      "\u001B[1;31mKeyboardInterrupt\u001B[0m                         Traceback (most recent call last)",
      "\u001B[1;32m~\\AppData\\Local\\Temp\\ipykernel_16012\\647671676.py\u001B[0m in \u001B[0;36m<module>\u001B[1;34m\u001B[0m\n\u001B[1;32m----> 1\u001B[1;33m \u001B[0mserver\u001B[0m\u001B[1;33m.\u001B[0m\u001B[0mstop\u001B[0m\u001B[1;33m(\u001B[0m\u001B[1;33m)\u001B[0m\u001B[1;33m\u001B[0m\u001B[1;33m\u001B[0m\u001B[0m\n\u001B[0m",
      "\u001B[1;32m~\\PycharmProjects\\bachelor_thesis\\help_functions.py\u001B[0m in \u001B[0;36mstop\u001B[1;34m(self)\u001B[0m\n\u001B[0;32m     77\u001B[0m         \"\"\"\n\u001B[0;32m     78\u001B[0m         \u001B[0mShuts\u001B[0m \u001B[0mdown\u001B[0m \u001B[0mthe\u001B[0m \u001B[0mMLflow\u001B[0m \u001B[0mserver\u001B[0m\u001B[1;33m.\u001B[0m\u001B[1;33m\u001B[0m\u001B[1;33m\u001B[0m\u001B[0m\n\u001B[1;32m---> 79\u001B[1;33m         \"\"\"\n\u001B[0m\u001B[0;32m     80\u001B[0m         \u001B[1;32mif\u001B[0m \u001B[0mself\u001B[0m\u001B[1;33m.\u001B[0m\u001B[0mprocess\u001B[0m\u001B[1;33m:\u001B[0m\u001B[1;33m\u001B[0m\u001B[1;33m\u001B[0m\u001B[0m\n\u001B[0;32m     81\u001B[0m             \u001B[1;32mtry\u001B[0m\u001B[1;33m:\u001B[0m\u001B[1;33m\u001B[0m\u001B[1;33m\u001B[0m\u001B[0m\n",
      "\u001B[1;32m~\\PycharmProjects\\bachelor_thesis\\help_functions.py\u001B[0m in \u001B[0;36mstop\u001B[1;34m(self)\u001B[0m\n\u001B[0;32m     77\u001B[0m         \"\"\"\n\u001B[0;32m     78\u001B[0m         \u001B[0mShuts\u001B[0m \u001B[0mdown\u001B[0m \u001B[0mthe\u001B[0m \u001B[0mMLflow\u001B[0m \u001B[0mserver\u001B[0m\u001B[1;33m.\u001B[0m\u001B[1;33m\u001B[0m\u001B[1;33m\u001B[0m\u001B[0m\n\u001B[1;32m---> 79\u001B[1;33m         \"\"\"\n\u001B[0m\u001B[0;32m     80\u001B[0m         \u001B[1;32mif\u001B[0m \u001B[0mself\u001B[0m\u001B[1;33m.\u001B[0m\u001B[0mprocess\u001B[0m\u001B[1;33m:\u001B[0m\u001B[1;33m\u001B[0m\u001B[1;33m\u001B[0m\u001B[0m\n\u001B[0;32m     81\u001B[0m             \u001B[1;32mtry\u001B[0m\u001B[1;33m:\u001B[0m\u001B[1;33m\u001B[0m\u001B[1;33m\u001B[0m\u001B[0m\n",
      "\u001B[1;32m_pydevd_bundle\\pydevd_cython_win32_37_64.pyx\u001B[0m in \u001B[0;36m_pydevd_bundle.pydevd_cython_win32_37_64.SafeCallWrapper.__call__\u001B[1;34m()\u001B[0m\n",
      "\u001B[1;32m_pydevd_bundle\\pydevd_cython_win32_37_64.pyx\u001B[0m in \u001B[0;36m_pydevd_bundle.pydevd_cython_win32_37_64.PyDBFrame.trace_dispatch\u001B[1;34m()\u001B[0m\n",
      "\u001B[1;32m_pydevd_bundle\\pydevd_cython_win32_37_64.pyx\u001B[0m in \u001B[0;36m_pydevd_bundle.pydevd_cython_win32_37_64.PyDBFrame.trace_dispatch\u001B[1;34m()\u001B[0m\n",
      "\u001B[1;32m_pydevd_bundle\\pydevd_cython_win32_37_64.pyx\u001B[0m in \u001B[0;36m_pydevd_bundle.pydevd_cython_win32_37_64.PyDBFrame.trace_dispatch\u001B[1;34m()\u001B[0m\n",
      "\u001B[1;32mC:\\Program Files\\JetBrains\\PyCharm 2023.1.3\\plugins\\python\\helpers-pro\\jupyter_debug\\pydev_jupyter_plugin.py\u001B[0m in \u001B[0;36mstop\u001B[1;34m(plugin, pydb, frame, event, args, stop_info, arg, step_cmd)\u001B[0m\n\u001B[0;32m    167\u001B[0m         \u001B[0mframe\u001B[0m \u001B[1;33m=\u001B[0m \u001B[0msuspend_jupyter\u001B[0m\u001B[1;33m(\u001B[0m\u001B[0mmain_debugger\u001B[0m\u001B[1;33m,\u001B[0m \u001B[0mthread\u001B[0m\u001B[1;33m,\u001B[0m \u001B[0mframe\u001B[0m\u001B[1;33m,\u001B[0m \u001B[0mstep_cmd\u001B[0m\u001B[1;33m)\u001B[0m\u001B[1;33m\u001B[0m\u001B[1;33m\u001B[0m\u001B[0m\n\u001B[0;32m    168\u001B[0m         \u001B[1;32mif\u001B[0m \u001B[0mframe\u001B[0m\u001B[1;33m:\u001B[0m\u001B[1;33m\u001B[0m\u001B[1;33m\u001B[0m\u001B[0m\n\u001B[1;32m--> 169\u001B[1;33m             \u001B[0mmain_debugger\u001B[0m\u001B[1;33m.\u001B[0m\u001B[0mdo_wait_suspend\u001B[0m\u001B[1;33m(\u001B[0m\u001B[0mthread\u001B[0m\u001B[1;33m,\u001B[0m \u001B[0mframe\u001B[0m\u001B[1;33m,\u001B[0m \u001B[0mevent\u001B[0m\u001B[1;33m,\u001B[0m \u001B[0marg\u001B[0m\u001B[1;33m)\u001B[0m\u001B[1;33m\u001B[0m\u001B[1;33m\u001B[0m\u001B[0m\n\u001B[0m\u001B[0;32m    170\u001B[0m             \u001B[1;32mreturn\u001B[0m \u001B[1;32mTrue\u001B[0m\u001B[1;33m\u001B[0m\u001B[1;33m\u001B[0m\u001B[0m\n\u001B[0;32m    171\u001B[0m     \u001B[1;32mreturn\u001B[0m \u001B[1;32mFalse\u001B[0m\u001B[1;33m\u001B[0m\u001B[1;33m\u001B[0m\u001B[0m\n",
      "\u001B[1;32mC:\\Program Files\\JetBrains\\PyCharm 2023.1.3\\plugins\\python\\helpers\\pydev\\pydevd.py\u001B[0m in \u001B[0;36mdo_wait_suspend\u001B[1;34m(self, thread, frame, event, arg, send_suspend_message, is_unhandled_exception)\u001B[0m\n\u001B[0;32m   1158\u001B[0m \u001B[1;33m\u001B[0m\u001B[0m\n\u001B[0;32m   1159\u001B[0m         \u001B[1;32mwith\u001B[0m \u001B[0mself\u001B[0m\u001B[1;33m.\u001B[0m\u001B[0m_threads_suspended_single_notification\u001B[0m\u001B[1;33m.\u001B[0m\u001B[0mnotify_thread_suspended\u001B[0m\u001B[1;33m(\u001B[0m\u001B[0mthread_id\u001B[0m\u001B[1;33m,\u001B[0m \u001B[0mstop_reason\u001B[0m\u001B[1;33m)\u001B[0m\u001B[1;33m:\u001B[0m\u001B[1;33m\u001B[0m\u001B[1;33m\u001B[0m\u001B[0m\n\u001B[1;32m-> 1160\u001B[1;33m             \u001B[0mself\u001B[0m\u001B[1;33m.\u001B[0m\u001B[0m_do_wait_suspend\u001B[0m\u001B[1;33m(\u001B[0m\u001B[0mthread\u001B[0m\u001B[1;33m,\u001B[0m \u001B[0mframe\u001B[0m\u001B[1;33m,\u001B[0m \u001B[0mevent\u001B[0m\u001B[1;33m,\u001B[0m \u001B[0marg\u001B[0m\u001B[1;33m,\u001B[0m \u001B[0msuspend_type\u001B[0m\u001B[1;33m,\u001B[0m \u001B[0mfrom_this_thread\u001B[0m\u001B[1;33m)\u001B[0m\u001B[1;33m\u001B[0m\u001B[1;33m\u001B[0m\u001B[0m\n\u001B[0m\u001B[0;32m   1161\u001B[0m \u001B[1;33m\u001B[0m\u001B[0m\n\u001B[0;32m   1162\u001B[0m     \u001B[1;32mdef\u001B[0m \u001B[0m_do_wait_suspend\u001B[0m\u001B[1;33m(\u001B[0m\u001B[0mself\u001B[0m\u001B[1;33m,\u001B[0m \u001B[0mthread\u001B[0m\u001B[1;33m,\u001B[0m \u001B[0mframe\u001B[0m\u001B[1;33m,\u001B[0m \u001B[0mevent\u001B[0m\u001B[1;33m,\u001B[0m \u001B[0marg\u001B[0m\u001B[1;33m,\u001B[0m \u001B[0msuspend_type\u001B[0m\u001B[1;33m,\u001B[0m \u001B[0mfrom_this_thread\u001B[0m\u001B[1;33m)\u001B[0m\u001B[1;33m:\u001B[0m\u001B[1;33m\u001B[0m\u001B[1;33m\u001B[0m\u001B[0m\n",
      "\u001B[1;32mC:\\Program Files\\JetBrains\\PyCharm 2023.1.3\\plugins\\python\\helpers\\pydev\\pydevd.py\u001B[0m in \u001B[0;36m_do_wait_suspend\u001B[1;34m(self, thread, frame, event, arg, suspend_type, from_this_thread)\u001B[0m\n\u001B[0;32m   1173\u001B[0m \u001B[1;33m\u001B[0m\u001B[0m\n\u001B[0;32m   1174\u001B[0m                 \u001B[0mself\u001B[0m\u001B[1;33m.\u001B[0m\u001B[0mprocess_internal_commands\u001B[0m\u001B[1;33m(\u001B[0m\u001B[1;33m)\u001B[0m\u001B[1;33m\u001B[0m\u001B[1;33m\u001B[0m\u001B[0m\n\u001B[1;32m-> 1175\u001B[1;33m                 \u001B[0mtime\u001B[0m\u001B[1;33m.\u001B[0m\u001B[0msleep\u001B[0m\u001B[1;33m(\u001B[0m\u001B[1;36m0.01\u001B[0m\u001B[1;33m)\u001B[0m\u001B[1;33m\u001B[0m\u001B[1;33m\u001B[0m\u001B[0m\n\u001B[0m\u001B[0;32m   1176\u001B[0m \u001B[1;33m\u001B[0m\u001B[0m\n\u001B[0;32m   1177\u001B[0m         \u001B[0mself\u001B[0m\u001B[1;33m.\u001B[0m\u001B[0mcancel_async_evaluation\u001B[0m\u001B[1;33m(\u001B[0m\u001B[0mget_current_thread_id\u001B[0m\u001B[1;33m(\u001B[0m\u001B[0mthread\u001B[0m\u001B[1;33m)\u001B[0m\u001B[1;33m,\u001B[0m \u001B[0mstr\u001B[0m\u001B[1;33m(\u001B[0m\u001B[0mid\u001B[0m\u001B[1;33m(\u001B[0m\u001B[0mframe\u001B[0m\u001B[1;33m)\u001B[0m\u001B[1;33m)\u001B[0m\u001B[1;33m)\u001B[0m\u001B[1;33m\u001B[0m\u001B[1;33m\u001B[0m\u001B[0m\n",
      "\u001B[1;31mKeyboardInterrupt\u001B[0m: "
     ]
    }
   ],
   "source": [
    "server.stop()"
   ],
   "metadata": {
    "collapsed": false,
    "ExecuteTime": {
     "end_time": "2023-09-07T09:14:21.039765Z",
     "start_time": "2023-09-07T09:13:32.024514600Z"
    }
   }
  },
  {
   "cell_type": "markdown",
   "source": [
    "**2. Define functions**"
   ],
   "metadata": {
    "collapsed": false
   }
  },
  {
   "cell_type": "markdown",
   "source": [
    "**3. Set style and generate random seed**"
   ],
   "metadata": {
    "collapsed": false
   }
  },
  {
   "cell_type": "code",
   "execution_count": 25,
   "outputs": [],
   "source": [
    "az.style.use(\"arviz-darkgrid\")\n",
    "RANDOM_SEED = 58"
   ],
   "metadata": {
    "collapsed": false,
    "ExecuteTime": {
     "end_time": "2023-09-14T06:20:28.456989600Z",
     "start_time": "2023-09-14T06:20:28.272356700Z"
    }
   }
  },
  {
   "cell_type": "markdown",
   "source": [
    "## II. Data Preparation"
   ],
   "metadata": {
    "collapsed": false
   }
  },
  {
   "cell_type": "markdown",
   "source": [
    "### 1. Load data"
   ],
   "metadata": {
    "collapsed": false
   }
  },
  {
   "cell_type": "code",
   "execution_count": 2,
   "outputs": [],
   "source": [
    "from data_gathering import gather_data_actuals, gather_data_features"
   ],
   "metadata": {
    "collapsed": false,
    "ExecuteTime": {
     "end_time": "2023-09-19T15:21:02.228671800Z",
     "start_time": "2023-09-19T15:21:01.983328600Z"
    }
   }
  },
  {
   "cell_type": "code",
   "execution_count": 3,
   "outputs": [],
   "source": [
    "data_cm_actual_2018, data_cm_actual_2019, data_cm_actual_2020, data_cm_actual_2021, data_cm_actual_allyears \\\n",
    "    = gather_data_actuals()\n",
    "# Load features data\n",
    "data_cm_features_2017, data_cm_features_2018, data_cm_features_2019, data_cm_features_2020, data_cm_features_allyears \\\n",
    "    = gather_data_features()"
   ],
   "metadata": {
    "collapsed": false,
    "ExecuteTime": {
     "end_time": "2023-09-19T15:21:04.912989700Z",
     "start_time": "2023-09-19T15:21:02.631594100Z"
    }
   }
  },
  {
   "cell_type": "code",
   "execution_count": 4,
   "outputs": [],
   "source": [
    "import seaborn as sns"
   ],
   "metadata": {
    "collapsed": false,
    "ExecuteTime": {
     "end_time": "2023-09-19T15:21:15.524116900Z",
     "start_time": "2023-09-19T15:21:15.085291Z"
    }
   }
  },
  {
   "cell_type": "code",
   "execution_count": 26,
   "outputs": [
    {
     "data": {
      "text/plain": "<seaborn.axisgrid.FacetGrid at 0x22ae48bc5c8>"
     },
     "execution_count": 26,
     "metadata": {},
     "output_type": "execute_result"
    },
    {
     "data": {
      "text/plain": "<Figure size 500x500 with 1 Axes>",
      "image/png": "[encoded data removed]"
     },
     "metadata": {},
     "output_type": "display_data"
    }
   ],
   "source": [
    "sns.displot(data_cm_features_allyears, x=\"ged_sb\", kind='kde')"
   ],
   "metadata": {
    "collapsed": false,
    "ExecuteTime": {
     "end_time": "2023-09-19T15:39:39.070168Z",
     "start_time": "2023-09-19T15:39:34.217689600Z"
    }
   }
  },
  {
   "cell_type": "code",
   "execution_count": 17,
   "outputs": [
    {
     "data": {
      "text/plain": "<seaborn.axisgrid.FacetGrid at 0x22ae4d4ac48>"
     },
     "execution_count": 17,
     "metadata": {},
     "output_type": "execute_result"
    },
    {
     "data": {
      "text/plain": "<Figure size 500x500 with 1 Axes>",
      "image/png": "[encoded data removed]"
     },
     "metadata": {},
     "output_type": "display_data"
    }
   ],
   "source": [
    "sns.displot(data_cm_features_allyears[(data_cm_features_allyears[\"ged_sb\"] >= 0) & (data_cm_features_allyears[\"ged_sb\"] <= 10)] , x=\"ged_sb\", stat= 'percent')"
   ],
   "metadata": {
    "collapsed": false,
    "ExecuteTime": {
     "start_time": "2023-09-19T15:34:55.687720200Z"
    }
   }
  },
  {
   "cell_type": "code",
   "execution_count": 24,
   "outputs": [
    {
     "data": {
      "text/plain": "0.8741744772891132"
     },
     "execution_count": 24,
     "metadata": {},
     "output_type": "execute_result"
    }
   ],
   "source": [
    "data_cm_features_allyears.where(data_cm_features_allyears[\"ged_sb\"] == 0)['ged_sb'].count()/data_cm_features_allyears['ged_sb'].count()"
   ],
   "metadata": {
    "collapsed": false,
    "ExecuteTime": {
     "end_time": "2023-09-19T15:37:49.012017Z",
     "start_time": "2023-09-19T15:37:48.671912700Z"
    }
   }
  },
  {
   "cell_type": "code",
   "execution_count": 23,
   "outputs": [
    {
     "data": {
      "text/plain": "0.9156164383561644"
     },
     "execution_count": 23,
     "metadata": {},
     "output_type": "execute_result"
    }
   ],
   "source": [
    "data_cm_features_allyears.where(data_cm_features_allyears[\"ged_sb\"] <= 10)['ged_sb'].count()/data_cm_features_allyears['ged_sb'].count()"
   ],
   "metadata": {
    "collapsed": false,
    "ExecuteTime": {
     "start_time": "2023-09-19T15:37:30.666293400Z"
    }
   }
  },
  {
   "cell_type": "code",
   "execution_count": 25,
   "outputs": [
    {
     "data": {
      "text/plain": "0.9697332372025955"
     },
     "execution_count": 25,
     "metadata": {},
     "output_type": "execute_result"
    }
   ],
   "source": [
    "data_cm_features_allyears.where(data_cm_features_allyears[\"ged_sb\"] <= 100)['ged_sb'].count()/data_cm_features_allyears['ged_sb'].count()"
   ],
   "metadata": {
    "collapsed": false,
    "ExecuteTime": {
     "end_time": "2023-09-19T15:38:05.392334400Z",
     "start_time": "2023-09-19T15:38:05.111705600Z"
    }
   }
  },
  {
   "cell_type": "code",
   "execution_count": 7,
   "outputs": [
    {
     "data": {
      "text/plain": "       index  month_id  country_id  gleditsch_ward  ged_sb  ged_ns  ged_os  \\\n12        12       121          13             135    40.0     0.0    46.0   \n14        14       121          16              90     4.0     0.0     4.0   \n26        26       121          28             100    63.0     0.0    44.0   \n31        31       121          33              93     2.0     0.0     0.0   \n37        37       121          39             200     3.0     0.0     0.0   \n...      ...       ...         ...             ...     ...     ...     ...   \n69334   2276       490         214             483    16.0     0.0     0.0   \n69336   2278       490         220             652   178.0    45.0     0.0   \n69337   2279       490         222             651    36.0     0.0     1.0   \n69338   2280       490         223             750    47.0     0.0     9.0   \n69345   2287       490         242             510    25.0     0.0    12.0   \n\n       acled_sb  acled_sb_count  acled_os  ...  ind_efficiency_t48  \\\n12          0.0             0.0       0.0  ...          163.805199   \n14          0.0             0.0       0.0  ...           28.325424   \n26          0.0             0.0       0.0  ...          109.220746   \n31          0.0             0.0       0.0  ...           42.764326   \n37          0.0             0.0       0.0  ...           66.560878   \n...         ...             ...       ...  ...                 ...   \n69334      13.0             2.0       1.0  ...           28.259042   \n69336     319.0           455.0     147.0  ...            8.831977   \n69337      21.0            24.0      16.0  ...           83.273336   \n69338      33.0            62.0      36.0  ...           33.212701   \n69345      22.0             2.0       2.0  ...          495.162649   \n\n       irr_agr_efficiency_t48  services_efficiency_t48  \\\n12                   0.442221                28.704283   \n14                   0.822689               152.263548   \n26                   0.242500                37.667789   \n31                   0.051560                19.054314   \n37                   0.642410               142.959702   \n...                       ...                      ...   \n69334                0.043381                50.743225   \n69336                0.099195                 6.188813   \n69337                0.627865                18.108030   \n69338                0.396672                20.761684   \n69345                0.164079                39.936434   \n\n       general_efficiency_t48  water_stress_t48  renewable_internal_pcap_t48  \\\n12                   8.900749          2.526080                 81115.613030   \n14                  13.320578          4.193121                 12940.529026   \n26                  17.207321          1.159581                 70161.142973   \n31                   3.625679          2.241452                 40859.191291   \n37                 225.677975         19.785166                  2565.349946   \n...                       ...               ...                          ...   \n69334                9.347084          4.294922                  1030.102337   \n69336                0.955758        124.360139                   408.346132   \n69337                4.437605        110.473588                    10.587941   \n69338                2.628359         66.492093                  1091.718512   \n69345                6.594440         12.963241                  1583.434859   \n\n       renewable_pcap_t48  splag_1_decay_ged_sb_5  splag_1_decay_ged_os_5  \\\n12           92919.640082                1.125000                1.125000   \n14           15157.720400                1.118181                0.149431   \n26           77193.611849                2.093750                2.036814   \n31           43032.802965                0.062500                0.062500   \n37            2600.734083                0.031250                0.031250   \n...                   ...                     ...                     ...   \n69334         3138.378454                5.723309                5.091178   \n69336          962.006690                4.021780                2.142599   \n69337          608.806585                2.610032                1.167240   \n69338         1442.714318                2.526302                1.499522   \n69345         1814.729450                4.737391                4.257646   \n\n       splag_1_decay_ged_ns_5  \n12                   0.156250  \n14                   0.149431  \n26                   1.096532  \n31                   0.062500  \n37                   0.031250  \n...                       ...  \n69334                4.754279  \n69336                1.264962  \n69337                2.021468  \n69338                0.840567  \n69345                2.228071  \n\n[8726 rows x 129 columns]",
      "text/html": "<div>\n<style scoped>\n    .dataframe tbody tr th:only-of-type {\n        vertical-align: middle;\n    }\n\n    .dataframe tbody tr th {\n        vertical-align: top;\n    }\n\n    .dataframe thead th {\n        text-align: right;\n    }\n</style>\n<table border=\"1\" class=\"dataframe\">\n  <thead>\n    <tr style=\"text-align: right;\">\n      <th></th>\n      <th>index</th>\n      <th>month_id</th>\n      <th>country_id</th>\n      <th>gleditsch_ward</th>\n      <th>ged_sb</th>\n      <th>ged_ns</th>\n      <th>ged_os</th>\n      <th>acled_sb</th>\n      <th>acled_sb_count</th>\n      <th>acled_os</th>\n      <th>...</th>\n      <th>ind_efficiency_t48</th>\n      <th>irr_agr_efficiency_t48</th>\n      <th>services_efficiency_t48</th>\n      <th>general_efficiency_t48</th>\n      <th>water_stress_t48</th>\n      <th>renewable_internal_pcap_t48</th>\n      <th>renewable_pcap_t48</th>\n      <th>splag_1_decay_ged_sb_5</th>\n      <th>splag_1_decay_ged_os_5</th>\n      <th>splag_1_decay_ged_ns_5</th>\n    </tr>\n  </thead>\n  <tbody>\n    <tr>\n      <th>12</th>\n      <td>12</td>\n      <td>121</td>\n      <td>13</td>\n      <td>135</td>\n      <td>40.0</td>\n      <td>0.0</td>\n      <td>46.0</td>\n      <td>0.0</td>\n      <td>0.0</td>\n      <td>0.0</td>\n      <td>...</td>\n      <td>163.805199</td>\n      <td>0.442221</td>\n      <td>28.704283</td>\n      <td>8.900749</td>\n      <td>2.526080</td>\n      <td>81115.613030</td>\n      <td>92919.640082</td>\n      <td>1.125000</td>\n      <td>1.125000</td>\n      <td>0.156250</td>\n    </tr>\n    <tr>\n      <th>14</th>\n      <td>14</td>\n      <td>121</td>\n      <td>16</td>\n      <td>90</td>\n      <td>4.0</td>\n      <td>0.0</td>\n      <td>4.0</td>\n      <td>0.0</td>\n      <td>0.0</td>\n      <td>0.0</td>\n      <td>...</td>\n      <td>28.325424</td>\n      <td>0.822689</td>\n      <td>152.263548</td>\n      <td>13.320578</td>\n      <td>4.193121</td>\n      <td>12940.529026</td>\n      <td>15157.720400</td>\n      <td>1.118181</td>\n      <td>0.149431</td>\n      <td>0.149431</td>\n    </tr>\n    <tr>\n      <th>26</th>\n      <td>26</td>\n      <td>121</td>\n      <td>28</td>\n      <td>100</td>\n      <td>63.0</td>\n      <td>0.0</td>\n      <td>44.0</td>\n      <td>0.0</td>\n      <td>0.0</td>\n      <td>0.0</td>\n      <td>...</td>\n      <td>109.220746</td>\n      <td>0.242500</td>\n      <td>37.667789</td>\n      <td>17.207321</td>\n      <td>1.159581</td>\n      <td>70161.142973</td>\n      <td>77193.611849</td>\n      <td>2.093750</td>\n      <td>2.036814</td>\n      <td>1.096532</td>\n    </tr>\n    <tr>\n      <th>31</th>\n      <td>31</td>\n      <td>121</td>\n      <td>33</td>\n      <td>93</td>\n      <td>2.0</td>\n      <td>0.0</td>\n      <td>0.0</td>\n      <td>0.0</td>\n      <td>0.0</td>\n      <td>0.0</td>\n      <td>...</td>\n      <td>42.764326</td>\n      <td>0.051560</td>\n      <td>19.054314</td>\n      <td>3.625679</td>\n      <td>2.241452</td>\n      <td>40859.191291</td>\n      <td>43032.802965</td>\n      <td>0.062500</td>\n      <td>0.062500</td>\n      <td>0.062500</td>\n    </tr>\n    <tr>\n      <th>37</th>\n      <td>37</td>\n      <td>121</td>\n      <td>39</td>\n      <td>200</td>\n      <td>3.0</td>\n      <td>0.0</td>\n      <td>0.0</td>\n      <td>0.0</td>\n      <td>0.0</td>\n      <td>0.0</td>\n      <td>...</td>\n      <td>66.560878</td>\n      <td>0.642410</td>\n      <td>142.959702</td>\n      <td>225.677975</td>\n      <td>19.785166</td>\n      <td>2565.349946</td>\n      <td>2600.734083</td>\n      <td>0.031250</td>\n      <td>0.031250</td>\n      <td>0.031250</td>\n    </tr>\n    <tr>\n      <th>...</th>\n      <td>...</td>\n      <td>...</td>\n      <td>...</td>\n      <td>...</td>\n      <td>...</td>\n      <td>...</td>\n      <td>...</td>\n      <td>...</td>\n      <td>...</td>\n      <td>...</td>\n      <td>...</td>\n      <td>...</td>\n      <td>...</td>\n      <td>...</td>\n      <td>...</td>\n      <td>...</td>\n      <td>...</td>\n      <td>...</td>\n      <td>...</td>\n      <td>...</td>\n      <td>...</td>\n    </tr>\n    <tr>\n      <th>69334</th>\n      <td>2276</td>\n      <td>490</td>\n      <td>214</td>\n      <td>483</td>\n      <td>16.0</td>\n      <td>0.0</td>\n      <td>0.0</td>\n      <td>13.0</td>\n      <td>2.0</td>\n      <td>1.0</td>\n      <td>...</td>\n      <td>28.259042</td>\n      <td>0.043381</td>\n      <td>50.743225</td>\n      <td>9.347084</td>\n      <td>4.294922</td>\n      <td>1030.102337</td>\n      <td>3138.378454</td>\n      <td>5.723309</td>\n      <td>5.091178</td>\n      <td>4.754279</td>\n    </tr>\n    <tr>\n      <th>69336</th>\n      <td>2278</td>\n      <td>490</td>\n      <td>220</td>\n      <td>652</td>\n      <td>178.0</td>\n      <td>45.0</td>\n      <td>0.0</td>\n      <td>319.0</td>\n      <td>455.0</td>\n      <td>147.0</td>\n      <td>...</td>\n      <td>8.831977</td>\n      <td>0.099195</td>\n      <td>6.188813</td>\n      <td>0.955758</td>\n      <td>124.360139</td>\n      <td>408.346132</td>\n      <td>962.006690</td>\n      <td>4.021780</td>\n      <td>2.142599</td>\n      <td>1.264962</td>\n    </tr>\n    <tr>\n      <th>69337</th>\n      <td>2279</td>\n      <td>490</td>\n      <td>222</td>\n      <td>651</td>\n      <td>36.0</td>\n      <td>0.0</td>\n      <td>1.0</td>\n      <td>21.0</td>\n      <td>24.0</td>\n      <td>16.0</td>\n      <td>...</td>\n      <td>83.273336</td>\n      <td>0.627865</td>\n      <td>18.108030</td>\n      <td>4.437605</td>\n      <td>110.473588</td>\n      <td>10.587941</td>\n      <td>608.806585</td>\n      <td>2.610032</td>\n      <td>1.167240</td>\n      <td>2.021468</td>\n    </tr>\n    <tr>\n      <th>69338</th>\n      <td>2280</td>\n      <td>490</td>\n      <td>223</td>\n      <td>750</td>\n      <td>47.0</td>\n      <td>0.0</td>\n      <td>9.0</td>\n      <td>33.0</td>\n      <td>62.0</td>\n      <td>36.0</td>\n      <td>...</td>\n      <td>33.212701</td>\n      <td>0.396672</td>\n      <td>20.761684</td>\n      <td>2.628359</td>\n      <td>66.492093</td>\n      <td>1091.718512</td>\n      <td>1442.714318</td>\n      <td>2.526302</td>\n      <td>1.499522</td>\n      <td>0.840567</td>\n    </tr>\n    <tr>\n      <th>69345</th>\n      <td>2287</td>\n      <td>490</td>\n      <td>242</td>\n      <td>510</td>\n      <td>25.0</td>\n      <td>0.0</td>\n      <td>12.0</td>\n      <td>22.0</td>\n      <td>2.0</td>\n      <td>2.0</td>\n      <td>...</td>\n      <td>495.162649</td>\n      <td>0.164079</td>\n      <td>39.936434</td>\n      <td>6.594440</td>\n      <td>12.963241</td>\n      <td>1583.434859</td>\n      <td>1814.729450</td>\n      <td>4.737391</td>\n      <td>4.257646</td>\n      <td>2.228071</td>\n    </tr>\n  </tbody>\n</table>\n<p>8726 rows × 129 columns</p>\n</div>"
     },
     "execution_count": 7,
     "metadata": {},
     "output_type": "execute_result"
    }
   ],
   "source": [
    "data_cm_features_allyears[data_cm_features_allyears[\"ged_sb\"] > 0]"
   ],
   "metadata": {
    "collapsed": false,
    "ExecuteTime": {
     "end_time": "2023-09-19T15:23:51.499431300Z",
     "start_time": "2023-09-19T15:23:50.971843600Z"
    }
   }
  },
  {
   "cell_type": "markdown",
   "source": [
    "### 2. Define model specifications corresponding to mlflow log"
   ],
   "metadata": {
    "collapsed": false
   }
  },
  {
   "cell_type": "markdown",
   "source": [
    "**Data used in model**"
   ],
   "metadata": {
    "collapsed": false
   }
  },
  {
   "cell_type": "code",
   "execution_count": 6,
   "outputs": [
    {
     "name": "stderr",
     "output_type": "stream",
     "text": [
      "C:\\Users\\Uwe Drauz\\anaconda3\\envs\\bachelor_thesis_pystan_clean\\lib\\site-packages\\pandas\\core\\arraylike.py:358: RuntimeWarning: invalid value encountered in log\n",
      "  result = getattr(ufunc, method)(*inputs, **kwargs)\n"
     ]
    }
   ],
   "source": [
    "predictors = ['ged_sb_tlag_1', 'ged_sb_tsum_24']\n",
    "target_variable = ['ged_sb']\n",
    "country_name = 'Syria'\n",
    "df_Y_non_std_X_std, df_Y_std_X_std, df_Y_non_std_X_std_log, df_Y_std_X_std_log = (preprocess_data(data_cm_features_allyears, predictors, target_variable, country_name))\n",
    "df = df_Y_non_std_X_std"
   ],
   "metadata": {
    "collapsed": false,
    "ExecuteTime": {
     "end_time": "2023-09-14T06:14:44.543557700Z",
     "start_time": "2023-09-14T06:14:43.574151900Z"
    }
   }
  },
  {
   "cell_type": "code",
   "execution_count": 7,
   "outputs": [],
   "source": [
    "# Note: Prelimanary definition of evaluation data till better integration of cross validation\n",
    "# Take last 24 obeservations of training data a\n",
    "df_eval = df.iloc[-24:]\n",
    "# Select 3rd till 14th observation (equals year 2019 here) as evaluation data\n",
    "df_eval = df_eval.iloc[3:14]\n",
    "# Cut the last 24 observations from the training data\n",
    "df = df.iloc[:-24]"
   ],
   "metadata": {
    "collapsed": false,
    "ExecuteTime": {
     "end_time": "2023-09-14T06:14:44.543557700Z",
     "start_time": "2023-09-14T06:14:43.687848Z"
    }
   }
  },
  {
   "cell_type": "code",
   "execution_count": 8,
   "outputs": [],
   "source": [
    "dataX1 = df.ged_sb_tlag_1.to_numpy()\n",
    "dataX2 = df.ged_sb_tsum_24.to_numpy()\n",
    "dataY = df.ged_sb.to_numpy()\n",
    "dataY_df = pd.DataFrame(df[\"ged_sb\"])\n",
    "data_characteristics_train = calculate_data_characteristics(df)"
   ],
   "metadata": {
    "collapsed": false,
    "ExecuteTime": {
     "end_time": "2023-09-14T06:14:44.544555100Z",
     "start_time": "2023-09-14T06:14:43.707795Z"
    }
   }
  },
  {
   "cell_type": "code",
   "execution_count": 9,
   "outputs": [],
   "source": [
    "dataX1_eval = df_eval.ged_sb_tlag_1.to_numpy()\n",
    "dataX2_eval = df_eval.ged_sb_tsum_24.to_numpy()\n",
    "dataY_eval = df_eval.ged_sb.to_numpy()\n",
    "dataY_eval_df = pd.DataFrame(df_eval[\"ged_sb\"])\n",
    "data_characteristics_eval = calculate_data_characteristics(df_eval)"
   ],
   "metadata": {
    "collapsed": false,
    "ExecuteTime": {
     "end_time": "2023-09-14T06:14:44.544555100Z",
     "start_time": "2023-09-14T06:14:43.782595500Z"
    }
   }
  },
  {
   "cell_type": "code",
   "execution_count": 10,
   "outputs": [],
   "source": [
    "data_transformation = \"target variable not standardized, input data standardized\""
   ],
   "metadata": {
    "collapsed": false,
    "ExecuteTime": {
     "end_time": "2023-09-14T06:14:44.545552800Z",
     "start_time": "2023-09-14T06:14:43.827475Z"
    }
   }
  },
  {
   "cell_type": "code",
   "execution_count": 14,
   "outputs": [],
   "source": [
    "# Export to test in R\n",
    "if example_export:\n",
    "    df.to_parquet(fr'C:\\Users\\Uwe Drauz\\Documents\\bachelor_thesis_local\\personal_competition_data\\fatality_data_{country_name}.parquet')\n"
   ],
   "metadata": {
    "collapsed": false,
    "ExecuteTime": {
     "end_time": "2023-09-07T06:23:24.869639400Z",
     "start_time": "2023-09-07T06:23:24.659203Z"
    }
   }
  },
  {
   "cell_type": "markdown",
   "source": [
    "### 3. Model description"
   ],
   "metadata": {
    "collapsed": false
   }
  },
  {
   "cell_type": "code",
   "execution_count": 11,
   "outputs": [],
   "source": [
    "model_name_gauss = 'bayesian_regression'\n",
    "model_name_nb_half_normal = 'bayesian_regression'\n",
    "model_name_nb_gamma = 'bayesian_regression'\n",
    "model_name_splines = 'bayesian_spline_regression'\n",
    "model_name_penalized_splines_grw = 'bayesian_penalized_spline_regression_gaussian_random_walk'\n",
    "model_name_penalized_splines_penalty = 'bayesian_penalized_spline_regression_penalty_potential'"
   ],
   "metadata": {
    "collapsed": false,
    "ExecuteTime": {
     "end_time": "2023-09-14T06:14:44.546549900Z",
     "start_time": "2023-09-14T06:14:43.858392Z"
    }
   }
  },
  {
   "cell_type": "code",
   "execution_count": 12,
   "outputs": [],
   "source": [
    "prior_specifications_gauss = {\n",
    "    \"intercept\": \"Normal\",\n",
    "    \"slopesX1\": \"Normal\", \n",
    "    \"slopesX2\": \"Normal\", \n",
    "    \"likelihood\": \"Gaussian\",\n",
    "    \"sigma\": \"Normal\", \n",
    "}\n",
    "prior_specifications_nb_half_normal = {\n",
    "    \"intercept\": \"Normal\",\n",
    "    \"slopesX1\": \"Normal\", \n",
    "    \"slopesX2\": \"Normal\", \n",
    "    \"likelihood\": \"NegativeBinomial\",\n",
    "    \"alpha\": \"HalfNormal\", \n",
    "}\n",
    "prior_specifications_nb_gamma = {\n",
    "    \"intercept\": \"Normal\",\n",
    "    \"slopesX1\": \"Normal\", \n",
    "    \"slopesX2\": \"Normal\", \n",
    "    \"likelihood\": \"NegativeBinomial\",\n",
    "    \"alpha\": \"Gamma\", \n",
    "}\n",
    "prior_specifications_splines = {\n",
    "    \"intercept\": \"Normal\",\n",
    "    \"slopesX1\": \"Normal\", \n",
    "    \"slopesX2\": \"Normal\", \n",
    "    \"likelihood\": \"NegativeBinomial\",\n",
    "    \"alpha\": \"Gamma\", \n",
    "}\n",
    "prior_specifications_penalized_splines_grw = {\n",
    "    \"intercept\": \"Normal\",\n",
    "    \"inital_distribution\": \"Normal\",\n",
    "    \"slopesX1\": \"GaussianRandomWalk\", \n",
    "    \"tauX1\": \"InverseGamma\",\n",
    "    \"slopesX2\": \"GaussianRandomWalk\", \n",
    "    \"tauX2\": \"InverseGamma\",\n",
    "    \"likelihood\": \"NegativeBinomial\",\n",
    "    \"alpha\": \"Gamma\", \n",
    "}\n",
    "prior_specifications_penalized_splines_penalty = {\n",
    "    \"intercept\": \"Normal\",\n",
    "    \"slopesX1_0\": \"Normal\",\n",
    "    \"slopesX1_rest\": \"Normal\", \n",
    "    \"tauX1\": \"InverseGamma\",\n",
    "    \"slopesX2_0\": \"Normal\",\n",
    "    \"slopesX2_rest\": \"Normal\", \n",
    "    \"tauX2\": \"InverseGamma\",\n",
    "    \"likelihood\": \"NegativeBinomial\",\n",
    "    \"alpha\": \"Gamma\", \n",
    "}"
   ],
   "metadata": {
    "collapsed": false,
    "ExecuteTime": {
     "end_time": "2023-09-14T06:14:44.546549900Z",
     "start_time": "2023-09-14T06:14:43.878338400Z"
    }
   }
  },
  {
   "cell_type": "markdown",
   "source": [
    "### 4. Model hyperparameters"
   ],
   "metadata": {
    "collapsed": false
   }
  },
  {
   "cell_type": "code",
   "execution_count": 13,
   "outputs": [],
   "source": [
    "# PARAMETERS RELATED TO SPLINES\n",
    "num_knots_X1 = 10\n",
    "num_knots_X2 = 10\n",
    "spline_degree = 3\n",
    "no_spline_coefficients_X1 = num_knots_X1 + spline_degree\n",
    "no_spline_coefficients_X2 = num_knots_X2 + spline_degree"
   ],
   "metadata": {
    "collapsed": false,
    "ExecuteTime": {
     "end_time": "2023-09-14T06:14:44.550539200Z",
     "start_time": "2023-09-14T06:14:43.902273900Z"
    }
   }
  },
  {
   "cell_type": "code",
   "execution_count": 14,
   "outputs": [],
   "source": [
    "# name scheme: y ~ dist1(z), x ~ dist2(y)\n",
    "# opt(component name) + dist1 + z + dist2 + y\n",
    "# PARAMETERS RELATED TO PRIORS\n",
    "# Define variables for tau priors\n",
    "tauX1_ig_alpha_gaussian_sigma = tauX2_ig_alpha_gaussian_sigma = 1\n",
    "tauX1_ig_beta_gaussian_sigma = tauX2_ig_beta_gaussian_sigma = 0.005\n",
    "\n",
    "# Define variables for alpha prior of gamma distribution of alpha of negative binomial distribution\n",
    "gamma_alpha_nb_alpha = 0.1\n",
    "gamma_beta_nb_alpha = 0.1\n",
    "\n",
    "# Define variables for prior distribution of intercept\n",
    "intercept_gaussian_mu = 0\n",
    "intercept_gaussian_sigma = 5\n",
    "\n",
    "# Define standard deviation for Half Normal distribution of  alpha parameter of likelihood negative binomial distribution\n",
    "hgaussian_sigma_nb_alpha = 2.5\n",
    "\n",
    "# Define standard deviation for Normal distribution of sigma of likelihood gaussian distribution\n",
    "gaussian_sigma_gaussian_sigma = 2.5\n",
    "\n",
    "# Define parameters for gaussian distribution of regression coefficients\n",
    "beta_gaussian_mu = 0.0\n",
    "beta_gaussian_sigma = 1.0\n",
    "\n",
    "# Define paramters for half gaussian distribution of intercepts\n",
    "intercept_hgaussian_mu = 0\n",
    "intercept_hgaussian_sigma = 1\n",
    "\n",
    "# Define parameters for beta diffuse prior\n",
    "diffuse_prior_beta_mu = 0\n",
    "diffuse_prior_beta_sigma = 100\n",
    "\n",
    "# Define sigma of half gaussian distribution of sigma for gaussian likelihood\n",
    "hgaussian_sigma_gaussian_sigma = 2.5"
   ],
   "metadata": {
    "collapsed": false,
    "ExecuteTime": {
     "end_time": "2023-09-14T06:14:44.580460200Z",
     "start_time": "2023-09-14T06:14:43.943164800Z"
    }
   }
  },
  {
   "cell_type": "markdown",
   "source": [
    "### 5. Sampling hyperparameters"
   ],
   "metadata": {
    "collapsed": false
   }
  },
  {
   "cell_type": "code",
   "execution_count": 15,
   "outputs": [],
   "source": [
    "# Define number of tuning iterations\n",
    "tune_default = 2000\n",
    "# Define number of sampling iterations\n",
    "draws_default = 1000\n",
    "# Define target acceptance rate\n",
    "target_accept_default = 0.95\n",
    "# Define number of chains\n",
    "no_chains_default = 4\n",
    "# Define number of posterior predictive samples\n",
    "no_ppc_samples_default = 500"
   ],
   "metadata": {
    "collapsed": false,
    "ExecuteTime": {
     "end_time": "2023-09-14T06:14:44.581456600Z",
     "start_time": "2023-09-14T06:14:43.966103900Z"
    }
   }
  },
  {
   "cell_type": "code",
   "execution_count": 16,
   "outputs": [],
   "source": [
    "# Define dictionary for implicit handling of data in PyMc\n",
    "COORDS_gauss = {\"predictors\": ['ged_sb_tlag_1', 'ged_sb_tsum_24'], \"obs_idx\": df.index}\n",
    "COORDS_nb_half_normal = {\"predictors\": ['ged_sb_tlag_1', 'ged_sb_tsum_24'], \"obs_idx\": df.index}\n",
    "COORDS_nb_gamma = {\"predictors\": ['ged_sb_tlag_1', 'ged_sb_tsum_24'], \"obs_idx\": df.index}\n",
    "COORDS_splines = {\"obs_idx\": df.index, \"splines_x1\": np.arange(no_spline_coefficients_X1), \"splines_x2\": np.arange(no_spline_coefficients_X2)}\n",
    "COORDS_penalized_splines_rw = {\"obs_idx\": df.index, \"splines_x1\": no_spline_coefficients_X1, \"splines_x2\": no_spline_coefficients_X2}\n",
    "COORDS_penalized_splines_penalty = \\\n",
    "    {\"obs_idx\": df.index, \"splines_x1_rest\": np.arange(no_spline_coefficients_X1 -1), \"splines_x2_rest\": np.arange(no_spline_coefficients_X2 -1)}"
   ],
   "metadata": {
    "collapsed": false,
    "ExecuteTime": {
     "end_time": "2023-09-14T06:14:44.582454500Z",
     "start_time": "2023-09-14T06:14:44.002007500Z"
    }
   }
  },
  {
   "cell_type": "markdown",
   "source": [
    "### 6. Calculate design matrices for implementation of splines"
   ],
   "metadata": {
    "collapsed": false
   }
  },
  {
   "cell_type": "code",
   "execution_count": 33,
   "outputs": [
    {
     "ename": "KeyboardInterrupt",
     "evalue": "",
     "output_type": "error",
     "traceback": [
      "\u001B[1;31m---------------------------------------------------------------------------\u001B[0m",
      "\u001B[1;31mKeyboardInterrupt\u001B[0m                         Traceback (most recent call last)",
      "\u001B[1;32m~\\AppData\\Local\\Temp\\ipykernel_4964\\1072860689.py\u001B[0m in \u001B[0;36m<module>\u001B[1;34m\u001B[0m\n\u001B[0;32m      1\u001B[0m \u001B[1;31m# We define the knot list such that we'll have num_knots knot inbetween the boundaries of the data\u001B[0m\u001B[1;33m\u001B[0m\u001B[1;33m\u001B[0m\u001B[1;33m\u001B[0m\u001B[0m\n\u001B[1;32m----> 2\u001B[1;33m \u001B[0mknot_list_X1\u001B[0m \u001B[1;33m=\u001B[0m \u001B[0mgenerate_knots\u001B[0m\u001B[1;33m(\u001B[0m\u001B[0mdataX1\u001B[0m\u001B[1;33m,\u001B[0m \u001B[0mnum_knots_X1\u001B[0m\u001B[1;33m)\u001B[0m\u001B[1;33m\u001B[0m\u001B[1;33m\u001B[0m\u001B[0m\n\u001B[0m\u001B[0;32m      3\u001B[0m \u001B[0mknot_list_X2\u001B[0m \u001B[1;33m=\u001B[0m \u001B[0mgenerate_knots\u001B[0m\u001B[1;33m(\u001B[0m\u001B[0mdataX2\u001B[0m\u001B[1;33m,\u001B[0m \u001B[0mnum_knots_X2\u001B[0m\u001B[1;33m)\u001B[0m\u001B[1;33m\u001B[0m\u001B[1;33m\u001B[0m\u001B[0m\n\u001B[0;32m      4\u001B[0m \u001B[1;33m\u001B[0m\u001B[0m\n\u001B[0;32m      5\u001B[0m \u001B[1;31m# Define the basis functions\u001B[0m\u001B[1;33m\u001B[0m\u001B[1;33m\u001B[0m\u001B[1;33m\u001B[0m\u001B[0m\n",
      "\u001B[1;32m~\\AppData\\Local\\Temp\\ipykernel_4964\\1072860689.py\u001B[0m in \u001B[0;36m<module>\u001B[1;34m\u001B[0m\n\u001B[0;32m      1\u001B[0m \u001B[1;31m# We define the knot list such that we'll have num_knots knot inbetween the boundaries of the data\u001B[0m\u001B[1;33m\u001B[0m\u001B[1;33m\u001B[0m\u001B[1;33m\u001B[0m\u001B[0m\n\u001B[1;32m----> 2\u001B[1;33m \u001B[0mknot_list_X1\u001B[0m \u001B[1;33m=\u001B[0m \u001B[0mgenerate_knots\u001B[0m\u001B[1;33m(\u001B[0m\u001B[0mdataX1\u001B[0m\u001B[1;33m,\u001B[0m \u001B[0mnum_knots_X1\u001B[0m\u001B[1;33m)\u001B[0m\u001B[1;33m\u001B[0m\u001B[1;33m\u001B[0m\u001B[0m\n\u001B[0m\u001B[0;32m      3\u001B[0m \u001B[0mknot_list_X2\u001B[0m \u001B[1;33m=\u001B[0m \u001B[0mgenerate_knots\u001B[0m\u001B[1;33m(\u001B[0m\u001B[0mdataX2\u001B[0m\u001B[1;33m,\u001B[0m \u001B[0mnum_knots_X2\u001B[0m\u001B[1;33m)\u001B[0m\u001B[1;33m\u001B[0m\u001B[1;33m\u001B[0m\u001B[0m\n\u001B[0;32m      4\u001B[0m \u001B[1;33m\u001B[0m\u001B[0m\n\u001B[0;32m      5\u001B[0m \u001B[1;31m# Define the basis functions\u001B[0m\u001B[1;33m\u001B[0m\u001B[1;33m\u001B[0m\u001B[1;33m\u001B[0m\u001B[0m\n",
      "\u001B[1;32mpydevd_cython.pyx\u001B[0m in \u001B[0;36m_pydevd_bundle.pydevd_cython.SafeCallWrapper.__call__\u001B[1;34m()\u001B[0m\n",
      "\u001B[1;32mpydevd_cython.pyx\u001B[0m in \u001B[0;36m_pydevd_bundle.pydevd_cython.PyDBFrame.trace_dispatch\u001B[1;34m()\u001B[0m\n",
      "\u001B[1;32mpydevd_cython.pyx\u001B[0m in \u001B[0;36m_pydevd_bundle.pydevd_cython.PyDBFrame.trace_dispatch\u001B[1;34m()\u001B[0m\n",
      "\u001B[1;32mpydevd_cython.pyx\u001B[0m in \u001B[0;36m_pydevd_bundle.pydevd_cython.PyDBFrame.trace_dispatch\u001B[1;34m()\u001B[0m\n",
      "\u001B[1;32mpydevd_cython.pyx\u001B[0m in \u001B[0;36m_pydevd_bundle.pydevd_cython.PyDBFrame.do_wait_suspend\u001B[1;34m()\u001B[0m\n",
      "\u001B[1;32mC:\\Program Files\\JetBrains\\PyCharm 2023.1.3\\plugins\\python\\helpers\\pydev\\pydevd.py\u001B[0m in \u001B[0;36mdo_wait_suspend\u001B[1;34m(self, thread, frame, event, arg, send_suspend_message, is_unhandled_exception)\u001B[0m\n\u001B[0;32m   1158\u001B[0m \u001B[1;33m\u001B[0m\u001B[0m\n\u001B[0;32m   1159\u001B[0m         \u001B[1;32mwith\u001B[0m \u001B[0mself\u001B[0m\u001B[1;33m.\u001B[0m\u001B[0m_threads_suspended_single_notification\u001B[0m\u001B[1;33m.\u001B[0m\u001B[0mnotify_thread_suspended\u001B[0m\u001B[1;33m(\u001B[0m\u001B[0mthread_id\u001B[0m\u001B[1;33m,\u001B[0m \u001B[0mstop_reason\u001B[0m\u001B[1;33m)\u001B[0m\u001B[1;33m:\u001B[0m\u001B[1;33m\u001B[0m\u001B[1;33m\u001B[0m\u001B[0m\n\u001B[1;32m-> 1160\u001B[1;33m             \u001B[0mself\u001B[0m\u001B[1;33m.\u001B[0m\u001B[0m_do_wait_suspend\u001B[0m\u001B[1;33m(\u001B[0m\u001B[0mthread\u001B[0m\u001B[1;33m,\u001B[0m \u001B[0mframe\u001B[0m\u001B[1;33m,\u001B[0m \u001B[0mevent\u001B[0m\u001B[1;33m,\u001B[0m \u001B[0marg\u001B[0m\u001B[1;33m,\u001B[0m \u001B[0msuspend_type\u001B[0m\u001B[1;33m,\u001B[0m \u001B[0mfrom_this_thread\u001B[0m\u001B[1;33m)\u001B[0m\u001B[1;33m\u001B[0m\u001B[1;33m\u001B[0m\u001B[0m\n\u001B[0m\u001B[0;32m   1161\u001B[0m \u001B[1;33m\u001B[0m\u001B[0m\n\u001B[0;32m   1162\u001B[0m     \u001B[1;32mdef\u001B[0m \u001B[0m_do_wait_suspend\u001B[0m\u001B[1;33m(\u001B[0m\u001B[0mself\u001B[0m\u001B[1;33m,\u001B[0m \u001B[0mthread\u001B[0m\u001B[1;33m,\u001B[0m \u001B[0mframe\u001B[0m\u001B[1;33m,\u001B[0m \u001B[0mevent\u001B[0m\u001B[1;33m,\u001B[0m \u001B[0marg\u001B[0m\u001B[1;33m,\u001B[0m \u001B[0msuspend_type\u001B[0m\u001B[1;33m,\u001B[0m \u001B[0mfrom_this_thread\u001B[0m\u001B[1;33m)\u001B[0m\u001B[1;33m:\u001B[0m\u001B[1;33m\u001B[0m\u001B[1;33m\u001B[0m\u001B[0m\n",
      "\u001B[1;32mC:\\Program Files\\JetBrains\\PyCharm 2023.1.3\\plugins\\python\\helpers\\pydev\\pydevd.py\u001B[0m in \u001B[0;36m_do_wait_suspend\u001B[1;34m(self, thread, frame, event, arg, suspend_type, from_this_thread)\u001B[0m\n\u001B[0;32m   1173\u001B[0m \u001B[1;33m\u001B[0m\u001B[0m\n\u001B[0;32m   1174\u001B[0m                 \u001B[0mself\u001B[0m\u001B[1;33m.\u001B[0m\u001B[0mprocess_internal_commands\u001B[0m\u001B[1;33m(\u001B[0m\u001B[1;33m)\u001B[0m\u001B[1;33m\u001B[0m\u001B[1;33m\u001B[0m\u001B[0m\n\u001B[1;32m-> 1175\u001B[1;33m                 \u001B[0mtime\u001B[0m\u001B[1;33m.\u001B[0m\u001B[0msleep\u001B[0m\u001B[1;33m(\u001B[0m\u001B[1;36m0.01\u001B[0m\u001B[1;33m)\u001B[0m\u001B[1;33m\u001B[0m\u001B[1;33m\u001B[0m\u001B[0m\n\u001B[0m\u001B[0;32m   1176\u001B[0m \u001B[1;33m\u001B[0m\u001B[0m\n\u001B[0;32m   1177\u001B[0m         \u001B[0mself\u001B[0m\u001B[1;33m.\u001B[0m\u001B[0mcancel_async_evaluation\u001B[0m\u001B[1;33m(\u001B[0m\u001B[0mget_current_thread_id\u001B[0m\u001B[1;33m(\u001B[0m\u001B[0mthread\u001B[0m\u001B[1;33m)\u001B[0m\u001B[1;33m,\u001B[0m \u001B[0mstr\u001B[0m\u001B[1;33m(\u001B[0m\u001B[0mid\u001B[0m\u001B[1;33m(\u001B[0m\u001B[0mframe\u001B[0m\u001B[1;33m)\u001B[0m\u001B[1;33m)\u001B[0m\u001B[1;33m)\u001B[0m\u001B[1;33m\u001B[0m\u001B[1;33m\u001B[0m\u001B[0m\n",
      "\u001B[1;31mKeyboardInterrupt\u001B[0m: "
     ]
    }
   ],
   "source": [
    "# We define the knot list such that we'll have num_knots knot inbetween the boundaries of the data\n",
    "knot_list_X1 = generate_knots(dataX1, num_knots_X1)\n",
    "knot_list_X2 = generate_knots(dataX2, num_knots_X2)\n",
    "\n",
    "# Define the basis functions\n",
    "basis_X1 = generate_spline_design_matrix(dataX1, knot_list_X1, spline_degree)\n",
    "basis_X2 = generate_spline_design_matrix(dataX2, knot_list_X2, spline_degree)\n",
    "\n",
    "# Define the penalty matrices\n",
    "K_X1 = generate_penalty_matrix(basis_X1.shape[1])\n",
    "K_X2 = generate_penalty_matrix(basis_X2.shape[1])\n",
    "\n",
    "if basis_X1.shape[1] != no_spline_coefficients_X1:\n",
    "    print(\"Number of coefficients as per basis function of regressor 1 did not match predefined number of coefficients in spline. Changed it by considering dimensions of basis design matrix\")\n",
    "    no_spline_coefficients_X1 = basis_X1.shape[1]\n",
    "if basis_X2.shape[1] != no_spline_coefficients_X2:\n",
    "    print(\"Number of coefficients as per basis function of regressor 2 did not match predefined number of coefficients in spline. Changed it by considering dimensions of basis design matrix\")\n",
    "    no_spline_coefficients_X2 = basis_X2.shape[1]\n",
    "\n",
    "# Define the design matrices for the evaluation data\n",
    "knot_list_X1_eval = generate_knots(dataX1_eval, num_knots_X1)\n",
    "knot_list_X2_eval = generate_knots(dataX2_eval, num_knots_X2)\n",
    "\n",
    "basis_X1_eval = generate_spline_design_matrix(dataX1_eval, knot_list_X1_eval, spline_degree)\n",
    "basis_X2_eval = generate_spline_design_matrix(dataX2_eval, knot_list_X2_eval, spline_degree)\n"
   ],
   "metadata": {
    "collapsed": false,
    "ExecuteTime": {
     "end_time": "2023-09-14T07:36:50.326263200Z",
     "start_time": "2023-09-14T07:09:18.149643800Z"
    }
   }
  },
  {
   "cell_type": "markdown",
   "source": [
    "## III.1 PyMc Model Building"
   ],
   "metadata": {
    "collapsed": false
   }
  },
  {
   "cell_type": "markdown",
   "source": [
    "### 1. Build Bayesian model with Gaussian distribution"
   ],
   "metadata": {
    "collapsed": false
   }
  },
  {
   "cell_type": "code",
   "execution_count": null,
   "outputs": [],
   "source": [
    "start= time.time()\n",
    "with pm.Model(coords=COORDS_gauss) as bayesian_model_gauss:\n",
    "    # Define the priors for regressors and standard deviation\n",
    "    intercept = pm.Normal('intercept', intercept_gaussian_mu, intercept_gaussian_sigma)\n",
    "    beta = pm.Normal(\"slopes\", beta_gaussian_mu, beta_gaussian_sigma, dims=\"predictors\")\n",
    "    sigma = pm.HalfNormal(\"sigma\", hgaussian_sigma_gaussian_sigma)\n",
    "\n",
    "    # Specify the data\n",
    "    X1 = pm.ConstantData(\"fatality lag t=1\", dataX1, dims=\"obs_idx\")\n",
    "    X2 = pm.ConstantData(\"fatality rolling average t=24\", dataX2, dims=\"obs_idx\")\n",
    "    Y = pm.ConstantData(\"fatility count\", dataY, dims=\"obs_idx\")\n",
    "\n",
    "    # Specify mean of gaussian distribution\n",
    "    mu = intercept +  beta[0] * X1 + beta[1] * X2\n",
    "    # mean for target variable\n",
    "    obs = pm.Normal(\"obs\", mu=mu, sigma=sigma, observed=Y, dims=\"obs_idx\")\n",
    "\n",
    "    # Run the sampling using the No-U-Turn Sampler (NUTS) for the specified number of samples\n",
    "    idata_bayesian_gauss = pm.sample(draws=draws_default, tune=tune_default, random_seed=RANDOM_SEED, target_accept=target_accept_default)\n",
    "\n",
    "sampling_time_gauss = time.time() - start"
   ],
   "metadata": {
    "collapsed": false
   }
  },
  {
   "cell_type": "code",
   "execution_count": null,
   "outputs": [],
   "source": [
    "with bayesian_model_gauss:\n",
    "    ppc_prior_gauss = pm.sample_prior_predictive(no_ppc_samples_default, random_seed=RANDOM_SEED)\n",
    "    ppc_posterior_gauss = pm.sample_posterior_predictive(idata_bayesian_gauss, extend_inferencedata=True, random_seed=RANDOM_SEED)"
   ],
   "metadata": {
    "collapsed": false
   }
  },
  {
   "cell_type": "code",
   "execution_count": null,
   "outputs": [],
   "source": [
    "crps_gauss, crps_average_gauss = calculate_crps(idata_bayesian_gauss, actuals=dataY_df, posterior_predictive='obs');"
   ],
   "metadata": {
    "collapsed": false
   }
  },
  {
   "cell_type": "code",
   "execution_count": null,
   "outputs": [],
   "source": [
    "# Create dictionary of parameters used in the model:\n",
    "all_dictionaries_gauss = generate_all_dictionaries(\n",
    "    training_data=df, \n",
    "    evaluation_data=df_eval,\n",
    "    data_characteristics_train=data_characteristics_train, \n",
    "    data_characteristics_eval=data_characteristics_eval,\n",
    "    data_transformation=data_transformation, \n",
    "    country_name=country_name, \n",
    "    predictors=predictors, \n",
    "    model_name=model_name_gauss, \n",
    "    prior_specifications=prior_specifications_gauss,\n",
    "    intercept_hyperparameters= (intercept_gaussian_mu, intercept_gaussian_sigma),\n",
    "    beta_hyperparameters=(beta_gaussian_mu, beta_gaussian_sigma),\n",
    "    sigma_gaussian_hyperparameters=hgaussian_sigma_gaussian_sigma,\n",
    "    tuning_iterations=tune_default,\n",
    "    sampling_iterations=draws_default,\n",
    "    target_acceptance_rate=target_accept_default,\n",
    "    chains=no_chains_default,\n",
    "    sampling_time=sampling_time_gauss, \n",
    "    idata=idata_bayesian_gauss,\n",
    "    crps_score_train=crps_average_gauss,\n",
    "    crps_score_eval=crps_average_gauss)\n",
    "ml_flow_tracking(**all_dictionaries_gauss)"
   ],
   "metadata": {
    "collapsed": false
   }
  },
  {
   "cell_type": "markdown",
   "source": [
    "### 2. Build Bayesian model with Negative Binomial distribution (alpha HalfNormal distributed)"
   ],
   "metadata": {
    "collapsed": false
   }
  },
  {
   "cell_type": "code",
   "execution_count": null,
   "outputs": [],
   "source": [
    "# Build the model\n",
    "start = time.time()\n",
    "with pm.Model(coords=COORDS_nb_half_normal) as bayesian_model_nb_half_normal:\n",
    "    # Define the priors for regressors and  negative binomial over-dispersion parameter\n",
    "    intercept = pm.Normal(\"intercept\", mu=intercept_gaussian_mu, sigma=intercept_gaussian_sigma)\n",
    "    beta = pm.Normal(\"slopes\", beta_gaussian_mu, beta_gaussian_sigma, dims=\"predictors\")\n",
    "    alpha = pm.HalfNormal('alpha', sigma=hgaussian_sigma_nb_alpha)\n",
    "\n",
    "    # Specify the data\n",
    "    X1 = pm.ConstantData(\"fatality lag t=1\", dataX1, dims=\"obs_idx\")\n",
    "    X2 = pm.ConstantData(\"fatality rolling average t=24\", dataX2, dims=\"obs_idx\")\n",
    "    Y = pm.ConstantData(\"fatility count\", dataY, dims=\"obs_idx\")\n",
    "\n",
    "    # Note: Possibly an option to change to pm.Deterministic\n",
    "    # Define mean of negative binomial distribution\n",
    "    mu = pm.math.exp(intercept + beta[0] * X1 + beta[1] * X2)\n",
    "\n",
    "    # Define the likelihood\n",
    "    obs = pm.NegativeBinomial(\"obs\", mu=mu, alpha=alpha, observed=Y, dims=\"obs_idx\")\n",
    "\n",
    "    # Note: Optionally define cores and chains\n",
    "    # Run the sampling using the No-U-Turn Sampler (NUTS) for the specified number of samples\n",
    "    idata_bayesian_nb_half_normal = pm.sample(draws=draws_default, tune=tune_default, random_seed=RANDOM_SEED, target_accept=target_accept_default)\n",
    "\n",
    "sampling_time_nb_half_normal = time.time() - start"
   ],
   "metadata": {
    "collapsed": false
   }
  },
  {
   "cell_type": "code",
   "execution_count": null,
   "outputs": [],
   "source": [
    "try:\n",
    "    with bayesian_model_nb_half_normal:\n",
    "        ppc_posterior_nb_half_normal = pm.sample_posterior_predictive(idata_bayesian_nb_half_normal, extend_inferencedata=True, random_seed=RANDOM_SEED)\n",
    "except Exception as error:\n",
    "    print(\"Error\", error)\n",
    "try:\n",
    "    with bayesian_model_nb_half_normal:\n",
    "        ppc_prior_nb_half_normal = pm.sample_prior_predictive(no_ppc_samples_default, random_seed=RANDOM_SEED)\n",
    "except Exception as error:\n",
    "    print(\"Error\", error)"
   ],
   "metadata": {
    "collapsed": false
   }
  },
  {
   "cell_type": "code",
   "execution_count": null,
   "outputs": [],
   "source": [
    "crps_nb_half_normal, crps_average_nb_half_normal = calculate_crps(idata_bayesian_nb_half_normal, actuals=dataY_df, posterior_predictive='obs');"
   ],
   "metadata": {
    "collapsed": false
   }
  },
  {
   "cell_type": "code",
   "execution_count": null,
   "outputs": [],
   "source": [
    "# Create dictionary of parameters used in the model:\n",
    "all_dictionaries_nb_half_normal = generate_all_dictionaries(\n",
    "    training_data=df, \n",
    "    evaluation_data=df_eval,\n",
    "    data_characteristics_train=data_characteristics_train, \n",
    "    data_characteristics_eval=data_characteristics_eval,\n",
    "    data_transformation=data_transformation, \n",
    "    country_name=country_name, \n",
    "    predictors=predictors, \n",
    "    model_name=model_name_nb_half_normal, \n",
    "    prior_specifications=prior_specifications_nb_half_normal,\n",
    "    alpha_nb_hyperparameters=hgaussian_sigma_nb_alpha,\n",
    "    intercept_hyperparameters= (intercept_gaussian_mu, intercept_gaussian_sigma),\n",
    "    beta_hyperparameters=(beta_gaussian_mu, beta_gaussian_sigma),\n",
    "    tuning_iterations=tune_default,\n",
    "    sampling_iterations=draws_default,\n",
    "    target_acceptance_rate=target_accept_default,\n",
    "    chains=no_chains_default,\n",
    "    sampling_time=sampling_time_nb_half_normal, \n",
    "    idata=idata_bayesian_nb_half_normal,\n",
    "    crps_score_train=crps_average_nb_half_normal,\n",
    "    crps_score_eval=crps_average_nb_half_normal)\n",
    "ml_flow_tracking(**all_dictionaries_nb_half_normal)"
   ],
   "metadata": {
    "collapsed": false
   }
  },
  {
   "cell_type": "markdown",
   "source": [
    "### 3. Build Bayesian model with Negative Binomial distribution (alpha Gamma distributed)"
   ],
   "metadata": {
    "collapsed": false
   }
  },
  {
   "cell_type": "code",
   "execution_count": null,
   "outputs": [],
   "source": [
    "# Build the model\n",
    "start = time.time()\n",
    "with pm.Model(coords=COORDS_nb_gamma) as bayesian_model_nb_gamma:\n",
    "    # Define the priors for regressors and  negative binomial over-dispersion parameter\n",
    "    intercept = pm.Normal(\"intercept\", mu=intercept_gaussian_mu, sigma=intercept_gaussian_sigma)\n",
    "    beta = pm.Normal(\"slopes\", beta_gaussian_mu, beta_gaussian_sigma, dims=\"predictors\")\n",
    "    alpha = pm.Gamma('alpha', gamma_alpha_nb_alpha, gamma_beta_nb_alpha)\n",
    "\n",
    "    # Specify the data\n",
    "    X1 = pm.ConstantData(\"fatality lag t=1\", dataX1, dims=\"obs_idx\")\n",
    "    X2 = pm.ConstantData(\"fatality rolling average t=24\", dataX2, dims=\"obs_idx\")\n",
    "    Y = pm.ConstantData(\"fatility count\", dataY, dims=\"obs_idx\")\n",
    "\n",
    "    # Note: Possibly an option to change to pm.Deterministic\n",
    "    # Define mean of negative binomial distribution\n",
    "    mu = pm.math.exp(intercept + beta[0] * X1 + beta[1] * X2)\n",
    "\n",
    "    # Define the likelihood\n",
    "    obs = pm.NegativeBinomial(\"obs\", mu=mu, alpha=alpha, observed=Y, dims=\"obs_idx\")\n",
    "\n",
    "    # Note: Optionally define cores and chains\n",
    "    # Run the sampling using the No-U-Turn Sampler (NUTS) for the specified number of samples\n",
    "    idata_bayesian_nb_gamma = pm.sample(draws=draws_default, tune=tune_default, random_seed=RANDOM_SEED, target_accept=target_accept_default)\n",
    "\n",
    "sampling_time_nb_gamma = time.time() - start"
   ],
   "metadata": {
    "collapsed": false
   }
  },
  {
   "cell_type": "code",
   "execution_count": null,
   "outputs": [],
   "source": [
    "try:\n",
    "    with bayesian_model_nb_gamma:\n",
    "        ppc_posterior_nb_gamma = pm.sample_posterior_predictive(idata_bayesian_nb_gamma, extend_inferencedata=True, random_seed=RANDOM_SEED)\n",
    "except Exception as error:\n",
    "    print(\"Error\", error)\n",
    "try:\n",
    "    with bayesian_model_nb_gamma:\n",
    "        ppc_prior_nb_gamma = pm.sample_prior_predictive(no_ppc_samples_default, random_seed=RANDOM_SEED)\n",
    "except Exception as error:\n",
    "    print(\"Error\", error)"
   ],
   "metadata": {
    "collapsed": false
   }
  },
  {
   "cell_type": "code",
   "execution_count": null,
   "outputs": [],
   "source": [
    "crps_nb_gamma, crps_average_nb_gamma = calculate_crps(idata_bayesian_nb_gamma, actuals=dataY_df, posterior_predictive='obs');"
   ],
   "metadata": {
    "collapsed": false
   }
  },
  {
   "cell_type": "code",
   "execution_count": null,
   "outputs": [],
   "source": [
    "# Create dictionary of parameters used in the model:\n",
    "all_dictionaries_nb_gamma = generate_all_dictionaries(\n",
    "    training_data=df, \n",
    "    evaluation_data=df_eval,\n",
    "    data_characteristics_train=data_characteristics_train, \n",
    "    data_characteristics_eval=data_characteristics_eval,\n",
    "    data_transformation=data_transformation,\n",
    "    country_name=country_name, \n",
    "    predictors=predictors, \n",
    "    model_name=model_name_nb_gamma, \n",
    "    prior_specifications=prior_specifications_nb_gamma,\n",
    "    alpha_nb_hyperparameters=(gamma_alpha_nb_alpha, gamma_beta_nb_alpha),\n",
    "    intercept_hyperparameters= (intercept_gaussian_mu, intercept_gaussian_sigma),\n",
    "    beta_hyperparameters=(beta_gaussian_mu, beta_gaussian_sigma),\n",
    "    tuning_iterations=tune_default,\n",
    "    sampling_iterations=draws_default,\n",
    "    target_acceptance_rate=target_accept_default,\n",
    "    chains=no_chains_default,\n",
    "    sampling_time=sampling_time_nb_gamma, \n",
    "    idata=idata_bayesian_nb_gamma,\n",
    "    crps_score_train=crps_average_nb_gamma,\n",
    "    crps_score_eval=crps_average_nb_gamma)\n",
    "ml_flow_tracking(**all_dictionaries_nb_gamma)"
   ],
   "metadata": {
    "collapsed": false
   }
  },
  {
   "cell_type": "markdown",
   "source": [
    "### 4. Build Bayesian model with Negative Binomial distribution (alpha Gamma distributed) and regression splines (B-Splines)"
   ],
   "metadata": {
    "collapsed": false
   }
  },
  {
   "cell_type": "code",
   "execution_count": null,
   "outputs": [],
   "source": [
    "# Build the model\n",
    "start = time.time()\n",
    "with pm.Model(coords=COORDS_splines) as bayesian_model_nb_gamma_splines:\n",
    "    # Specify the data\n",
    "    X1 = pm.ConstantData(\"fatality lag t=1\", dataX1, dims=\"obs_idx\")\n",
    "    X2 = pm.ConstantData(\"fatality rolling average t=24\", dataX2, dims=\"obs_idx\")\n",
    "    Y = pm.ConstantData(\"fatility count\", dataY, dims=\"obs_idx\")\n",
    "\n",
    "\n",
    "    # Define the priors for regressors and  negative binomial over-dispersion parameter\n",
    "    intercept = pm.Normal(\"intercept\", mu=intercept_hgaussian_mu, sigma=intercept_hgaussian_sigma)\n",
    "    beta_X1 = pm.Normal(\"slopesX1\", beta_gaussian_mu, beta_gaussian_sigma, dims=\"splines_x1\")\n",
    "    beta_X2 = pm.Normal(\"slopesX2\", beta_gaussian_mu, beta_gaussian_sigma, dims=\"splines_x2\")\n",
    "    alpha = pm.Gamma('alpha', gamma_alpha_nb_alpha, gamma_beta_nb_alpha)\n",
    "    \n",
    "    # Define mean of negative binomial distribution\n",
    "    mu = pm.math.exp(intercept + pm.math.dot(np.asarray(basis_X1, order=\"F\"), beta_X1.T) + pm.math.dot(np.asarray(basis_X2, order=\"F\"), beta_X2.T))\n",
    "\n",
    "    # Define the likelihood\n",
    "    obs = pm.NegativeBinomial(\"obs\", mu=mu, alpha=alpha, observed=Y, dims=\"obs_idx\")\n",
    "\n",
    "    # Note: Optionally define cores and chains\n",
    "    # Run the sampling using the No-U-Turn Sampler (NUTS) for the specified number of samples\n",
    "    idata_bayesian_nb_gamma_splines = pm.sample(draws=draws_default, tune=tune_default, random_seed=RANDOM_SEED, target_accept=target_accept_default)\n",
    "\n",
    "sampling_time_nb_gamma_splines = time.time() - start"
   ],
   "metadata": {
    "collapsed": false
   }
  },
  {
   "cell_type": "code",
   "execution_count": null,
   "outputs": [],
   "source": [
    "try:\n",
    "    with bayesian_model_nb_gamma_splines:\n",
    "        ppc_posterior_nb_gamma_splines = pm.sample_posterior_predictive(idata_bayesian_nb_gamma_splines, extend_inferencedata=True, random_seed=RANDOM_SEED)\n",
    "except Exception as error:\n",
    "    print(\"Error\", error)\n",
    "try:\n",
    "    with bayesian_model_nb_gamma_splines:\n",
    "        ppc_prior_nb_gamma_splines = pm.sample_prior_predictive(no_ppc_samples_default, random_seed=RANDOM_SEED)\n",
    "except Exception as error:\n",
    "    print(\"Error\", error)"
   ],
   "metadata": {
    "collapsed": false
   }
  },
  {
   "cell_type": "code",
   "execution_count": null,
   "outputs": [],
   "source": [
    "crps_nb_gamma_splines, crps_average_nb_gamma_splines = calculate_crps(idata_bayesian_nb_gamma_splines, actuals=dataY_df, posterior_predictive='obs');"
   ],
   "metadata": {
    "collapsed": false
   }
  },
  {
   "cell_type": "code",
   "execution_count": null,
   "outputs": [],
   "source": [
    "# Create dictionary of parameters used in the model:\n",
    "all_dictionaries_splines = generate_all_dictionaries(\n",
    "    training_data=df, \n",
    "    evaluation_data=df_eval,\n",
    "    data_characteristics_train=data_characteristics_train, \n",
    "    data_characteristics_eval=data_characteristics_eval,\n",
    "    data_transformation=data_transformation, \n",
    "    country_name=country_name, \n",
    "    predictors=predictors, \n",
    "    model_name=model_name_splines, \n",
    "    prior_specifications=prior_specifications_splines,\n",
    "    alpha_nb_hyperparameters=(gamma_alpha_nb_alpha, gamma_beta_nb_alpha),\n",
    "    intercept_hyperparameters= (intercept_gaussian_mu, intercept_gaussian_sigma),\n",
    "    tuning_iterations=tune_default,\n",
    "    sampling_iterations=draws_default,\n",
    "    target_acceptance_rate=target_accept_default,\n",
    "    chains=no_chains_default,\n",
    "    sampling_time=sampling_time_nb_gamma_splines, \n",
    "    idata=idata_bayesian_nb_gamma_splines,\n",
    "    crps_score_train=crps_average_nb_gamma_splines,\n",
    "    crps_score_eval=crps_average_nb_gamma_splines)\n",
    "ml_flow_tracking(**all_dictionaries_splines)"
   ],
   "metadata": {
    "collapsed": false
   }
  },
  {
   "cell_type": "markdown",
   "source": [
    "### 5. Build Bayesian model with Negative Binomial distribution (alpha Gamma distributed) and penalized regression splines with gaussin random walk"
   ],
   "metadata": {
    "collapsed": false
   }
  },
  {
   "cell_type": "code",
   "execution_count": null,
   "outputs": [],
   "source": [
    "# NOTE: WIP: Implementation of penalized regression splines still to be figured out, Version with Gaussian Random Walk\n",
    "# Track the time it takes o sample model\n",
    "start_time = time.time()\n",
    "# Build the model with random walk\n",
    "with pm.Model(coords=COORDS_splines) as bayesian_model_nb_gamma_penalized_splines_grw:\n",
    "    # Specify the data\n",
    "    X1 = pm.ConstantData(\"fatality lag t=1\", dataX1, dims=\"obs_idx\")\n",
    "    X2 = pm.ConstantData(\"fatality rolling average t=24\", dataX2, dims=\"obs_idx\")\n",
    "    Y = pm.ConstantData(\"fatility count\", dataY, dims=\"obs_idx\")\n",
    "\n",
    "\n",
    "    # Define the priors for regressors and  negative binomial over-dispersion parameter\n",
    "    intercept = pm.Normal(\"intercept\", mu=intercept_gaussian_mu, sigma=intercept_gaussian_sigma)\n",
    "\n",
    "    # Define first order random walk to incorporate regularization\n",
    "    tau_X1 = pm.InverseGamma(\"tauX1\", alpha=tauX1_ig_alpha_gaussian_sigma, beta=tauX1_ig_beta_gaussian_sigma)\n",
    "    tau_X2 = pm.InverseGamma(\"tauX2\", alpha=tauX2_ig_alpha_gaussian_sigma, beta=tauX2_ig_beta_gaussian_sigma)\n",
    "\n",
    "    # Define the initial distribution as diffuse prior for the random walk\n",
    "    initial_distribution_X1 = pm.Normal.dist(mu=diffuse_prior_beta_mu, sigma=diffuse_prior_beta_sigma)\n",
    "    initial_distribution_X2 = pm.Normal.dist(mu=diffuse_prior_beta_mu, sigma=diffuse_prior_beta_sigma)\n",
    "    \n",
    "    # Note: Defining the coefficients in a gaussian random walk should incorporate the penalization of differences of consecutive coefficients\n",
    "    beta_X1 = pm.GaussianRandomWalk(\"slopesX1\", sigma=tau_X1, shape=basis_X1.shape[1], init_dist=initial_distribution_X1)\n",
    "    beta_X2 = pm.GaussianRandomWalk(\"slopesX2\", sigma=tau_X2, shape=basis_X2.shape[1], init_dist=initial_distribution_X2)\n",
    "    alpha = pm.Gamma('alpha', gamma_alpha_nb_alpha, gamma_beta_nb_alpha)\n",
    "\n",
    "    # Define mean of negative binomial distribution\n",
    "    # Note: We define the mean of the assumed negative binomial as a linear combination of the basis functions - transformed by a link function to ensure numerical stability\n",
    "    mu = pm.math.exp(intercept + pm.math.dot(np.asarray(basis_X1, order=\"F\"), beta_X1.T) + pm.math.dot(np.asarray(basis_X2, order=\"F\"), beta_X2.T))\n",
    "\n",
    "    # Define the likelihood\n",
    "    # Note: mu is of dimension [N,1] and weighted against the observations in the sampling process\n",
    "    obs = pm.NegativeBinomial(\"obs\", mu=mu, alpha=alpha, observed=Y, dims=\"obs_idx\")\n",
    "\n",
    "    # Run the sampling using the No-U-Turn Sampler (NUTS) for the specified number of samples\n",
    "    idata_bayesian_nb_gamma_penalized_splines_grw = pm.sample(draws=draws_default, tune=tune_default, random_seed=RANDOM_SEED, target_accept=target_accept_default, chains=no_chains_default)\n",
    "    \n",
    "sampling_time_psplines_grw = time.time() - start_time"
   ],
   "metadata": {
    "collapsed": false
   }
  },
  {
   "cell_type": "code",
   "execution_count": null,
   "outputs": [],
   "source": [
    "try:\n",
    "    with bayesian_model_nb_gamma_penalized_splines_grw:\n",
    "        ppc_posterior_nb_gamma_penalized_splines = pm.sample_posterior_predictive(idata_bayesian_nb_gamma_penalized_splines_grw, extend_inferencedata=True, random_seed=RANDOM_SEED)\n",
    "except Exception as error:\n",
    "    print(\"Error\", error)\n",
    "try:\n",
    "    with bayesian_model_nb_gamma_penalized_splines_grw:\n",
    "        ppc_prior_nb_gamma_penalized_splines = pm.sample_prior_predictive(no_ppc_samples_default, random_seed=RANDOM_SEED)\n",
    "except Exception as error:\n",
    "    print(\"Error\", error)"
   ],
   "metadata": {
    "collapsed": false
   }
  },
  {
   "cell_type": "code",
   "execution_count": null,
   "outputs": [],
   "source": [
    "# Calculate CRPS\n",
    "crps_nb_gamma_penalized_splines_grw, crps_average_nb_gamma_penalized_splines_grw = calculate_crps(idata_bayesian_nb_gamma_penalized_splines_grw, dataY_df, posterior_predictive='obs')"
   ],
   "metadata": {
    "collapsed": false
   }
  },
  {
   "cell_type": "code",
   "execution_count": null,
   "outputs": [],
   "source": [
    "# Create dictionary of parameters used in the model:\n",
    "all_dictionaries_penalized_splines_grw = generate_all_dictionaries(\n",
    "    training_data=df, \n",
    "    evaluation_data=df_eval,\n",
    "    data_characteristics_train=data_characteristics_train, \n",
    "    data_characteristics_eval=data_characteristics_eval,\n",
    "    data_transformation=data_transformation, \n",
    "    country_name=country_name, \n",
    "    predictors=predictors, \n",
    "    model_name=model_name_penalized_splines_grw, \n",
    "    prior_specifications=prior_specifications_splines,\n",
    "    alpha_nb_hyperparameters=(gamma_alpha_nb_alpha, gamma_beta_nb_alpha),\n",
    "    intercept_hyperparameters= (intercept_gaussian_mu, intercept_gaussian_sigma),\n",
    "    no_spline_coefficients_per_regressor=[no_spline_coefficients_X1, no_spline_coefficients_X2],\n",
    "    tuning_iterations=tune_default,\n",
    "    sampling_iterations=draws_default,\n",
    "    target_acceptance_rate=target_accept_default,\n",
    "    chains=no_chains_default,\n",
    "    sampling_time=sampling_time_psplines_grw, \n",
    "    idata=idata_bayesian_nb_gamma_splines,\n",
    "    crps_score_train=crps_average_nb_gamma_splines,\n",
    "    crps_score_eval=crps_average_nb_gamma_splines)\n",
    "ml_flow_tracking(**all_dictionaries_penalized_splines_grw)"
   ],
   "metadata": {
    "collapsed": false
   }
  },
  {
   "cell_type": "markdown",
   "source": [
    "### 6. Build Bayesian model with Negative Binomial distribution (alpha Gamma distributed) and penalized regression splines with penalty potential"
   ],
   "metadata": {
    "collapsed": false
   }
  },
  {
   "cell_type": "code",
   "execution_count": null,
   "outputs": [],
   "source": [
    "# Track sampling time\n",
    "start_time = time.time()\n",
    "# NOTE: WIP: Implementation of penalized regression splines still to be figured out, Version with Penalty deduction in likeihood\n",
    "\n",
    "with pm.Model(coords=COORDS_penalized_splines_penalty) as bayesian_model_nb_gamma_penalized_splines_penalty:\n",
    "    # Specify the data\n",
    "    X1 = pm.ConstantData(\"fatality lag t=1\", dataX1, dims=\"obs_idx\")\n",
    "    X2 = pm.ConstantData(\"fatality rolling average t=24\", dataX2, dims=\"obs_idx\")\n",
    "    Y = pm.ConstantData(\"fatility count\", dataY, dims=\"obs_idx\")\n",
    "\n",
    "    # Define the priors for regressors and negative binomial over-dispersion parameter\n",
    "    intercept = pm.Normal(\"intercept\", mu=intercept_gaussian_mu, sigma=intercept_gaussian_sigma)\n",
    "\n",
    "    # Define first order random walk to incorporate regularization\n",
    "    tau_X1 = pm.InverseGamma(\"tauX1\", alpha=tauX1_ig_alpha_gaussian_sigma, beta=tauX1_ig_beta_gaussian_sigma)\n",
    "    tau_X2 = pm.InverseGamma(\"tauX2\", alpha=tauX2_ig_alpha_gaussian_sigma, beta=tauX2_ig_beta_gaussian_sigma)\n",
    "\n",
    "    # Create deterministic variables for squared taus\n",
    "    tau_X1_squared = pm.Deterministic(\"tau_X1_squared\", tau_X1 ** 2)\n",
    "    tau_X2_squared = pm.Deterministic(\"tau_X2_squared\", tau_X2 ** 2)\n",
    "    \n",
    "    # Note: If this does reflect our intended model remains to be questioned\n",
    "    # Introduce diffuse priors for the first regression coefficients of the splines with broad gaussian distributions\n",
    "    beta_X1_0 = pm.Normal(\"slopesX1_0\", diffuse_prior_beta_mu, diffuse_prior_beta_sigma)\n",
    "    beta_X2_0 = pm.Normal(\"slopesX2_0\", diffuse_prior_beta_mu, diffuse_prior_beta_sigma)\n",
    "    \n",
    "    # Define remaining betas as normal variables with standard deviation tau\n",
    "    beta_X1_rest = pm.Normal(\"slopesX1_rest\", beta_gaussian_mu, tau_X1, dims=\"splines_x1_rest\")\n",
    "    beta_X2_rest = pm.Normal(\"slopesX2_rest\", beta_gaussian_mu, tau_X2, dims=\"splines_x2_rest\")\n",
    "    \n",
    "    # Concatenate the flat priors to the beginning of the coefficients\n",
    "    beta_X1 = pm.Deterministic(\"slopesX1\", pm.math.concatenate([[beta_X1_0], beta_X1_rest]))\n",
    "    beta_X2 = pm.Deterministic(\"slopesX2\", pm.math.concatenate([[beta_X2_0], beta_X2_rest]))\n",
    "\n",
    "\n",
    "    alpha = pm.Gamma('alpha', gamma_alpha_nb_alpha, gamma_beta_nb_alpha)\n",
    "\n",
    "    # Define mean of negative binomial distribution\n",
    "    mu = pm.math.exp(intercept + pm.math.dot(np.asarray(basis_X1, order=\"F\"), beta_X1.T) + pm.math.dot(np.asarray(basis_X2, order=\"F\"), beta_X2.T))\n",
    "\n",
    "    # Define the likelihood\n",
    "    obs = pm.NegativeBinomial(\"obs\", mu=mu, alpha=alpha, observed=Y, dims=\"obs_idx\")\n",
    "\n",
    "    # Define the penalty term and incorporate it using pm.Potential\n",
    "    penalty_term_X1 = pm.math.dot(beta_X1.T, pm.math.dot(K_X1, beta_X1)) / (2 * tau_X1_squared)\n",
    "    penalty_X1 = pm.Potential(\"penalty_X1\", -penalty_term_X1)\n",
    "\n",
    "    penalty_term_X2 = pm.math.dot(beta_X2.T, pm.math.dot(K_X2, beta_X2)) / (2 * tau_X2_squared)\n",
    "    penalty_X2 = pm.Potential(\"penalty_X2\", -penalty_term_X2)\n",
    "\n",
    "    # Run the sampling using the No-U-Turn Sampler (NUTS) for the specified number of samples\n",
    "    idata_bayesian_nb_gamma_penalized_splines_penalty = pm.sample(draws=draws_default, tune=tune_default, random_seed=RANDOM_SEED, target_accept=target_accept_default, chains=no_chains_default)\n",
    "\n",
    "sampling_time_psplines_penalty = time.time() - start_time"
   ],
   "metadata": {
    "collapsed": false
   }
  },
  {
   "cell_type": "code",
   "execution_count": null,
   "outputs": [],
   "source": [
    "try:\n",
    "    with bayesian_model_nb_gamma_penalized_splines_penalty:\n",
    "        ppc_posterior_nb_gamma_penalized_splines_penalty = pm.sample_posterior_predictive(idata_bayesian_nb_gamma_penalized_splines_penalty, extend_inferencedata=True, random_seed=RANDOM_SEED)\n",
    "except Exception as error:\n",
    "    print(\"Error\", error)\n",
    "try:\n",
    "    with bayesian_model_nb_gamma_penalized_splines_penalty:\n",
    "        ppc_prior_nb_gamma_penalized_splines_penalty = pm.sample_prior_predictive(no_ppc_samples_default, random_seed=RANDOM_SEED)\n",
    "except Exception as error:\n",
    "    print(\"Error\", error)"
   ],
   "metadata": {
    "collapsed": false
   }
  },
  {
   "cell_type": "code",
   "execution_count": null,
   "outputs": [],
   "source": [
    "crps_nb_gamma_penalized_splines_penalty, crps_average_nb_gamma_penalized_splines_penalty = calculate_crps(idata_bayesian_nb_gamma_penalized_splines_penalty, actuals=dataY_df, posterior_predictive='obs');"
   ],
   "metadata": {
    "collapsed": false
   }
  },
  {
   "cell_type": "code",
   "execution_count": null,
   "outputs": [],
   "source": [
    "# Create dictionary of parameters used in the model:\n",
    "all_dictionaries = generate_all_dictionaries(\n",
    "    training_data=df, \n",
    "    evaluation_data=df_eval,\n",
    "    data_characteristics_train=data_characteristics_train, \n",
    "    data_characteristics_eval=data_characteristics_eval, \n",
    "    data_transformation=data_transformation, \n",
    "    country_name=country_name, \n",
    "    predictors=predictors, \n",
    "    model_name=model_name_penalized_splines_penalty, \n",
    "    prior_specifications=prior_specifications_penalized_splines_penalty, \n",
    "    no_spline_coefficients_per_regressor=[no_spline_coefficients_X1, no_spline_coefficients_X2],\n",
    "    tau_hyperparameters=[(tauX1_ig_alpha_gaussian_sigma, tauX1_ig_beta_gaussian_sigma), (tauX2_ig_alpha_gaussian_sigma, tauX2_ig_beta_gaussian_sigma)],\n",
    "    alpha_nb_hyperparameters=(gamma_alpha_nb_alpha, gamma_beta_nb_alpha),\n",
    "    intercept_hyperparameters= (intercept_gaussian_mu, intercept_gaussian_sigma),\n",
    "    tuning_iterations=tune_default,\n",
    "    sampling_iterations=draws_default,\n",
    "    target_acceptance_rate=target_accept_default,\n",
    "    chains=no_chains_default,\n",
    "    sampling_time=sampling_time_psplines_penalty, \n",
    "    idata=idata_bayesian_nb_gamma_penalized_splines_penalty,\n",
    "    crps_score_train=crps_average_nb_gamma_penalized_splines_penalty,\n",
    "    crps_score_eval=crps_average_nb_gamma_penalized_splines_penalty)\n",
    "ml_flow_tracking(**all_dictionaries)"
   ],
   "metadata": {
    "collapsed": false
   }
  },
  {
   "cell_type": "markdown",
   "source": [
    "**7. Explore other ways to build Bayesian model with Negative Binomial distribution (alpha Gamma distributed) and penalized regression splines**"
   ],
   "metadata": {
    "collapsed": false
   }
  },
  {
   "cell_type": "code",
   "execution_count": null,
   "outputs": [],
   "source": [
    "# # NOTE: WIP: Implementation of penalized regression splines still to be figured out, Version with Penalty Matrix\n",
    "# # Build the model with penalty matrix\n",
    "# with pm.Model(coords=COORDS_splines) as bayesian_model_nb_gamma_penalized_splines_penalty_K:\n",
    "#     # Specify the data\n",
    "#     X1 = pm.ConstantData(\"fatality lag t=1\", dataX1, dims=\"obs_idx\")\n",
    "#     X2 = pm.ConstantData(\"fatality rolling average t=24\", dataX2, dims=\"obs_idx\")\n",
    "#     Y = pm.ConstantData(\"fatility count\", dataY, dims=\"obs_idx\")\n",
    "# \n",
    "# \n",
    "#     # Define the priors for regressors and  negative binomial over-dispersion parameter\n",
    "#     intercept = pm.HalfNormal(\"intercept\", sigma=0.1)\n",
    "# \n",
    "#     # Define first order random walk to incorporate regularization\n",
    "#     tau_X1 = pm.InverseGamma(\"tauX1\", alpha=a_X1, beta=b_X1)\n",
    "#     tau_X2 = pm.InverseGamma(\"tauX2\", alpha=a_X2, beta=b_X2)\n",
    "# \n",
    "#     # Calculate covariance matrices\n",
    "#     cov_X1 = at.dot(at.nlinalg.matrix_inverse(K_X1), at.pow(tau_X1, 2))\n",
    "#     cov_X2 = at.dot(at.nlinalg.matrix_inverse(K_X2), at.pow(tau_X2, 2))\n",
    "#     \n",
    "#     # Compute cholesky decompositions of covariance matrices\n",
    "#     chol_X1 = at.slinalg.cholesky(cov_X1)\n",
    "#     chol_X2 = at.slinalg.cholesky(cov_X2)\n",
    "# \n",
    "#     # Define multivariate normal distributions\n",
    "#     beta_X1 = pm.MvNormal(\"slopesX1\", mu=at.zeros(no_X1_coefficients), chol=chol_X1, shape=no_X1_coefficients)\n",
    "#     beta_X2 = pm.MvNormal(\"slopesX2\", mu=at.zeros(no_X2_coefficients), chol=chol_X2, shape=no_X2_coefficients)\n",
    "# \n",
    "#     alpha = pm.Gamma('alpha', 0.1, 0.1)\n",
    "# \n",
    "#     # Note: Possibly an option to change to pm.Deterministic\n",
    "#     # Define mean of negative binomial distribution\n",
    "#     mu = pm.math.exp(intercept + pm.math.dot(at.as_tensor_variable(basis_X1), beta_X1.T) + pm.math.dot(at.as_tensor_variable(basis_X2),beta_X2.T))\n",
    "# \n",
    "#     # Define the likelihood\n",
    "#     obs = pm.NegativeBinomial(\"obs\", mu=mu, alpha=alpha, observed=Y, dims=\"obs_idx\")\n",
    "# \n",
    "#     # Note: Optionally define cores and chains\n",
    "#     # Run the sampling using the No-U-Turn Sampler (NUTS) for the specified number of samples\n",
    "#     idata_bayesian_nb_gamma_penalized_splines_penalty_K = pm.sample(draws=1000, tune=2000, random_seed=RANDOM_SEED, target_accept=0.95)"
   ],
   "metadata": {
    "collapsed": false
   }
  },
  {
   "cell_type": "code",
   "execution_count": null,
   "outputs": [],
   "source": [
    "# try:\n",
    "#     with bayesian_model_nb_gamma_penalized_splines_penalty_K:\n",
    "#         ppc_posterior_nb_gamma_penalized_splines_penalty_K = pm.sample_posterior_predictive(idata_bayesian_nb_gamma_penalized_splines_penalty_K, extend_inferencedata=True, random_seed=RANDOM_SEED)\n",
    "# except Exception as error:\n",
    "#     print(\"Error\", error)"
   ],
   "metadata": {
    "collapsed": false
   }
  },
  {
   "cell_type": "code",
   "execution_count": null,
   "outputs": [],
   "source": [
    "# try:\n",
    "#     with bayesian_model_nb_gamma_penalized_splines_penalty_K:\n",
    "#         ppc_prior_nb_gamma_penalized_splines_penalty_K = pm.sample_prior_predictive(no_ppc_samples_default, random_seed=RANDOM_SEED)\n",
    "# except Exception as error:\n",
    "#     print(\"Error\", error)"
   ],
   "metadata": {
    "collapsed": false
   }
  },
  {
   "cell_type": "code",
   "execution_count": null,
   "outputs": [],
   "source": [
    "# # Note: Pending suggestion of ChatGPT to use tau for covariance altough it's part of the sampling process itself\n",
    "# # Create a covariance matrix using Theano operations\n",
    "# tau_X1_squared = tau_X1**2\n",
    "# tau_X1_squared_diag = tt.diag(tau_X1_squared)\n",
    "# cov_X1 = tt.dot(np.linalg.inv(K_X1), tau_X1_squared_diag)\n",
    "# \n",
    "# tau_X2_squared = tau_X2**2\n",
    "# tau_X2_squared_diag = tt.diag(tau_X2_squared)\n",
    "# cov_X2 = tt.dot(np.linalg.inv(K_X2), tau_X2_squared_diag)"
   ],
   "metadata": {
    "collapsed": false
   }
  },
  {
   "cell_type": "markdown",
   "source": [
    "## III.2 PyStan Model Building"
   ],
   "metadata": {
    "collapsed": false
   }
  },
  {
   "cell_type": "markdown",
   "source": [
    "### Model 1: Negative Binomial distribution (alpha Gamma distributed) and penalized splines via \"manual\" random walk"
   ],
   "metadata": {
    "collapsed": false
   }
  },
  {
   "cell_type": "markdown",
   "source": [
    "Likelihood: negative binomial\n",
    "Splines: yes\n",
    "Penalization: first order random walk\n",
    "Implementation: diffuse prior + manually"
   ],
   "metadata": {
    "collapsed": false
   }
  },
  {
   "cell_type": "code",
   "execution_count": 18,
   "outputs": [],
   "source": [
    "definition_stan_model_nb_gamma_penalized_splines_grw = \"\"\"\n",
    "data {\n",
    "    int<lower=0> N;                      // Number of data points\n",
    "    int<lower=1> num_basis_X1;           // Number of coefficients for P-splines for X1\n",
    "    int<lower=1> num_basis_X2;           // Number of coefficients for P-splines for X2\n",
    "\n",
    "    matrix[N, num_basis_X1] basis_X1;    // Basis matrix for regressor X1\n",
    "    matrix[N, num_basis_X2] basis_X2;    // Basis matrix for regressor X2\n",
    "    int Y[N];                            // Observed Target variable\n",
    "    \n",
    "    real a_tau_X1;                       // Shape parameter for InverseGamma of tau for X1\n",
    "    real b_tau_X1;                       // Scale parameter for InverseGamma of tau for X1\n",
    "    real a_tau_X2;                       // Shape parameter for InverseGamma of tau for X2\n",
    "    real b_tau_X2;                       // Scale parameter for InverseGamma of tau for X2\n",
    "    real a_alpha;                        // Shape parameter for Gamma of alpha\n",
    "    real b_alpha;                        // Scale parameter for Gamma of alpha\n",
    "    real diffuse_prior_mu;                    // Mean of spline coefficient diffuse prior\n",
    "    real<lower=0> diffuse_prior_sigma;                 // Standard deviation of spline coefficient diffuse prior\n",
    "    real intercept_mu;                        // Mean of intercept prior\n",
    "    real<lower=1> intercept_sigma;                     // Standard deviation of intercept prior\n",
    "    \n",
    "    int<lower=0> N_eval;                 // Number of data points for evaluation\n",
    "    matrix[N_eval, num_basis_X1] basis_X1_eval;    // Basis matrix for regressor X1_eval\n",
    "    matrix[N_eval, num_basis_X2] basis_X2_eval;    // Basis matrix for regressor X2_eval\n",
    "    int Y_eval[N_eval];                            // Observed Target variable for evaluation\n",
    "}\n",
    "\n",
    "parameters {\n",
    "    vector[num_basis_X1] spline_coefficients_X1;\n",
    "    vector[num_basis_X2] spline_coefficients_X2;\n",
    "    real intercept;\n",
    "    real<lower=0> tau_X1;\n",
    "    real<lower=0> tau_X2;\n",
    "    real<lower=0> alpha;\n",
    "}\n",
    "\n",
    "transformed parameters {\n",
    "    vector[N] mu;\n",
    "    mu = exp(intercept + to_vector(basis_X1 * spline_coefficients_X1) + to_vector(basis_X2 * spline_coefficients_X2));\n",
    "}\n",
    "\n",
    "model {\n",
    "    intercept ~ normal(intercept_mu, intercept_sigma);\n",
    "    tau_X1 ~ inv_gamma(a_tau_X1, b_tau_X1);\n",
    "    tau_X2 ~ inv_gamma(a_tau_X2, b_tau_X2);\n",
    "\n",
    "    spline_coefficients_X1[1] ~ normal(diffuse_prior_mu, diffuse_prior_sigma);      // diffuse prior for first coefficient\n",
    "    for (i in 2:num_basis_X1) {                     // random walk prior for coefficients\n",
    "        spline_coefficients_X1[i] ~ normal(spline_coefficients_X1[i-1], tau_X1);\n",
    "    }\n",
    "    \n",
    "    spline_coefficients_X2[1] ~ normal(diffuse_prior_mu, diffuse_prior_sigma);      // diffuse prior for first coefficient\n",
    "    for (i in 2:num_basis_X2) {                     // random walk prior for coefficients\n",
    "        spline_coefficients_X2[i] ~ normal(spline_coefficients_X2[i-1], tau_X2);\n",
    "    }\n",
    "    \n",
    "    alpha ~ gamma(0.1, 0.1);\n",
    "    Y ~ neg_binomial_2(mu, alpha);\n",
    "}\n",
    "generated quantities {\n",
    "    int y_pred_train[N];\n",
    "    int y_pred_eval[N_eval];\n",
    "    vector[N_eval] mu_eval;\n",
    "    \n",
    "    mu_eval = exp(intercept + to_vector(basis_X1_eval * spline_coefficients_X1) + to_vector(basis_X2_eval * spline_coefficients_X2));\n",
    "    for (n in 1:N) {\n",
    "        y_pred_train[n] = neg_binomial_2_rng(mu[n], alpha);\n",
    "    }\n",
    "    for (n_eval in 1:N_eval) {\n",
    "        y_pred_eval[n_eval] = neg_binomial_2_rng(mu_eval[n_eval], alpha);\n",
    "    }\n",
    "}\n",
    "\"\"\""
   ],
   "metadata": {
    "collapsed": false,
    "ExecuteTime": {
     "end_time": "2023-09-07T07:48:49.039307300Z",
     "start_time": "2023-09-07T07:48:48.916635700Z"
    }
   }
  },
  {
   "cell_type": "code",
   "execution_count": 19,
   "outputs": [
    {
     "name": "stderr",
     "output_type": "stream",
     "text": [
      "INFO:pystan:COMPILING THE C++ CODE FOR MODEL anon_model_230c9f40206178d84ce58224164f070c NOW.\n"
     ]
    }
   ],
   "source": [
    "# Compile the model\n",
    "stan_model_nb_gamma_penalized_splines_grw = pystan.StanModel(model_code=definition_stan_model_nb_gamma_penalized_splines_grw)"
   ],
   "metadata": {
    "collapsed": false,
    "ExecuteTime": {
     "end_time": "2023-09-07T07:49:45.024446400Z",
     "start_time": "2023-09-07T07:48:48.946555600Z"
    }
   }
  },
  {
   "cell_type": "code",
   "execution_count": 20,
   "outputs": [],
   "source": [
    "stan_data_nb_gamma_penalized_splines_grw = {\n",
    "    \"N\": len(dataY),\n",
    "    \"num_basis_X1\": no_spline_coefficients_X1,\n",
    "    \"num_basis_X2\": no_spline_coefficients_X2,\n",
    "    \"basis_X1\": np.asarray(basis_X1, order=\"F\"),\n",
    "    \"basis_X2\": np.asarray(basis_X2, order=\"F\"),\n",
    "    \"Y\": dataY.astype(int),\n",
    "    \"a_tau_X1\": tauX1_ig_alpha_gaussian_sigma,\n",
    "    \"b_tau_X1\": tauX1_ig_beta_gaussian_sigma,\n",
    "    \"a_tau_X2\": tauX2_ig_alpha_gaussian_sigma,\n",
    "    \"b_tau_X2\": tauX2_ig_beta_gaussian_sigma,\n",
    "    \"a_alpha\": gamma_alpha_nb_alpha,\n",
    "    \"b_alpha\": gamma_beta_nb_alpha,\n",
    "    \"diffuse_prior_mu\": diffuse_prior_beta_mu,\n",
    "    \"diffuse_prior_sigma\": diffuse_prior_beta_sigma,\n",
    "    \"intercept_mu\": intercept_gaussian_mu,\n",
    "    \"intercept_sigma\": intercept_gaussian_sigma,\n",
    "    \"N_eval\": len(dataY_eval),\n",
    "    \"basis_X1_eval\": np.asarray(basis_X1_eval, order=\"F\"),\n",
    "    \"basis_X2_eval\": np.asarray(basis_X2_eval, order=\"F\"),\n",
    "    \"Y_eval\": dataY_eval.astype(int)\n",
    "}"
   ],
   "metadata": {
    "collapsed": false,
    "ExecuteTime": {
     "end_time": "2023-09-07T07:49:45.040403600Z",
     "start_time": "2023-09-07T07:49:45.018460100Z"
    }
   }
  },
  {
   "cell_type": "code",
   "execution_count": 21,
   "outputs": [
    {
     "name": "stderr",
     "output_type": "stream",
     "text": [
      "WARNING:pystan:n_eff / iter below 0.001 indicates that the effective sample size has likely been overestimated\n",
      "WARNING:pystan:Rhat above 1.1 or below 0.9 indicates that the chains very likely have not mixed\n",
      "WARNING:pystan:248 of 2000 iterations ended with a divergence (12.4 %).\n",
      "WARNING:pystan:Try running with adapt_delta larger than 0.95 to remove the divergences.\n",
      "WARNING:pystan:1484 of 2000 iterations saturated the maximum tree depth of 10 (74.2 %)\n",
      "WARNING:pystan:Run again with max_treedepth larger than 10 to avoid saturation\n",
      "WARNING:pystan:Chain 3: E-BFMI = 0.195\n",
      "WARNING:pystan:Chain 4: E-BFMI = 0.117\n",
      "WARNING:pystan:E-BFMI below 0.2 indicates you may need to reparameterize your model\n"
     ]
    }
   ],
   "source": [
    "# Sampling from the model\n",
    "start_time = time.time()\n",
    "stan_model_nb_gamma_penalized_splines_grw_sampling = stan_model_nb_gamma_penalized_splines_grw.sampling(data=stan_data_nb_gamma_penalized_splines_grw, iter=draws_default, chains=no_chains_default, seed=RANDOM_SEED, control={\"adapt_delta\": target_accept_default})\n",
    "sampling_time_nb_gamma_penalized_splines_grw_stan = time.time() - start_time"
   ],
   "metadata": {
    "collapsed": false,
    "ExecuteTime": {
     "end_time": "2023-09-07T07:53:22.025905400Z",
     "start_time": "2023-09-07T07:49:45.031426900Z"
    }
   }
  },
  {
   "cell_type": "code",
   "execution_count": 22,
   "outputs": [],
   "source": [
    "idata_bayesian_nb_gamma_penalized_splines_grw_stan = az.from_pystan(\n",
    "    posterior=stan_model_nb_gamma_penalized_splines_grw_sampling,\n",
    "    posterior_predictive=[\"y_pred_train\", \"y_pred_eval\"])"
   ],
   "metadata": {
    "collapsed": false,
    "ExecuteTime": {
     "end_time": "2023-09-07T07:53:22.085709900Z",
     "start_time": "2023-09-07T07:53:21.878908900Z"
    }
   }
  },
  {
   "cell_type": "code",
   "execution_count": 26,
   "outputs": [
    {
     "data": {
      "text/plain": "'temp_data/idata_bayesian_nb_gamma_penalized_splines_grw_stan.nc'"
     },
     "execution_count": 26,
     "metadata": {},
     "output_type": "execute_result"
    }
   ],
   "source": [
    "# Note: possibility to export idata as example object\n",
    "# idata_bayesian_nb_gamma_penalized_splines_grw_stan.to_netcdf(\"temp_data/idata_bayesian_nb_gamma_penalized_splines_grw_stan.nc\")"
   ],
   "metadata": {
    "collapsed": false,
    "ExecuteTime": {
     "end_time": "2023-09-06T16:35:09.648183500Z",
     "start_time": "2023-09-06T16:35:09.320513600Z"
    }
   }
  },
  {
   "cell_type": "code",
   "execution_count": null,
   "outputs": [],
   "source": [
    "# Note: possibility to import idata as example object\n",
    "# idata_bayesian_nb_gamma_penalized_splines_grw_stan = az.from_netcdf(\"temp_data/idata_bayesian_nb_gamma_penalized_splines_grw_stan.nc\")"
   ],
   "metadata": {
    "collapsed": false
   }
  },
  {
   "cell_type": "code",
   "execution_count": 23,
   "outputs": [
    {
     "name": "stderr",
     "output_type": "stream",
     "text": [
      "C:\\Users\\Uwe Drauz\\anaconda3\\envs\\bachelor_thesis_pystan_clean\\lib\\site-packages\\CRPS\\CRPS.py:147: RuntimeWarning: overflow encountered in long_scalars\n",
      "  self.__delta_fc = np.array([all_mem[n+1] - all_mem[n] for n in range(len(all_mem)-1)] + list(np.zeros(1)), dtype=object)\n",
      "C:\\Users\\Uwe Drauz\\anaconda3\\envs\\bachelor_thesis_pystan_clean\\lib\\site-packages\\CRPS\\CRPS.py:141: RuntimeWarning: overflow encountered in long_scalars\n",
      "  self.__delta_fc = np.array([all_mem[n+1] - all_mem[n] for n in range(len(all_mem)-1)], dtype=object)\n",
      "C:\\Users\\Uwe Drauz\\anaconda3\\envs\\bachelor_thesis_pystan_clean\\lib\\site-packages\\CRPS\\CRPS.py:157: RuntimeWarning: overflow encountered in long_scalars\n",
      "  delta_fc.append(self.fc[f+1] - self.fc[f])\n"
     ]
    }
   ],
   "source": [
    "crps_train_nb_gamma_penalized_splines_grw_stan, crps_train_average_nb_gamma_penalized_splines_grw_stan = calculate_crps(idata_bayesian_nb_gamma_penalized_splines_grw_stan, dataY_df, posterior_predictive=\"y_pred_train\")\n",
    "crps_eval_nb_gamma_penalized_splines_grw_stan, crps_eval_average_nb_gamma_penalized_splines_grw_stan = calculate_crps(idata_bayesian_nb_gamma_penalized_splines_grw_stan, dataY_eval_df, posterior_predictive=\"y_pred_eval\")"
   ],
   "metadata": {
    "collapsed": false,
    "ExecuteTime": {
     "end_time": "2023-09-07T07:53:26.534621300Z",
     "start_time": "2023-09-07T07:53:21.937106900Z"
    }
   }
  },
  {
   "cell_type": "code",
   "execution_count": 38,
   "outputs": [],
   "source": [
    "# Create dictionary of parameters used in the model:\n",
    "all_dictionaries_penalized_splines_grw = generate_all_dictionaries(\n",
    "    training_data=df,\n",
    "    evaluation_data=df_eval,\n",
    "    data_characteristics_train=data_characteristics_train, \n",
    "    data_characteristics_eval=data_characteristics_eval,\n",
    "    data_transformation=data_transformation, \n",
    "    country_name=country_name, \n",
    "    predictors=predictors, \n",
    "    model_name=model_name_penalized_splines_grw, \n",
    "    prior_specifications=prior_specifications_penalized_splines_grw,\n",
    "    alpha_nb_hyperparameters=(gamma_alpha_nb_alpha, gamma_beta_nb_alpha),\n",
    "    intercept_hyperparameters= (intercept_gaussian_mu, intercept_gaussian_sigma),\n",
    "    no_spline_coefficients_per_regressor=[no_spline_coefficients_X1, no_spline_coefficients_X2],\n",
    "    tuning_iterations=tune_default,\n",
    "    sampling_iterations=draws_default,\n",
    "    target_acceptance_rate=target_accept_default,\n",
    "    chains=no_chains_default,\n",
    "    sampling_time=sampling_time_nb_gamma_penalized_splines_grw_stan, \n",
    "    idata=idata_bayesian_nb_gamma_penalized_splines_grw_stan,\n",
    "    crps_score_train=crps_train_average_nb_gamma_penalized_splines_grw_stan,\n",
    "    crps_score_eval=crps_eval_average_nb_gamma_penalized_splines_grw_stan)\n",
    "ml_flow_tracking(**all_dictionaries_penalized_splines_grw)"
   ],
   "metadata": {
    "collapsed": false,
    "ExecuteTime": {
     "end_time": "2023-09-07T08:17:40.031489900Z",
     "start_time": "2023-09-07T08:17:36.398695200Z"
    }
   }
  },
  {
   "cell_type": "markdown",
   "source": [
    "### Model 2: Negative Binomial distribution (alpha Gamma distributed) and penalized splines via multivariate distribution using penalty matrix"
   ],
   "metadata": {
    "collapsed": false
   }
  },
  {
   "cell_type": "code",
   "execution_count": 25,
   "outputs": [],
   "source": [
    "definition_stan_model_nb_gamma_penalized_splines_multivariate = \"\"\"\n",
    "data {\n",
    "    int<lower=1> N;          // Number of data points\n",
    "    int<lower=1> num_basis_X1;  // Number of coefficients for P-splines for X1\n",
    "    int<lower=1> num_basis_X2;  // Number of coefficients for P-splines for X2\n",
    "\n",
    "    matrix[N, num_basis_X1] basis_X1;  // Basis matrix for regressor X1\n",
    "    matrix[N, num_basis_X2] basis_X2;  // Basis matrix for regressor X2\n",
    "    int Y[N];             // Observed Target variable\n",
    "    \n",
    "    matrix[num_basis_X1, num_basis_X1] K_X1;  // Penalty matrix for X1\n",
    "    matrix[num_basis_X2, num_basis_X2] K_X2;  // Penalty matrix for X2\n",
    "    \n",
    "    real a_tau_X1;              // Shape parameter for InverseGamma of tau for X1\n",
    "    real b_tau_X1;              // Scale parameter for InverseGamma of tau for X1\n",
    "    real a_tau_X2;            // Shape parameter for InverseGamma of tau for X2\n",
    "    real b_tau_X2;            // Scale parameter for InverseGamma of tau for X2\n",
    "    real a_alpha;             // Shape parameter for Gamma of alpha\n",
    "    real b_alpha;             // Scale parameter for Gamma of alpha\n",
    "    real intercept_mu;        // Mean of intercept prior\n",
    "    real<lower=0> intercept_sigma;     // Standard deviation of intercept prior\n",
    "    \n",
    "    int<lower=0> N_eval;                 // Number of data points for evaluation\n",
    "    matrix[N_eval, num_basis_X1] basis_X1_eval;    // Basis matrix for regressor X1_eval\n",
    "    matrix[N_eval, num_basis_X2] basis_X2_eval;    // Basis matrix for regressor X2_eval\n",
    "    int Y_eval[N_eval];                            // Observed Target variable for evaluation\n",
    "}\n",
    "\n",
    "parameters {\n",
    "    real intercept;                           // regression intercept\n",
    "    vector[num_basis_X1] spline_coefficients_X1; // Spline coefficients for X1\n",
    "    vector[num_basis_X2] spline_coefficients_X2; // Spline coefficients for X2\n",
    "    real<lower=0> tau_X1;                        // Precision parameter for Gaussian random walk for X1\n",
    "    real<lower=0> tau_X2;                      // Precision parameter for Gaussian random walk for X2\n",
    "    real<lower=0> alpha;                      // Negative Binomial dispersion parameter\n",
    "}\n",
    "transformed parameters {\n",
    "    vector[N] mu; // Mean of Negative Binomial distribution\n",
    "    matrix[num_basis_X1, num_basis_X1] precision_matrix_X1;  // precision matrix for X1\n",
    "    matrix[num_basis_X2, num_basis_X2] precision_matrix_X2;  // precision matrix for X2\n",
    "\n",
    "    mu = exp(intercept + basis_X1 * spline_coefficients_X1 + basis_X2 * spline_coefficients_X2); //taking exponential as a link function of a GAM\n",
    "\n",
    "    precision_matrix_X1 = K_X1 / pow(tau_X1, 2);  // Defining precision matrix for X1\n",
    "    precision_matrix_X2 = K_X2 / pow(tau_X2, 2);  // Defining precision matrix for X2\n",
    "}\n",
    "\n",
    "model {\n",
    "    // Priors\n",
    "    intercept ~ normal(intercept_mu, intercept_sigma);               // Diffuse prior for intercept\n",
    "    tau_X1 ~ inv_gamma(a_tau_X1, b_tau_X1);  // Inverse Gamma prior for tau_X1\n",
    "    tau_X2 ~ inv_gamma(a_tau_X2, b_tau_X2);  // Inverse Gamma prior for tau_X2\n",
    "    alpha ~ gamma(a_alpha, b_alpha);              // Gamma prior for alpha\n",
    "    \n",
    "    spline_coefficients_X1 ~ multi_normal_prec(rep_vector(0, num_basis_X1), precision_matrix_X1);  // Prior for spline coefficients for X1\n",
    "    spline_coefficients_X2 ~ multi_normal_prec(rep_vector(0, num_basis_X2), precision_matrix_X2);  // Prior for spline coefficients for X2\n",
    "\n",
    "    // Likelihood\n",
    "    Y ~ neg_binomial_2(mu, alpha);\n",
    "}\n",
    "generated quantities{\n",
    "    int y_pred_train[N];\n",
    "    int y_pred_eval[N_eval];\n",
    "    vector[N_eval] mu_eval;\n",
    "    \n",
    "    mu_eval = exp(intercept + basis_X1_eval * spline_coefficients_X1 + basis_X2_eval * spline_coefficients_X2);\n",
    "    for (n in 1:N) {\n",
    "        y_pred_train[n] = neg_binomial_2_rng(mu[n], alpha);\n",
    "    }\n",
    "    for (n_eval in 1:N_eval) {\n",
    "        y_pred_eval[n_eval] = neg_binomial_2_rng(mu_eval[n_eval], alpha);\n",
    "    }\n",
    "}   \n",
    "\"\"\"\n",
    "\n"
   ],
   "metadata": {
    "collapsed": false,
    "ExecuteTime": {
     "end_time": "2023-09-07T07:53:27.592548600Z",
     "start_time": "2023-09-07T07:53:27.575606300Z"
    }
   }
  },
  {
   "cell_type": "code",
   "execution_count": 26,
   "outputs": [
    {
     "name": "stderr",
     "output_type": "stream",
     "text": [
      "INFO:pystan:COMPILING THE C++ CODE FOR MODEL anon_model_7e45e14c9e53ce0eca39a351c9e98e63 NOW.\n"
     ]
    }
   ],
   "source": [
    "# Compile the model\n",
    "stan_model_nb_gamma_penalized_splines_multivariate = pystan.StanModel(model_code=definition_stan_model_nb_gamma_penalized_splines_multivariate)"
   ],
   "metadata": {
    "collapsed": false,
    "ExecuteTime": {
     "end_time": "2023-09-07T07:54:16.872011100Z",
     "start_time": "2023-09-07T07:53:27.591554200Z"
    }
   }
  },
  {
   "cell_type": "code",
   "execution_count": 27,
   "outputs": [],
   "source": [
    "stan_data_nb_gamma_penalized_splines_multivariate = {\n",
    "    \"N\": len(dataY),\n",
    "    \"num_basis_X1\": no_spline_coefficients_X1,\n",
    "    \"num_basis_X2\": no_spline_coefficients_X2,\n",
    "    \"basis_X1\": np.asarray(basis_X1, order=\"F\"),\n",
    "    \"basis_X2\": np.asarray(basis_X2, order=\"F\"),\n",
    "    \"Y\": dataY.astype(int),\n",
    "    \"K_X1\": K_X1,\n",
    "    \"K_X2\": K_X2,\n",
    "    \"a_tau_X1\": tauX1_ig_alpha_gaussian_sigma,\n",
    "    \"b_tau_X1\": tauX1_ig_beta_gaussian_sigma,\n",
    "    \"a_tau_X2\": tauX2_ig_alpha_gaussian_sigma,\n",
    "    \"b_tau_X2\": tauX2_ig_beta_gaussian_sigma,\n",
    "    \"a_alpha\": gamma_alpha_nb_alpha,\n",
    "    \"b_alpha\": gamma_beta_nb_alpha,\n",
    "    \"intercept_mu\": intercept_gaussian_mu,\n",
    "    \"intercept_sigma\": intercept_gaussian_sigma,\n",
    "    \"N_eval\": len(dataY_eval),\n",
    "    \"basis_X1_eval\": np.asarray(basis_X1_eval, order=\"F\"),\n",
    "    \"basis_X2_eval\": np.asarray(basis_X2_eval, order=\"F\"),\n",
    "    \"Y_eval\": dataY_eval.astype(int)\n",
    "}"
   ],
   "metadata": {
    "collapsed": false,
    "ExecuteTime": {
     "end_time": "2023-09-07T07:54:16.895948500Z",
     "start_time": "2023-09-07T07:54:16.877995500Z"
    }
   }
  },
  {
   "cell_type": "code",
   "execution_count": 28,
   "outputs": [
    {
     "name": "stderr",
     "output_type": "stream",
     "text": [
      "WARNING:pystan:Maximum (flat) parameter count (1000) exceeded: skipping diagnostic tests for n_eff and Rhat.\n",
      "To run all diagnostics call pystan.check_hmc_diagnostics(fit)\n",
      "WARNING:pystan:62 of 2000 iterations ended with a divergence (3.1 %).\n",
      "WARNING:pystan:Try running with adapt_delta larger than 0.95 to remove the divergences.\n",
      "WARNING:pystan:1938 of 2000 iterations saturated the maximum tree depth of 10 (96.9 %)\n",
      "WARNING:pystan:Run again with max_treedepth larger than 10 to avoid saturation\n"
     ]
    }
   ],
   "source": [
    "# Sampling from the model\n",
    "start_time = time.time()\n",
    "stan_model_nb_gamma_penalized_splines_multivariate_sampling = stan_model_nb_gamma_penalized_splines_multivariate.sampling(data=stan_data_nb_gamma_penalized_splines_multivariate, iter=draws_default, chains=no_chains_default, seed=RANDOM_SEED, control={\"adapt_delta\": target_accept_default})\n",
    "sampling_time_nb_gamma_penalized_splines_multivariate_stan = time.time() - start_time"
   ],
   "metadata": {
    "collapsed": false,
    "ExecuteTime": {
     "end_time": "2023-09-07T07:59:34.200730800Z",
     "start_time": "2023-09-07T07:54:16.890961600Z"
    }
   }
  },
  {
   "cell_type": "code",
   "execution_count": 29,
   "outputs": [],
   "source": [
    "idata_bayesian_nb_gamma_penalized_splines_multivariate_stan = az.from_pystan(\n",
    "    posterior=stan_model_nb_gamma_penalized_splines_multivariate_sampling,\n",
    "    posterior_predictive=[\"y_pred_train\", \"y_pred_eval\"])"
   ],
   "metadata": {
    "collapsed": false,
    "ExecuteTime": {
     "end_time": "2023-09-07T07:59:34.407178100Z",
     "start_time": "2023-09-07T07:59:34.179608400Z"
    }
   }
  },
  {
   "cell_type": "code",
   "execution_count": 40,
   "outputs": [
    {
     "data": {
      "text/plain": "'temp_data/idata_bayesian_nb_gamma_penalized_splines_multivariate_stan.nc'"
     },
     "execution_count": 40,
     "metadata": {},
     "output_type": "execute_result"
    }
   ],
   "source": [
    "# Note: possibility to export idata as example object\n",
    "# idata_bayesian_nb_gamma_penalized_splines_multivariate_stan.to_netcdf(\"temp_data/idata_bayesian_nb_gamma_penalized_splines_multivariate_stan.nc\")"
   ],
   "metadata": {
    "collapsed": false,
    "ExecuteTime": {
     "end_time": "2023-09-06T16:55:59.731706600Z",
     "start_time": "2023-09-06T16:55:59.371616400Z"
    }
   }
  },
  {
   "cell_type": "code",
   "execution_count": null,
   "outputs": [],
   "source": [
    "# Note: possibility to import idata as example object\n",
    "# idata_bayesian_nb_gamma_penalized_splines_multivariate_stan = az.from_netcdf(\"temp_data/idata_bayesian_nb_gamma_penalized_splines_multivariate_stan.nc\")"
   ],
   "metadata": {
    "collapsed": false
   }
  },
  {
   "cell_type": "code",
   "execution_count": 30,
   "outputs": [],
   "source": [
    "crps_train_nb_gamma_penalized_splines_multivariate_stan, crps_train_average_nb_gamma_penalized_splines_multivariate_stan = calculate_crps(idata_bayesian_nb_gamma_penalized_splines_multivariate_stan, dataY_df, posterior_predictive=\"y_pred_train\")\n",
    "crps_eval_nb_gamma_penalized_splines_multivariate_stan, crps_eval_average_nb_gamma_penalized_splines_multivariate_stan = calculate_crps(idata_bayesian_nb_gamma_penalized_splines_multivariate_stan, dataY_eval_df, posterior_predictive=\"y_pred_eval\")"
   ],
   "metadata": {
    "collapsed": false,
    "ExecuteTime": {
     "end_time": "2023-09-07T07:59:40.002693500Z",
     "start_time": "2023-09-07T07:59:34.257581200Z"
    }
   }
  },
  {
   "cell_type": "code",
   "execution_count": 39,
   "outputs": [],
   "source": [
    "# Create dictionary of parameters used in the model:\n",
    "all_dictionaries = generate_all_dictionaries(\n",
    "    training_data=df,\n",
    "    evaluation_data=df_eval,\n",
    "    data_characteristics_train=data_characteristics_train,\n",
    "    data_characteristics_eval=data_characteristics_eval,\n",
    "    data_transformation=data_transformation,\n",
    "    country_name=country_name,\n",
    "    predictors=predictors,\n",
    "    model_name=model_name_penalized_splines_penalty,\n",
    "    prior_specifications=prior_specifications_penalized_splines_penalty,\n",
    "    no_spline_coefficients_per_regressor=[no_spline_coefficients_X1, no_spline_coefficients_X2],\n",
    "    tau_hyperparameters=[(tauX1_ig_alpha_gaussian_sigma, tauX1_ig_beta_gaussian_sigma),\n",
    "                         (tauX2_ig_alpha_gaussian_sigma, tauX2_ig_beta_gaussian_sigma)],\n",
    "    alpha_nb_hyperparameters=(gamma_alpha_nb_alpha, gamma_beta_nb_alpha),\n",
    "    intercept_hyperparameters=(intercept_gaussian_mu, intercept_gaussian_sigma),\n",
    "    tuning_iterations=tune_default,\n",
    "    sampling_iterations=draws_default,\n",
    "    target_acceptance_rate=target_accept_default,\n",
    "    chains=no_chains_default,\n",
    "    sampling_time=sampling_time_nb_gamma_penalized_splines_multivariate_stan,\n",
    "    idata=idata_bayesian_nb_gamma_penalized_splines_multivariate_stan,\n",
    "    crps_score_train=crps_train_average_nb_gamma_penalized_splines_multivariate_stan,\n",
    "    crps_score_eval=crps_eval_average_nb_gamma_penalized_splines_multivariate_stan)\n",
    "ml_flow_tracking(**all_dictionaries)"
   ],
   "metadata": {
    "collapsed": false,
    "ExecuteTime": {
     "end_time": "2023-09-07T08:17:50.531349800Z",
     "start_time": "2023-09-07T08:17:46.501798700Z"
    }
   }
  },
  {
   "cell_type": "code",
   "execution_count": 29,
   "outputs": [],
   "source": [
    "if stop_server:\n",
    "    server.stop()"
   ],
   "metadata": {
    "collapsed": false
   }
  },
  {
   "cell_type": "markdown",
   "source": [
    "## IV.1 PyMc Model Evaluation"
   ],
   "metadata": {
    "collapsed": false,
    "ExecuteTime": {
     "end_time": "2023-07-17T11:30:37.829982Z",
     "start_time": "2023-07-17T11:30:37.779118300Z"
    }
   }
  },
  {
   "cell_type": "markdown",
   "source": [
    "### 1.Model with Gaussian distribution for likelihood"
   ],
   "metadata": {
    "collapsed": false
   }
  },
  {
   "cell_type": "code",
   "execution_count": null,
   "outputs": [],
   "source": [
    "# Specify which model should be examined\n",
    "model = bayesian_model_gauss\n",
    "idata = idata_bayesian_gauss"
   ],
   "metadata": {
    "collapsed": false
   }
  },
  {
   "cell_type": "markdown",
   "source": [
    "**Visualisations**"
   ],
   "metadata": {
    "collapsed": false
   }
  },
  {
   "cell_type": "code",
   "execution_count": null,
   "outputs": [],
   "source": [
    "az.plot_trace(idata, figsize=(10, 9))\n",
    "az.plot_trace(idata, combined=True, figsize=(10, 9))\n",
    "az.plot_posterior(idata, figsize=(10, 3))"
   ],
   "metadata": {
    "collapsed": false
   }
  },
  {
   "cell_type": "code",
   "execution_count": null,
   "outputs": [],
   "source": [
    "az.plot_ppc(idata, num_pp_samples=100, kind=\"scatter\")"
   ],
   "metadata": {
    "collapsed": false
   }
  },
  {
   "cell_type": "markdown",
   "source": [
    "**Summary Statistics**"
   ],
   "metadata": {
    "collapsed": false
   }
  },
  {
   "cell_type": "code",
   "execution_count": null,
   "outputs": [],
   "source": [
    "az.summary(idata.posterior, var_names=[\"intercept\", \"slopes\"])"
   ],
   "metadata": {
    "collapsed": false
   }
  },
  {
   "cell_type": "code",
   "execution_count": null,
   "outputs": [],
   "source": [
    "az.summary(idata.posterior, var_names=[\"sigma\"])"
   ],
   "metadata": {
    "collapsed": false
   }
  },
  {
   "cell_type": "markdown",
   "source": [
    "**CRPS evaluation**"
   ],
   "metadata": {
    "collapsed": false
   }
  },
  {
   "cell_type": "markdown",
   "source": [
    "### 2.Model with negative binomial distribution for likelihood (alpha half normal distributed)"
   ],
   "metadata": {
    "collapsed": false
   }
  },
  {
   "cell_type": "code",
   "execution_count": null,
   "outputs": [],
   "source": [
    "# Specify which model should be examined\n",
    "model = bayesian_model_nb_half_normal\n",
    "idata = idata_bayesian_nb_half_normal"
   ],
   "metadata": {
    "collapsed": false
   }
  },
  {
   "cell_type": "markdown",
   "source": [
    "**Visualisations**"
   ],
   "metadata": {
    "collapsed": false
   }
  },
  {
   "cell_type": "markdown",
   "source": [],
   "metadata": {
    "collapsed": false
   }
  },
  {
   "cell_type": "code",
   "execution_count": null,
   "outputs": [],
   "source": [
    "# Plotting trace with parameters transformed back to original scale\n",
    "# Plotting trace plots with appropriate size\n",
    "az.plot_trace(np.exp(idata.posterior), var_names=[\"intercept\", \"slopes\"], combined=True, figsize=(10, 6))\n",
    "az.plot_trace(idata.posterior, var_names=[\"alpha\"], combined=True, figsize=(10, 3))\n",
    "\n",
    "# Plotting posterior plots with appropriate size\n",
    "az.plot_posterior(np.exp(idata.posterior), var_names=[\"intercept\", \"slopes\"], figsize=(12, 3))\n",
    "az.plot_posterior(idata, var_names=[\"alpha\"], figsize=(4, 3))\n"
   ],
   "metadata": {
    "collapsed": false
   }
  },
  {
   "cell_type": "code",
   "execution_count": null,
   "outputs": [],
   "source": [
    "# Plotting trace plots in logaritmic scale\n",
    "az.plot_trace(idata, figsize=(10, 9))\n",
    "az.plot_trace(idata, combined=True, figsize=(10, 9))\n",
    "az.plot_posterior(idata, figsize=(10, 3))"
   ],
   "metadata": {
    "collapsed": false
   }
  },
  {
   "cell_type": "code",
   "execution_count": null,
   "outputs": [],
   "source": [
    "try:\n",
    "    az.plot_ppc(idata, num_pp_samples=50, kind=\"scatter\")\n",
    "except Exception as error:\n",
    "    print(\"Error\", error)"
   ],
   "metadata": {
    "collapsed": false
   }
  },
  {
   "cell_type": "markdown",
   "source": [
    "**Summary Statistics**"
   ],
   "metadata": {
    "collapsed": false
   }
  },
  {
   "cell_type": "code",
   "execution_count": null,
   "outputs": [],
   "source": [
    "# Transform coefficients to recover parameter values\n",
    "az.summary(np.exp(idata.posterior), var_names=[\"intercept\", \"slopes\"])"
   ],
   "metadata": {
    "collapsed": false
   }
  },
  {
   "cell_type": "code",
   "execution_count": null,
   "outputs": [],
   "source": [
    "az.summary(idata.posterior, var_names=[\"alpha\"])"
   ],
   "metadata": {
    "collapsed": false
   }
  },
  {
   "cell_type": "markdown",
   "source": [
    "**CRPS evaluation**"
   ],
   "metadata": {
    "collapsed": false
   }
  },
  {
   "cell_type": "markdown",
   "source": [
    "### 3. Model with negative binomial distribution for likelihood (alpha Gamma distributed)"
   ],
   "metadata": {
    "collapsed": false
   }
  },
  {
   "cell_type": "code",
   "execution_count": null,
   "outputs": [],
   "source": [
    "# Specify which model should be examined\n",
    "model = bayesian_model_nb_gamma\n",
    "idata = idata_bayesian_nb_gamma"
   ],
   "metadata": {
    "collapsed": false
   }
  },
  {
   "cell_type": "markdown",
   "source": [
    "**Visualisations**"
   ],
   "metadata": {
    "collapsed": false
   }
  },
  {
   "cell_type": "code",
   "execution_count": null,
   "outputs": [],
   "source": [
    "# Plotting trace with parameters transformed back to original scale\n",
    "# Plotting trace plots with appropriate size\n",
    "az.plot_trace(np.exp(idata.posterior), var_names=[\"intercept\", \"slopes\"], combined=True, figsize=(10, 6))\n",
    "az.plot_trace(idata.posterior, var_names=[\"alpha\"], combined=True, figsize=(10, 3))"
   ],
   "metadata": {
    "collapsed": false
   }
  },
  {
   "cell_type": "code",
   "execution_count": null,
   "outputs": [],
   "source": [
    "# Plotting posterior plots with appropriate size\n",
    "az.plot_posterior(np.exp(idata.posterior), var_names=[\"intercept\", \"slopes\"], figsize=(12, 3))\n",
    "az.plot_posterior(idata, var_names=[\"alpha\"], figsize=(4, 3))"
   ],
   "metadata": {
    "collapsed": false
   }
  },
  {
   "cell_type": "code",
   "execution_count": null,
   "outputs": [],
   "source": [
    "# Plotting trace plots in logaritmic scale\n",
    "az.plot_trace(idata, figsize=(10, 9))\n",
    "az.plot_trace(idata, combined=True, figsize=(10, 9))\n",
    "az.plot_posterior(idata, figsize=(10, 3))"
   ],
   "metadata": {
    "collapsed": false
   }
  },
  {
   "cell_type": "code",
   "execution_count": null,
   "outputs": [],
   "source": [
    "try:\n",
    "    az.plot_ppc(idata, num_pp_samples=50, kind=\"scatter\")\n",
    "except Exception as error:\n",
    "    print(\"Error\", error)"
   ],
   "metadata": {
    "collapsed": false
   }
  },
  {
   "cell_type": "markdown",
   "source": [
    "**Summary Statistics**"
   ],
   "metadata": {
    "collapsed": false
   }
  },
  {
   "cell_type": "code",
   "execution_count": null,
   "outputs": [],
   "source": [
    "# Transform coefficients to recover parameter values\n",
    "az.summary(np.exp(idata.posterior), var_names=[\"intercept\", \"slopes\"])"
   ],
   "metadata": {
    "collapsed": false
   }
  },
  {
   "cell_type": "code",
   "execution_count": null,
   "outputs": [],
   "source": [
    "az.summary(idata.posterior, var_names=[\"alpha\"])"
   ],
   "metadata": {
    "collapsed": false
   }
  },
  {
   "cell_type": "code",
   "execution_count": null,
   "outputs": [],
   "source": [],
   "metadata": {
    "collapsed": false
   }
  },
  {
   "cell_type": "markdown",
   "source": [
    "**CRPS evaluation**"
   ],
   "metadata": {
    "collapsed": false
   }
  },
  {
   "cell_type": "markdown",
   "source": [
    "### 4. Model with Negative Binomial distribution (alpha Gamma distributed) and regression splines (B-splines)"
   ],
   "metadata": {
    "collapsed": false
   }
  },
  {
   "cell_type": "code",
   "execution_count": null,
   "outputs": [],
   "source": [
    "# Specify which model should be examined\n",
    "model = bayesian_model_nb_gamma_splines\n",
    "idata = idata_bayesian_nb_gamma_splines"
   ],
   "metadata": {
    "collapsed": false
   }
  },
  {
   "cell_type": "markdown",
   "source": [
    "**Visualisations**"
   ],
   "metadata": {
    "collapsed": false
   }
  },
  {
   "cell_type": "code",
   "execution_count": null,
   "outputs": [],
   "source": [
    "# Plotting trace with parameters transformed back to original scale\n",
    "# Plotting trace plots with appropriate size\n",
    "az.plot_trace(np.exp(idata.posterior), var_names=[\"intercept\", \"slopesX1\", \"slopesX2\"], combined=True, figsize=(10, 6))\n",
    "az.plot_trace(idata.posterior, var_names=[\"alpha\"], combined=True, figsize=(10, 3))"
   ],
   "metadata": {
    "collapsed": false
   }
  },
  {
   "cell_type": "code",
   "execution_count": null,
   "outputs": [],
   "source": [
    "# Plotting posterior plots with appropriate size\n",
    "az.plot_posterior(np.exp(idata.posterior), var_names=[\"intercept\", \"slopesX1\", \"slopesX2\"])\n",
    "az.plot_posterior(idata, var_names=[\"alpha\"], figsize=(4, 3))"
   ],
   "metadata": {
    "collapsed": false
   }
  },
  {
   "cell_type": "code",
   "execution_count": null,
   "outputs": [],
   "source": [
    "# Plotting trace plots in logaritmic scale\n",
    "az.plot_trace(idata, figsize=(10, 9))\n",
    "az.plot_trace(idata, combined=True, figsize=(10, 9))\n",
    "az.plot_posterior(idata)"
   ],
   "metadata": {
    "collapsed": false
   }
  },
  {
   "cell_type": "code",
   "execution_count": null,
   "outputs": [],
   "source": [
    "try:\n",
    "    az.plot_ppc(idata, num_pp_samples=50, kind=\"scatter\")\n",
    "except Exception as error:\n",
    "    print(\"Error\", error)"
   ],
   "metadata": {
    "collapsed": false
   }
  },
  {
   "cell_type": "markdown",
   "source": [
    "**Summary Statistics**"
   ],
   "metadata": {
    "collapsed": false
   }
  },
  {
   "cell_type": "code",
   "execution_count": null,
   "outputs": [],
   "source": [
    "# Transform coefficients to recover parameter values\n",
    "az.summary(np.exp(idata.posterior), var_names=[\"intercept\", \"slopesX1\", \"slopesX2\"])"
   ],
   "metadata": {
    "collapsed": false
   }
  },
  {
   "cell_type": "code",
   "execution_count": null,
   "outputs": [],
   "source": [
    "az.summary(idata.posterior, var_names=[\"alpha\"])"
   ],
   "metadata": {
    "collapsed": false
   }
  },
  {
   "cell_type": "markdown",
   "source": [
    "**CRPS evaluation**"
   ],
   "metadata": {
    "collapsed": false
   }
  },
  {
   "cell_type": "markdown",
   "source": [
    "### 5. Model with Negative Binomial distribution (alpha Gamma distributed) and penalized regression splines via GRW"
   ],
   "metadata": {
    "collapsed": false
   }
  },
  {
   "cell_type": "code",
   "execution_count": null,
   "outputs": [],
   "source": [
    "# Specify which model should be examined\n",
    "model = bayesian_model_nb_gamma_penalized_splines_grw\n",
    "idata = idata_bayesian_nb_gamma_penalized_splines_grw"
   ],
   "metadata": {
    "collapsed": false
   }
  },
  {
   "cell_type": "markdown",
   "source": [
    "**Summary Statistics**"
   ],
   "metadata": {
    "collapsed": false
   }
  },
  {
   "cell_type": "code",
   "execution_count": null,
   "outputs": [],
   "source": [
    "# Transform coefficients to recover parameter values\n",
    "az.summary(np.exp(idata.posterior), var_names=[\"intercept\", \"slopesX1\", \"slopesX2\"])"
   ],
   "metadata": {
    "collapsed": false
   }
  },
  {
   "cell_type": "code",
   "execution_count": null,
   "outputs": [],
   "source": [
    "az.summary(idata.posterior, var_names=[\"alpha\"])"
   ],
   "metadata": {
    "collapsed": false
   }
  },
  {
   "cell_type": "markdown",
   "source": [
    "**Visualisations**"
   ],
   "metadata": {
    "collapsed": false
   }
  },
  {
   "cell_type": "code",
   "execution_count": null,
   "outputs": [],
   "source": [
    "# Plotting trace with parameters transformed back to original scale\n",
    "# Plotting trace plots with appropriate size\n",
    "az.plot_trace(np.exp(idata.posterior), var_names=[\"intercept\", \"slopesX1\", \"slopesX2\"], combined=True, figsize=(10, 6))\n",
    "az.plot_trace(idata.posterior, var_names=[\"alpha\"], combined=True, figsize=(10, 3))"
   ],
   "metadata": {
    "collapsed": false
   }
  },
  {
   "cell_type": "code",
   "execution_count": null,
   "outputs": [],
   "source": [
    "# Plotting posterior plots with appropriate size\n",
    "az.plot_posterior(np.exp(idata.posterior), var_names=[\"intercept\", \"slopesX1\", \"slopesX2\"])\n",
    "az.plot_posterior(idata, var_names=[\"alpha\"], figsize=(4, 3))"
   ],
   "metadata": {
    "collapsed": false
   }
  },
  {
   "cell_type": "code",
   "execution_count": null,
   "outputs": [],
   "source": [
    "az.plot_posterior(idata.posterior, var_names=[\"slopesX1\"], figsize=(25, 18))"
   ],
   "metadata": {
    "collapsed": false
   }
  },
  {
   "cell_type": "code",
   "execution_count": null,
   "outputs": [],
   "source": [
    "# Plotting trace plots in logaritmic scale\n",
    "az.plot_trace(idata)\n",
    "az.plot_trace(idata, combined=True)\n",
    "az.plot_posterior(idata)"
   ],
   "metadata": {
    "collapsed": false
   }
  },
  {
   "cell_type": "code",
   "execution_count": null,
   "outputs": [],
   "source": [
    "try:\n",
    "    az.plot_ppc(idata, num_pp_samples=50, kind=\"scatter\")\n",
    "except Exception as error:\n",
    "    print(\"Error\", error)"
   ],
   "metadata": {
    "collapsed": false
   }
  },
  {
   "cell_type": "markdown",
   "source": [
    "### 6. Model with Negative Binomial distribution (alpha Gamma distributed) and penalized regression splines via pymc Potential"
   ],
   "metadata": {
    "collapsed": false
   }
  },
  {
   "cell_type": "code",
   "execution_count": null,
   "outputs": [],
   "source": [
    "# Specify which model should be examined\n",
    "model = bayesian_model_nb_gamma_penalized_splines_penalty\n",
    "idata = idata_bayesian_nb_gamma_penalized_splines_penalty"
   ],
   "metadata": {
    "collapsed": false
   }
  },
  {
   "cell_type": "markdown",
   "source": [
    "**Summary Statistics**"
   ],
   "metadata": {
    "collapsed": false
   }
  },
  {
   "cell_type": "code",
   "execution_count": null,
   "outputs": [],
   "source": [
    "# Transform coefficients to recover parameter values\n",
    "az.summary(np.exp(idata.posterior), var_names=[\"intercept\", \"slopesX1\", \"slopesX2\"])"
   ],
   "metadata": {
    "collapsed": false
   }
  },
  {
   "cell_type": "code",
   "execution_count": null,
   "outputs": [],
   "source": [
    "az.summary(idata.posterior, var_names=[\"alpha\"])"
   ],
   "metadata": {
    "collapsed": false
   }
  },
  {
   "cell_type": "markdown",
   "source": [
    "**Visualisations**"
   ],
   "metadata": {
    "collapsed": false
   }
  },
  {
   "cell_type": "code",
   "execution_count": null,
   "outputs": [],
   "source": [
    "# Plotting trace with parameters transformed back to original scale\n",
    "# Plotting trace plots with appropriate size\n",
    "az.plot_trace(np.exp(idata.posterior), var_names=[\"intercept\", \"slopesX1\", \"slopesX2\"], combined=True, figsize=(10, 6))\n",
    "az.plot_trace(idata.posterior, var_names=[\"alpha\"], combined=True, figsize=(10, 3))"
   ],
   "metadata": {
    "collapsed": false
   }
  },
  {
   "cell_type": "code",
   "execution_count": null,
   "outputs": [],
   "source": [
    "# Plotting posterior plots with appropriate size\n",
    "az.plot_posterior(np.exp(idata.posterior), var_names=[\"intercept\", \"slopesX1\", \"slopesX2\"])\n",
    "az.plot_posterior(idata, var_names=[\"alpha\"], figsize=(4, 3))"
   ],
   "metadata": {
    "collapsed": false
   }
  },
  {
   "cell_type": "code",
   "execution_count": null,
   "outputs": [],
   "source": [
    "az.plot_posterior(idata.posterior, var_names=[\"slopesX1\"], figsize=(25, 18))"
   ],
   "metadata": {
    "collapsed": false
   }
  },
  {
   "cell_type": "code",
   "execution_count": null,
   "outputs": [],
   "source": [
    "# Plotting trace plots in logaritmic scale\n",
    "az.plot_trace(idata)\n",
    "az.plot_trace(idata, combined=True)\n",
    "az.plot_posterior(idata)"
   ],
   "metadata": {
    "collapsed": false
   }
  },
  {
   "cell_type": "code",
   "execution_count": null,
   "outputs": [],
   "source": [
    "try:\n",
    "    az.plot_ppc(idata, num_pp_samples=50, kind=\"scatter\")\n",
    "except Exception as error:\n",
    "    print(\"Error\", error)"
   ],
   "metadata": {
    "collapsed": false
   }
  },
  {
   "cell_type": "markdown",
   "source": [
    "**CRPS evaluation**"
   ],
   "metadata": {
    "collapsed": false
   }
  },
  {
   "cell_type": "code",
   "execution_count": null,
   "outputs": [],
   "source": [
    "print(crps_average_gauss)\n",
    "print(crps_average_nb_half_normal)\n",
    "print(crps_average_nb_gamma)\n",
    "print(crps_average_nb_gamma_splines)\n",
    "print(crps_average_nb_gamma_penalized_splines_grw)\n",
    "print(crps_average_nb_gamma_penalized_splines_penalty)"
   ],
   "metadata": {
    "collapsed": false
   }
  },
  {
   "cell_type": "markdown",
   "source": [
    "## IV.2 PyStan Model Evaluation"
   ],
   "metadata": {
    "collapsed": false
   }
  },
  {
   "cell_type": "markdown",
   "source": [
    "### 1. Model with Negative Binomial distribution (alpha Gamma distributed) and penalized regression splines via GRW"
   ],
   "metadata": {
    "collapsed": false
   }
  },
  {
   "cell_type": "code",
   "execution_count": null,
   "outputs": [],
   "source": [
    "# Specify which model should be examined\n",
    "model = stan_model_nb_gamma_penalized_splines_grw\n",
    "idata = idata_bayesian_nb_gamma_penalized_splines_grw_stan"
   ],
   "metadata": {
    "collapsed": false
   }
  },
  {
   "cell_type": "markdown",
   "source": [
    "**Summary Statistics**"
   ],
   "metadata": {
    "collapsed": false
   }
  },
  {
   "cell_type": "code",
   "execution_count": null,
   "outputs": [],
   "source": [
    "# Transform coefficients to recover parameter values\n",
    "az.summary(np.exp(idata.posterior))"
   ],
   "metadata": {
    "collapsed": false
   }
  },
  {
   "cell_type": "code",
   "execution_count": null,
   "outputs": [],
   "source": [
    "az.summary(idata.posterior)"
   ],
   "metadata": {
    "collapsed": false
   }
  },
  {
   "cell_type": "markdown",
   "source": [
    "**Visualisations**"
   ],
   "metadata": {
    "collapsed": false
   }
  },
  {
   "cell_type": "code",
   "execution_count": null,
   "outputs": [],
   "source": [
    "# Plotting trace with parameters transformed back to original scale\n",
    "# Plotting trace plots with appropriate size\n",
    "az.plot_trace(np.exp(idata.posterior), var_names=[\"intercept\", \"slopesX1\", \"slopesX2\"], combined=True, figsize=(10, 6))\n",
    "az.plot_trace(idata.posterior, var_names=[\"alpha\"], combined=True, figsize=(10, 3))"
   ],
   "metadata": {
    "collapsed": false
   }
  },
  {
   "cell_type": "code",
   "execution_count": null,
   "outputs": [],
   "source": [
    "# Plotting posterior plots with appropriate size\n",
    "az.plot_posterior(np.exp(idata.posterior), var_names=[\"intercept\", \"slopesX1\", \"slopesX2\"])\n",
    "az.plot_posterior(idata, var_names=[\"alpha\"], figsize=(4, 3))"
   ],
   "metadata": {
    "collapsed": false
   }
  },
  {
   "cell_type": "code",
   "execution_count": null,
   "outputs": [],
   "source": [
    "az.plot_posterior(idata.posterior, var_names=[\"slopesX1\"], figsize=(25, 18))"
   ],
   "metadata": {
    "collapsed": false
   }
  },
  {
   "cell_type": "code",
   "execution_count": null,
   "outputs": [],
   "source": [
    "# Plotting trace plots in logaritmic scale\n",
    "az.plot_trace(idata)\n",
    "az.plot_trace(idata, combined=True)\n",
    "az.plot_posterior(idata)"
   ],
   "metadata": {
    "collapsed": false
   }
  },
  {
   "cell_type": "code",
   "execution_count": null,
   "outputs": [],
   "source": [
    "try:\n",
    "    az.plot_ppc(idata, num_pp_samples=50, kind=\"scatter\")\n",
    "except Exception as error:\n",
    "    print(\"Error\", error)"
   ],
   "metadata": {
    "collapsed": false
   }
  },
  {
   "cell_type": "markdown",
   "source": [
    "### 2. Model with Negative Binomial distribution (alpha Gamma distributed) and penalized regression splines via multivariate distribution using penalty matrix"
   ],
   "metadata": {
    "collapsed": false
   }
  },
  {
   "cell_type": "code",
   "execution_count": null,
   "outputs": [],
   "source": [
    "# Specify which model should be examined\n",
    "model = stan_model_nb_gamma_penalized_splines_multivariate\n",
    "idata = idata_bayesian_nb_gamma_penalized_splines_multivariate_stan"
   ],
   "metadata": {
    "collapsed": false
   }
  },
  {
   "cell_type": "markdown",
   "source": [
    "**Summary Statistics**"
   ],
   "metadata": {
    "collapsed": false
   }
  },
  {
   "cell_type": "code",
   "execution_count": null,
   "outputs": [],
   "source": [
    "# Transform coefficients to recover parameter values\n",
    "az.summary(np.exp(idata.posterior))"
   ],
   "metadata": {
    "collapsed": false
   }
  },
  {
   "cell_type": "code",
   "execution_count": null,
   "outputs": [],
   "source": [
    "az.summary(idata.posterior)"
   ],
   "metadata": {
    "collapsed": false
   }
  },
  {
   "cell_type": "markdown",
   "source": [
    "**Visualisations**"
   ],
   "metadata": {
    "collapsed": false
   }
  },
  {
   "cell_type": "code",
   "execution_count": null,
   "outputs": [],
   "source": [
    "# Plotting trace with parameters transformed back to original scale\n",
    "# Plotting trace plots with appropriate size\n",
    "az.plot_trace(np.exp(idata.posterior), var_names=[\"intercept\", \"slopesX1\", \"slopesX2\"], combined=True, figsize=(10, 6))\n",
    "az.plot_trace(idata.posterior, var_names=[\"alpha\"], combined=True, figsize=(10, 3))"
   ],
   "metadata": {
    "collapsed": false
   }
  },
  {
   "cell_type": "code",
   "execution_count": null,
   "outputs": [],
   "source": [
    "# Plotting posterior plots with appropriate size\n",
    "az.plot_posterior(np.exp(idata.posterior), var_names=[\"intercept\", \"slopesX1\", \"slopesX2\"])\n",
    "az.plot_posterior(idata, var_names=[\"alpha\"], figsize=(4, 3))"
   ],
   "metadata": {
    "collapsed": false
   }
  },
  {
   "cell_type": "code",
   "execution_count": null,
   "outputs": [],
   "source": [
    "az.plot_posterior(idata.posterior, var_names=[\"slopesX1\"], figsize=(25, 18))"
   ],
   "metadata": {
    "collapsed": false
   }
  },
  {
   "cell_type": "code",
   "execution_count": null,
   "outputs": [],
   "source": [
    "# Plotting trace plots in logaritmic scale\n",
    "az.plot_trace(idata)\n",
    "az.plot_trace(idata, combined=True)\n",
    "az.plot_posterior(idata)"
   ],
   "metadata": {
    "collapsed": false
   }
  },
  {
   "cell_type": "code",
   "execution_count": null,
   "outputs": [],
   "source": [
    "try:\n",
    "    az.plot_ppc(idata, num_pp_samples=50, kind=\"scatter\")\n",
    "except Exception as error:\n",
    "    print(\"Error\", error)"
   ],
   "metadata": {
    "collapsed": false
   }
  },
  {
   "cell_type": "markdown",
   "source": [
    "## V. Test functionalities with simulated data"
   ],
   "metadata": {
    "collapsed": false
   }
  },
  {
   "cell_type": "markdown",
   "source": [
    "## VI. Data exploration steps"
   ],
   "metadata": {
    "collapsed": false
   }
  },
  {
   "cell_type": "code",
   "execution_count": null,
   "outputs": [],
   "source": [
    "idata = idata_bayesian_nb_gamma_splines\n",
    "az.ess(idata, var_names=[\"intercept\", \"slopesX1\", \"slopesX2\"])"
   ],
   "metadata": {
    "collapsed": false
   }
  },
  {
   "cell_type": "code",
   "execution_count": null,
   "outputs": [],
   "source": [
    "idata = idata_bayesian_nb_gamma_penalized_splines_penalty\n",
    "az.ess(idata, var_names=[\"intercept\", \"slopesX1\", \"slopesX2\"])"
   ],
   "metadata": {
    "collapsed": false
   }
  },
  {
   "cell_type": "code",
   "execution_count": null,
   "outputs": [],
   "source": [
    "pm.math.exp(pm.math.exp(2))"
   ],
   "metadata": {
    "collapsed": false
   }
  },
  {
   "cell_type": "code",
   "execution_count": null,
   "outputs": [],
   "source": [
    "np.exp(np.exp(2))"
   ],
   "metadata": {
    "collapsed": false
   }
  },
  {
   "cell_type": "code",
   "execution_count": null,
   "outputs": [],
   "source": [
    "data_cm_features_allyears.loc[data_cm_features_allyears[\"country_id\"] == country_id, 'ged_sb']"
   ],
   "metadata": {
    "collapsed": false
   }
  },
  {
   "cell_type": "code",
   "execution_count": null,
   "outputs": [],
   "source": [
    "az.summary(idata)"
   ],
   "metadata": {
    "collapsed": false
   }
  },
  {
   "cell_type": "code",
   "execution_count": null,
   "outputs": [],
   "source": [
    "posterior_predictive = ppc_posterior_nb_gamma.get(\"posterior_predicitve\"); posterior_predictive"
   ],
   "metadata": {
    "collapsed": false
   }
  },
  {
   "cell_type": "code",
   "execution_count": null,
   "outputs": [],
   "source": [
    "ppc_posterior_nb_gamma"
   ],
   "metadata": {
    "collapsed": false
   }
  },
  {
   "cell_type": "code",
   "execution_count": null,
   "outputs": [],
   "source": [
    "posterior_predictive[\"obs\"]"
   ],
   "metadata": {
    "collapsed": false
   }
  },
  {
   "cell_type": "code",
   "execution_count": null,
   "outputs": [],
   "source": [
    "az.plot_bpv(idata, figsize=(12, 6))"
   ],
   "metadata": {
    "collapsed": false
   }
  },
  {
   "cell_type": "code",
   "execution_count": null,
   "outputs": [],
   "source": [
    "posterior_samples =  idata[\"posterior_predictive\"][\"obs\"].values\n",
    " # Reshape the array to a 2D array with samples in rows and observations in columns\n",
    "num_chains, num_draws, num_observations = posterior_samples.shape\n",
    "reshaped_samples = posterior_samples.reshape(num_chains * num_draws, num_observations)\n",
    "\n",
    "# Convert the 2D array to a pandas DataFrame\n",
    "df_posterior_samples = pd.DataFrame(reshaped_samples)\n",
    "\n",
    "# Optionally, you can add meaningful column names to the DataFrame\n",
    "# For example, assuming the original DataFrame has column names 'obs_0', 'obs_1', etc.\n",
    "column_names = ['obs_{}'.format(column_idx) for column_idx in range(num_observations)]\n",
    "df_posterior_samples.columns = column_names"
   ],
   "metadata": {
    "collapsed": false
   }
  },
  {
   "cell_type": "markdown",
   "source": [
    "### Test model with simulated data"
   ],
   "metadata": {
    "collapsed": false
   }
  },
  {
   "cell_type": "code",
   "execution_count": null,
   "outputs": [],
   "source": [
    "##Step 1: Import Libraries\n",
    "import pymc as pm\n",
    "import pandas as pd\n",
    "import patsy as ps\n",
    "import numpy as np\n",
    "import matplotlib.pyplot as plt\n",
    "from scipy.interpolate import BSpline\n",
    "\n",
    "##Step 2: Generate simulated data\n",
    "# Set random seed for reproducibility\n",
    "RANDOM_SEED = 12345\n",
    "\n",
    "# Number of samples\n",
    "n_samples = 500\n",
    "\n",
    "# Generate X values\n",
    "X1 = np.sort(np.random.rand(n_samples) * 10)\n",
    "X2 = np.sort(np.random.rand(n_samples) * 10)\n",
    "\n",
    "# Number of knots\n",
    "num_knots = 10\n",
    "\n",
    "# Generate spline curves for X1 and X2\n",
    "knots1 = np.linspace(0, 10, num_knots)\n",
    "knots2 = np.linspace(0, 10, num_knots)\n",
    "\n",
    "coeffs1 = np.random.randn(num_knots)\n",
    "coeffs2 = np.random.randn(num_knots)\n",
    "\n",
    "spline1 = BSpline(knots1, coeffs1, k=3)\n",
    "spline2 = BSpline(knots2, coeffs2, k=3)\n",
    "\n",
    "f1_values = spline1(X1)\n",
    "f2_values = spline2(X2)\n",
    "\n",
    "# Generate Y values\n",
    "beta_0 = 0.5\n",
    "beta_1 = 1\n",
    "beta_2 = 1.2\n",
    "\n",
    "mu = np.exp(beta_0 + beta_1 * f1_values + beta_2 * f2_values)\n",
    "n = 2.0  # Adjust the size parameter as needed\n",
    "p = mu / (mu + n)  # Adjust the probability parameter as needed\n",
    "Y = np.random.negative_binomial(n, p, size=n_samples)\n",
    "\n",
    "# Create a DataFrame\n",
    "df = pd.DataFrame({\n",
    "    \"ged_sb_tlag_1\": X1,\n",
    "    \"ged_sb_tsum_24\": X2,\n",
    "    \"ged_sb\": Y\n",
    "})\n",
    "\n",
    "## Step 3: Visualize the Simulated Data\n",
    "# Visualizing data\n",
    "plt.figure(figsize=(15, 5))\n",
    "\n",
    "# Plot X1 vs. Y\n",
    "plt.subplot(1, 2, 1)\n",
    "plt.scatter(df['ged_sb_tlag_1'], df['ged_sb'], color='blue', s=10, alpha=0.5)\n",
    "plt.plot(X1, mu, color='red', linewidth=2)\n",
    "plt.title('X1 vs. Y')\n",
    "plt.xlabel('ged_sb_tlag_1')\n",
    "plt.ylabel('ged_sb')\n",
    "\n",
    "# Plot X2 vs. Y\n",
    "plt.subplot(1, 2, 2)\n",
    "plt.scatter(df['ged_sb_tsum_24'], df['ged_sb'], color='green', s=10, alpha=0.5)\n",
    "plt.plot(X2, mu, color='red', linewidth=2)\n",
    "plt.title('X2 vs. Y')\n",
    "plt.xlabel('ged_sb_tsum_24')\n",
    "plt.ylabel('ged_sb')\n",
    "\n",
    "plt.tight_layout()\n",
    "plt.show()\n",
    "\n",
    "\n",
    "##Step 4: Define the PyMc Model\n",
    "dataX1 = df.ged_sb_tlag_1.to_numpy()\n",
    "dataX2 = df.ged_sb_tsum_24.to_numpy()\n",
    "dataY = df.ged_sb.to_numpy()\n",
    "\n",
    "# Note: If knots are intended to be not equally spaces (e.g. set by quantiles) the consequence on penalized splines has to be evaluated\n",
    "# Define the knot positions\n",
    "\n",
    "\n",
    "# We define the knot list such that we'll have num_knots knot inbetween the boundaries of the data\n",
    "knot_list_X1 = np.linspace(dataX1.min(), dataX1.max(), num_knots+2)[1:-1]\n",
    "knot_list_X2 = np.linspace(dataX2.min(), dataX2.max(), num_knots+2)[1:-1]\n",
    "\n",
    "# Define the basis functions\n",
    "# Note: We include the intercept once in the model via the intercept parameter, to prevent having additional '1' columns in basis functions include_intercept is set to False and automatic creation of '1' column of patsy is prevented by '-1'\n",
    "basis_X1 = ps.dmatrix(\"bs(X1, knots=knots, degree=3, include_intercept=False) -1\", {\"X1\": dataX1, \"knots\": knot_list_X1})\n",
    "basis_X2 = ps.dmatrix(\"bs(X2, knots=knots, degree=3, include_intercept=False) -1\", {\"X2\": dataX2, \"knots\": knot_list_X2})\n",
    "\n",
    "# Define variables for tau priors\n",
    "a_X1 = a_X2 = 1\n",
    "b_X1 = b_X2 = 0.005\n",
    "\n",
    "def generate_penalty_matrix(no_coefficients):\n",
    "    penalty_matrix = -2 * np.eye(no_coefficients) + np.eye(no_coefficients, k=1) + np.eye(no_coefficients, k=-1)\n",
    "    penalty_matrix[0, 0] = 1\n",
    "    penalty_matrix[no_coefficients - 1, no_coefficients - 1] = 1\n",
    "    return penalty_matrix\n",
    "\n",
    "\n",
    "no_X1_coefficients = basis_X1.shape[1]\n",
    "no_X2_coefficients = basis_X2.shape[1]\n",
    "K_X1 = generate_penalty_matrix(no_X1_coefficients)\n",
    "K_X2 = generate_penalty_matrix(no_X2_coefficients)\n",
    "\n",
    "COORDS_penalized_splines = \\\n",
    "    {\"obs_idx\": df.index, \"splines_x1_rest\": np.arange(basis_X1.shape[1] -1), \"splines_x2_rest\": np.arange(basis_X2.shape[1] -1)}\n",
    "\n",
    "# NOTE: WIP: Implementation of penalized regression splines still to be figured out, Version with Penalty deduction in likelihood\n",
    "with pm.Model(coords=COORDS_penalized_splines) as bayesian_model_nb_gamma_penalized_splines_penalty:\n",
    "    # Specify the data\n",
    "    X1 = pm.ConstantData(\"fatality lag t=1\", dataX1, dims=\"obs_idx\")\n",
    "    X2 = pm.ConstantData(\"fatality rolling average t=24\", dataX2, dims=\"obs_idx\")\n",
    "    Y = pm.ConstantData(\"fatility count\", dataY, dims=\"obs_idx\")\n",
    "\n",
    "    # Define the priors for regressors and negative binomial over-dispersion parameter\n",
    "    intercept = pm.Normal(\"intercept\", sigma=10)\n",
    "\n",
    "    # Define first order random walk to incorporate regularization\n",
    "    tau_X1 = pm.InverseGamma(\"tauX1\", alpha=a_X1, beta=b_X1)\n",
    "    tau_X2 = pm.InverseGamma(\"tauX2\", alpha=a_X2, beta=b_X2)\n",
    "\n",
    "    # Create deterministic variables for squared taus\n",
    "    tau_X1_squared = pm.Deterministic(\"tau_X1_squared\", tau_X1 ** 2)\n",
    "    tau_X2_squared = pm.Deterministic(\"tau_X2_squared\", tau_X2 ** 2)\n",
    "\n",
    "    # Introduce flat priors for the first regression coeffcients of the splines\n",
    "    beta_X1_0 = pm.Normal(0, 1000, \"slopesX1_0\")\n",
    "    beta_X2_0 = pm.Normal(0, 1000, \"slopesX2_0\")\n",
    "    \n",
    "    # Define remaining betas as normal variables with standard deviation tau\n",
    "    beta_X1_rest = pm.Normal(\"slopesX1_rest\", 0.0, tau_X1, dims=\"splines_x1_rest\")\n",
    "    beta_X2_rest = pm.Normal(\"slopesX2_rest\", 0.0, tau_X2, dims=\"splines_x2_rest\")\n",
    "    \n",
    "    # Concatenate the flat priors to the beginning of the coefficients\n",
    "    beta_X1 = pm.Deterministic(\"slopesX1\", pm.math.concatenate([[beta_X1_0], beta_X1_rest]))\n",
    "    beta_X2 = pm.Deterministic(\"slopesX2\", pm.math.concatenate([[beta_X2_0], beta_X2_rest]))\n",
    "\n",
    "\n",
    "    alpha = pm.Gamma('alpha', 0.1, 0.1)\n",
    "\n",
    "    # Define mean of negative binomial distribution\n",
    "    mu = pm.math.exp(intercept + pm.math.dot(np.asarray(basis_X1, order=\"F\"), beta_X1.T) + pm.math.dot(np.asarray(basis_X2, order=\"F\"), beta_X2.T))\n",
    "\n",
    "    # Define the likelihood\n",
    "    obs = pm.NegativeBinomial(\"obs\", mu=mu, alpha=alpha, observed=Y, dims=\"obs_idx\")\n",
    "\n",
    "    # Define the penalty term and incorporate it using pm.Potential\n",
    "    penalty_term_X1 = pm.math.dot(beta_X1.T, pm.math.dot(K_X1, beta_X1)) / (2 * tau_X1_squared)\n",
    "    penalty_X1 = pm.Potential(\"penalty_X1\", -penalty_term_X1)\n",
    "\n",
    "    penalty_term_X2 = pm.math.dot(beta_X2, pm.math.dot(K_X2, beta_X2)) / (2 * tau_X2_squared)\n",
    "    penalty_X2 = pm.Potential(\"penalty_X2\", -penalty_term_X2)\n",
    "\n",
    "    # Run the sampling using the No-U-Turn Sampler (NUTS) for the specified number of samples\n",
    "    idata_bayesian_nb_gamma_penalized_splines_penalty = pm.sample(draws=draws_default, tune=tune_default, random_seed=RANDOM_SEED, target_accept=target_accept_default)"
   ],
   "metadata": {
    "collapsed": false
   }
  },
  {
   "cell_type": "markdown",
   "source": [
    "### Code which is WIP"
   ],
   "metadata": {
    "collapsed": false
   }
  },
  {
   "cell_type": "code",
   "execution_count": null,
   "outputs": [],
   "source": [
    "# Note: WIP\n",
    "def model_training(df:pd.DataFrame, model_params: dict, validation_year: int, K:int):\n",
    "    # Extracting year and month from month_id\n",
    "    df['year'] = ((df['month_id'] - 1) // 12) + 1990\n",
    "    df['month'] = ((df['month_id'] - 1) % 12) + 1\n",
    "\n",
    "    # Step 1: Split data into training and test sets\n",
    "    train_data = df[(df['year'] >= 1990) & (df['year'] < 2018)]\n",
    "    test_data = df[df['year'] == 2018]\n",
    "\n",
    "    # Step 2: Perform \"10-Fold\" time series cross-validation within the training set with a 2-month-gap\n",
    "    tscv = TimeSeriesSplit(n_splits=K)\n",
    "\n",
    "    for train_index, val_index in tscv.split(train_data):\n",
    "        # Extract train and validation sets for the current fold\n",
    "        train_fold = train_data.iloc[train_index]\n",
    "        val_fold = train_data.iloc[val_index]\n",
    "\n",
    "        # Exclude last two months (November and December) from the training set\n",
    "        train_fold = train_fold[~((train_fold['month'] == 11) | (train_fold['month'] == 12))]\n",
    "\n",
    "        # Step 3: Train the model on the training set\n",
    "        model, trace = build_bayesian_model(df, model_params)\n",
    "\n",
    "        # Step 4: Predict the validation set\n",
    "        crps_scores, crps_average = calculate_crps(trace, val_fold)\n",
    "\n",
    "\n",
    "# Note WIP\n",
    "model_params = {\n",
    "    \"coords\": COORDS,\n",
    "    \"intercept_prior_sigma\": 0.1,\n",
    "    \"slopes_prior_mu\": 0.0,\n",
    "    \"slopes_prior_sd\": 10,\n",
    "    \"alpha_prior_alpha\": 0.1,\n",
    "    \"alpha_prior_beta\": 0.1,\n",
    "    \"regressors_data\": [df.ged_sb_tlag_1.to_numpy(), df.ged_sb_tsum_24.to_numpy()],  # Add more predictors' data as needed\n",
    "    \"Y_data\": df.ged_sb.to_numpy(),\n",
    "    \"regularization_param\": 0.01,  # Add your desired regularization parameter value\n",
    "    \"num_knots\": 10,  # Add your desired number of knots for P-splines\n",
    "    \"draws\": 1000,\n",
    "    \"tune\": 2000,\n",
    "    \"random_seed\": rng,\n",
    "    \"target_accept\": 0.95\n",
    "}\n",
    "\n",
    "# Note: WIP\n",
    "def build_bayesian_model(df: pd.DataFrame(), model_params: dict):\n",
    "    \"\"\"\n",
    "    Build the Bayesian model for the negative binomial regression with P-splines.\n",
    "\n",
    "    Parameters:\n",
    "        df (pd.DataFrame): DataFrame containing the data.\n",
    "        model_params (dict): Dictionary containing the model parameters.\n",
    "\n",
    "    Returns:\n",
    "        model: PyMC3 model object\n",
    "        trace: PyMC3 trace object\n",
    "    \"\"\"\n",
    "    # Extract the model parameters\n",
    "    coords = model_params[\"coords\"]\n",
    "    intercept_prior_sigma = model_params[\"intercept_prior_sigma\"]\n",
    "    slopes_prior_mu = model_params[\"slopes_prior_mu\"]\n",
    "    slopes_prior_sd = model_params[\"slopes_prior_sd\"]\n",
    "    alpha_prior_alpha = model_params[\"alpha_prior_alpha\"]\n",
    "    alpha_prior_beta = model_params[\"alpha_prior_beta\"]\n",
    "    regressors_data = model_params[\"regressors_data\"]\n",
    "    Y_data = model_params[\"Y_data\"]\n",
    "    regularization_param = model_params[\"regularization_param\"]\n",
    "    num_knots = model_params[\"num_knots\"]\n",
    "    draws = model_params[\"draws\"]\n",
    "    tune = model_params[\"tune\"]\n",
    "    random_seed = model_params[\"random_seed\"]\n",
    "    target_accept = model_params[\"target_accept\"]\n",
    "\n",
    "    # Build the model\n",
    "    with pm.Model(coords=coords) as bayesian_model_nb:\n",
    "        # Define the priors for the intercept, slopes, and over-dispersion parameter\n",
    "        intercept = pm.Normal(\"intercept\", 0.0, intercept_prior_sigma)\n",
    "        slopes = pm.Normal(\"slopes\", slopes_prior_mu, slopes_prior_sd, dims=\"predictors\")\n",
    "        alpha = pm.Gamma('alpha', alpha_prior_alpha, alpha_prior_beta)\n",
    "\n",
    "        # Specify the data\n",
    "        X = []\n",
    "        for i in range(len(regressors_data)):\n",
    "            X.append(pm.ConstantData(\"X{}\".format(i), regressors_data[i], dims=\"obs_idx\"))\n",
    "        Y = pm.ConstantData(\"Y\", Y_data, dims=\"obs_idx\")\n",
    "\n",
    "        # Define the basis functions\n",
    "        knots = np.linspace(df['month_id'].min(), df['month_id'].max(), num_knots + 2)[1:-1]\n",
    "        basis_funcs = pm.spline.make_spline_basis(knots, degree=3)\n",
    "\n",
    "        # Define the coefficients for the basis functions\n",
    "        beta = pm.Normal(\"beta\", mu=0, sigma=regularization_param, dims=\"basis_funcs\")\n",
    "\n",
    "        # Define the mean of the negative binomial distribution\n",
    "        mu = pm.math.exp(intercept + pm.math.dot(X, slopes) + pm.math.dot(basis_funcs, beta))\n",
    "\n",
    "        # Define the likelihood\n",
    "        obs = pm.NegativeBinomial(\"obs\", mu=mu, alpha=alpha, observed=Y, dims=\"obs_idx\")\n",
    "\n",
    "        # Run the sampling using the No-U-Turn Sampler (NUTS) for the specified number of samples\n",
    "        trace = pm.sample(draws=draws, tune=tune, random_seed=random_seed, target_accept=target_accept)\n",
    "\n",
    "        return bayesian_model_nb, trace\n",
    "\n"
   ],
   "metadata": {
    "collapsed": false
   }
  },
  {
   "cell_type": "code",
   "execution_count": 41,
   "outputs": [
    {
     "ename": "KeyboardInterrupt",
     "evalue": "",
     "output_type": "error",
     "traceback": [
      "\u001B[1;31m---------------------------------------------------------------------------\u001B[0m",
      "\u001B[1;31mKeyboardInterrupt\u001B[0m                         Traceback (most recent call last)",
      "\u001B[1;32m~\\AppData\\Local\\Temp\\ipykernel_18552\\647671676.py\u001B[0m in \u001B[0;36m<module>\u001B[1;34m\u001B[0m\n\u001B[1;32m----> 1\u001B[1;33m \u001B[0mserver\u001B[0m\u001B[1;33m.\u001B[0m\u001B[0mstop\u001B[0m\u001B[1;33m(\u001B[0m\u001B[1;33m)\u001B[0m\u001B[1;33m\u001B[0m\u001B[1;33m\u001B[0m\u001B[0m\n\u001B[0m",
      "\u001B[1;32m~\\PycharmProjects\\bachelor_thesis\\help_functions.py\u001B[0m in \u001B[0;36mstop\u001B[1;34m(self)\u001B[0m\n\u001B[0;32m     67\u001B[0m         \u001B[0mShuts\u001B[0m \u001B[0mdown\u001B[0m \u001B[0mthe\u001B[0m \u001B[0mMLflow\u001B[0m \u001B[0mserver\u001B[0m\u001B[1;33m.\u001B[0m\u001B[1;33m\u001B[0m\u001B[1;33m\u001B[0m\u001B[0m\n\u001B[0;32m     68\u001B[0m         \"\"\"\n\u001B[1;32m---> 69\u001B[1;33m         \u001B[1;32mif\u001B[0m \u001B[0mself\u001B[0m\u001B[1;33m.\u001B[0m\u001B[0mprocess\u001B[0m\u001B[1;33m:\u001B[0m\u001B[1;33m\u001B[0m\u001B[1;33m\u001B[0m\u001B[0m\n\u001B[0m\u001B[0;32m     70\u001B[0m             \u001B[0mself\u001B[0m\u001B[1;33m.\u001B[0m\u001B[0mprocess\u001B[0m\u001B[1;33m.\u001B[0m\u001B[0mterminate\u001B[0m\u001B[1;33m(\u001B[0m\u001B[1;33m)\u001B[0m\u001B[1;33m\u001B[0m\u001B[1;33m\u001B[0m\u001B[0m\n\u001B[0;32m     71\u001B[0m             \u001B[0mself\u001B[0m\u001B[1;33m.\u001B[0m\u001B[0mprocess\u001B[0m\u001B[1;33m.\u001B[0m\u001B[0mwait\u001B[0m\u001B[1;33m(\u001B[0m\u001B[1;33m)\u001B[0m  \u001B[1;31m# Wait for the process to actually terminate\u001B[0m\u001B[1;33m\u001B[0m\u001B[1;33m\u001B[0m\u001B[0m\n",
      "\u001B[1;32m~\\PycharmProjects\\bachelor_thesis\\help_functions.py\u001B[0m in \u001B[0;36mstop\u001B[1;34m(self)\u001B[0m\n\u001B[0;32m     67\u001B[0m         \u001B[0mShuts\u001B[0m \u001B[0mdown\u001B[0m \u001B[0mthe\u001B[0m \u001B[0mMLflow\u001B[0m \u001B[0mserver\u001B[0m\u001B[1;33m.\u001B[0m\u001B[1;33m\u001B[0m\u001B[1;33m\u001B[0m\u001B[0m\n\u001B[0;32m     68\u001B[0m         \"\"\"\n\u001B[1;32m---> 69\u001B[1;33m         \u001B[1;32mif\u001B[0m \u001B[0mself\u001B[0m\u001B[1;33m.\u001B[0m\u001B[0mprocess\u001B[0m\u001B[1;33m:\u001B[0m\u001B[1;33m\u001B[0m\u001B[1;33m\u001B[0m\u001B[0m\n\u001B[0m\u001B[0;32m     70\u001B[0m             \u001B[0mself\u001B[0m\u001B[1;33m.\u001B[0m\u001B[0mprocess\u001B[0m\u001B[1;33m.\u001B[0m\u001B[0mterminate\u001B[0m\u001B[1;33m(\u001B[0m\u001B[1;33m)\u001B[0m\u001B[1;33m\u001B[0m\u001B[1;33m\u001B[0m\u001B[0m\n\u001B[0;32m     71\u001B[0m             \u001B[0mself\u001B[0m\u001B[1;33m.\u001B[0m\u001B[0mprocess\u001B[0m\u001B[1;33m.\u001B[0m\u001B[0mwait\u001B[0m\u001B[1;33m(\u001B[0m\u001B[1;33m)\u001B[0m  \u001B[1;31m# Wait for the process to actually terminate\u001B[0m\u001B[1;33m\u001B[0m\u001B[1;33m\u001B[0m\u001B[0m\n",
      "\u001B[1;32mpydevd_cython.pyx\u001B[0m in \u001B[0;36m_pydevd_bundle.pydevd_cython.SafeCallWrapper.__call__\u001B[1;34m()\u001B[0m\n",
      "\u001B[1;32mpydevd_cython.pyx\u001B[0m in \u001B[0;36m_pydevd_bundle.pydevd_cython.PyDBFrame.trace_dispatch\u001B[1;34m()\u001B[0m\n",
      "\u001B[1;32mpydevd_cython.pyx\u001B[0m in \u001B[0;36m_pydevd_bundle.pydevd_cython.PyDBFrame.trace_dispatch\u001B[1;34m()\u001B[0m\n",
      "\u001B[1;32mpydevd_cython.pyx\u001B[0m in \u001B[0;36m_pydevd_bundle.pydevd_cython.PyDBFrame.trace_dispatch\u001B[1;34m()\u001B[0m\n",
      "\u001B[1;32mC:\\Program Files\\JetBrains\\PyCharm 2023.1.3\\plugins\\python\\helpers-pro\\jupyter_debug\\pydev_jupyter_plugin.py\u001B[0m in \u001B[0;36mstop\u001B[1;34m(plugin, pydb, frame, event, args, stop_info, arg, step_cmd)\u001B[0m\n\u001B[0;32m    167\u001B[0m         \u001B[0mframe\u001B[0m \u001B[1;33m=\u001B[0m \u001B[0msuspend_jupyter\u001B[0m\u001B[1;33m(\u001B[0m\u001B[0mmain_debugger\u001B[0m\u001B[1;33m,\u001B[0m \u001B[0mthread\u001B[0m\u001B[1;33m,\u001B[0m \u001B[0mframe\u001B[0m\u001B[1;33m,\u001B[0m \u001B[0mstep_cmd\u001B[0m\u001B[1;33m)\u001B[0m\u001B[1;33m\u001B[0m\u001B[1;33m\u001B[0m\u001B[0m\n\u001B[0;32m    168\u001B[0m         \u001B[1;32mif\u001B[0m \u001B[0mframe\u001B[0m\u001B[1;33m:\u001B[0m\u001B[1;33m\u001B[0m\u001B[1;33m\u001B[0m\u001B[0m\n\u001B[1;32m--> 169\u001B[1;33m             \u001B[0mmain_debugger\u001B[0m\u001B[1;33m.\u001B[0m\u001B[0mdo_wait_suspend\u001B[0m\u001B[1;33m(\u001B[0m\u001B[0mthread\u001B[0m\u001B[1;33m,\u001B[0m \u001B[0mframe\u001B[0m\u001B[1;33m,\u001B[0m \u001B[0mevent\u001B[0m\u001B[1;33m,\u001B[0m \u001B[0marg\u001B[0m\u001B[1;33m)\u001B[0m\u001B[1;33m\u001B[0m\u001B[1;33m\u001B[0m\u001B[0m\n\u001B[0m\u001B[0;32m    170\u001B[0m             \u001B[1;32mreturn\u001B[0m \u001B[1;32mTrue\u001B[0m\u001B[1;33m\u001B[0m\u001B[1;33m\u001B[0m\u001B[0m\n\u001B[0;32m    171\u001B[0m     \u001B[1;32mreturn\u001B[0m \u001B[1;32mFalse\u001B[0m\u001B[1;33m\u001B[0m\u001B[1;33m\u001B[0m\u001B[0m\n",
      "\u001B[1;32mC:\\Program Files\\JetBrains\\PyCharm 2023.1.3\\plugins\\python\\helpers\\pydev\\pydevd.py\u001B[0m in \u001B[0;36mdo_wait_suspend\u001B[1;34m(self, thread, frame, event, arg, send_suspend_message, is_unhandled_exception)\u001B[0m\n\u001B[0;32m   1158\u001B[0m \u001B[1;33m\u001B[0m\u001B[0m\n\u001B[0;32m   1159\u001B[0m         \u001B[1;32mwith\u001B[0m \u001B[0mself\u001B[0m\u001B[1;33m.\u001B[0m\u001B[0m_threads_suspended_single_notification\u001B[0m\u001B[1;33m.\u001B[0m\u001B[0mnotify_thread_suspended\u001B[0m\u001B[1;33m(\u001B[0m\u001B[0mthread_id\u001B[0m\u001B[1;33m,\u001B[0m \u001B[0mstop_reason\u001B[0m\u001B[1;33m)\u001B[0m\u001B[1;33m:\u001B[0m\u001B[1;33m\u001B[0m\u001B[1;33m\u001B[0m\u001B[0m\n\u001B[1;32m-> 1160\u001B[1;33m             \u001B[0mself\u001B[0m\u001B[1;33m.\u001B[0m\u001B[0m_do_wait_suspend\u001B[0m\u001B[1;33m(\u001B[0m\u001B[0mthread\u001B[0m\u001B[1;33m,\u001B[0m \u001B[0mframe\u001B[0m\u001B[1;33m,\u001B[0m \u001B[0mevent\u001B[0m\u001B[1;33m,\u001B[0m \u001B[0marg\u001B[0m\u001B[1;33m,\u001B[0m \u001B[0msuspend_type\u001B[0m\u001B[1;33m,\u001B[0m \u001B[0mfrom_this_thread\u001B[0m\u001B[1;33m)\u001B[0m\u001B[1;33m\u001B[0m\u001B[1;33m\u001B[0m\u001B[0m\n\u001B[0m\u001B[0;32m   1161\u001B[0m \u001B[1;33m\u001B[0m\u001B[0m\n\u001B[0;32m   1162\u001B[0m     \u001B[1;32mdef\u001B[0m \u001B[0m_do_wait_suspend\u001B[0m\u001B[1;33m(\u001B[0m\u001B[0mself\u001B[0m\u001B[1;33m,\u001B[0m \u001B[0mthread\u001B[0m\u001B[1;33m,\u001B[0m \u001B[0mframe\u001B[0m\u001B[1;33m,\u001B[0m \u001B[0mevent\u001B[0m\u001B[1;33m,\u001B[0m \u001B[0marg\u001B[0m\u001B[1;33m,\u001B[0m \u001B[0msuspend_type\u001B[0m\u001B[1;33m,\u001B[0m \u001B[0mfrom_this_thread\u001B[0m\u001B[1;33m)\u001B[0m\u001B[1;33m:\u001B[0m\u001B[1;33m\u001B[0m\u001B[1;33m\u001B[0m\u001B[0m\n",
      "\u001B[1;32mC:\\Program Files\\JetBrains\\PyCharm 2023.1.3\\plugins\\python\\helpers\\pydev\\pydevd.py\u001B[0m in \u001B[0;36m_do_wait_suspend\u001B[1;34m(self, thread, frame, event, arg, suspend_type, from_this_thread)\u001B[0m\n\u001B[0;32m   1173\u001B[0m \u001B[1;33m\u001B[0m\u001B[0m\n\u001B[0;32m   1174\u001B[0m                 \u001B[0mself\u001B[0m\u001B[1;33m.\u001B[0m\u001B[0mprocess_internal_commands\u001B[0m\u001B[1;33m(\u001B[0m\u001B[1;33m)\u001B[0m\u001B[1;33m\u001B[0m\u001B[1;33m\u001B[0m\u001B[0m\n\u001B[1;32m-> 1175\u001B[1;33m                 \u001B[0mtime\u001B[0m\u001B[1;33m.\u001B[0m\u001B[0msleep\u001B[0m\u001B[1;33m(\u001B[0m\u001B[1;36m0.01\u001B[0m\u001B[1;33m)\u001B[0m\u001B[1;33m\u001B[0m\u001B[1;33m\u001B[0m\u001B[0m\n\u001B[0m\u001B[0;32m   1176\u001B[0m \u001B[1;33m\u001B[0m\u001B[0m\n\u001B[0;32m   1177\u001B[0m         \u001B[0mself\u001B[0m\u001B[1;33m.\u001B[0m\u001B[0mcancel_async_evaluation\u001B[0m\u001B[1;33m(\u001B[0m\u001B[0mget_current_thread_id\u001B[0m\u001B[1;33m(\u001B[0m\u001B[0mthread\u001B[0m\u001B[1;33m)\u001B[0m\u001B[1;33m,\u001B[0m \u001B[0mstr\u001B[0m\u001B[1;33m(\u001B[0m\u001B[0mid\u001B[0m\u001B[1;33m(\u001B[0m\u001B[0mframe\u001B[0m\u001B[1;33m)\u001B[0m\u001B[1;33m)\u001B[0m\u001B[1;33m)\u001B[0m\u001B[1;33m\u001B[0m\u001B[1;33m\u001B[0m\u001B[0m\n",
      "\u001B[1;31mKeyboardInterrupt\u001B[0m: "
     ]
    }
   ],
   "source": [
    "server.stop()"
   ],
   "metadata": {
    "collapsed": false,
    "ExecuteTime": {
     "end_time": "2023-09-07T08:50:23.160202600Z",
     "start_time": "2023-09-07T08:48:50.346129700Z"
    }
   }
  },
  {
   "cell_type": "code",
   "execution_count": 32,
   "outputs": [
    {
     "name": "stdout",
     "output_type": "stream",
     "text": [
      "Determinant of the matrix: 0.0\n",
      "Matrix is singular (not invertible).\n",
      "Eigenvalues of the matrix: [5. 0.]\n",
      "Matrix is not positive definite.\n",
      "Matrix is symmetric.\n",
      "Rank of the matrix is: 1\n",
      "Matrix is not of full rank.\n"
     ]
    }
   ],
   "source": [
    "import numpy as np\n",
    "from numpy.linalg import eig, det, matrix_rank\n",
    "from scipy.linalg import cholesky\n",
    "\n",
    "def check_matrix_properties(mat):\n",
    "    # Check if matrix is square\n",
    "    if mat.shape[0] != mat.shape[1]:\n",
    "        print(\"The matrix is not square.\")\n",
    "        return\n",
    "\n",
    "    # Determinant\n",
    "    determinant_value = det(mat)\n",
    "    print(f\"Determinant of the matrix: {determinant_value}\")\n",
    "    if determinant_value != 0:\n",
    "        print(\"Matrix is invertible.\")\n",
    "    else:\n",
    "        print(\"Matrix is singular (not invertible).\")\n",
    "\n",
    "    # Eigenvalues\n",
    "    eigen_values = eig(mat)[0]\n",
    "    print(f\"Eigenvalues of the matrix: {eigen_values}\")\n",
    "\n",
    "    # Positive Definiteness (using Cholesky decomposition as a test)\n",
    "    try:\n",
    "        cholesky(mat)\n",
    "        print(\"Matrix is positive definite.\")\n",
    "    except:\n",
    "        print(\"Matrix is not positive definite.\")\n",
    "\n",
    "    # Symmetry\n",
    "    if np.array_equal(mat, mat.T):\n",
    "        print(\"Matrix is symmetric.\")\n",
    "    else:\n",
    "        print(\"Matrix is not symmetric.\")\n",
    "\n",
    "    # Rank\n",
    "    rank = matrix_rank(mat)\n",
    "    print(f\"Rank of the matrix is: {rank}\")\n",
    "    \n",
    "    # Check rank for full rank\n",
    "    if rank == min(mat.shape):\n",
    "        print(\"Matrix is of full rank.\")\n",
    "    else:\n",
    "        print(\"Matrix is not of full rank.\")\n"
   ],
   "metadata": {
    "collapsed": false,
    "ExecuteTime": {
     "end_time": "2023-09-07T09:52:30.476244400Z",
     "start_time": "2023-09-07T09:52:30.148120400Z"
    }
   }
  },
  {
   "cell_type": "code",
   "execution_count": 33,
   "outputs": [
    {
     "name": "stdout",
     "output_type": "stream",
     "text": [
      "Determinant of the matrix: 0.0\n",
      "Matrix is singular (not invertible).\n",
      "Eigenvalues of the matrix: [3.94188363e+00 3.77091205e+00 3.49702150e+00 3.13612949e+00\n",
      " 2.70920977e+00 2.24107336e+00 1.75892664e+00 1.29079023e+00\n",
      " 8.63870507e-01 6.95713497e-16 5.81163651e-02 2.29087949e-01\n",
      " 5.02978504e-01]\n",
      "Matrix is not positive definite.\n",
      "Matrix is symmetric.\n",
      "Rank of the matrix is: 12\n",
      "Matrix is not of full rank.\n"
     ]
    }
   ],
   "source": [
    "check_matrix_properties(K_X1)"
   ],
   "metadata": {
    "collapsed": false,
    "ExecuteTime": {
     "end_time": "2023-09-07T09:52:48.615874300Z",
     "start_time": "2023-09-07T09:52:48.388479Z"
    }
   }
  },
  {
   "cell_type": "code",
   "execution_count": 4,
   "outputs": [],
   "source": [
    "import arviz as az\n",
    "import numpy as np\n",
    "import pandas as pd\n",
    "import time\n",
    "\n",
    "from data_gathering import gather_data_actuals, gather_data_features\n",
    "from data_preparation import preprocess_data, generate_knots, generate_spline_design_matrix\n",
    "from data_exploration import calculate_data_characteristics\n",
    "# from data_modelling_bayes import calculate_crps\n",
    "from data_logging import generate_all_dictionaries, ml_flow_tracking, count_divergences\n",
    "from help_functions import MLFlowServer\n",
    "from importlib import reload"
   ],
   "metadata": {
    "collapsed": false,
    "ExecuteTime": {
     "end_time": "2023-09-14T06:13:30.330448500Z",
     "start_time": "2023-09-14T06:13:25.191917700Z"
    }
   }
  },
  {
   "cell_type": "code",
   "execution_count": null,
   "outputs": [],
   "source": [
    "generate_spline_design_matrix(df.ged_sb_tlag_1.to_numpy(), 10)"
   ],
   "metadata": {
    "collapsed": false
   }
  },
  {
   "cell_type": "code",
   "execution_count": 34,
   "outputs": [],
   "source": [
    "definition_stan_model_nb_gamma_penalized_splines_grw = \"\"\"\n",
    "functions {\n",
    "  vector build_b_spline(real[] t, real[] ext_knots, int ind, int order);\n",
    "  vector build_b_spline(real[] t, real[] ext_knots, int ind, int order) {\n",
    "    //\n",
    "    // DOCSTRING:\n",
    "    //    The implementation of spline matrices in Stan is mainly based on the implementation of \n",
    "    //    Splines in Stan by Milad Kharratzadeh (https://mc-stan.org/users/documentation/case-studies/splines_in_stan.html) \n",
    "    //    The function has been verified with the bs() function from the spline function such that \n",
    "    //    our goal is to mimic a call of bs(knots=interior_knots, degree=spline_degree, intercept=FALSE)\n",
    "    // INPUTS:\n",
    "    //    t:          the points at which the b_spline is calculated\n",
    "    //    ext_knots:  the set of extended knots\n",
    "    //    ind:        the index of the b_spline\n",
    "    //    order:      the order of the b-spline\n",
    "    //\n",
    "    vector[size(t)] b_spline;\n",
    "    vector[size(t)] w1 = rep_vector(0, size(t));\n",
    "    vector[size(t)] w2 = rep_vector(0, size(t));\n",
    "    if (order==1)\n",
    "      for (i in 1:size(t)) // B-splines of order 1 are piece-wise constant\n",
    "    b_spline[i] = (ext_knots[ind] <= t[i]) && (t[i] < ext_knots[ind+1]);\n",
    "    else {\n",
    "      if (ext_knots[ind] != ext_knots[ind+order-1])\n",
    "        w1 = (to_vector(t) - rep_vector(ext_knots[ind], size(t))) /\n",
    "          (ext_knots[ind+order-1] - ext_knots[ind]);\n",
    "      if (ext_knots[ind+1] != ext_knots[ind+order])\n",
    "        w2 = 1 - (to_vector(t) - rep_vector(ext_knots[ind+1], size(t))) /\n",
    "          (ext_knots[ind+order] - ext_knots[ind+1]);\n",
    "      // Calculating the B-spline recursively as linear interpolation of two lower-order splines\n",
    "      b_spline = w1 .* build_b_spline(t, ext_knots, ind, order-1) +\n",
    "        w2 .* build_b_spline(t, ext_knots, ind+1, order-1);\n",
    "    }\n",
    "    return b_spline;\n",
    "  }\n",
    "  \n",
    "  vector generate_knots(real[] covariate_data, int no_knots_extended);\n",
    "  vector generate_knots(real[] covariate_data, int no_knots_extended) {\n",
    "    //\n",
    "    // DOCSTRING:\n",
    "    //    Define function which generates a vector with interior and exterior knots, based on the\n",
    "    //    desired number of (exterior+interior knots) and equal-spacing approach\n",
    "    //\n",
    "    // INPUTS:\n",
    "    //    covariate_data:     data corresponding to covariate\n",
    "    //    no_knots_extended:  number of knots including exterior knots\n",
    "    //\n",
    "    vector[no_knots_extended] knots;\n",
    "    real min_covariate = min(covariate_data);\n",
    "    real max_covariate = max(covariate_data);\n",
    "    real spacing = (max_covariate - min_covariate) / (no_knots_extended -1);\n",
    "    \n",
    "    print(\"Generate knot list for a covariate...\");\n",
    "\n",
    "    for (i in 1:(no_knots_extended)) {\n",
    "      knots[i] = min_covariate + (i - 1) * spacing;\n",
    "    }\n",
    "    return knots;\n",
    "  }\n",
    "  \n",
    "  matrix generate_spline_basis_matrix(real[] covariate_data, int spline_degree, int no_interior_knots,  int no_data, int no_basis);\n",
    "  matrix generate_spline_basis_matrix(real[] covariate_data, int spline_degree, int no_interior_knots,  int no_data, int no_basis) {\n",
    "    //\n",
    "    // DOCSTRING:\n",
    "    //    Define function to generate spline design matrix: The knots passed to the function comprise\n",
    "    //    interior as well as exterior knots.\n",
    "    //    The result of the function resembles a call of the bs() function with: \n",
    "    //       knots = knots[-c(-1, length(knots))] = interior_knots\n",
    "    //       degree = spline_degree\n",
    "    //       intercept = FALSE\n",
    "    //    The approach is to generate a design matrix including an intercept and dropping it \n",
    "    //    afterwards to get the design matrix without intercept\n",
    "    //\n",
    "    // INPUTS:\n",
    "    //    covariate_data:       data corresponding to covariate\n",
    "    //    spline_degree:        the degree of spline (is equal to order - 1)\n",
    "    //    no_interior_knots:    no of interior knots for covariate\n",
    "    //    no_data:              number of data points in training data\n",
    "    //    no_basis:             dimension of our basis matrix for covariate modelled without intercept \n",
    "    //                          (equals no_interior_knots + spline_degree)\n",
    "    //\n",
    "    matrix[no_basis, no_data] B_without_icpt;\n",
    "    matrix[no_data, no_basis] B_without_icpt_transposed; // to equal return dimensions of bs()\n",
    "    matrix[(no_basis+1), no_data] B;\n",
    "    int no_knots_extended = no_interior_knots + 2;\n",
    "    vector[no_knots_extended] knots;\n",
    "    vector[2 * spline_degree + no_knots_extended] ext_knots;\n",
    "    vector[spline_degree + no_knots_extended] ext_knots_temp;\n",
    "    \n",
    "    print(\"Generate spline design matrix for a covariate...\")\n",
    "    knots = generate_knots(covariate_data, no_knots_extended);\n",
    "    ext_knots_temp = append_row(rep_vector(knots[1], spline_degree), to_vector(knots));\n",
    "    ext_knots = append_row(ext_knots_temp, rep_vector(knots[no_knots_extended], spline_degree));\n",
    "\n",
    "    for (ind in 1:(no_basis+1)) {\n",
    "      B[ind, :] = to_row_vector(build_b_spline(covariate_data, to_array_1d(ext_knots), ind, spline_degree + 1));\n",
    "    }\n",
    "\n",
    "    B[no_basis+1, no_data] = 1;\n",
    "    B_without_icpt = B[2:(no_basis+1), :];\n",
    "    B_without_icpt_transposed = B_without_icpt';\n",
    "    \n",
    "    return B_without_icpt_transposed;\n",
    "    }\n",
    "\n",
    "  matrix generate_penalty_matrix(int no_basis);\n",
    "  matrix generate_penalty_matrix(int no_basis) {\n",
    "    //\n",
    "    // DOCSTRING:\n",
    "    //    Define function which generates a first order random walk penalty matrix based on the basis of the spline\n",
    "    //    design matrix\n",
    "    //\n",
    "    // INPUTS:\n",
    "    //    no_basis:             dimension of our basis matrix for covariate modelled without intercept \n",
    "    //                          (equals no_interior_knots + spline_degree) \n",
    "    //\n",
    "    matrix[no_basis, no_basis] penalty_matrix;\n",
    "    print(\"Generate penalty matrix for a covariate...\")\n",
    "    // Initialize all entries to zero\n",
    "    for (i in 1:no_basis) {\n",
    "      for (j in 1:no_basis) {\n",
    "        penalty_matrix[i, j] = 0;\n",
    "      }\n",
    "    }\n",
    "\n",
    "    // Fill the main diagonal with 2s\n",
    "    for (k in 1:no_basis) {\n",
    "      penalty_matrix[k, k] = 2;\n",
    "    }\n",
    "\n",
    "    // Modify the [1,1] and [no_basis,no_basis] elements to be 1\n",
    "    penalty_matrix[1, 1] = 1;\n",
    "    penalty_matrix[no_basis, no_basis] = 1;\n",
    "\n",
    "    // Add -1s to the sub-diagonals above and below the main diagonal\n",
    "    for (l in 2:no_basis) {\n",
    "      penalty_matrix[l, l - 1] = -1;\n",
    "      penalty_matrix[l - 1, l] = -1;\n",
    "    }\n",
    "\n",
    "    return penalty_matrix;\n",
    "  }\n",
    "}\n",
    "\n",
    "data {\n",
    "    int<lower=1> no_data;                         // number of data points in training data\n",
    "    int<lower=0> no_data_eval;                    // number of data points for evaluation\n",
    "    int<lower=1> spline_degree;                   // the degree of spline (is equal to order - 1)\n",
    "    \n",
    "    real covariate_data_X1[no_data] ;             // data corresponding to covariate X1\n",
    "    real covariate_data_X1_eval[no_data_eval];    // evaluation data corresponding to covariate X1\n",
    "    int<lower=1> no_basis_X1;                     // dimension of our basis matrix for covariate X1 modelled without intercept \n",
    "                                                  //(equals no_interior_knots + spline_degree)\n",
    "    int<lower=1>no_interior_knots_X1;             // no of interior knots for covariate X1\n",
    "        \n",
    "    real covariate_data_X2[no_data];              // compare covariate_X1 for X2 respectivly\n",
    "    real covariate_data_X2_eval[no_data_eval];    // compare covariate_X1 for X2 respectivly\n",
    "    int<lower=1> no_basis_X2;                     // compare no_basis_X1 for X2 respectivly\n",
    "    int<lower=1> no_interior_knots_X2;            // compare no_interior_knots_X1 for X2 respectivly\n",
    "    \n",
    "    int Y[no_data];                               // Observed Target variable\n",
    "    int Y_eval[no_data_eval];                     // Observed Target variable for evaluation\n",
    "    \n",
    "    real a_tau_X1;                                // Shape parameter for InverseGamma of tau for X1\n",
    "    real b_tau_X1;                                // Scale parameter for InverseGamma of tau for X1\n",
    "    real a_tau_X2;                                // Shape parameter for InverseGamma of tau for X2\n",
    "    real b_tau_X2;                                // Scale parameter for InverseGamma of tau for X2\n",
    "    real a_alpha;                                 // Shape parameter for Gamma of alpha\n",
    "    real b_alpha;                                 // Scale parameter for Gamma of alpha\n",
    "    real intercept_mu;                            // Mean of intercept prior\n",
    "    real<lower=0> intercept_sigma;                // Standard deviation of intercept prior\n",
    "\n",
    "}\n",
    "\n",
    "transformed data {\n",
    "  // Intialize matrices to be generated\n",
    "  matrix[no_data, no_basis_X1] basis_X1;\n",
    "  matrix[no_data, no_basis_X2] basis_X2;\n",
    "  matrix[no_data_eval, no_basis_X1] basis_X1_eval;\n",
    "  matrix[no_data_eval, no_basis_X2] basis_X2_eval;\n",
    "  matrix[no_basis_X1, no_basis_X1] penalty_matrix_X1;\n",
    "  matrix[no_basis_X2, no_basis_X2] penalty_matrix_X2;\n",
    "  \n",
    "  // Generate design matrix of regression splines for covariate X1\n",
    "  basis_X1 = generate_spline_basis_matrix(covariate_data_X1, spline_degree, no_interior_knots_X1, no_data, no_basis_X1);\n",
    "  print(\"basis_X1 generated\")\n",
    "  // Generate design matrix of regression splines for covariate X2\n",
    "  basis_X2 = generate_spline_basis_matrix(covariate_data_X2, spline_degree, no_interior_knots_X2, no_data, no_basis_X2);\n",
    "  print(\"basis_X2 generated\")\n",
    "\n",
    "  // Generate design matrix of evaluation regression splines for covariate X1\n",
    "  basis_X1_eval = generate_spline_basis_matrix(covariate_data_X1_eval, spline_degree, no_interior_knots_X1, no_data_eval, no_basis_X1);\n",
    "  print(\"basis_X1_eval generated\")\n",
    "\n",
    "  // Generate design matrix of evaluation regression splines for covariate X2\n",
    "  basis_X2_eval = generate_spline_basis_matrix(covariate_data_X2_eval, spline_degree, no_interior_knots_X2, no_data_eval, no_basis_X2);\n",
    "  print(\"basis_X2_eval generated\")\n",
    "\n",
    "  // Generate penalty matrix for gaussian prior of covariate X1\n",
    "  penalty_matrix_X1 = generate_penalty_matrix(no_basis_X1);\n",
    "  print(\"penalty_matrix_X1 generated\")\n",
    "  // Generate penalty matrix for gaussian prior of covariate X2\n",
    "  penalty_matrix_X2 = generate_penalty_matrix(no_basis_X2);\n",
    "  print(\"penalty_matrix_X2 generated\")\n",
    "}\n",
    "\n",
    "parameters {\n",
    "    real intercept;                                                // regression intercept\n",
    "    vector[no_basis_X1] spline_coefficients_X1;                    // Spline coefficients for X1\n",
    "    vector[no_basis_X2] spline_coefficients_X2;                    // Spline coefficients for X2\n",
    "    real<lower=0> tau_X1;                                          // Precision parameter for Gaussian random walk for X1\n",
    "    real<lower=0> tau_X2;                                          // Precision parameter for Gaussian random walk for X2\n",
    "    real<lower=0> alpha;                                           // Negative Binomial dispersion parameter\n",
    "}\n",
    "\n",
    "transformed parameters {\n",
    "    vector[no_data] mu;                                                   // Mean of Negative Binomial distribution\n",
    "    matrix[no_basis_X1, no_basis_X1] precision_matrix_X1;           // precision matrix for X1\n",
    "    matrix[no_basis_X2, no_basis_X2] precision_matrix_X2;           // precision matrix for X2\n",
    "\n",
    "    mu = exp(intercept + basis_X1 * spline_coefficients_X1 + basis_X2 * spline_coefficients_X2); \n",
    "                                                                    //taking exponential as a link function of a GAM\n",
    "\n",
    "    precision_matrix_X1 = penalty_matrix_X1 / pow(tau_X1, 2);       // Defining precision matrix for X1\n",
    "    precision_matrix_X2 = penalty_matrix_X2 / pow(tau_X2, 2);       // Defining precision matrix for X2\n",
    "}\n",
    "\n",
    "model {\n",
    "  // Priors\n",
    "    intercept ~ normal(intercept_mu, intercept_sigma);               // Diffuse prior for intercept\n",
    "    tau_X1 ~ inv_gamma(a_tau_X1, b_tau_X1);                           // Inverse Gamma prior for tau_X1\n",
    "    tau_X2 ~ inv_gamma(a_tau_X2, b_tau_X2);                          // Inverse Gamma prior for tau_X2\n",
    "    alpha ~ gamma(a_alpha, b_alpha);                                 // Gamma prior for alpha\n",
    "\n",
    "    spline_coefficients_X1 ~ multi_normal_prec(rep_vector(0, no_basis_X1), precision_matrix_X1); \n",
    "                                                                     // Prior for spline coefficients for X1\n",
    "    spline_coefficients_X2 ~ multi_normal_prec(rep_vector(0, no_basis_X2), precision_matrix_X2);  \n",
    "                                                                     // Prior for spline coefficients for X2\n",
    "\n",
    "    Y ~ neg_binomial_2(mu, alpha);                                   // Likelihood\n",
    "}\n",
    "\n",
    "generated quantities {\n",
    "  int y_pred_train[no_data];\n",
    "  int y_pred_eval[no_data_eval];\n",
    "  vector[no_data_eval] mu_eval;\n",
    "\n",
    "  mu_eval = exp(intercept + basis_X1_eval * spline_coefficients_X1 + basis_X2_eval * spline_coefficients_X2);\n",
    "  for (n in 1:no_data) {\n",
    "      y_pred_train[n] = neg_binomial_2_rng(mu[n], alpha);\n",
    "  }\n",
    "  for (n_eval in 1:no_data_eval) {\n",
    "      y_pred_eval[n_eval] = neg_binomial_2_rng(mu_eval[n_eval], alpha);\n",
    "  }\n",
    "}\n",
    "\"\"\""
   ],
   "metadata": {
    "collapsed": false,
    "ExecuteTime": {
     "end_time": "2023-09-14T07:36:56.965841200Z",
     "start_time": "2023-09-14T07:36:56.830821700Z"
    }
   }
  },
  {
   "cell_type": "code",
   "execution_count": 35,
   "outputs": [],
   "source": [
    "stan_data_nb_gamma_penalized_splines_grw = {\n",
    "    \"no_data\": len(dataY),\n",
    "    \"no_data_eval\": len(dataY_eval),\n",
    "    \"spline_degree\": spline_degree,\n",
    "    \"covariate_data_X1\": dataX1,\n",
    "    \"covariate_data_X1_eval\": dataX1_eval,\n",
    "    \"no_basis_X1\": no_spline_coefficients_X1,\n",
    "    \"no_interior_knots_X1\": num_knots_X1,\n",
    "    \"covariate_data_X2\": dataX2,\n",
    "    \"covariate_data_X2_eval\": dataX2_eval,\n",
    "    \"no_basis_X2\": no_spline_coefficients_X2,\n",
    "    \"no_interior_knots_X2\": num_knots_X2,\n",
    "    \"Y\": dataY.astype(int),\n",
    "    \"a_tau_X1\": tauX1_ig_alpha_gaussian_sigma,\n",
    "    \"b_tau_X1\": tauX1_ig_beta_gaussian_sigma,\n",
    "    \"a_tau_X2\": tauX2_ig_alpha_gaussian_sigma,\n",
    "    \"b_tau_X2\": tauX2_ig_beta_gaussian_sigma,\n",
    "    \"a_alpha\": gamma_alpha_nb_alpha,\n",
    "    \"b_alpha\": gamma_beta_nb_alpha,\n",
    "    \"intercept_mu\": intercept_gaussian_mu,\n",
    "    \"intercept_sigma\": intercept_gaussian_sigma,\n",
    "    \"Y_eval\": dataY_eval.astype(int)\n",
    "}"
   ],
   "metadata": {
    "collapsed": false,
    "ExecuteTime": {
     "end_time": "2023-09-14T07:36:57.976713400Z",
     "start_time": "2023-09-14T07:36:57.849051900Z"
    }
   }
  },
  {
   "cell_type": "code",
   "execution_count": 36,
   "outputs": [
    {
     "name": "stderr",
     "output_type": "stream",
     "text": [
      "INFO:pystan:COMPILING THE C++ CODE FOR MODEL anon_model_b56695c84876f8fc67e1a023ccf858f3 NOW.\n"
     ]
    }
   ],
   "source": [
    "# Compile the model\n",
    "stan_model_nb_gamma_penalized_splines_grw = pystan.StanModel(model_code=definition_stan_model_nb_gamma_penalized_splines_grw)"
   ],
   "metadata": {
    "collapsed": false,
    "ExecuteTime": {
     "end_time": "2023-09-14T07:37:52.379176400Z",
     "start_time": "2023-09-14T07:36:59.733272300Z"
    }
   }
  },
  {
   "cell_type": "code",
   "execution_count": 37,
   "outputs": [
    {
     "name": "stderr",
     "output_type": "stream",
     "text": [
      "WARNING:pystan:Maximum (flat) parameter count (1000) exceeded: skipping diagnostic tests for n_eff and Rhat.\n",
      "To run all diagnostics call pystan.check_hmc_diagnostics(fit)\n",
      "WARNING:pystan:68 of 2000 iterations ended with a divergence (3.4 %).\n",
      "WARNING:pystan:Try running with adapt_delta larger than 0.95 to remove the divergences.\n",
      "WARNING:pystan:1932 of 2000 iterations saturated the maximum tree depth of 10 (96.6 %)\n",
      "WARNING:pystan:Run again with max_treedepth larger than 10 to avoid saturation\n"
     ]
    }
   ],
   "source": [
    "# Sampling from the model\n",
    "start_time = time.time()\n",
    "stan_model_nb_gamma_penalized_splines_grw_sampling = stan_model_nb_gamma_penalized_splines_grw.sampling(data=stan_data_nb_gamma_penalized_splines_grw, iter=draws_default, chains=no_chains_default, seed=RANDOM_SEED, control={\"adapt_delta\": target_accept_default})\n",
    "sampling_time_nb_gamma_penalized_splines_grw_stan = time.time() - start_time"
   ],
   "metadata": {
    "collapsed": false,
    "ExecuteTime": {
     "end_time": "2023-09-14T07:43:07.882393300Z",
     "start_time": "2023-09-14T07:37:57.539166600Z"
    }
   }
  },
  {
   "cell_type": "code",
   "execution_count": 38,
   "outputs": [],
   "source": [
    "idata_bayesian_nb_gamma_penalized_splines_grw_stan = az.from_pystan(\n",
    "    posterior=stan_model_nb_gamma_penalized_splines_grw_sampling,\n",
    "    posterior_predictive=[\"y_pred_train\", \"y_pred_eval\"])"
   ],
   "metadata": {
    "collapsed": false,
    "ExecuteTime": {
     "end_time": "2023-09-14T07:43:08.075298Z",
     "start_time": "2023-09-14T07:43:07.864451400Z"
    }
   }
  },
  {
   "cell_type": "code",
   "execution_count": 40,
   "outputs": [],
   "source": [
    "import CRPS.CRPS as pscore\n",
    "def calculate_crps(idata: az.InferenceData, actuals: pd.DataFrame, posterior_predictive: str) -> (pd.DataFrame, float):\n",
    "    \"\"\"\n",
    "    Calculate the Continuous Ranked Probability Score (CRPS) of a Bayesian model for each observation and the average\n",
    "    CRPS.\n",
    "\n",
    "    Parameters:\n",
    "        idata (az.InferenceData): InferenceData object containing the posterior predictive.\n",
    "        actuals (pd.DataFrame): DataFrame containing the observed data. Each row corresponds to an observation.\n",
    "        posterior_predictive: the name of the posterior predictive samples\n",
    "\n",
    "    Returns:\n",
    "        crps_scores (pd.DataFrame): A Series containing the CRPS score for each observation.\n",
    "        average_crps (float): The average CRPS score across all observations.\n",
    "    \"\"\"\n",
    "    try:\n",
    "        # Access the posterior predictive samples for each observation\n",
    "        posterior_samples = idata['posterior_predictive'][posterior_predictive].values\n",
    "    except KeyError:\n",
    "        raise KeyError(\n",
    "            f\"The InferenceData object does not contain posterior predictive samples {posterior_predictive}.\")\n",
    "\n",
    "    # Reshape the array to a 2D array with samples in rows and observations in columns\n",
    "    num_chains, num_draws, num_observations = posterior_samples.shape\n",
    "    reshaped_samples = posterior_samples.reshape(num_chains * num_draws, num_observations)\n",
    "\n",
    "    # Convert the 2D array to a pandas DataFrame\n",
    "    df_posterior_samples = pd.DataFrame(reshaped_samples)\n",
    "\n",
    "    # Optionally, you can add meaningful column names to the DataFrame\n",
    "    # For example, assuming the original DataFrame has column names 'obs_0', 'obs_1', etc.\n",
    "    column_names = ['obs_{}'.format(column_idx) for column_idx in range(num_observations)]\n",
    "    df_posterior_samples.columns = column_names\n",
    "\n",
    "    # List to store the CRPS scores for each observation\n",
    "    crps_scores = []\n",
    "\n",
    "    # Iterate over each column (observation) in the DataFrame\n",
    "    for col in df_posterior_samples.columns:\n",
    "        # Get the observation index from the column name\n",
    "        obs_idx = int(col.split(\"_\")[1])\n",
    "        observed_values = actuals.ged_sb.iloc[obs_idx]  # Assuming actuals DataFrame has the observed values\n",
    "        predictive_samples = df_posterior_samples[col]\n",
    "        predictive_samples = np.array(predictive_samples)\n",
    "\n",
    "        # Compute CRPS for the current observation\n",
    "        crps, _, _ = pscore(predictive_samples, observed_values).compute()\n",
    "        crps_scores.append(crps)\n",
    "\n",
    "    # Average CRPS across all observations\n",
    "    average_crps = np.mean(crps_scores)\n",
    "\n",
    "    return pd.DataFrame(crps_scores), average_crps\n"
   ],
   "metadata": {
    "collapsed": false,
    "ExecuteTime": {
     "end_time": "2023-09-14T07:57:47.008663800Z",
     "start_time": "2023-09-14T07:57:46.883998200Z"
    }
   }
  },
  {
   "cell_type": "code",
   "execution_count": 41,
   "outputs": [],
   "source": [
    "crps_train_nb_gamma_penalized_splines_grw_stan, crps_train_average_nb_gamma_penalized_splines_grw_stan = calculate_crps(idata_bayesian_nb_gamma_penalized_splines_grw_stan, dataY_df, posterior_predictive=\"y_pred_train\")\n",
    "crps_eval_nb_gamma_penalized_splines_grw_stan, crps_eval_average_nb_gamma_penalized_splines_grw_stan = calculate_crps(idata_bayesian_nb_gamma_penalized_splines_grw_stan, dataY_eval_df, posterior_predictive=\"y_pred_eval\")"
   ],
   "metadata": {
    "collapsed": false,
    "ExecuteTime": {
     "end_time": "2023-09-14T07:57:58.637215700Z",
     "start_time": "2023-09-14T07:57:53.988102100Z"
    }
   }
  },
  {
   "cell_type": "code",
   "execution_count": 44,
   "outputs": [
    {
     "data": {
      "text/plain": "662.3184474772728"
     },
     "execution_count": 44,
     "metadata": {},
     "output_type": "execute_result"
    }
   ],
   "source": [
    "crps_eval_average_nb_gamma_penalized_splines_grw_stan"
   ],
   "metadata": {
    "collapsed": false,
    "ExecuteTime": {
     "end_time": "2023-09-14T07:58:45.467984700Z",
     "start_time": "2023-09-14T07:58:45.324418900Z"
    }
   }
  },
  {
   "cell_type": "code",
   "execution_count": 46,
   "outputs": [
    {
     "data": {
      "text/plain": "933.216591852601"
     },
     "execution_count": 46,
     "metadata": {},
     "output_type": "execute_result"
    }
   ],
   "source": [
    "crps_train_average_nb_gamma_penalized_splines_grw_stan"
   ],
   "metadata": {
    "collapsed": false,
    "ExecuteTime": {
     "end_time": "2023-09-14T08:00:53.481042700Z",
     "start_time": "2023-09-14T08:00:53.340383100Z"
    }
   }
  }
 ],
 "metadata": {
  "kernelspec": {
   "display_name": "Python 3",
   "language": "python",
   "name": "python3"
  },
  "language_info": {
   "codemirror_mode": {
    "name": "ipython",
    "version": 2
   },
   "file_extension": ".py",
   "mimetype": "text/x-python",
   "name": "python",
   "nbconvert_exporter": "python",
   "pygments_lexer": "ipython2",
   "version": "2.7.6"
  }
 },
 "nbformat": 4,
 "nbformat_minor": 0
}
