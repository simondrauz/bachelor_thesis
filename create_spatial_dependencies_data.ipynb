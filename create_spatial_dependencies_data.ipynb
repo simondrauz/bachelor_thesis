{
 "cells": [
  {
   "cell_type": "code",
   "execution_count": 1,
   "id": "initial_id",
   "metadata": {
    "collapsed": true,
    "ExecuteTime": {
     "end_time": "2023-11-07T08:12:46.013629200Z",
     "start_time": "2023-11-07T08:12:46.003220300Z"
    }
   },
   "outputs": [],
   "source": [
    "import pandas as pd\n",
    "import numpy as np\n",
    "from mappings import map_country_id_to_country_name, map_country_name_to_country_id, import_country_mapping"
   ]
  },
  {
   "cell_type": "markdown",
   "source": [
    "Load training data and determine the unique countries"
   ],
   "metadata": {
    "collapsed": false
   },
   "id": "2f3230b336c09a08"
  },
  {
   "cell_type": "code",
   "execution_count": 2,
   "outputs": [],
   "source": [
    "feature_set = 1\n",
    "year = \"\""
   ],
   "metadata": {
    "collapsed": false,
    "ExecuteTime": {
     "end_time": "2023-11-07T08:12:46.047469800Z",
     "start_time": "2023-11-07T08:12:46.013629200Z"
    }
   },
   "id": "eb8707a55903363f"
  },
  {
   "cell_type": "code",
   "execution_count": 3,
   "outputs": [],
   "source": [
    "# Load prepared data\n",
    "df = pd.read_parquet(fr\"C:\\Users\\Uwe Drauz\\Documents\\bachelor_thesis_local\\personal_competition_data\\data\\cm_features_allyears_feature_set{feature_set}{year}.parquet\")"
   ],
   "metadata": {
    "collapsed": false,
    "ExecuteTime": {
     "end_time": "2023-11-07T08:12:46.330071800Z",
     "start_time": "2023-11-07T08:12:46.047469800Z"
    }
   },
   "id": "788ccc8de83195fb"
  },
  {
   "cell_type": "code",
   "execution_count": 4,
   "outputs": [],
   "source": [
    "country_mapping = import_country_mapping()"
   ],
   "metadata": {
    "collapsed": false,
    "ExecuteTime": {
     "end_time": "2023-11-07T08:12:46.433940900Z",
     "start_time": "2023-11-07T08:12:46.330071800Z"
    }
   },
   "id": "f33d50bf8917df43"
  },
  {
   "cell_type": "code",
   "execution_count": 5,
   "outputs": [],
   "source": [
    "# Create a list of countries based on the country_id column using map_country_id_to_country_name\n",
    "country_ids = df['country_id'].unique()\n",
    "countries = list(map(map_country_id_to_country_name, country_ids))\n",
    "# Create dataframe with the country_ids and the corresponding country names\n",
    "country_df = pd.DataFrame({'country_id': country_ids, 'country': countries})\n"
   ],
   "metadata": {
    "collapsed": false,
    "ExecuteTime": {
     "end_time": "2023-11-07T08:12:46.714742900Z",
     "start_time": "2023-11-07T08:12:46.417037300Z"
    }
   },
   "id": "c4f4062228a7b7df"
  },
  {
   "cell_type": "markdown",
   "source": [
    "Load neighbors data and filter it on countries in training data and current spatial dependency (relations between existing countries at the present time)"
   ],
   "metadata": {
    "collapsed": false
   },
   "id": "dca6273c1bd63c0c"
  },
  {
   "cell_type": "code",
   "execution_count": 6,
   "outputs": [],
   "source": [
    "# Load neighbors data\n",
    "neighbors_data = pd.read_csv(r\"C:\\Users\\Uwe Drauz\\Documents\\bachelor_thesis_local\\shared_competition_data\\country_neighbors\\fallback3_prod_country_country_month.csv\")\n",
    "# Rename columns as column names arbitrarily due to csv file\n",
    "neighbors_data = neighbors_data.rename(columns={'59': 'country_id_a', 'Sudan': 'country_a', '70': 'country_id_b', 'Central African Republic': 'country_b', '[0,379)': 'month_id_period'})\n",
    "# Drop remaining columns which are not needed\n",
    "neighbors_data = neighbors_data.drop(columns=['1', '625', '482'])"
   ],
   "metadata": {
    "collapsed": false,
    "ExecuteTime": {
     "end_time": "2023-11-07T08:12:46.764255600Z",
     "start_time": "2023-11-07T08:12:46.714742900Z"
    }
   },
   "id": "c37ef485eebf0395"
  },
  {
   "cell_type": "code",
   "execution_count": 7,
   "outputs": [],
   "source": [
    "# Drop all entries where month_id_period does not end with \"612)\"\n",
    "neighbors_data = neighbors_data[neighbors_data['month_id_period'].str.endswith(\"612)\")]"
   ],
   "metadata": {
    "collapsed": false,
    "ExecuteTime": {
     "end_time": "2023-11-07T08:12:46.781050600Z",
     "start_time": "2023-11-07T08:12:46.764255600Z"
    }
   },
   "id": "eb3190af0335cd90"
  },
  {
   "cell_type": "code",
   "execution_count": 8,
   "outputs": [],
   "source": [
    "# Filter neighbors_data to include only countries that are in the list \"countries\"\n",
    "neighbors_data_filtered = neighbors_data[neighbors_data['country_a'].isin(countries) & neighbors_data['country_b'].isin(countries)]"
   ],
   "metadata": {
    "collapsed": false,
    "ExecuteTime": {
     "end_time": "2023-11-07T08:12:46.863211600Z",
     "start_time": "2023-11-07T08:12:46.781050600Z"
    }
   },
   "id": "849c32b9210aadfc"
  },
  {
   "cell_type": "code",
   "execution_count": 9,
   "outputs": [],
   "source": [
    "# For names in \"countries\" which are not in column \"country_a\" or \"country_b\" of neighbors_data_filtered, create an entry in the dataframe neighbors_data_filtered with the missing country name, id in column \"country_a\", \"country_id_a\" and nan in column \"country_b\", \"country_id_b\" and vice versa\n",
    "# This will comprise countries for which there is no neighboring relationship in the neighbors_data (e.g. islands) or countries which do have neighbors but those neighbors are not in the list \"countries\"\n",
    "for country in countries:\n",
    "    if country not in neighbors_data_filtered['country_a'].unique():\n",
    "        neighbors_data_filtered = neighbors_data_filtered.append({'country_id_a': map_country_name_to_country_id(country), 'country_a': country, 'country_id_b': None, 'country_b': None, 'month_id_period': None}, ignore_index=True)\n",
    "    if country not in neighbors_data_filtered['country_b'].unique():\n",
    "        neighbors_data_filtered = neighbors_data_filtered.append({'country_id_a': None, 'country_a': None, 'country_id_b': map_country_name_to_country_id(country), 'country_b': country, 'month_id_period': None}, ignore_index=True)"
   ],
   "metadata": {
    "collapsed": false,
    "ExecuteTime": {
     "end_time": "2023-11-07T08:12:47.045500900Z",
     "start_time": "2023-11-07T08:12:46.831266200Z"
    }
   },
   "id": "eb89a712f3f44948"
  },
  {
   "cell_type": "code",
   "execution_count": 10,
   "outputs": [],
   "source": [
    "# Get the unique country names from the column \"country_a\" of the neighbors_data_filtered dataframe\n",
    "neighbors_data_filtered_countries_a = neighbors_data_filtered['country_a'].unique()\n",
    "# Get the unique country names from the column \"country_b\" of the neighbors_data_filtered dataframe\n",
    "neighbors_data_filtered_countries_b = neighbors_data_filtered['country_b'].unique()"
   ],
   "metadata": {
    "collapsed": false,
    "ExecuteTime": {
     "end_time": "2023-11-07T08:12:47.047510600Z",
     "start_time": "2023-11-07T08:12:47.033122Z"
    }
   },
   "id": "bac9a34df54ee972"
  },
  {
   "cell_type": "code",
   "execution_count": 11,
   "outputs": [],
   "source": [
    "def create_adjacency_matrix(df):\n",
    "    # Get unique country IDs\n",
    "    country_ids = sorted(set(df['country_id_a'].dropna()) | set(df['country_id_b'].dropna()))\n",
    "    \n",
    "    # Initialize the adjacency matrix with zeros\n",
    "    num_countries = len(country_ids)\n",
    "    adjacency_matrix = np.zeros((num_countries, num_countries))\n",
    "    \n",
    "    # Fill the adjacency matrix based on the given conditions\n",
    "    for index, row in df.iterrows():\n",
    "        country_id_a, country_id_b = row['country_id_a'], row['country_id_b']\n",
    "        \n",
    "        # If both countries have IDs, update the matrix (otherwise it contains 0s)\n",
    "        if not pd.isna(country_id_a) and not pd.isna(country_id_b):\n",
    "            index_a, index_b = country_ids.index(country_id_a), country_ids.index(country_id_b)\n",
    "            adjacency_matrix[index_a, index_b] = -1  # s ≠ r, s ∼ r\n",
    "            adjacency_matrix[index_b, index_a] = -1  # s ≠ r, s ∼ r\n",
    "            adjacency_matrix[index_a, index_a] += 1  # Increase diagonal for country a\n",
    "            adjacency_matrix[index_b, index_b] += 1  # Increase diagonal for country b\n",
    "            \n",
    "    # Divide the diagonal by 2 to get the number of neighbors\n",
    "    for i in range(num_countries):\n",
    "        adjacency_matrix[i, i] /= 2\n",
    "    \n",
    "    # Set all values in the matrix to integers\n",
    "    adjacency_matrix = adjacency_matrix.astype(int)\n",
    "    return adjacency_matrix, country_ids"
   ],
   "metadata": {
    "collapsed": false,
    "ExecuteTime": {
     "end_time": "2023-11-07T08:12:47.097861600Z",
     "start_time": "2023-11-07T08:12:47.047510600Z"
    }
   },
   "id": "dc8cf538a9d3703a"
  },
  {
   "cell_type": "code",
   "execution_count": 12,
   "outputs": [],
   "source": [
    "adjacency_matrix, country_ids = create_adjacency_matrix(neighbors_data_filtered)"
   ],
   "metadata": {
    "collapsed": false,
    "ExecuteTime": {
     "end_time": "2023-11-07T08:12:47.217849900Z",
     "start_time": "2023-11-07T08:12:47.086858900Z"
    }
   },
   "id": "78eed822f463792c"
  },
  {
   "cell_type": "code",
   "execution_count": 13,
   "outputs": [],
   "source": [
    "# Convert country_ids to integers\n",
    "country_ids = [int(country_id) for country_id in country_ids]\n",
    "file_path = fr\"C:\\Users\\Uwe Drauz\\Documents\\bachelor_thesis_local\\personal_competition_data\\data\\adjacency_matrix_non_zero_and_actual_countries_feature_set{feature_set}{year}.csv\"\n",
    "# Save the adjacency matrix to a csv file\n",
    "adjacency_matrix_df = pd.DataFrame(adjacency_matrix, index=country_ids, columns=country_ids)\n",
    "pd.DataFrame.to_csv(adjacency_matrix_df, file_path)"
   ],
   "metadata": {
    "collapsed": false,
    "ExecuteTime": {
     "end_time": "2023-11-07T08:12:47.347814500Z",
     "start_time": "2023-11-07T08:12:47.196144800Z"
    }
   },
   "id": "8c0538af7b6125ea"
  },
  {
   "cell_type": "markdown",
   "source": [
    "Reparametricing adjacency matrix"
   ],
   "metadata": {
    "collapsed": false
   },
   "id": "4188caf1d1ee1db1"
  },
  {
   "cell_type": "code",
   "execution_count": null,
   "outputs": [],
   "source": [],
   "metadata": {
    "collapsed": false
   },
   "id": "cc79040f7cd63789"
  },
  {
   "cell_type": "markdown",
   "source": [
    "Check id country ids are the same"
   ],
   "metadata": {
    "collapsed": false
   },
   "id": "4b433f5c2b3b1982"
  },
  {
   "cell_type": "code",
   "execution_count": 18,
   "outputs": [],
   "source": [
    "# Join the columns country_id of country_mapping on the columns country_a of neighbors_data_filtered based on the column \"name\"\n",
    "neighbors_data_filtered = neighbors_data_filtered.merge(country_mapping[['name', 'country_id']], left_on='country_a', right_on='name', how='left')\n",
    "neighbors_data_filtered = neighbors_data_filtered.merge(country_mapping[['name', 'country_id']], left_on='country_b', right_on='name', how='left')"
   ],
   "metadata": {
    "collapsed": false,
    "ExecuteTime": {
     "start_time": "2023-10-28T09:19:02.256674200Z"
    }
   },
   "id": "5d619dbd0df4e42b"
  },
  {
   "cell_type": "code",
   "execution_count": 19,
   "outputs": [],
   "source": [
    "neighbors_data_filtered.drop(columns=['name_x', 'name_y'], inplace=True)\n",
    "# Cast country_id_x and country_id_y to int, ignore nan values\n",
    "neighbors_data_filtered['country_id_x'] = neighbors_data_filtered['country_id_x'].astype('Int64')\n",
    "neighbors_data_filtered['country_id_y'] = neighbors_data_filtered['country_id_y'].astype('Int64')\n",
    "# Create two binary columns which compare the values of country_id_a and country_id_x and country_id_b and country_id_y\n",
    "neighbors_data_filtered['same_country_id_a'] = neighbors_data_filtered['country_id_a'] == neighbors_data_filtered['country_id_x']\n",
    "neighbors_data_filtered['same_country_id_b'] = neighbors_data_filtered['country_id_b'] == neighbors_data_filtered['country_id_y']\n",
    "# Rearrange columns\n",
    "neighbors_data_filtered = neighbors_data_filtered[['country_id_a', 'country_id_x', 'same_country_id_a', 'country_a', 'country_id_b', 'country_id_y', 'same_country_id_b', 'country_b', 'month_id_period']]"
   ],
   "metadata": {
    "collapsed": false,
    "ExecuteTime": {
     "start_time": "2023-10-28T09:19:04.528594400Z"
    }
   },
   "id": "6c3fbc90a71fc119"
  },
  {
   "cell_type": "code",
   "execution_count": 20,
   "outputs": [
    {
     "data": {
      "text/plain": "Empty DataFrame\nColumns: [country_id_a, country_id_x, same_country_id_a, country_a, country_id_b, country_id_y, same_country_id_b, country_b, month_id_period]\nIndex: []",
      "text/html": "<div>\n<style scoped>\n    .dataframe tbody tr th:only-of-type {\n        vertical-align: middle;\n    }\n\n    .dataframe tbody tr th {\n        vertical-align: top;\n    }\n\n    .dataframe thead th {\n        text-align: right;\n    }\n</style>\n<table border=\"1\" class=\"dataframe\">\n  <thead>\n    <tr style=\"text-align: right;\">\n      <th></th>\n      <th>country_id_a</th>\n      <th>country_id_x</th>\n      <th>same_country_id_a</th>\n      <th>country_a</th>\n      <th>country_id_b</th>\n      <th>country_id_y</th>\n      <th>same_country_id_b</th>\n      <th>country_b</th>\n      <th>month_id_period</th>\n    </tr>\n  </thead>\n  <tbody>\n  </tbody>\n</table>\n</div>"
     },
     "execution_count": 20,
     "metadata": {},
     "output_type": "execute_result"
    }
   ],
   "source": [
    "# Show entries where same_country_id_a or same_country_id_b aren't true\n",
    "neighbors_data_filtered[~(neighbors_data_filtered['same_country_id_a'] | neighbors_data_filtered['same_country_id_b'])]"
   ],
   "metadata": {
    "collapsed": false,
    "ExecuteTime": {
     "start_time": "2023-10-28T09:19:09.358354700Z"
    }
   },
   "id": "cf7eddf8a7a41597"
  },
  {
   "cell_type": "markdown",
   "source": [
    "Perform checks to investigate contents of the filtered data"
   ],
   "metadata": {
    "collapsed": false
   },
   "id": "58fa1a69135d2b7a"
  },
  {
   "cell_type": "code",
   "execution_count": 22,
   "outputs": [],
   "source": [
    "# Convert to dataframe\n",
    "neighbors_data_filtered_countries_a_df = pd.DataFrame(neighbors_data_filtered_countries_a, columns=['country'])\n",
    "# Convert to dataframe\n",
    "neighbors_data_filtered_countries_b_df = pd.DataFrame(neighbors_data_filtered_countries_b, columns=['country'])"
   ],
   "metadata": {
    "collapsed": false,
    "ExecuteTime": {
     "start_time": "2023-10-27T17:05:54.668534400Z"
    }
   },
   "id": "28c6dfde9760b54b"
  },
  {
   "cell_type": "code",
   "execution_count": 39,
   "outputs": [
    {
     "name": "stdout",
     "output_type": "stream",
     "text": [
      "Trinidad and Tobago\n",
      "Sri Lanka\n",
      "Philippines\n",
      "Comoros\n",
      "Australia\n",
      "Solomon Is.\n"
     ]
    }
   ],
   "source": [
    "# Show me which countries of the list \"countries\" are not in the neighbors_data_filtered_countries_a list\n",
    "for country in countries:\n",
    "    if country not in neighbors_data_filtered_countries_a:\n",
    "        print(country)"
   ],
   "metadata": {
    "collapsed": false,
    "ExecuteTime": {
     "start_time": "2023-10-28T09:28:00.674396200Z"
    }
   },
   "id": "17072a9c8351194c"
  },
  {
   "cell_type": "code",
   "execution_count": 40,
   "outputs": [
    {
     "name": "stdout",
     "output_type": "stream",
     "text": [
      "Trinidad and Tobago\n",
      "Sri Lanka\n",
      "Philippines\n",
      "Comoros\n",
      "Australia\n",
      "Solomon Is.\n"
     ]
    }
   ],
   "source": [
    "# Show me which countries of the list \"countries\" are not in the neighbors_data_filtered_countries_b list\n",
    "for country in countries:\n",
    "    if country not in neighbors_data_filtered_countries_b:\n",
    "        print(country)"
   ],
   "metadata": {
    "collapsed": false,
    "ExecuteTime": {
     "start_time": "2023-10-28T09:28:01.654656600Z"
    }
   },
   "id": "5cda28318970fe3"
  },
  {
   "cell_type": "code",
   "execution_count": 41,
   "outputs": [
    {
     "name": "stdout",
     "output_type": "stream",
     "text": [
      "None\n"
     ]
    }
   ],
   "source": [
    "# Show me which countries of the neighbors_data_filtered_countries_a list are not in the list \"countries\"\n",
    "for country in neighbors_data_filtered_countries_a:\n",
    "    if country not in countries:\n",
    "        print(country)"
   ],
   "metadata": {
    "collapsed": false,
    "ExecuteTime": {
     "start_time": "2023-10-28T09:28:14.423392Z"
    }
   },
   "id": "4c1c078a878118ca"
  },
  {
   "cell_type": "code",
   "execution_count": 42,
   "outputs": [
    {
     "name": "stdout",
     "output_type": "stream",
     "text": [
      "None\n"
     ]
    }
   ],
   "source": [
    "# Show me which countries of the neighbors_data_filtered_countries_b list are not in the list \"countries\"\n",
    "for country in neighbors_data_filtered_countries_b:\n",
    "    if country not in countries:\n",
    "        print(country)"
   ],
   "metadata": {
    "collapsed": false,
    "ExecuteTime": {
     "start_time": "2023-10-28T09:28:15.483043900Z"
    }
   },
   "id": "f78a0f1a8372d199"
  },
  {
   "cell_type": "code",
   "execution_count": 13,
   "outputs": [
    {
     "data": {
      "text/plain": "80"
     },
     "execution_count": 13,
     "metadata": {},
     "output_type": "execute_result"
    }
   ],
   "source": [
    "# Calculate rank of adjacency matrix\n",
    "np.linalg.matrix_rank(adjacency_matrix)"
   ],
   "metadata": {
    "collapsed": false,
    "ExecuteTime": {
     "end_time": "2023-10-28T11:21:19.079431Z",
     "start_time": "2023-10-28T11:21:18.985668300Z"
    }
   },
   "id": "3a52a2cc82bfb742"
  },
  {
   "cell_type": "code",
   "execution_count": 20,
   "outputs": [
    {
     "name": "stderr",
     "output_type": "stream",
     "text": [
      "C:\\Users\\Uwe Drauz\\anaconda3\\envs\\bachelor_thesis_pystan_clean\\lib\\site-packages\\ipykernel_launcher.py:7: ComplexWarning: Casting complex values to real discards the imaginary part\n",
      "  import sys\n"
     ]
    },
    {
     "data": {
      "text/plain": "300.00000000000006"
     },
     "execution_count": 20,
     "metadata": {},
     "output_type": "execute_result"
    }
   ],
   "source": [
    "# Calculate eigenvalues of adjacency matrix\n",
    "eigenvalues, eigenvectors = np.linalg.eig(adjacency_matrix)\n",
    "\n",
    "# convert eigenvalues to list\n",
    "eigenvalues = list(eigenvalues)\n",
    "# change type of eigenvalues to float\n",
    "eigenvalues = [float(eigenvalue) for eigenvalue in eigenvalues]\n",
    "\n",
    "# Calulate the sum over all eigenvalues\n",
    "sum_eigenvalues = sum(eigenvalues); sum_eigenvalues\n"
   ],
   "metadata": {
    "collapsed": false,
    "ExecuteTime": {
     "end_time": "2023-10-28T11:27:23.371082600Z",
     "start_time": "2023-10-28T11:27:23.303201600Z"
    }
   },
   "id": "90afa90f7a83947a"
  },
  {
   "cell_type": "code",
   "execution_count": 21,
   "outputs": [],
   "source": [
    "# Caluclate the sum over rows and columns of the adjacency matrix\n",
    "sum_rows = np.sum(adjacency_matrix, axis=1)\n",
    "sum_columns = np.sum(adjacency_matrix, axis=0)"
   ],
   "metadata": {
    "collapsed": false,
    "ExecuteTime": {
     "end_time": "2023-10-28T11:27:38.602894800Z",
     "start_time": "2023-10-28T11:27:38.561088800Z"
    }
   },
   "id": "7cac9db87290576b"
  },
  {
   "cell_type": "code",
   "execution_count": 22,
   "outputs": [],
   "source": [
    "# Drop the columns/ rows of the adjacency matrix in which all entries are zeros\n",
    "adjacency_matrix_only_neighbors = adjacency_matrix[~np.all(adjacency_matrix == 0, axis=1)]\n",
    "adjacency_matrix_only_neighbors = adjacency_matrix_only_neighbors[:, ~np.all(adjacency_matrix_only_neighbors == 0, axis=0)]"
   ],
   "metadata": {
    "collapsed": false,
    "ExecuteTime": {
     "end_time": "2023-10-28T11:33:59.817382700Z",
     "start_time": "2023-10-28T11:33:59.726358600Z"
    }
   },
   "id": "3ebea3aa77bb331f"
  },
  {
   "cell_type": "code",
   "execution_count": 23,
   "outputs": [
    {
     "data": {
      "text/plain": "80"
     },
     "execution_count": 23,
     "metadata": {},
     "output_type": "execute_result"
    }
   ],
   "source": [
    "# Calculate rank of adjacency_matrix_only_neighbors\n",
    "np.linalg.matrix_rank(adjacency_matrix_only_neighbors)"
   ],
   "metadata": {
    "collapsed": false,
    "ExecuteTime": {
     "end_time": "2023-10-28T11:34:21.757537300Z",
     "start_time": "2023-10-28T11:34:21.672766300Z"
    }
   },
   "id": "8d3e9c6eecb0a6f5"
  },
  {
   "cell_type": "code",
   "execution_count": 24,
   "outputs": [],
   "source": [
    "# Add 1 to all diagonal entries of adjacency_matrix\n",
    "adjacency_matrix_diagonal_one = adjacency_matrix + np.identity(adjacency_matrix.shape[0])\n"
   ],
   "metadata": {
    "collapsed": false,
    "ExecuteTime": {
     "end_time": "2023-10-28T11:57:06.689103600Z",
     "start_time": "2023-10-28T11:57:06.653973200Z"
    }
   },
   "id": "b8ebdbcc02a41c8f"
  },
  {
   "cell_type": "code",
   "execution_count": 27,
   "outputs": [
    {
     "data": {
      "text/plain": "96"
     },
     "execution_count": 27,
     "metadata": {},
     "output_type": "execute_result"
    }
   ],
   "source": [
    "# Calculate rank of adjacency_matrix_diagonal_one\n",
    "np.linalg.matrix_rank(adjacency_matrix_diagonal_one)"
   ],
   "metadata": {
    "collapsed": false,
    "ExecuteTime": {
     "end_time": "2023-10-28T13:02:43.657429800Z",
     "start_time": "2023-10-28T13:02:43.571659800Z"
    }
   },
   "id": "745bcfb9fc5748fb"
  },
  {
   "cell_type": "code",
   "execution_count": 26,
   "outputs": [],
   "source": [
    "# Caluclate the sum over rows and columns of the adjacency matrix\n",
    "sum_rows_diagonal_one = np.sum(adjacency_matrix_diagonal_one, axis=1)\n",
    "sum_columns_diagonal_one = np.sum(adjacency_matrix_diagonal_one, axis=0)"
   ],
   "metadata": {
    "collapsed": false,
    "ExecuteTime": {
     "start_time": "2023-10-28T11:57:50.159103300Z"
    }
   },
   "id": "54afae2b3094c5b"
  },
  {
   "cell_type": "code",
   "execution_count": 13,
   "outputs": [],
   "source": [
    "from mappings import map_month_id_to_datetime"
   ],
   "metadata": {
    "collapsed": false,
    "ExecuteTime": {
     "end_time": "2023-11-04T16:41:41.482025600Z",
     "start_time": "2023-11-04T16:41:41.419503900Z"
    }
   },
   "id": "d0f297a25c60b66b"
  },
  {
   "cell_type": "code",
   "execution_count": 14,
   "outputs": [
    {
     "data": {
      "text/plain": "datetime.datetime(2021, 1, 1, 0, 0)"
     },
     "execution_count": 14,
     "metadata": {},
     "output_type": "execute_result"
    }
   ],
   "source": [
    "map_month_id_to_datetime(493)"
   ],
   "metadata": {
    "collapsed": false,
    "ExecuteTime": {
     "end_time": "2023-11-04T16:41:42.895342500Z",
     "start_time": "2023-11-04T16:41:42.801615Z"
    }
   },
   "id": "908ecb673bb3a7ca"
  }
 ],
 "metadata": {
  "kernelspec": {
   "display_name": "Python 3",
   "language": "python",
   "name": "python3"
  },
  "language_info": {
   "codemirror_mode": {
    "name": "ipython",
    "version": 2
   },
   "file_extension": ".py",
   "mimetype": "text/x-python",
   "name": "python",
   "nbconvert_exporter": "python",
   "pygments_lexer": "ipython2",
   "version": "2.7.6"
  }
 },
 "nbformat": 4,
 "nbformat_minor": 5
}
