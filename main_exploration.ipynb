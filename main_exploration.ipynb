{
 "cells": [
  {
   "cell_type": "markdown",
   "source": [
    "# STEP: IMPORT FUNCTIONS\n",
    "import pandas as pd\n",
    "from data_gathering import gather_data_features, gather_data_actuals\n",
    "from data_exploration import calculate_correlation\n",
    "from mappings import import_country_mapping\n",
    "from data_visualization import global_scatter_plot"
   ],
   "metadata": {
    "collapsed": false
   }
  },
  {
   "cell_type": "code",
   "execution_count": null,
   "metadata": {
    "collapsed": true
   },
   "outputs": [],
   "source": [
    "# STEP: LOAD DATA\n",
    "# Load actuals data\n",
    "data_cm_actual_2018, data_cm_actual_2019, data_cm_actual_2020, data_cm_actual_2021, data_cm_actual_allyears \\\n",
    "    = gather_data_actuals()\n",
    "\n",
    "# Load features data\n",
    "data_cm_features_2017, data_cm_features_2018, data_cm_features_2019, data_cm_features_2020, data_cm_features_allyears \\\n",
    "    = gather_data_features()\n",
    "\n",
    "\n",
    "output_directory = r\"C:\\Users\\Uwe Drauz\\Documents\\bachelor_thesis_local\\personal_competition_data\\Baseline_Model\"\n",
    "\n",
    "crps_scores_all_year_country_specific = {}\n",
    "crps_scores_all_year_global = {}\n",
    "for year in [2015, 2016, 2017, 2018, 2019]:\n",
    "    file_path = rf'C:\\Users\\Uwe Drauz\\Documents\\bachelor_thesis_local\\personal_competition_data\\Baseline_Model\\crps_scores_all_year_{year}_country_specific.parquet'\n",
    "    crps_scores_all_year_country_specific[year] = pd.read_parquet(file_path)\n",
    "    file_path = rf'C:\\Users\\Uwe Drauz\\Documents\\bachelor_thesis_local\\personal_competition_data\\Baseline_Model\\crps_scores_all_year_{year}_global.parquet'\n",
    "    crps_scores_all_year_global[year] = pd.read_parquet(file_path)\n",
    "\n",
    "crps_scores_all_year_country_specific_year_2015 = crps_scores_all_year_country_specific[2015]\n",
    "crps_scores_all_year_country_specific_year_2016 = crps_scores_all_year_country_specific[2016]\n",
    "crps_scores_all_year_country_specific_year_2017 = crps_scores_all_year_country_specific[2017]\n",
    "crps_scores_all_year_country_specific_year_2018 = crps_scores_all_year_country_specific[2018]\n",
    "crps_scores_all_year_country_specific_year_2019 = crps_scores_all_year_country_specific[2019]\n",
    "\n",
    "crps_scores_all_year_global_year_2015 = crps_scores_all_year_global[2015]\n",
    "crps_scores_all_year_global_year_2016 = crps_scores_all_year_global[2016]\n",
    "crps_scores_all_year_global_year_2017 = crps_scores_all_year_global[2017]\n",
    "crps_scores_all_year_global_year_2018 = crps_scores_all_year_global[2018]\n",
    "crps_scores_all_year_global_year_2019 = crps_scores_all_year_global[2019]\n",
    "\n",
    "country_mapping = import_country_mapping()"
   ]
  },
  {
   "cell_type": "code",
   "execution_count": null,
   "outputs": [],
   "source": [
    "# STEP: DATA EXPLORATION\n",
    "input_variables = \\\n",
    "    data_cm_features_allyears.columns.drop(['index', 'country_id', 'month_id', 'ged_sb']).tolist()\n",
    "target_variables = \\\n",
    "    ['ged_sb', 'ged_sb_tlag_1', 'ged_sb_tlag_2', 'ged_sb_tlag_3', 'ged_sb_tlag_4', 'ged_sb_tlag_5', 'ged_sb_tlag_6']\n",
    "correlation_values = calculate_correlation(data_cm_features_allyears, target_variables=target_variables, input_variables=input_variables)\n",
    "\n"
   ],
   "metadata": {
    "collapsed": false
   }
  },
  {
   "cell_type": "code",
   "execution_count": null,
   "outputs": [],
   "source": [
    "data_cm_features_allyears"
   ],
   "metadata": {
    "collapsed": false
   }
  },
  {
   "cell_type": "code",
   "execution_count": null,
   "outputs": [],
   "source": [
    "data_cm_actual_allyears"
   ],
   "metadata": {
    "collapsed": false
   }
  },
  {
   "cell_type": "code",
   "execution_count": null,
   "outputs": [],
   "source": [
    "# Create a boolean mask of values with absolute value greater than or equal to 0.1\n",
    "corr_threshold = 0.1\n",
    "mask = correlation_values.abs() >= corr_threshold\n",
    "\n",
    "# Apply the mask to the DataFrame to drop the values\n",
    "correlation_values_filtered = correlation_values[mask]\n",
    "\n",
    "correlation_values_filtered"
   ],
   "metadata": {
    "collapsed": false
   }
  },
  {
   "cell_type": "markdown",
   "source": [
    "**Understand spatial lag features**"
   ],
   "metadata": {
    "collapsed": false
   }
  },
  {
   "cell_type": "code",
   "execution_count": null,
   "outputs": [],
   "source": [
    "\n",
    "country_neighbours = [1, 2, 4, 9]\n",
    "data_cm_features_allyears[['month_id', 'country_id', 'vdem_v2x_libdem', 'vdem_v2x_libdem_48', 'splag_vdem_v2x_libdem']][(data_cm_features_allyears['country_id'].isin(country_neighbours)) & (data_cm_features_allyears['month_id'] == 121)]"
   ],
   "metadata": {
    "collapsed": false
   }
  },
  {
   "cell_type": "markdown",
   "source": [
    "**Understand decay function features**"
   ],
   "metadata": {
    "collapsed": false
   }
  },
  {
   "cell_type": "markdown",
   "source": [],
   "metadata": {
    "collapsed": false
   }
  },
  {
   "cell_type": "code",
   "execution_count": null,
   "outputs": [],
   "source": [
    "country_neighbours = [1, 2, 4, 9]\n",
    "data_cm_features_allyears[['month_id', 'country_id', 'ged_sb', 'decay_ged_sb_5', 'decay_ged_sb_100', 'decay_ged_sb_500']][(data_cm_features_allyears['country_id'] == 133)]"
   ],
   "metadata": {
    "collapsed": false
   }
  },
  {
   "cell_type": "code",
   "execution_count": null,
   "outputs": [],
   "source": [
    "country_neighbours = [1, 2, 4, 9]\n",
    "data_cm_features_allyears[['month_id', 'country_id', 'ged_sb', 'decay_ged_sb_5', 'splag_1_decay_ged_sb_5' ]][(data_cm_features_allyears['country_id'].isin(country_neighbours)) & (data_cm_features_allyears['month_id'] == 121)]"
   ],
   "metadata": {
    "collapsed": false
   }
  },
  {
   "cell_type": "markdown",
   "source": [
    "Plot independent variables vs conflict fatalities in scatter plot"
   ],
   "metadata": {
    "collapsed": false
   }
  },
  {
   "cell_type": "code",
   "execution_count": null,
   "outputs": [],
   "source": [
    "output_directory = r'C:\\Users\\Uwe Drauz\\Documents\\bachelor_thesis_local\\personal_competition_data\\Plots\\scatterplots_global'\n",
    "independent_variables = data_cm_features_allyears.columns.drop(['index', 'country_id', 'month_id', 'ged_sb']).tolist()\n",
    "for independent_variable in independent_variables:\n",
    "    global_scatter_plot(data_cm_features_allyears, independent_variable, 'ged_sb', output_directory, show=False, export=True)"
   ],
   "metadata": {
    "collapsed": false
   }
  },
  {
   "cell_type": "markdown",
   "source": [
    "Plot independent variables vs conflict fatalities in scatter plot for non zero conflict data"
   ],
   "metadata": {
    "collapsed": false
   }
  },
  {
   "cell_type": "code",
   "execution_count": null,
   "outputs": [],
   "source": [
    "output_directory_non_zero = r'C:\\Users\\Uwe Drauz\\Documents\\bachelor_thesis_local\\personal_competition_data\\Plots\\scatterplots_global_non_zero'\n",
    "independent_variables = data_cm_features_allyears.columns.drop(['index', 'country_id', 'month_id', 'ged_sb']).tolist()\n",
    "data_cm_features_allyears_non_zero = data_cm_features_allyears[data_cm_features_allyears['ged_sb'] > 0]\n",
    "for independent_variable in independent_variables:\n",
    "    global_scatter_plot(data_cm_features_allyears_non_zero, independent_variable, 'ged_sb', output_directory_non_zero, show=False, export=True)"
   ],
   "metadata": {
    "collapsed": false
   }
  },
  {
   "cell_type": "code",
   "execution_count": null,
   "outputs": [],
   "source": [
    "data_cm_features_allyears['ged_sb'].describe()\n"
   ],
   "metadata": {
    "collapsed": false
   }
  },
  {
   "cell_type": "code",
   "execution_count": null,
   "outputs": [],
   "source": [
    "data_cm_features_allyears_non_zero['ged_sb'].describe()"
   ],
   "metadata": {
    "collapsed": false
   }
  },
  {
   "cell_type": "code",
   "execution_count": null,
   "outputs": [],
   "source": [
    "data_cm_features_allyears[['month_id', 'country_id', 'ged_sb', 'ged_sb_tlag_1', 'ged_sb_tlag_2', 'ged_sb_tlag_3', 'ged_sb_tlag_4', 'ged_sb_tlag_5', 'ged_sb_tlag_6']]"
   ],
   "metadata": {
    "collapsed": false
   }
  },
  {
   "cell_type": "code",
   "execution_count": null,
   "outputs": [],
   "source": [
    "import seaborn as sns\n",
    "import matplotlib.pyplot as plt\n",
    "def plot_variable_distribution(df: pd.DataFrame, variable: str):\n",
    "    fig, ax = plt.subplots(figsize=(10, 6))\n",
    "    sns.histplot(data=df, x=variable, ax=ax)\n",
    "    ax.set_title(f'Distribution of {variable}')\n",
    "    plt.show()"
   ],
   "metadata": {
    "collapsed": false
   }
  },
  {
   "cell_type": "code",
   "execution_count": null,
   "outputs": [],
   "source": [
    "plot_variable_distribution(data_cm_features_allyears, 'ged_sb')"
   ],
   "metadata": {
    "collapsed": false
   }
  },
  {
   "cell_type": "code",
   "execution_count": null,
   "outputs": [],
   "source": [
    "plot_variable_distribution(data_cm_features_allyears_non_zero, 'ged_sb')"
   ],
   "metadata": {
    "collapsed": false
   }
  },
  {
   "cell_type": "code",
   "execution_count": null,
   "outputs": [],
   "source": [
    "global_scatter_plot(data_cm_features_allyears_non_zero, 'wdi_sm_pop_refg_or', 'ged_sb', output_directory, show=True, export=False)"
   ],
   "metadata": {
    "collapsed": false
   }
  },
  {
   "cell_type": "code",
   "execution_count": null,
   "outputs": [],
   "source": [
    "data_cm_features_allyears_non_zero_big =  data_cm_features_allyears[data_cm_features_allyears['ged_sb'] > 5]"
   ],
   "metadata": {
    "collapsed": false
   }
  },
  {
   "cell_type": "code",
   "execution_count": null,
   "outputs": [],
   "source": [
    "plot_variable_distribution(data_cm_features_allyears_non_zero_big, 'ged_sb')"
   ],
   "metadata": {
    "collapsed": false
   }
  },
  {
   "cell_type": "code",
   "execution_count": null,
   "outputs": [],
   "source": [
    "import pymc as pm"
   ],
   "metadata": {
    "collapsed": false
   }
  },
  {
   "cell_type": "code",
   "execution_count": null,
   "outputs": [],
   "source": [
    "run_id = 'eae5db7dfa6e4408a8fb0f916968d033'\n",
    "evaluation_year = 2018\n",
    "results_all_countries_path = fr\"C:\\Users\\Uwe Drauz\\PycharmProjects\\bachelor_thesis\\mlruns\\3\\{run_id}\\artifacts\\BaselineModel_results_all_countries{evaluation_year}.parquet\"\n",
    "results_all_countries = pd.read_parquet(results_all_countries_path)\n",
    "results_actuals_all_countries_path = fr\"C:\\Users\\Uwe Drauz\\PycharmProjects\\bachelor_thesis\\mlruns\\3\\{run_id}\\artifacts\\BaselineModel_results_actuals_{evaluation_year}.parquet\"\n",
    "results_actuals = pd.read_parquet(results_actuals_all_countries_path)"
   ],
   "metadata": {
    "collapsed": false
   }
  },
  {
   "cell_type": "markdown",
   "source": [
    "### Prior Predicitve Checks"
   ],
   "metadata": {
    "collapsed": false
   }
  },
  {
   "cell_type": "code",
   "execution_count": null,
   "outputs": [],
   "source": [
    "import scipy.stats as stats\n",
    "import seaborn as sns\n",
    "import pandas as pd\n",
    "import matplotlib.pyplot as plt"
   ],
   "metadata": {
    "collapsed": false
   }
  },
  {
   "cell_type": "code",
   "execution_count": null,
   "outputs": [],
   "source": [
    "\n",
    "# Simulate gamma distribution of alpha parameter\n",
    "nsim = 100\n",
    "nobs = 100\n",
    "a_alpha = 0.1\n",
    "b_alpha = 1\n",
    "\n",
    "# Generate alpha using Gamma distribution\n",
    "alpha = stats.gamma.rvs(a=a_alpha, scale=1/b_alpha, size=nsim)\n",
    "\n",
    "# Initialize DataFrame to store Negative Binomial data\n",
    "y = pd.DataFrame(index=range(nsim), columns=range(nobs))\n",
    "\n",
    "# Simulate target data following NB distribution\n",
    "mu = 1\n",
    "for i in range(nsim):\n",
    "    # Generate Negative Binomial data using the alpha parameter\n",
    "    y.loc[i, :] = stats.nbinom.rvs(n=alpha[i], p=mu/(mu+alpha[i]), size=nobs)\n",
    "\n",
    "\n"
   ],
   "metadata": {
    "collapsed": false
   }
  },
  {
   "cell_type": "code",
   "execution_count": null,
   "outputs": [],
   "source": [
    "# Plot the histogram using Seaborn\n",
    "sns.histplot(alpha, bins=30, label='Histogram', color='blue')\n",
    "\n",
    "# Create a second y-axis to plot the density\n",
    "ax2 = plt.gca().twinx()\n",
    "\n",
    "# Plot the density on the second y-axis\n",
    "sns.kdeplot(alpha, ax=ax2, label='Density', color='red')\n",
    "\n",
    "# Labeling and titles\n",
    "plt.title('Histogram and Density of Alpha')\n",
    "plt.xlabel('Alpha')\n",
    "plt.gca().set_ylabel('Frequency (Count)')\n",
    "ax2.set_ylabel('Density')\n",
    "\n",
    "# Add legends\n",
    "plt.gca().legend(loc='upper left')\n",
    "ax2.legend(loc='upper right')\n",
    "\n",
    "plt.show()\n"
   ],
   "metadata": {
    "collapsed": false
   }
  },
  {
   "cell_type": "code",
   "execution_count": null,
   "outputs": [],
   "source": [
    "# Plot the histogram using Seaborn for the first row of y\n",
    "for obs in range(20):\n",
    "    print(f\"alpha value: {alpha[obs]}\")\n",
    "    sns.histplot(y.loc[obs, :], bins=30, label='Histogram', color='blue')\n",
    "    \n",
    "    # Create a second y-axis to plot the density\n",
    "    ax2 = plt.gca().twinx()\n",
    "    \n",
    "    # Plot the density on the second y-axis for the first row of y\n",
    "    sns.kdeplot(y.loc[obs, :], ax=ax2, label='Density', color='red')\n",
    "    \n",
    "    # Labeling and titles\n",
    "    plt.title('Histogram and Density of y (Row 0)')\n",
    "    plt.xlabel('y')\n",
    "    plt.gca().set_ylabel('Frequency (Count)')\n",
    "    ax2.set_ylabel('Density')\n",
    "    \n",
    "    # Add legends\n",
    "    plt.gca().legend(loc='upper left')\n",
    "    ax2.legend(loc='upper right')\n",
    "    \n",
    "    plt.show()\n"
   ],
   "metadata": {
    "collapsed": false
   }
  },
  {
   "cell_type": "code",
   "execution_count": null,
   "outputs": [],
   "source": [
    "# Load 'Actuals' data\n",
    "data_cm_actual_2018, data_cm_actual_2019, data_cm_actual_2020, data_cm_actual_2021, data_cm_actual_allyears \\\n",
    "    = gather_data_actuals()\n",
    "# Load features data\n",
    "data_cm_features_2017, data_cm_features_2018, data_cm_features_2019, data_cm_features_2020, data_cm_features_allyears \\\n",
    "    = gather_data_features()"
   ],
   "metadata": {
    "collapsed": false
   }
  },
  {
   "cell_type": "markdown",
   "source": [],
   "metadata": {
    "collapsed": false
   }
  },
  {
   "cell_type": "markdown",
   "source": [],
   "metadata": {
    "collapsed": false
   }
  },
  {
   "cell_type": "markdown",
   "source": [],
   "metadata": {
    "collapsed": false
   }
  },
  {
   "cell_type": "code",
   "execution_count": null,
   "outputs": [],
   "source": [
    "dict_actuals = {\n",
    "        \"2018\": data_cm_actual_2018,\n",
    "        \"2019\": data_cm_actual_2019,\n",
    "        \"2020\": data_cm_actual_2020,\n",
    "        \"2021\": data_cm_actual_2021\n",
    "        }"
   ],
   "metadata": {
    "collapsed": false
   }
  },
  {
   "cell_type": "code",
   "execution_count": null,
   "outputs": [],
   "source": [
    "# Determine all countries\n",
    "actual_countries = data_cm_actual_allyears['country_id'].unique()\n",
    "# Determine countries with at least one conflict fatality\n",
    "feature_countries_non_zero = data_cm_features_allyears[data_cm_features_allyears['ged_sb'] > 0][\n",
    "    'country_id'].unique()\n",
    "# Determine countries which have at least one conflict fatality and are in the actuals data\n",
    "feature_and_actuals_countries_non_zero = list(set(feature_countries_non_zero) & set(actual_countries))\n",
    "\n",
    "# Determine the counties which are in actual_countries but not in feature_and_actuals_countries_non_zero\n",
    "countries_in_actuals_without_observations = list(\n",
    "    set(actual_countries) - set(feature_and_actuals_countries_non_zero))"
   ],
   "metadata": {
    "collapsed": false
   }
  },
  {
   "cell_type": "code",
   "execution_count": null,
   "outputs": [],
   "source": [
    "# Calculate the average value of 'ged_sb' for each data frames in dict_actuals filtered on countries which are in feature_and_actuals_countries_non_zero\n",
    "for year in dict_actuals.keys():\n",
    "    df = dict_actuals[year]\n",
    "    df = df[df['country_id'].isin(feature_and_actuals_countries_non_zero)]\n",
    "    print(f\"Average value of 'ged_sb' in {year}: {df['ged_sb'].mean()}\")"
   ],
   "metadata": {
    "collapsed": false
   }
  },
  {
   "cell_type": "code",
   "execution_count": null,
   "outputs": [],
   "source": [
    "X = pd.read_parquet(\"competition_results/test_window_2018_baseline_validate_on_forecast_horizon.parquet\")"
   ],
   "metadata": {
    "collapsed": false
   }
  },
  {
   "cell_type": "code",
   "execution_count": null,
   "outputs": [],
   "source": [
    "from mappings import map_month_id_to_datetime\n",
    "map_month_id_to_datetime(468)"
   ],
   "metadata": {
    "collapsed": false
   }
  },
  {
   "cell_type": "code",
   "execution_count": null,
   "outputs": [],
   "source": [
    "import pandas as pd\n",
    "results_all_countries_2018 = pd.read_parquet(\"mlruns/3/bd79953d84ac4d3d8d59415a286c3fc3/artifacts/BaselineModel_results_all_countries2018.parquet\")"
   ],
   "metadata": {
    "collapsed": false
   }
  },
  {
   "cell_type": "markdown",
   "source": [
    "### Categorizing countries into developed and developing countries"
   ],
   "metadata": {
    "collapsed": false
   }
  },
  {
   "cell_type": "code",
   "execution_count": null,
   "outputs": [],
   "source": [
    "import pandas as pd\n",
    "import numpy as np"
   ],
   "metadata": {
    "collapsed": false
   }
  },
  {
   "cell_type": "code",
   "execution_count": null,
   "outputs": [],
   "source": [
    "# List of countries in the views competition data\n",
    "views_country_list = [\n",
    "    \"Guyana\", \"Suriname\", \"Trinidad and Tobago\", \"Venezuela\", \"Samoa\", \"Tonga\",\n",
    "    \"Argentina\", \"Bolivia\", \"Brazil\", \"Chile\", \"Ecuador\", \"Paraguay\", \"Peru\", \"Uruguay\",\n",
    "    \"Guatemala\", \"Mexico\", \"Barbados\", \"Dominica\", \"Grenada\", \"St. Lucia\", \"St. Vincent and the Grenadines\",\n",
    "    \"Dominican Republic\", \"Haiti\", \"Jamaica\", \"Bahamas\", \"Belize\", \"Colombia\", \"Costa Rica\", \"Cuba\",\n",
    "    \"El Salvador\", \"Honduras\", \"Nicaragua\", \"Panama\", \"Antigua and Barbuda\", \"St. Kitts and Nevis\",\n",
    "    \"Iceland\", \"Ireland\", \"United Kingdom\", \"Cape Verde\", \"Cote d'Ivoire\", \"Ghana\", \"Liberia\",\n",
    "    \"Portugal\", \"Spain\", \"Burkina Faso\", \"Guinea\", \"Guinea-Bissau\", \"Mali\",\n",
    "    \"Senegal\", \"Sierra Leone\", \"The Gambia\", \"Djibouti\", \"Eritrea\", \"Ethiopia\", \"Mongolia\",\n",
    "    \"Iraq\", \"Jordan\", \"Kazakhstan\", \"Norway\", \"Russia\", \"Sweden\",\n",
    "    \"Algeria\", \"Cameroon\", \"Central African Republic\", \"Tunisia\", \"Benin\",\n",
    "    \"Equatorial Guinea\", \"Kiribati\", \"Niger\", \"Nigeria\", \"Sao Tome and Principe\", \"Togo\",\n",
    "    \"Albania\", \"Bosnia and Herzegovina\", \"Croatia\", \"Italy\", \"Macedonia\", \"Malta\",\n",
    "    \"Bulgaria\", \"Cyprus\", \"Georgia\", \"Greece\", \"Lebanon\",\n",
    "    \"Turkey\", \"Austria\", \"Czech Republic\", \"Denmark\", \"Hungary\", \"Poland\",\n",
    "    \"Slovakia\", \"Slovenia\", \"Belgium\", \"France\", \"Luxembourg\", \"Netherlands\",\n",
    "    \"Switzerland\", \"Belarus\", \"Estonia\", \"Finland\", \"Latvia\", \"Lithuania\", \"Moldova\",\n",
    "    \"Romania\", \"Ukraine\", \"Maldives\", \"Oman\", \"Somalia\", \"Sri Lanka\", \"Turkmenistan\",\n",
    "    \"Uzbekistan\", \"Yemen\", \"Armenia\", \"Azerbaijan\", \"Bahrain\", \"Iran\", \"Kuwait\",\n",
    "    \"Qatar\", \"Saudi Arabia\", \"United Arab Emirates\", \"Afghanistan\", \"Kyrgyzstan\",\n",
    "    \"Nepal\", \"Pakistan\", \"Tajikistan\", \"Bangladesh\", \"Bhutan\", \"Brunei\",\n",
    "    \"Japan\", \"North Korea\", \"Palau\", \"Philippines\", \"South Korea\",\n",
    "    \"Cambodia\", \"Laos\", \"Myanmar\", \"Thailand\", \"Vietnam\", \"Marshall Is.\",\n",
    "    \"Micronesia\", \"Botswana\", \"Burundi\", \"Rwanda\", \"Zambia\", \"Zimbabwe\",\n",
    "    \"Comoros\", \"Lesotho\", \"Malawi\", \"Mozambique\", \"South Africa\", \"Swaziland\",\n",
    "    \"Angola\", \"Congo\", \"Congo, DRC\", \"Fiji\", \"Gabon\", \"Namibia\",\n",
    "    \"New Zealand\", \"Madagascar\", \"Mauritius\", \"Seychelles\", \"Timor Leste\",\n",
    "    \"Australia\", \"Nauru\", \"Papua New Guinea\", \"Solomon Is.\", \"Tuvalu\",\n",
    "    \"Vanuatu\", \"Canada\", \"Germany\", \"Taiwan\", \"China\", \"Malaysia\",\n",
    "    \"Singapore\", \"Indonesia\", \"Libya\", \"Chad\", \"Israel\", \"Syria\",\n",
    "    \"Egypt\", \"India\", \"Montenegro\", \"Kosovo\", \"Serbia\", \"United States\",\n",
    "    \"Uganda\", \"Kenya\", \"Tanzania\", \"Morocco\", \"Mauritania\", \"Sudan\", \"South Sudan\"\n",
    "]\n"
   ],
   "metadata": {
    "collapsed": false
   }
  },
  {
   "cell_type": "markdown",
   "source": [
    "**List of categorized countries based on the World Economic Situation and Prospects (WESP) 2022 report**\n",
    "To be found here: https://www.un.org/development/desa/dpad/wp-content/uploads/sites/45/WESP2022_ANNEX.pdf"
   ],
   "metadata": {
    "collapsed": false
   }
  },
  {
   "cell_type": "code",
   "execution_count": null,
   "outputs": [],
   "source": [
    "# List of developed economies from Table A\n",
    "developed_economies = [\n",
    "    \"Canada\", \"United States\", \"Australia\", \"Japan\", \"New Zealand\",\n",
    "    \"Austria\", \"Belgium\", \"Denmark\", \"Finland\", \"France\", \"Germany\",\n",
    "    \"Greece\", \"Ireland\", \"Italy\", \"Luxembourg\", \"Netherlands\", \"Portugal\",\n",
    "    \"Spain\", \"Sweden\", \"Bulgaria\", \"Croatia\", \"Cyprus\", \"Czech Republic\",\n",
    "    \"Estonia\", \"Hungary\", \"Latvia\", \"Lithuania\", \"Malta\", \"Poland\",\n",
    "    \"Romania\", \"Slovakia\", \"Slovenia\", \"Iceland\", \"Norway\", \"Switzerland\",\n",
    "    \"United Kingdom\"\n",
    "]"
   ],
   "metadata": {
    "collapsed": false
   }
  },
  {
   "cell_type": "code",
   "execution_count": null,
   "outputs": [],
   "source": [
    "# List of economies in transition from Table B\n",
    "economies_in_transition = [\n",
    "    \"Albania\", \"Bosnia and Herzegovina\", \"Montenegro\", \"Macedonia\", \"Serbia\",\n",
    "    \"Armenia\", \"Azerbaijan\", \"Belarus\", \"Georgia\", \"Kazakhstan\", \"Kyrgyzstan\",\n",
    "    \"Moldova\", \"Russia\", \"Tajikistan\", \"Turkmenistan\",\n",
    "    \"Ukraine\", \"Uzbekistan\"\n",
    "]"
   ],
   "metadata": {
    "collapsed": false
   }
  },
  {
   "cell_type": "code",
   "execution_count": null,
   "outputs": [],
   "source": [
    "# List of developing economies from Table C\n",
    "developing_economies = [\n",
    "    # North Africa\n",
    "    \"Algeria\", \"Egypt\", \"Libya\", \"Mauritania\", \"Morocco\", \"Sudan\", \"Tunisia\",\n",
    "    # Central Africa\n",
    "    \"Cameroon\", \"Central African Republic\", \"Chad\", \"Congo, DRC\", \"Equatorial Guinea\", \"Gabon\", \"Sao Tome and Prinicipe\",\n",
    "    # East Africa\n",
    "    \"Burundi\", \"Congo\", \"Comoros\", \"Djibouti\", \"Eritrea\", \"Ethiopia\", \"Kenya\", \"Madagascar\", \"Rwanda\", \"Somalia\", \"South Sudan\", \"Tanzania\", \"Uganda\",\n",
    "    # Southern Africa\n",
    "    \"Angola\", \"Botswana\", \"Swaziland\", \"Lesotho\", \"Malawi\", \"Mauritius\", \"Mozambique\", \"Namibia\", \"South Africa\", \"Zambia\", \"Zimbabwe\",\n",
    "    # West Africa\n",
    "    \"Benin\", \"Burkina Faso\", \"Cape Verde\", \"Cote d'Ivoire\", \"The Gambia\", \"Ghana\", \"Guinea\", \"Guinea-Bissau\", \"Liberia\", \"Mali\", \"Niger\", \"Nigeria\", \"Senegal\", \"Sierra Leone\", \"Togo\",\n",
    "    # Asia\n",
    "    \"Brunei\", \"Cambodia\", \"China\", \"North Korea\", \"Fiji\", \"Hong Kong SAR\", \"Indonesia\", \"Kiribati\", \"Laos\", \"Malaysia\", \"Mongolia\", \"Myanmar\", \"Papua New Guinea\", \"Philippines\", \"South Korea\", \"Samoa\", \"Singapore\", \"Solomon Is.\", \"Taiwan\", \"Thailand\", \"Timor-Leste\", \"Vanuatu\", \"Vietnam\",\n",
    "    \"Afghanistan\", \"Bangladesh\", \"Bhutan\", \"India\", \"Iran\", \"Maldives\", \"Nepal\", \"Pakistan\", \"Sri Lanka\",\n",
    "    \"Bahrain\", \"Iraq\", \"Israel\", \"Jordan\", \"Kuwait\", \"Lebanon\", \"Oman\", \"Qatar\", \"Saudi Arabia\", \"State of Palestine\", \"Syria\", \"Turkey\", \"United Arab Emirates\", \"Yemen\",\n",
    "    # Latin America and the Caribbean\n",
    "    \"Bahamas\", \"Barbados\", \"Belize\", \"Guyana\", \"Jamaica\", \"Suriname\", \"Trinidad and Tobago\", \"Costa Rica\", \"Cuba\", \"Dominican Republic\", \"El Salvador\", \"Guatemala\", \"Haiti\", \"Honduras\", \"Mexico\", \"Nicaragua\", \"Panama\",\n",
    "    \"Argentina\", \"Bolivia\", \"Brazil\", \"Chile\", \"Colombia\", \"Ecuador\", \"Paraguay\", \"Peru\", \"Uruguay\", \"Venezuela\"\n",
    "]\n"
   ],
   "metadata": {
    "collapsed": false
   }
  },
  {
   "cell_type": "code",
   "execution_count": null,
   "outputs": [],
   "source": [
    "# List of the least developed economies from Table F based on the UN list of LDCs\n",
    "least_developed_countries = [\n",
    "    \"Angola\", \"Benin\", \"Burkina Faso\", \"Burundi\", \"Central African Republic\",\n",
    "    \"Chad\", \"Comoros\", \"Congo, DRC\", \"Djibouti\", \"Eritrea\",\n",
    "    \"Ethiopia\", \"The Gambia\", \"Guinea\", \"Guinea-Bissau\", \"Lesotho\", \"Liberia\",\n",
    "    \"Madagascar\", \"Malawi\", \"Mali\", \"Mauritania\", \"Mozambique\", \"Niger\",\n",
    "    \"Rwanda\", \"Sao Tome and Principe\", \"Senegal\", \"Sierra Leone\", \"Somalia\",\n",
    "    \"South Sudan\", \"Sudan\", \"Togo\", \"Uganda\", \"Tanzania\",\n",
    "    \"Zambia\", \"Cambodia\", \"Kiribati\", \"Laos\",\n",
    "    \"Myanmar\", \"Solomon Is.\", \"Timor Leste\", \"Tuvalu\", \"Afghanistan\",\n",
    "    \"Bangladesh\", \"Bhutan\", \"Nepal\", \"Yemen\", \"Haiti\"\n",
    "]"
   ],
   "metadata": {
    "collapsed": false
   }
  },
  {
   "cell_type": "code",
   "execution_count": null,
   "outputs": [],
   "source": [
    "# List of small developing island states from Table H based on the UN list of SIDS\n",
    "small_islands_developing_states = [\n",
    "    \"Antigua and Barbuda\", \"Bahamas\", \"Bahrain\", \"Barbados\", \"Belize\", \"Cape Verde\", \"Comoros\", \"Cuba\", \"Dominica\", \"Dominican Republic\", \"Micronesia\", \"Fiji\", \"Grenada\", \"Guinea-Bissau\", \"Guyana\", \"Haiti\", \"Jamaica\", \"Kiribati\",  \"Maldives\", \"Marshall Is.\", \"Mauritius\", \"Nauru\", \"Palau\", \"Papua New Guinea\", \"St. Kitts and Nevis\", \"St. Lucia\", \"St. Vincent and the Grenadines\", \"Samoa\", \"Sao Tome and Principe\", \"Seychelles\", \"Singapore\", \"Solomon Is.\", \"Suriname\", \"Timor-Leste\", \"Tonga\", \"Trinidad and Tobago\", \"Tuvalu\", \"Vanuatu\", \"American Samoa\", \"Anguilla\", \"Aruba\", \"Bermuda\", \"British Virgin Islands\", \"Cayman Islands\", \"Commonwealth of Northern Marianas\", \"Cook Islands\", \"Curaçao\", \"French Polynesia\", \"Guadeloupe\", \"Guam\", \"Martinique\", \"Montserrat\", \"New Caledonia\", \"Niue\", \"Puerto Rico\", \"Sint Maarten\", \"Turks and Caicos Islands\", \"U.S. Virgin Islands\"\n",
    "]\n"
   ],
   "metadata": {
    "collapsed": false
   }
  },
  {
   "cell_type": "code",
   "execution_count": null,
   "outputs": [],
   "source": [
    "# not fully recognized countries\n",
    "not_recognized_countries = ['Kosovo']"
   ],
   "metadata": {
    "collapsed": false
   }
  },
  {
   "cell_type": "markdown",
   "source": [
    "Construct different sets of countries "
   ],
   "metadata": {
    "collapsed": false
   }
  },
  {
   "cell_type": "code",
   "execution_count": null,
   "outputs": [],
   "source": [
    "# Combined economies types from WESP 2022 report\n",
    "all_economies_wesp = developed_economies + economies_in_transition + developing_economies"
   ],
   "metadata": {
    "collapsed": false
   }
  },
  {
   "cell_type": "code",
   "execution_count": null,
   "outputs": [],
   "source": [
    "# Combined economies types from WESP 2022 report extended by LDCs and SIDS\n",
    "all_economies_wesp_plus_UN = list(set(all_economies_wesp + least_developed_countries + small_islands_developing_states))"
   ],
   "metadata": {
    "collapsed": false
   }
  },
  {
   "cell_type": "code",
   "execution_count": null,
   "outputs": [],
   "source": [
    "# Developing economies from WESP 2022 report extended by LDCs, SIDS ans outlier countries\n",
    "developing_economies_extended = developing_economies + least_developed_countries + small_islands_developing_states + not_recognized_countries\n",
    "developing_economies_extended = list(set(developing_economies_extended))"
   ],
   "metadata": {
    "collapsed": false
   }
  },
  {
   "cell_type": "code",
   "execution_count": null,
   "outputs": [],
   "source": [
    "# List of developing economies without LDCs n\n",
    "developing_economies_extended_without_LDC = list(set(developing_economies_extended) - set(least_developed_countries))"
   ],
   "metadata": {
    "collapsed": false
   }
  },
  {
   "cell_type": "code",
   "execution_count": null,
   "outputs": [],
   "source": [
    "df_all_countries = pd.DataFrame(all_economies_wesp_plus_UN, columns=['country'])\n",
    "# Print countires in views_country_list which are not in all_economies_wesp_plus_UN\n",
    "divergences = []\n",
    "for country in views_country_list:\n",
    "    if country not in all_economies_wesp_plus_UN:   \n",
    "        divergences.append(country)\n",
    "divergences_df = pd.DataFrame(divergences, columns=['country']); divergences_df"
   ],
   "metadata": {
    "collapsed": false
   }
  },
  {
   "cell_type": "code",
   "execution_count": null,
   "outputs": [],
   "source": [
    "def are_lists_distinct(*lists):\n",
    "    all_elements = []\n",
    "    for lst in lists:\n",
    "        all_elements.extend(lst)\n",
    "    return len(all_elements) == len(set(all_elements))"
   ],
   "metadata": {
    "collapsed": false
   }
  },
  {
   "cell_type": "markdown",
   "source": [
    "Explore Data of different country sets"
   ],
   "metadata": {
    "collapsed": false
   }
  },
  {
   "cell_type": "code",
   "execution_count": null,
   "outputs": [],
   "source": [
    "from mappings import import_country_mapping\n",
    "from data_gathering import gather_data_features, gather_data_actuals\n",
    "from data_preparation import preprocess_data\n",
    "\n",
    "country_mapping = import_country_mapping()"
   ],
   "metadata": {
    "collapsed": false
   }
  },
  {
   "cell_type": "code",
   "execution_count": null,
   "outputs": [],
   "source": [
    "# Load features data\n",
    "data_cm_features_2017, data_cm_features_2018, data_cm_features_2019, data_cm_features_2020, data_cm_features_allyears \\\n",
    "    = gather_data_features()"
   ],
   "metadata": {
    "collapsed": false
   }
  },
  {
   "cell_type": "code",
   "execution_count": null,
   "outputs": [],
   "source": [
    "# Retrieve country_ids for different country sets\n",
    "developed_countries_ids = country_mapping[country_mapping['name'].isin(developed_economies)]['country_id'].tolist()\n",
    "countries_in_transition_ids = country_mapping[country_mapping['name'].isin(economies_in_transition)]['country_id'].tolist()\n",
    "developing_countries_extended_without_LDC_ids = country_mapping[country_mapping['name'].isin(developing_economies_extended_without_LDC)]['country_id'].tolist()\n",
    "least_developed_countries_ids = country_mapping[country_mapping['name'].isin(least_developed_countries)]['country_id'].tolist()\n"
   ],
   "metadata": {
    "collapsed": false
   }
  },
  {
   "cell_type": "code",
   "execution_count": null,
   "outputs": [],
   "source": [
    "# Plot the distribution of the ged_sb variable for different country sets based on the features data\n",
    "import seaborn as sns\n",
    "import matplotlib.pyplot as plt\n",
    "def plot_variable_distribution(df: pd.DataFrame, variable: str):\n",
    "    fig, ax = plt.subplots(figsize=(8, 4))\n",
    "    sns.histplot(data=df, x=variable, ax=ax, kde=True)\n",
    "    ax.set_title(f'Distribution of {variable}')\n",
    "    plt.show()"
   ],
   "metadata": {
    "collapsed": false
   }
  },
  {
   "cell_type": "code",
   "execution_count": null,
   "outputs": [],
   "source": [
    "data_cm_features_allyears.describe()"
   ],
   "metadata": {
    "collapsed": false
   }
  },
  {
   "cell_type": "code",
   "execution_count": null,
   "outputs": [],
   "source": [
    "# Plot the distribution of the ged_sb variable over all countries\n",
    "plot_variable_distribution(data_cm_features_allyears, 'ged_sb')\n",
    "# Plot the distribution of the ged_sb variable over all countries\n",
    "plot_variable_distribution(np.log(data_cm_features_allyears[data_cm_features_allyears['ged_sb'] > 0]), 'ged_sb')\n",
    "# Plot the distribution of the ged_sb variable over all countries\n",
    "plot_variable_distribution(data_cm_features_allyears[data_cm_features_allyears['ged_sb'] < 1000], 'ged_sb')\n",
    "# Plot the distribution of the ged_sb variable over all countries\n",
    "plot_variable_distribution(data_cm_features_allyears[data_cm_features_allyears['ged_sb'] >= 1000], 'ged_sb')"
   ],
   "metadata": {
    "collapsed": false
   }
  },
  {
   "cell_type": "code",
   "execution_count": null,
   "outputs": [],
   "source": [
    "plot_variable_distribution(data_cm_features_allyears[(data_cm_features_allyears['country_id'].isin(developed_countries_ids))], 'ged_sb')\n",
    "plot_variable_distribution(np.log(data_cm_features_allyears[(data_cm_features_allyears['country_id'].isin(developed_countries_ids)) & (data_cm_features_allyears['ged_sb'] > 0)]), 'ged_sb')\n",
    "plot_variable_distribution(data_cm_features_allyears[(data_cm_features_allyears['country_id'].isin(developed_countries_ids)) & (data_cm_features_allyears['ged_sb'] < 1000)], 'ged_sb')\n",
    "plot_variable_distribution(data_cm_features_allyears[(data_cm_features_allyears['country_id'].isin(developed_countries_ids)) & (data_cm_features_allyears['ged_sb'] >= 1000)], 'ged_sb')"
   ],
   "metadata": {
    "collapsed": false
   }
  },
  {
   "cell_type": "code",
   "execution_count": null,
   "outputs": [],
   "source": [
    "plot_variable_distribution(data_cm_features_allyears[(data_cm_features_allyears['country_id'].isin(countries_in_transition_ids))], 'ged_sb')\n",
    "plot_variable_distribution(np.log(data_cm_features_allyears[(data_cm_features_allyears['country_id'].isin(countries_in_transition_ids)) & (data_cm_features_allyears['ged_sb'] > 0)]), 'ged_sb')\n",
    "plot_variable_distribution(data_cm_features_allyears[(data_cm_features_allyears['country_id'].isin(countries_in_transition_ids)) & (data_cm_features_allyears['ged_sb'] < 1000)], 'ged_sb')\n",
    "plot_variable_distribution(data_cm_features_allyears[(data_cm_features_allyears['country_id'].isin(countries_in_transition_ids)) & (data_cm_features_allyears['ged_sb'] >= 1000)], 'ged_sb')"
   ],
   "metadata": {
    "collapsed": false
   }
  },
  {
   "cell_type": "code",
   "execution_count": null,
   "outputs": [],
   "source": [
    "plot_variable_distribution(data_cm_features_allyears[(data_cm_features_allyears['country_id'].isin(developing_countries_extended_without_LDC_ids))], 'ged_sb')\n",
    "plot_variable_distribution(np.log(data_cm_features_allyears[(data_cm_features_allyears['country_id'].isin(developing_countries_extended_without_LDC_ids)) & (data_cm_features_allyears['ged_sb'] > 0)]), 'ged_sb')\n",
    "plot_variable_distribution(data_cm_features_allyears[(data_cm_features_allyears['country_id'].isin(developing_countries_extended_without_LDC_ids)) & (data_cm_features_allyears['ged_sb'] < 1000)], 'ged_sb')\n",
    "plot_variable_distribution(data_cm_features_allyears[(data_cm_features_allyears['country_id'].isin(developing_countries_extended_without_LDC_ids)) & (data_cm_features_allyears['ged_sb'] >= 1000)], 'ged_sb')"
   ],
   "metadata": {
    "collapsed": false
   }
  },
  {
   "cell_type": "code",
   "execution_count": null,
   "outputs": [],
   "source": [
    "plot_variable_distribution(data_cm_features_allyears[(data_cm_features_allyears['country_id'].isin(least_developed_countries_ids))], 'ged_sb')\n",
    "plot_variable_distribution(np.log(data_cm_features_allyears[(data_cm_features_allyears['country_id'].isin(least_developed_countries_ids)) & (data_cm_features_allyears['ged_sb'] > 0)]), 'ged_sb')\n",
    "plot_variable_distribution(data_cm_features_allyears[(data_cm_features_allyears['country_id'].isin(least_developed_countries_ids)) & (data_cm_features_allyears['ged_sb'] < 1000)], 'ged_sb')\n",
    "plot_variable_distribution(data_cm_features_allyears[(data_cm_features_allyears['country_id'].isin(least_developed_countries_ids)) & (data_cm_features_allyears['ged_sb'] >= 1000)], 'ged_sb')"
   ],
   "metadata": {
    "collapsed": false
   }
  },
  {
   "cell_type": "code",
   "execution_count": null,
   "outputs": [],
   "source": [
    "# Compute max and average values for ged_sb over all countries\n",
    "print(f\"Max value of ged_sb over all countries: {data_cm_features_allyears['ged_sb'].max()}\")\n",
    "print(f\"Average value of ged_sb over all countries: {data_cm_features_allyears['ged_sb'].mean()}\")"
   ],
   "metadata": {
    "collapsed": false
   }
  },
  {
   "cell_type": "code",
   "execution_count": null,
   "outputs": [],
   "source": [
    "# Compute max and average values for ged_sb on different country sets\n",
    "print(f\"Max value of ged_sb for developed countries: {data_cm_features_allyears[data_cm_features_allyears['country_id'].isin(developed_countries_ids)]['ged_sb'].max()}\")\n",
    "print(f\"Max value of ged_sb for countries in transition: {data_cm_features_allyears[data_cm_features_allyears['country_id'].isin(countries_in_transition_ids)]['ged_sb'].max()}\")\n",
    "print(f\"Max value of ged_sb for developing countries: {data_cm_features_allyears[data_cm_features_allyears['country_id'].isin(developing_countries_extended_without_LDC_ids)]['ged_sb'].max()}\")\n",
    "print(f\"Max value of ged_sb for least developed countries: {data_cm_features_allyears[data_cm_features_allyears['country_id'].isin(least_developed_countries_ids)]['ged_sb'].max()}\")"
   ],
   "metadata": {
    "collapsed": false
   }
  },
  {
   "cell_type": "code",
   "execution_count": null,
   "outputs": [],
   "source": [
    "print(f\"Average value of ged_sb for developed countries: {data_cm_features_allyears[data_cm_features_allyears['country_id'].isin(developed_countries_ids)]['ged_sb'].mean()}\")\n",
    "print(f\"Average value of ged_sb for countries in transition: {data_cm_features_allyears[data_cm_features_allyears['country_id'].isin(countries_in_transition_ids)]['ged_sb'].mean()}\")\n",
    "print(f\"Average value of ged_sb for developing countries: {data_cm_features_allyears[data_cm_features_allyears['country_id'].isin(developing_countries_extended_without_LDC_ids)]['ged_sb'].mean()}\")\n",
    "print(f\"Average value of ged_sb for least developed countries: {data_cm_features_allyears[data_cm_features_allyears['country_id'].isin(least_developed_countries_ids)]['ged_sb'].mean()}\")"
   ],
   "metadata": {
    "collapsed": false
   }
  },
  {
   "cell_type": "code",
   "execution_count": null,
   "outputs": [],
   "source": [
    "# Select data based on country sets\n",
    "df_developed_countries = data_cm_features_allyears[data_cm_features_allyears['country_id'].isin(developed_countries_ids)]\n",
    "df_countries_in_transition = data_cm_features_allyears[data_cm_features_allyears['country_id'].isin(countries_in_transition_ids)]\n",
    "df_developing_countries_extended_without_LDC = data_cm_features_allyears[data_cm_features_allyears['country_id'].isin(developing_countries_extended_without_LDC_ids)]\n",
    "df_least_developed_countries = data_cm_features_allyears[data_cm_features_allyears['country_id'].isin(least_developed_countries_ids)]\n"
   ],
   "metadata": {
    "collapsed": false
   }
  },
  {
   "cell_type": "code",
   "execution_count": null,
   "outputs": [],
   "source": [
    "# Store the set-specific data in a dictionary under the respective key\n",
    "dict_country_sets = {\n",
    "    \"developed_countries\": df_developed_countries,\n",
    "    \"countries_in_transition\": df_countries_in_transition,\n",
    "    \"developing_countries_extended_without_LDC\": df_developing_countries_extended_without_LDC,\n",
    "    \"least_developed_countries\": df_least_developed_countries\n",
    "}"
   ],
   "metadata": {
    "collapsed": false
   }
  },
  {
   "cell_type": "code",
   "execution_count": null,
   "outputs": [],
   "source": [
    "# Use the funtion \"temporary_standardization\" to standardize the data for each country set, and \"temporary_feature_selection\" to select the features for each country set\n",
    "for key in dict_country_sets.keys():\n",
    "    df = dict_country_sets[key]\n",
    "    df = temporary_feature_selection(df)\n",
    "    df = temporary_standardization(df)\n",
    "    dict_country_sets[key] = df"
   ],
   "metadata": {
    "collapsed": false
   }
  },
  {
   "cell_type": "code",
   "execution_count": null,
   "outputs": [],
   "source": [
    "# Export the set-specific data to parquet files under the name \"data_cm_features_allyears_{key}.parquet\"\n",
    "for key in dict_country_sets.keys():\n",
    "    df = dict_country_sets[key]\n",
    "    df.to_parquet(f\"C:/Users/Uwe Drauz/Documents/bachelor_thesis_local/personal_competition_data/temp/data_cm_features_allyears_{key}.parquet\")"
   ],
   "metadata": {
    "collapsed": false
   }
  },
  {
   "cell_type": "code",
   "execution_count": null,
   "outputs": [],
   "source": [
    "# Preprocess data\n",
    "lagged_covariates = [\"ged_sb\", \"ged_sb_tsum_24\", \"decay_ged_sb_5\", \"decay_ged_sb_100\", \"decay_ged_sb_500\"]\n",
    "important_vdem_features = [\"vdem_v2x_veracc\",\n",
    "                          \"vdem_v2x_horacc\",\n",
    "                          \"vdem_v2xnp_client\",\n",
    "                          \"vdem_v2x_divparctrl\",\n",
    "                          \"vdem_v2xpe_exlpol\",\n",
    "                          \"vdem_v2xpe_exlsocgr\"]\n",
    "important_wdi_features = [\"wdi_ms_mil_xpnd_zs\", \n",
    "                          \"wdi_sm_pop_refg_or\",\n",
    "                          \"wdi_sm_pop_netm\",\n",
    "                          \"wdi_sp_pop_grow\",\n",
    "                          \"wdi_dt_oda_odat_pc_zs\"]\n",
    "covariates =  important_vdem_features + important_wdi_features"
   ],
   "metadata": {
    "collapsed": false
   }
  },
  {
   "cell_type": "code",
   "execution_count": null,
   "outputs": [],
   "source": [
    "from importlib import reload\n",
    "\n"
   ],
   "metadata": {
    "collapsed": false
   }
  },
  {
   "cell_type": "code",
   "execution_count": null,
   "outputs": [],
   "source": [
    "data = preprocess_data(df=data_cm_features_allyears, covariates=covariates, lagged_covariates=lagged_covariates, standardize=True)"
   ],
   "metadata": {
    "collapsed": false
   }
  },
  {
   "cell_type": "code",
   "execution_count": null,
   "outputs": [],
   "source": [
    "data.to_parquet(\"C:/Users/Uwe Drauz/Documents/bachelor_thesis_local/personal_competition_data/temp/special_feature_selection_std.parquet\")"
   ],
   "metadata": {
    "collapsed": false
   }
  },
  {
   "cell_type": "code",
   "execution_count": null,
   "outputs": [],
   "source": [
    "from data_visualization import global_scatter_plot"
   ],
   "metadata": {
    "collapsed": false
   }
  },
  {
   "cell_type": "markdown",
   "source": [],
   "metadata": {
    "collapsed": false
   }
  },
  {
   "cell_type": "code",
   "execution_count": null,
   "outputs": [],
   "source": [
    "# Plot the vdem and wdi indices against ged_sb\n",
    "for vdem in important_vdem_features:\n",
    "    global_scatter_plot(data, vdem, \"ged_sb\", output_dir=\"C:/Users/Uwe Drauz/Documents/bachelor_thesis_local/personal_competition_data/temp\")"
   ],
   "metadata": {
    "collapsed": false
   }
  },
  {
   "cell_type": "code",
   "execution_count": null,
   "outputs": [],
   "source": [
    "for wdi in important_wdi_features:\n",
    "    global_scatter_plot(data, wdi, \"ged_sb\", output_dir=\"C:/Users/Uwe Drauz/Documents/bachelor_thesis_local/personal_competition_data/temp\")"
   ],
   "metadata": {
    "collapsed": false
   }
  },
  {
   "cell_type": "code",
   "execution_count": null,
   "outputs": [],
   "source": [
    "global_scatter_plot(data, \"decay_ged_sb_100_tlag_3\", \"ged_sb\", output_dir=\"C:/Users/Uwe Drauz/Documents/bachelor_thesis_local/personal_competition_data/temp\")"
   ],
   "metadata": {
    "collapsed": false
   }
  },
  {
   "cell_type": "code",
   "execution_count": null,
   "outputs": [],
   "source": [
    "result_data_2021[result_data_2021['test_score'] > 2000].sort_values(by=['country_id', 'month_id'])"
   ],
   "metadata": {
    "collapsed": false
   }
  },
  {
   "cell_type": "code",
   "execution_count": null,
   "outputs": [],
   "source": [
    "result_data_2021[result_data_2021['test_score'] > 2000].sum()\n"
   ],
   "metadata": {
    "collapsed": false
   }
  },
  {
   "cell_type": "code",
   "execution_count": null,
   "outputs": [],
   "source": [
    "from mappings import map_month_id_to_datetime\n",
    "from mappings import map_country_id_to_country_name"
   ],
   "metadata": {
    "collapsed": false
   }
  },
  {
   "cell_type": "code",
   "execution_count": null,
   "outputs": [],
   "source": [
    "import mappings\n",
    "reload(mappings)\n",
    "from mappings import map_country_id_to_country_name"
   ],
   "metadata": {
    "collapsed": false
   }
  },
  {
   "cell_type": "code",
   "execution_count": null,
   "outputs": [],
   "source": [
    "data_cm_actual_2018, data_cm_actual_2019, data_cm_actual_2020, data_cm_actual_2021, data_cm_actual_allyears \\\n",
    "    = gather_data_actuals()"
   ],
   "metadata": {
    "collapsed": false
   }
  },
  {
   "cell_type": "code",
   "execution_count": null,
   "outputs": [],
   "source": [
    "map_month_id_to_datetime(498)"
   ],
   "metadata": {
    "collapsed": false
   }
  },
  {
   "cell_type": "code",
   "execution_count": null,
   "outputs": [],
   "source": [
    "map_country_id_to_country_name(133)"
   ],
   "metadata": {
    "collapsed": false
   }
  },
  {
   "cell_type": "code",
   "execution_count": null,
   "outputs": [],
   "source": [
    "data_cm_actual_2021[(data_cm_actual_2021['country_id'] == 133)]"
   ],
   "metadata": {
    "collapsed": false
   }
  },
  {
   "cell_type": "code",
   "execution_count": null,
   "outputs": [],
   "source": [
    "import pandas as pd\n",
    "import os\n",
    "from mappings import map_country_id_to_country_name, map_month_id_to_datetime\n",
    "from data_gathering import gather_data_features, gather_data_actuals\n",
    "import seaborn as sns\n",
    "import matplotlib.pyplot as plt"
   ],
   "metadata": {
    "collapsed": false
   }
  },
  {
   "cell_type": "code",
   "execution_count": null,
   "outputs": [],
   "source": [
    "data_cm_actual_2018, data_cm_actual_2019, data_cm_actual_2020, data_cm_actual_2021, data_cm_actual_allyears \\\n",
    "    = gather_data_actuals()"
   ],
   "metadata": {
    "collapsed": false
   }
  },
  {
   "cell_type": "code",
   "execution_count": null,
   "outputs": [],
   "source": [
    "countries_with_avg_more_than_5_fatalities_2018 = data_cm_actual_2018.groupby('country_id')['ged_sb'].mean()\n",
    "countries_with_avg_more_than_5_fatalities_2018 = countries_with_avg_more_than_5_fatalities_2018[\n",
    "    countries_with_avg_more_than_5_fatalities_2018 > 5].index.tolist()\n",
    "\n",
    "countries_with_avg_more_than_5_fatalities_2019 = data_cm_actual_2019.groupby('country_id')['ged_sb'].mean()\n",
    "countries_with_avg_more_than_5_fatalities_2019 = countries_with_avg_more_than_5_fatalities_2019[\n",
    "    countries_with_avg_more_than_5_fatalities_2019 > 5].index.tolist()\n",
    "\n",
    "countries_with_avg_more_than_5_fatalities_2020 = data_cm_actual_2020.groupby('country_id')['ged_sb'].mean()\n",
    "countries_with_avg_more_than_5_fatalities_2020 = countries_with_avg_more_than_5_fatalities_2020[\n",
    "    countries_with_avg_more_than_5_fatalities_2020 > 5].index.tolist()\n",
    "\n",
    "countries_with_avg_more_than_5_fatalities_2021 = data_cm_actual_2021.groupby('country_id')['ged_sb'].mean()\n",
    "countries_with_avg_more_than_5_fatalities_2021 = countries_with_avg_more_than_5_fatalities_2021[\n",
    "    countries_with_avg_more_than_5_fatalities_2021 > 5].index.tolist()\n"
   ],
   "metadata": {
    "collapsed": false
   }
  },
  {
   "cell_type": "code",
   "execution_count": null,
   "outputs": [],
   "source": [
    "result_data_2018_FH = pd.read_parquet(\"mlruns/3/5b3acdf73aeb4eecb8bb007157f3535d/artifacts/BaselineModel_results_all_countries2018.parquet\")\n",
    "result_data_2019_FH = pd.read_parquet(\"mlruns/3/df6e7240234c40cebc96397963780cf9/artifacts/BaselineModel_results_all_countries2019.parquet\")\n",
    "result_data_2020_FH = pd.read_parquet(\"mlruns/3/301944cf5760482da0291a8e9daca4e1/artifacts/BaselineModel_results_all_countries2020.parquet\")\n",
    "result_data_2021_FH = pd.read_parquet(\"mlruns/3/3cc10d101573487aa558f41b21de99c5/artifacts/BaselineModel_results_all_countries2021.parquet\")"
   ],
   "metadata": {
    "collapsed": false
   }
  },
  {
   "cell_type": "code",
   "execution_count": null,
   "outputs": [],
   "source": [
    "result_data_2018_FH_and_M = pd.read_parquet(\"mlruns/3/9d8897f7efd242bdb33fdfe0c8c1eb6a/artifacts/BaselineModel_results_all_countries2018.parquet\")\n",
    "result_data_2019_FH_and_M = pd.read_parquet(\"mlruns/3/80caad1b10bf4513b5b5fbb9e8827d49/artifacts/BaselineModel_results_all_countries2019.parquet\")\n",
    "result_data_2020_FH_and_M = pd.read_parquet(\"mlruns/3/47685285ae8b45d38e966b28d5c27579/artifacts/BaselineModel_results_all_countries2020.parquet\")\n",
    "result_data_2021_FH_and_M = pd.read_parquet(\"mlruns/3/021e0fc647be407d8924e4d134093adc/artifacts/BaselineModel_results_all_countries2021.parquet\")"
   ],
   "metadata": {
    "collapsed": false
   }
  },
  {
   "cell_type": "code",
   "execution_count": null,
   "outputs": [],
   "source": [
    "# Filter the results for countries with more than 5 fatalities on average\n",
    "result_data_2018_FH = result_data_2018_FH[result_data_2018_FH['country_id'].isin(countries_with_avg_more_than_5_fatalities_2018)]\n",
    "result_data_2019_FH = result_data_2019_FH[result_data_2019_FH['country_id'].isin(countries_with_avg_more_than_5_fatalities_2019)]\n",
    "result_data_2020_FH = result_data_2020_FH[result_data_2020_FH['country_id'].isin(countries_with_avg_more_than_5_fatalities_2020)]\n",
    "result_data_2021_FH = result_data_2021_FH[result_data_2021_FH['country_id'].isin(countries_with_avg_more_than_5_fatalities_2021)]\n"
   ],
   "metadata": {
    "collapsed": false
   }
  },
  {
   "cell_type": "code",
   "execution_count": null,
   "outputs": [],
   "source": [
    "# Filter the results for countries with more than 5 fatalities on average\n",
    "result_data_2018_FH_and_M = result_data_2018_FH_and_M[result_data_2018_FH_and_M['country_id'].isin(countries_with_avg_more_than_5_fatalities_2018)]\n",
    "result_data_2019_FH_and_M = result_data_2019_FH_and_M[result_data_2019_FH_and_M['country_id'].isin(countries_with_avg_more_than_5_fatalities_2019)]\n",
    "result_data_2020_FH_and_M = result_data_2020_FH_and_M[result_data_2020_FH_and_M['country_id'].isin(countries_with_avg_more_than_5_fatalities_2020)]\n",
    "result_data_2021_FH_and_M = result_data_2021_FH_and_M[result_data_2021_FH_and_M['country_id'].isin(countries_with_avg_more_than_5_fatalities_2021)]"
   ],
   "metadata": {
    "collapsed": false
   }
  },
  {
   "cell_type": "code",
   "execution_count": null,
   "outputs": [],
   "source": [
    "def get_test_scores(df):\n",
    "    # Create an empty DataFrame to hold the rearranged data\n",
    "    rearranged_df = pd.DataFrame()\n",
    "\n",
    "    # Loop over each row in the input DataFrame\n",
    "    for index, row in df.iterrows():\n",
    "        # Get the test_score from the DataFrame\n",
    "        test_score = row['test_score']\n",
    "        # Update the rearranged DataFrame with the rolling_window_length\n",
    "        country_id = row['country_id']\n",
    "        month_id = row['month_id']\n",
    "        if country_id not in rearranged_df.index:\n",
    "            rearranged_df.loc[country_id, month_id] = test_score\n",
    "        else:\n",
    "            rearranged_df.at[country_id, month_id] = test_score\n",
    "    # Convert the DataFrame to integer type\n",
    "    rearranged_df = rearranged_df.astype(float)\n",
    "\n",
    "    return rearranged_df"
   ],
   "metadata": {
    "collapsed": false
   }
  },
  {
   "cell_type": "code",
   "execution_count": null,
   "outputs": [],
   "source": [
    "def get_rolling_window_lengths(df):\n",
    "    # Create an empty DataFrame to hold the rearranged data\n",
    "    rearranged_df = pd.DataFrame()\n",
    "\n",
    "    # Loop over each row in the input DataFrame\n",
    "    for index, row in df.iterrows():\n",
    "        # Build the path to the rolling_window_length file for the current run_id\n",
    "        rolling_window_length_path = f'mlruns\\\\2\\\\{row[\"run_id\"]}\\\\params\\\\rolling_window_length'\n",
    "\n",
    "        # Read the value of rolling_window_length from the file\n",
    "        try:\n",
    "            with open(rolling_window_length_path, 'r') as f:\n",
    "                rolling_window_length = f.read().strip()\n",
    "        except FileNotFoundError:\n",
    "            print(f\"File not found for RunID: {row['run_id']}\")\n",
    "            rolling_window_length = None\n",
    "\n",
    "        # Update the rearranged DataFrame with the rolling_window_length\n",
    "        country_id = row['country_id']\n",
    "        month_id = row['month_id']\n",
    "        if country_id not in rearranged_df.index:\n",
    "            rearranged_df.loc[country_id, month_id] = rolling_window_length\n",
    "        else:\n",
    "            rearranged_df.at[country_id, month_id] = rolling_window_length\n",
    "    # Convert the DataFrame to integer type\n",
    "    rearranged_df = rearranged_df.astype(int)\n",
    "\n",
    "    return rearranged_df\n",
    "\n",
    "def rename_indices(df):\n",
    "    df.index = df.index.map(map_country_id_to_country_name)\n",
    "    df.columns = df.columns.map(lambda x: map_month_id_to_datetime(x).strftime('%B %Y'))\n",
    "    return df"
   ],
   "metadata": {
    "collapsed": false
   }
  },
  {
   "cell_type": "code",
   "execution_count": null,
   "outputs": [],
   "source": [
    "def compute_medians(df):\n",
    "    median_by_month = df.median(axis=0)\n",
    "    median_by_country = df.median(axis=1)\n",
    "    return median_by_month.astype(int), median_by_country.astype(int)\n"
   ],
   "metadata": {
    "collapsed": false
   }
  },
  {
   "cell_type": "code",
   "execution_count": null,
   "outputs": [],
   "source": [
    "def compute_means(df):\n",
    "    mean_by_month = df.mean(axis=0)\n",
    "    mean_by_country = df.mean(axis=1)\n",
    "    return mean_by_month, mean_by_country"
   ],
   "metadata": {
    "collapsed": false
   }
  },
  {
   "cell_type": "code",
   "execution_count": null,
   "outputs": [],
   "source": [
    "def concatenate_dataframes(dfs):\n",
    "    return pd.concat(dfs, axis=1).sort_index(axis=1)\n"
   ],
   "metadata": {
    "collapsed": false
   }
  },
  {
   "cell_type": "code",
   "execution_count": null,
   "outputs": [],
   "source": [
    "def create_heatmap_org(df, figsize, cmap, year, cv_approach, countries: str, export=False):\n",
    "    # Check data type and range\n",
    "\n",
    "    plt.figure(figsize=figsize)\n",
    "    ax = sns.heatmap(df, cmap=cmap, vmin=1, vmax=36, annot=False, cbar=True)  # Added explicit color bar\n",
    "\n",
    "    # Increase font size and add padding for better visibility\n",
    "    plt.title(f'Training Months for {year} and CV-Approach {cv_approach}', fontsize=34, pad=40)\n",
    "    plt.xlabel('Forecasted Months', fontsize=32, labelpad=10)\n",
    "    plt.ylabel('Countries', fontsize=32, labelpad=10)\n",
    "    plt.xticks(fontsize=18)\n",
    "    plt.yticks(fontsize=18)\n",
    "\n",
    "    # Adjust color bar label size\n",
    "    cbar = ax.collections[0].colorbar\n",
    "    cbar.ax.tick_params(labelsize=24)\n",
    "    \n",
    "    # Replace spaces with underscores in cv_approach for file naming\n",
    "    if cv_approach == \"FH and M\":\n",
    "        cv_approach = \"FH_and_M\"\n",
    "\n",
    "    # Export the plot if required\n",
    "    if export:\n",
    "        export_path = rf\"C:\\Users\\Uwe Drauz\\Documents\\bachelor_thesis_local\\personal_competition_data\\Plots\\rolling_window_heatmap\\rolling_window_length_{cv_approach}_{year}_{countries}.png\"\n",
    "        plt.savefig(export_path, dpi=300, bbox_inches='tight')\n",
    "    \n",
    "    plt.show()"
   ],
   "metadata": {
    "collapsed": false
   }
  },
  {
   "cell_type": "code",
   "execution_count": null,
   "outputs": [],
   "source": [
    "def create_heatmap_org_test_score(df, figsize, cmap, year, cv_approach, countries: str, export=False):\n",
    "    # Check data type and range\n",
    "\n",
    "    plt.figure(figsize=figsize)\n",
    "    ax = sns.heatmap(df, cmap=cmap, annot=False, cbar=True)  # Added explicit color bar\n",
    "\n",
    "    # Increase font size and add padding for better visibility\n",
    "    plt.title(f'Test Score for {year} and CV-Approach {cv_approach}', fontsize=34, pad=40)\n",
    "    plt.xlabel('Forecasted Months', fontsize=32, labelpad=10)\n",
    "    plt.ylabel('Countries', fontsize=32, labelpad=10)\n",
    "    plt.xticks(fontsize=18)\n",
    "    plt.yticks(fontsize=18)\n",
    "\n",
    "    # Adjust color bar label size\n",
    "    cbar = ax.collections[0].colorbar\n",
    "    cbar.ax.tick_params(labelsize=24)\n",
    "    \n",
    "    # Replace spaces with underscores in cv_approach for file naming\n",
    "    if cv_approach == \"FH and M\":\n",
    "        cv_approach = \"FH_and_M\"\n",
    "\n",
    "    # Export the plot if required\n",
    "    if export:\n",
    "        export_path = rf\"C:\\Users\\Uwe Drauz\\Documents\\bachelor_thesis_local\\personal_competition_data\\Plots\\baseline_test_score_heatmap\\test_score_{cv_approach}_{year}_{countries}.png\"\n",
    "        plt.savefig(export_path, dpi=300, bbox_inches='tight')\n",
    "    \n",
    "    plt.show()"
   ],
   "metadata": {
    "collapsed": false
   }
  },
  {
   "cell_type": "code",
   "execution_count": null,
   "outputs": [],
   "source": [
    "def create_heatmap_org_test_score_vmax(df, figsize, cmap, year, cv_approach, countries: str,vmax, export=False):\n",
    "    # Check data type and range\n",
    "\n",
    "    plt.figure(figsize=figsize)\n",
    "    ax = sns.heatmap(df, cmap=cmap, vmax=vmax, annot=False, cbar=True)  # Added explicit color bar\n",
    "\n",
    "    # Increase font size and add padding for better visibility\n",
    "    plt.title(f'Test Score for {year} and CV-Approach {cv_approach}', fontsize=34, pad=40)\n",
    "    plt.xlabel('Forecasted Months', fontsize=32, labelpad=10)\n",
    "    plt.ylabel('Countries', fontsize=32, labelpad=10)\n",
    "    plt.xticks(fontsize=18)\n",
    "    plt.yticks(fontsize=18)\n",
    "\n",
    "    # Adjust color bar label size\n",
    "    cbar = ax.collections[0].colorbar\n",
    "    cbar.ax.tick_params(labelsize=24)\n",
    "    \n",
    "    # Replace spaces with underscores in cv_approach for file naming\n",
    "    if cv_approach == \"FH and M\":\n",
    "        cv_approach = \"FH_and_M\"\n",
    "\n",
    "    # Export the plot if required\n",
    "    if export:\n",
    "        export_path = rf\"C:\\Users\\Uwe Drauz\\Documents\\bachelor_thesis_local\\personal_competition_data\\Plots\\baseline_test_score_heatmap\\test_score_{cv_approach}_{year}_{countries}_vmax{vmax}.png\"\n",
    "        plt.savefig(export_path, dpi=300, bbox_inches='tight')\n",
    "    \n",
    "    plt.show()"
   ],
   "metadata": {
    "collapsed": false
   }
  },
  {
   "cell_type": "markdown",
   "source": [
    "Rolling window lengths of month country_combination"
   ],
   "metadata": {
    "collapsed": false
   }
  },
  {
   "cell_type": "code",
   "execution_count": null,
   "outputs": [],
   "source": [
    "result_data_2018_FH_and_M_rwl = get_rolling_window_lengths(result_data_2018_FH_and_M)\n",
    "result_data_2019_FH_and_M_rwl = get_rolling_window_lengths(result_data_2019_FH_and_M)\n",
    "result_data_2020_FH_and_M_rwl = get_rolling_window_lengths(result_data_2020_FH_and_M)\n",
    "result_data_2021_FH_and_M_rwl = get_rolling_window_lengths(result_data_2021_FH_and_M)"
   ],
   "metadata": {
    "collapsed": false
   }
  },
  {
   "cell_type": "code",
   "execution_count": null,
   "outputs": [],
   "source": [
    "result_data_2018_FH_and_M_rwl = rename_indices(result_data_2018_FH_and_M_rwl)\n",
    "result_data_2019_FH_and_M_rwl = rename_indices(result_data_2019_FH_and_M_rwl)\n",
    "result_data_2020_FH_and_M_rwl = rename_indices(result_data_2020_FH_and_M_rwl)\n",
    "result_data_2021_FH_and_M_rwl = rename_indices(result_data_2021_FH_and_M_rwl)"
   ],
   "metadata": {
    "collapsed": false
   }
  },
  {
   "cell_type": "code",
   "execution_count": null,
   "outputs": [],
   "source": [
    "result_data_2018_FH_rwl = get_rolling_window_lengths(result_data_2018_FH)\n",
    "result_data_2019_FH_rwl = get_rolling_window_lengths(result_data_2019_FH)\n",
    "result_data_2020_FH_rwl = get_rolling_window_lengths(result_data_2020_FH)\n",
    "result_data_2021_FH_rwl = get_rolling_window_lengths(result_data_2021_FH)\n"
   ],
   "metadata": {
    "collapsed": false
   }
  },
  {
   "cell_type": "code",
   "execution_count": null,
   "outputs": [],
   "source": [
    "result_data_2018_FH_rwl = rename_indices(result_data_2018_FH_rwl)\n",
    "result_data_2019_FH_rwl = rename_indices(result_data_2019_FH_rwl)\n",
    "result_data_2020_FH_rwl = rename_indices(result_data_2020_FH_rwl)\n",
    "result_data_2021_FH_rwl = rename_indices(result_data_2021_FH_rwl)"
   ],
   "metadata": {
    "collapsed": false
   }
  },
  {
   "cell_type": "markdown",
   "source": [
    "Test Scores of month country_combination"
   ],
   "metadata": {
    "collapsed": false
   }
  },
  {
   "cell_type": "code",
   "execution_count": null,
   "outputs": [],
   "source": [
    "result_data_2018_FH_test_score = get_test_scores(result_data_2018_FH)\n",
    "result_data_2019_FH_test_score = get_test_scores(result_data_2019_FH)\n",
    "result_data_2020_FH_test_score = get_test_scores(result_data_2020_FH)\n",
    "result_data_2021_FH_test_score = get_test_scores(result_data_2021_FH)"
   ],
   "metadata": {
    "collapsed": false
   }
  },
  {
   "cell_type": "code",
   "execution_count": null,
   "outputs": [],
   "source": [
    "result_data_2018_FH_test_score = rename_indices(result_data_2018_FH_test_score)\n",
    "result_data_2019_FH_test_score = rename_indices(result_data_2019_FH_test_score)\n",
    "result_data_2020_FH_test_score = rename_indices(result_data_2020_FH_test_score)\n",
    "result_data_2021_FH_test_score = rename_indices(result_data_2021_FH_test_score)\n"
   ],
   "metadata": {
    "collapsed": false
   }
  },
  {
   "cell_type": "code",
   "execution_count": null,
   "outputs": [],
   "source": [
    "result_data_2018_FH_and_M_test_score = get_test_scores(result_data_2018_FH_and_M)\n",
    "result_data_2019_FH_and_M_test_score = get_test_scores(result_data_2019_FH_and_M)\n",
    "result_data_2020_FH_and_M_test_score = get_test_scores(result_data_2020_FH_and_M)\n",
    "result_data_2021_FH_and_M_test_score = get_test_scores(result_data_2021_FH_and_M)\n"
   ],
   "metadata": {
    "collapsed": false
   }
  },
  {
   "cell_type": "code",
   "execution_count": null,
   "outputs": [],
   "source": [
    "result_data_2018_FH_and_M_test_score = rename_indices(result_data_2018_FH_and_M_test_score)\n",
    "result_data_2019_FH_and_M_test_score = rename_indices(result_data_2019_FH_and_M_test_score)\n",
    "result_data_2020_FH_and_M_test_score = rename_indices(result_data_2020_FH_and_M_test_score)\n",
    "result_data_2021_FH_and_M_test_score = rename_indices(result_data_2021_FH_and_M_test_score)"
   ],
   "metadata": {
    "collapsed": false
   }
  },
  {
   "cell_type": "code",
   "execution_count": null,
   "outputs": [],
   "source": [
    "all_years_FH_rwl = concatenate_dataframes([result_data_2018_FH_rwl, result_data_2019_FH_rwl, result_data_2020_FH_rwl, result_data_2021_FH_rwl])\n",
    "all_years_FH_and_M_rwl = concatenate_dataframes([result_data_2018_FH_and_M_rwl, result_data_2019_FH_and_M_rwl, result_data_2020_FH_and_M_rwl, result_data_2021_FH_and_M_rwl])"
   ],
   "metadata": {
    "collapsed": false
   }
  },
  {
   "cell_type": "code",
   "execution_count": null,
   "outputs": [],
   "source": [
    "FH_and_M_median_by_month, FH_and_M_median_by_country = compute_medians(all_years_FH_and_M_rwl)\n",
    "FH_median_by_month, FH_median_by_country = compute_medians(all_years_FH_rwl)"
   ],
   "metadata": {
    "collapsed": false
   }
  },
  {
   "cell_type": "code",
   "execution_count": null,
   "outputs": [],
   "source": [
    "FH_and_M_mean_by_month, FH_and_M_mean_by_country = compute_means(all_years_FH_and_M_rwl)\n",
    "FH_mean_by_month, FH_mean_by_country = compute_means(all_years_FH_rwl)"
   ],
   "metadata": {
    "collapsed": false
   }
  },
  {
   "cell_type": "code",
   "execution_count": null,
   "outputs": [],
   "source": [
    "figsize_all_countries = (12, 48)\n",
    "figsize_selected_on_avg = (18, 15)\n",
    "cmap = \"Blues\""
   ],
   "metadata": {
    "collapsed": false
   }
  },
  {
   "cell_type": "code",
   "execution_count": null,
   "outputs": [],
   "source": [
    "create_heatmap_org(result_data_2018_FH_rwl, figsize_selected_on_avg, cmap, 2018, \"FH\", countries=\"selected_on_avg\", export=True)\n",
    "create_heatmap_org(result_data_2019_FH_rwl, figsize_selected_on_avg, cmap, 2019, \"FH\", countries=\"selected_on_avg\", export=True)\n",
    "create_heatmap_org(result_data_2020_FH_rwl, figsize_selected_on_avg, cmap, 2020, \"FH\", countries=\"selected_on_avg\", export=True)\n",
    "create_heatmap_org(result_data_2021_FH_rwl, figsize_selected_on_avg, cmap, 2021, \"FH\", countries=\"selected_on_avg\", export=True)\n",
    "create_heatmap_org(result_data_2018_FH_and_M_rwl, figsize_selected_on_avg, cmap, 2018, \"FH and M\", countries=\"selected_on_avg\", export=True)\n",
    "create_heatmap_org(result_data_2019_FH_and_M_rwl, figsize_selected_on_avg, cmap, 2019, \"FH and M\", countries=\"selected_on_avg\", export=True)\n",
    "create_heatmap_org(result_data_2020_FH_and_M_rwl, figsize_selected_on_avg, cmap, 2020, \"FH and M\", countries=\"selected_on_avg\", export=True)\n",
    "create_heatmap_org(result_data_2021_FH_and_M_rwl, figsize_selected_on_avg, cmap, 2021, \"FH and M\", countries=\"selected_on_avg\", export=True)"
   ],
   "metadata": {
    "collapsed": false
   }
  },
  {
   "cell_type": "code",
   "execution_count": null,
   "outputs": [],
   "source": [
    "cmap = \"Blues\""
   ],
   "metadata": {
    "collapsed": false
   }
  },
  {
   "cell_type": "code",
   "execution_count": null,
   "outputs": [],
   "source": [
    "create_heatmap_org_test_score(result_data_2018_FH_test_score, figsize_selected_on_avg, cmap, 2018, \"FH\", countries=\"selected_on_avg\", export=True)\n",
    "create_heatmap_org_test_score(result_data_2019_FH_test_score, figsize_selected_on_avg, cmap, 2019, \"FH\", countries=\"selected_on_avg\", export=True)\n",
    "create_heatmap_org_test_score(result_data_2020_FH_test_score, figsize_selected_on_avg, cmap, 2020, \"FH\", countries=\"selected_on_avg\", export=True)\n",
    "create_heatmap_org_test_score(result_data_2021_FH_test_score, figsize_selected_on_avg, cmap, 2021, \"FH\", countries=\"selected_on_avg\", export=True)\n",
    "create_heatmap_org_test_score(result_data_2018_FH_and_M_test_score, figsize_selected_on_avg, cmap, 2018, \"FH and M\", countries=\"selected_on_avg\", export=True)\n",
    "create_heatmap_org_test_score(result_data_2019_FH_and_M_test_score, figsize_selected_on_avg, cmap, 2019, \"FH and M\", countries=\"selected_on_avg\", export=True)\n",
    "create_heatmap_org_test_score(result_data_2020_FH_and_M_test_score, figsize_selected_on_avg, cmap, 2020, \"FH and M\", countries=\"selected_on_avg\", export=True)\n",
    "create_heatmap_org_test_score(result_data_2021_FH_and_M_test_score, figsize_selected_on_avg, cmap, 2021, \"FH and M\", countries=\"selected_on_avg\", export=True)"
   ],
   "metadata": {
    "collapsed": false
   }
  },
  {
   "cell_type": "code",
   "execution_count": null,
   "outputs": [],
   "source": [
    "export_path = rf\"C:\\Users\\Uwe Drauz\\Documents\\bachelor_thesis_local\\personal_competition_data\\Plots\\rolling_window_length_{validation_approach}_{year}.png\""
   ],
   "metadata": {
    "collapsed": false
   }
  },
  {
   "cell_type": "code",
   "execution_count": null,
   "outputs": [],
   "source": [
    "# Export the plots to the path with correspinding name\n"
   ],
   "metadata": {
    "collapsed": false
   }
  },
  {
   "cell_type": "code",
   "execution_count": null,
   "outputs": [],
   "source": [
    "# Determine the number of countries with a least one value in \"test_score\" greater than 0\n",
    "result_data_2018_FH_and_M[result_data_2018_FH_and_M['test_score'] > 5]['country_id'].nunique()"
   ],
   "metadata": {
    "collapsed": false
   }
  },
  {
   "cell_type": "code",
   "execution_count": null,
   "outputs": [],
   "source": [],
   "metadata": {
    "collapsed": false
   }
  },
  {
   "cell_type": "code",
   "execution_count": null,
   "outputs": [],
   "source": [
    "data = data.pivot(\"month\", \"year\", \"passengers\")\n",
    "sns.heatmap(data, cmap=\"rocket\")\n",
    "plt.show()"
   ],
   "metadata": {
    "collapsed": false
   }
  },
  {
   "cell_type": "code",
   "execution_count": null,
   "outputs": [],
   "source": [
    "glue = sns.load_dataset(\"glue\").pivot(index=\"Model\", columns=\"Task\", values=\"Score\")\n",
    "sns.heatmap(glue, cmap=\"Blues_r\")"
   ],
   "metadata": {
    "collapsed": false
   }
  }
 ],
 "metadata": {
  "kernelspec": {
   "display_name": "Python 3",
   "language": "python",
   "name": "python3"
  },
  "language_info": {
   "codemirror_mode": {
    "name": "ipython",
    "version": 2
   },
   "file_extension": ".py",
   "mimetype": "text/x-python",
   "name": "python",
   "nbconvert_exporter": "python",
   "pygments_lexer": "ipython2",
   "version": "2.7.6"
  }
 },
 "nbformat": 4,
 "nbformat_minor": 0
}
