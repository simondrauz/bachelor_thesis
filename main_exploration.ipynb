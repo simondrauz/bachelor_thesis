{
 "cells": [
  {
   "cell_type": "markdown",
   "source": [],
   "metadata": {
    "collapsed": false
   }
  },
  {
   "cell_type": "code",
   "execution_count": 1,
   "outputs": [],
   "source": [
    "# STEP: IMPORT FUNCTIONS\n",
    "import pandas as pd\n",
    "from data_gathering import gather_data_features, gather_data_actuals\n",
    "from data_exploration import calculate_correlation\n",
    "from mappings import import_country_mapping\n",
    "from data_visualization import global_scatter_plot"
   ],
   "metadata": {
    "collapsed": false,
    "ExecuteTime": {
     "end_time": "2023-12-12T11:56:36.119226Z",
     "start_time": "2023-12-12T11:56:36.090783200Z"
    }
   }
  },
  {
   "cell_type": "code",
   "execution_count": 2,
   "metadata": {
    "collapsed": true,
    "ExecuteTime": {
     "end_time": "2023-12-12T11:56:39.556549300Z",
     "start_time": "2023-12-12T11:56:36.790352400Z"
    }
   },
   "outputs": [],
   "source": [
    "# STEP: LOAD DATA\n",
    "# Load actuals data\n",
    "data_cm_actual_2018, data_cm_actual_2019, data_cm_actual_2020, data_cm_actual_2021, data_cm_actual_allyears \\\n",
    "    = gather_data_actuals()\n",
    "\n",
    "# Load features data\n",
    "data_cm_features_2017, data_cm_features_2018, data_cm_features_2019, data_cm_features_2020, data_cm_features_allyears \\\n",
    "    = gather_data_features()\n",
    "\n",
    "\n",
    "output_directory = r\"C:\\Users\\Uwe Drauz\\Documents\\bachelor_thesis_local\\personal_competition_data\\Baseline_Model\"\n",
    "\n",
    "crps_scores_all_year_country_specific = {}\n",
    "crps_scores_all_year_global = {}\n",
    "for year in [2015, 2016, 2017, 2018, 2019]:\n",
    "    file_path = rf'C:\\Users\\Uwe Drauz\\Documents\\bachelor_thesis_local\\personal_competition_data\\Baseline_Model\\crps_scores_all_year_{year}_country_specific.parquet'\n",
    "    crps_scores_all_year_country_specific[year] = pd.read_parquet(file_path)\n",
    "    file_path = rf'C:\\Users\\Uwe Drauz\\Documents\\bachelor_thesis_local\\personal_competition_data\\Baseline_Model\\crps_scores_all_year_{year}_global.parquet'\n",
    "    crps_scores_all_year_global[year] = pd.read_parquet(file_path)\n",
    "\n",
    "crps_scores_all_year_country_specific_year_2015 = crps_scores_all_year_country_specific[2015]\n",
    "crps_scores_all_year_country_specific_year_2016 = crps_scores_all_year_country_specific[2016]\n",
    "crps_scores_all_year_country_specific_year_2017 = crps_scores_all_year_country_specific[2017]\n",
    "crps_scores_all_year_country_specific_year_2018 = crps_scores_all_year_country_specific[2018]\n",
    "crps_scores_all_year_country_specific_year_2019 = crps_scores_all_year_country_specific[2019]\n",
    "\n",
    "crps_scores_all_year_global_year_2015 = crps_scores_all_year_global[2015]\n",
    "crps_scores_all_year_global_year_2016 = crps_scores_all_year_global[2016]\n",
    "crps_scores_all_year_global_year_2017 = crps_scores_all_year_global[2017]\n",
    "crps_scores_all_year_global_year_2018 = crps_scores_all_year_global[2018]\n",
    "crps_scores_all_year_global_year_2019 = crps_scores_all_year_global[2019]\n",
    "\n",
    "country_mapping = import_country_mapping()"
   ]
  },
  {
   "cell_type": "code",
   "execution_count": null,
   "outputs": [],
   "source": [
    "# STEP: DATA EXPLORATION\n",
    "input_variables = \\\n",
    "    data_cm_features_allyears.columns.drop(['index', 'country_id', 'month_id', 'ged_sb']).tolist()\n",
    "target_variables = \\\n",
    "    ['ged_sb', 'ged_sb_tlag_1', 'ged_sb_tlag_2', 'ged_sb_tlag_3', 'ged_sb_tlag_4', 'ged_sb_tlag_5', 'ged_sb_tlag_6']\n",
    "correlation_values = calculate_correlation(data_cm_features_allyears, target_variables=target_variables, input_variables=input_variables)\n",
    "\n"
   ],
   "metadata": {
    "collapsed": false
   }
  },
  {
   "cell_type": "code",
   "execution_count": null,
   "outputs": [],
   "source": [
    "data_cm_features_allyears"
   ],
   "metadata": {
    "collapsed": false
   }
  },
  {
   "cell_type": "code",
   "execution_count": null,
   "outputs": [],
   "source": [
    "data_cm_actual_allyears"
   ],
   "metadata": {
    "collapsed": false
   }
  },
  {
   "cell_type": "code",
   "execution_count": null,
   "outputs": [],
   "source": [
    "# Create a boolean mask of values with absolute value greater than or equal to 0.1\n",
    "corr_threshold = 0.1\n",
    "mask = correlation_values.abs() >= corr_threshold\n",
    "\n",
    "# Apply the mask to the DataFrame to drop the values\n",
    "correlation_values_filtered = correlation_values[mask]\n",
    "\n",
    "correlation_values_filtered"
   ],
   "metadata": {
    "collapsed": false
   }
  },
  {
   "cell_type": "markdown",
   "source": [
    "**Understand spatial lag features**"
   ],
   "metadata": {
    "collapsed": false
   }
  },
  {
   "cell_type": "code",
   "execution_count": null,
   "outputs": [],
   "source": [
    "\n",
    "country_neighbours = [1, 2, 4, 9]\n",
    "data_cm_features_allyears[['month_id', 'country_id', 'vdem_v2x_libdem', 'vdem_v2x_libdem_48', 'splag_vdem_v2x_libdem']][(data_cm_features_allyears['country_id'].isin(country_neighbours)) & (data_cm_features_allyears['month_id'] == 121)]"
   ],
   "metadata": {
    "collapsed": false
   }
  },
  {
   "cell_type": "markdown",
   "source": [
    "**Understand decay function features**"
   ],
   "metadata": {
    "collapsed": false
   }
  },
  {
   "cell_type": "markdown",
   "source": [],
   "metadata": {
    "collapsed": false
   }
  },
  {
   "cell_type": "code",
   "execution_count": null,
   "outputs": [],
   "source": [
    "country_neighbours = [1, 2, 4, 9]\n",
    "data_cm_features_allyears[['month_id', 'country_id', 'ged_sb', 'decay_ged_sb_5', 'decay_ged_sb_100', 'decay_ged_sb_500']][(data_cm_features_allyears['country_id'] == 133)]"
   ],
   "metadata": {
    "collapsed": false
   }
  },
  {
   "cell_type": "code",
   "execution_count": null,
   "outputs": [],
   "source": [
    "country_neighbours = [1, 2, 4, 9]\n",
    "data_cm_features_allyears[['month_id', 'country_id', 'ged_sb', 'decay_ged_sb_5', 'splag_1_decay_ged_sb_5' ]][(data_cm_features_allyears['country_id'].isin(country_neighbours)) & (data_cm_features_allyears['month_id'] == 121)]"
   ],
   "metadata": {
    "collapsed": false
   }
  },
  {
   "cell_type": "markdown",
   "source": [
    "Plot independent variables vs conflict fatalities in scatter plot"
   ],
   "metadata": {
    "collapsed": false
   }
  },
  {
   "cell_type": "code",
   "execution_count": null,
   "outputs": [],
   "source": [
    "output_directory = r'C:\\Users\\Uwe Drauz\\Documents\\bachelor_thesis_local\\personal_competition_data\\Plots\\scatterplots_global'\n",
    "independent_variables = data_cm_features_allyears.columns.drop(['index', 'country_id', 'month_id', 'ged_sb']).tolist()\n",
    "for independent_variable in independent_variables:\n",
    "    global_scatter_plot(data_cm_features_allyears, independent_variable, 'ged_sb', output_directory, show=False, export=True)"
   ],
   "metadata": {
    "collapsed": false
   }
  },
  {
   "cell_type": "markdown",
   "source": [
    "Plot independent variables vs conflict fatalities in scatter plot for non zero conflict data"
   ],
   "metadata": {
    "collapsed": false
   }
  },
  {
   "cell_type": "code",
   "execution_count": null,
   "outputs": [],
   "source": [
    "output_directory_non_zero = r'C:\\Users\\Uwe Drauz\\Documents\\bachelor_thesis_local\\personal_competition_data\\Plots\\scatterplots_global_non_zero'\n",
    "independent_variables = data_cm_features_allyears.columns.drop(['index', 'country_id', 'month_id', 'ged_sb']).tolist()\n",
    "data_cm_features_allyears_non_zero = data_cm_features_allyears[data_cm_features_allyears['ged_sb'] > 0]\n",
    "for independent_variable in independent_variables:\n",
    "    global_scatter_plot(data_cm_features_allyears_non_zero, independent_variable, 'ged_sb', output_directory_non_zero, show=False, export=True)"
   ],
   "metadata": {
    "collapsed": false
   }
  },
  {
   "cell_type": "code",
   "execution_count": null,
   "outputs": [],
   "source": [
    "data_cm_features_allyears['ged_sb'].describe()\n"
   ],
   "metadata": {
    "collapsed": false
   }
  },
  {
   "cell_type": "code",
   "execution_count": null,
   "outputs": [],
   "source": [
    "data_cm_features_allyears_non_zero['ged_sb'].describe()"
   ],
   "metadata": {
    "collapsed": false
   }
  },
  {
   "cell_type": "code",
   "execution_count": null,
   "outputs": [],
   "source": [
    "data_cm_features_allyears[['month_id', 'country_id', 'ged_sb', 'ged_sb_tlag_1', 'ged_sb_tlag_2', 'ged_sb_tlag_3', 'ged_sb_tlag_4', 'ged_sb_tlag_5', 'ged_sb_tlag_6']]"
   ],
   "metadata": {
    "collapsed": false
   }
  },
  {
   "cell_type": "code",
   "execution_count": null,
   "outputs": [],
   "source": [],
   "metadata": {
    "collapsed": false
   }
  },
  {
   "cell_type": "code",
   "execution_count": null,
   "outputs": [],
   "source": [
    "import seaborn as sns\n",
    "import matplotlib.pyplot as plt\n",
    "def plot_variable_distribution(df: pd.DataFrame, variable: str):\n",
    "    fig, ax = plt.subplots(figsize=(10, 6))\n",
    "    sns.histplot(data=df, x=variable, ax=ax)\n",
    "    ax.set_title(f'Distribution of {variable}')\n",
    "    plt.show()"
   ],
   "metadata": {
    "collapsed": false
   }
  },
  {
   "cell_type": "code",
   "execution_count": null,
   "outputs": [],
   "source": [
    "plot_variable_distribution(data_cm_features_allyears, 'ged_sb')"
   ],
   "metadata": {
    "collapsed": false
   }
  },
  {
   "cell_type": "code",
   "execution_count": null,
   "outputs": [],
   "source": [
    "plot_variable_distribution(data_cm_features_allyears_non_zero, 'ged_sb')"
   ],
   "metadata": {
    "collapsed": false
   }
  },
  {
   "cell_type": "code",
   "execution_count": null,
   "outputs": [],
   "source": [
    "global_scatter_plot(data_cm_features_allyears_non_zero, 'wdi_sm_pop_refg_or', 'ged_sb', output_directory, show=True, export=False)"
   ],
   "metadata": {
    "collapsed": false
   }
  },
  {
   "cell_type": "code",
   "execution_count": null,
   "outputs": [],
   "source": [
    "data_cm_features_allyears_non_zero_big =  data_cm_features_allyears[data_cm_features_allyears['ged_sb'] > 5]"
   ],
   "metadata": {
    "collapsed": false
   }
  },
  {
   "cell_type": "code",
   "execution_count": null,
   "outputs": [],
   "source": [
    "plot_variable_distribution(data_cm_features_allyears_non_zero_big, 'ged_sb')"
   ],
   "metadata": {
    "collapsed": false
   }
  },
  {
   "cell_type": "code",
   "execution_count": null,
   "outputs": [],
   "source": [
    "import pymc as pm"
   ],
   "metadata": {
    "collapsed": false
   }
  },
  {
   "cell_type": "code",
   "execution_count": null,
   "outputs": [],
   "source": [
    "run_id = 'eae5db7dfa6e4408a8fb0f916968d033'\n",
    "evaluation_year = 2018\n",
    "results_all_countries_path = fr\"C:\\Users\\Uwe Drauz\\PycharmProjects\\bachelor_thesis\\mlruns\\3\\{run_id}\\artifacts\\BaselineModel_results_all_countries{evaluation_year}.parquet\"\n",
    "results_all_countries = pd.read_parquet(results_all_countries_path)\n",
    "results_actuals_all_countries_path = fr\"C:\\Users\\Uwe Drauz\\PycharmProjects\\bachelor_thesis\\mlruns\\3\\{run_id}\\artifacts\\BaselineModel_results_actuals_{evaluation_year}.parquet\"\n",
    "results_actuals = pd.read_parquet(results_actuals_all_countries_path)"
   ],
   "metadata": {
    "collapsed": false
   }
  },
  {
   "cell_type": "markdown",
   "source": [
    "### Prior Predicitve Checks"
   ],
   "metadata": {
    "collapsed": false
   }
  },
  {
   "cell_type": "code",
   "execution_count": null,
   "outputs": [],
   "source": [
    "import scipy.stats as stats\n",
    "import seaborn as sns\n",
    "import pandas as pd\n",
    "import matplotlib.pyplot as plt"
   ],
   "metadata": {
    "collapsed": false
   }
  },
  {
   "cell_type": "code",
   "execution_count": null,
   "outputs": [],
   "source": [
    "\n",
    "# Simulate gamma distribution of alpha parameter\n",
    "nsim = 100\n",
    "nobs = 100\n",
    "a_alpha = 0.1\n",
    "b_alpha = 1\n",
    "\n",
    "# Generate alpha using Gamma distribution\n",
    "alpha = stats.gamma.rvs(a=a_alpha, scale=1/b_alpha, size=nsim)\n",
    "\n",
    "# Initialize DataFrame to store Negative Binomial data\n",
    "y = pd.DataFrame(index=range(nsim), columns=range(nobs))\n",
    "\n",
    "# Simulate target data following NB distribution\n",
    "mu = 1\n",
    "for i in range(nsim):\n",
    "    # Generate Negative Binomial data using the alpha parameter\n",
    "    y.loc[i, :] = stats.nbinom.rvs(n=alpha[i], p=mu/(mu+alpha[i]), size=nobs)\n",
    "\n",
    "\n"
   ],
   "metadata": {
    "collapsed": false
   }
  },
  {
   "cell_type": "code",
   "execution_count": null,
   "outputs": [],
   "source": [
    "# Plot the histogram using Seaborn\n",
    "sns.histplot(alpha, bins=30, label='Histogram', color='blue')\n",
    "\n",
    "# Create a second y-axis to plot the density\n",
    "ax2 = plt.gca().twinx()\n",
    "\n",
    "# Plot the density on the second y-axis\n",
    "sns.kdeplot(alpha, ax=ax2, label='Density', color='red')\n",
    "\n",
    "# Labeling and titles\n",
    "plt.title('Histogram and Density of Alpha')\n",
    "plt.xlabel('Alpha')\n",
    "plt.gca().set_ylabel('Frequency (Count)')\n",
    "ax2.set_ylabel('Density')\n",
    "\n",
    "# Add legends\n",
    "plt.gca().legend(loc='upper left')\n",
    "ax2.legend(loc='upper right')\n",
    "\n",
    "plt.show()\n"
   ],
   "metadata": {
    "collapsed": false
   }
  },
  {
   "cell_type": "code",
   "execution_count": null,
   "outputs": [],
   "source": [
    "# Plot the histogram using Seaborn for the first row of y\n",
    "for obs in range(20):\n",
    "    print(f\"alpha value: {alpha[obs]}\")\n",
    "    sns.histplot(y.loc[obs, :], bins=30, label='Histogram', color='blue')\n",
    "    \n",
    "    # Create a second y-axis to plot the density\n",
    "    ax2 = plt.gca().twinx()\n",
    "    \n",
    "    # Plot the density on the second y-axis for the first row of y\n",
    "    sns.kdeplot(y.loc[obs, :], ax=ax2, label='Density', color='red')\n",
    "    \n",
    "    # Labeling and titles\n",
    "    plt.title('Histogram and Density of y (Row 0)')\n",
    "    plt.xlabel('y')\n",
    "    plt.gca().set_ylabel('Frequency (Count)')\n",
    "    ax2.set_ylabel('Density')\n",
    "    \n",
    "    # Add legends\n",
    "    plt.gca().legend(loc='upper left')\n",
    "    ax2.legend(loc='upper right')\n",
    "    \n",
    "    plt.show()\n"
   ],
   "metadata": {
    "collapsed": false
   }
  },
  {
   "cell_type": "code",
   "execution_count": null,
   "outputs": [],
   "source": [
    "# Load 'Actuals' data\n",
    "data_cm_actual_2018, data_cm_actual_2019, data_cm_actual_2020, data_cm_actual_2021, data_cm_actual_allyears \\\n",
    "    = gather_data_actuals()\n",
    "# Load features data\n",
    "data_cm_features_2017, data_cm_features_2018, data_cm_features_2019, data_cm_features_2020, data_cm_features_allyears \\\n",
    "    = gather_data_features()"
   ],
   "metadata": {
    "collapsed": false
   }
  },
  {
   "cell_type": "markdown",
   "source": [],
   "metadata": {
    "collapsed": false
   }
  },
  {
   "cell_type": "markdown",
   "source": [],
   "metadata": {
    "collapsed": false
   }
  },
  {
   "cell_type": "markdown",
   "source": [],
   "metadata": {
    "collapsed": false
   }
  },
  {
   "cell_type": "code",
   "execution_count": null,
   "outputs": [],
   "source": [
    "dict_actuals = {\n",
    "        \"2018\": data_cm_actual_2018,\n",
    "        \"2019\": data_cm_actual_2019,\n",
    "        \"2020\": data_cm_actual_2020,\n",
    "        \"2021\": data_cm_actual_2021\n",
    "        }"
   ],
   "metadata": {
    "collapsed": false
   }
  },
  {
   "cell_type": "code",
   "execution_count": null,
   "outputs": [],
   "source": [
    "# Determine all countries\n",
    "actual_countries = data_cm_actual_allyears['country_id'].unique()\n",
    "# Determine countries with at least one conflict fatality\n",
    "feature_countries_non_zero = data_cm_features_allyears[data_cm_features_allyears['ged_sb'] > 0][\n",
    "    'country_id'].unique()\n",
    "# Determine countries which have at least one conflict fatality and are in the actuals data\n",
    "feature_and_actuals_countries_non_zero = list(set(feature_countries_non_zero) & set(actual_countries))\n",
    "\n",
    "# Determine the counties which are in actual_countries but not in feature_and_actuals_countries_non_zero\n",
    "countries_in_actuals_without_observations = list(\n",
    "    set(actual_countries) - set(feature_and_actuals_countries_non_zero))"
   ],
   "metadata": {
    "collapsed": false
   }
  },
  {
   "cell_type": "code",
   "execution_count": null,
   "outputs": [],
   "source": [
    "# Calculate the average value of 'ged_sb' for each data frames in dict_actuals filtered on countries which are in feature_and_actuals_countries_non_zero\n",
    "for year in dict_actuals.keys():\n",
    "    df = dict_actuals[year]\n",
    "    df = df[df['country_id'].isin(feature_and_actuals_countries_non_zero)]\n",
    "    print(f\"Average value of 'ged_sb' in {year}: {df['ged_sb'].mean()}\")"
   ],
   "metadata": {
    "collapsed": false
   }
  },
  {
   "cell_type": "code",
   "execution_count": null,
   "outputs": [],
   "source": [
    "X = pd.read_parquet(\"competition_results/test_window_2018_baseline_validate_on_forecast_horizon.parquet\")"
   ],
   "metadata": {
    "collapsed": false
   }
  },
  {
   "cell_type": "code",
   "execution_count": null,
   "outputs": [],
   "source": [
    "from mappings import map_month_id_to_datetime\n",
    "map_month_id_to_datetime(468)"
   ],
   "metadata": {
    "collapsed": false
   }
  },
  {
   "cell_type": "code",
   "execution_count": null,
   "outputs": [],
   "source": [
    "import pandas as pd\n",
    "results_all_countries_2018 = pd.read_parquet(\"mlruns/3/bd79953d84ac4d3d8d59415a286c3fc3/artifacts/BaselineModel_results_all_countries2018.parquet\")"
   ],
   "metadata": {
    "collapsed": false
   }
  },
  {
   "cell_type": "markdown",
   "source": [
    "### Categorizing countries into developed and developing countries"
   ],
   "metadata": {
    "collapsed": false
   }
  },
  {
   "cell_type": "code",
   "execution_count": null,
   "outputs": [],
   "source": [
    "import pandas as pd\n",
    "import numpy as np"
   ],
   "metadata": {
    "collapsed": false
   }
  },
  {
   "cell_type": "code",
   "execution_count": null,
   "outputs": [],
   "source": [
    "# List of countries in the views competition data\n",
    "views_country_list = [\n",
    "    \"Guyana\", \"Suriname\", \"Trinidad and Tobago\", \"Venezuela\", \"Samoa\", \"Tonga\",\n",
    "    \"Argentina\", \"Bolivia\", \"Brazil\", \"Chile\", \"Ecuador\", \"Paraguay\", \"Peru\", \"Uruguay\",\n",
    "    \"Guatemala\", \"Mexico\", \"Barbados\", \"Dominica\", \"Grenada\", \"St. Lucia\", \"St. Vincent and the Grenadines\",\n",
    "    \"Dominican Republic\", \"Haiti\", \"Jamaica\", \"Bahamas\", \"Belize\", \"Colombia\", \"Costa Rica\", \"Cuba\",\n",
    "    \"El Salvador\", \"Honduras\", \"Nicaragua\", \"Panama\", \"Antigua and Barbuda\", \"St. Kitts and Nevis\",\n",
    "    \"Iceland\", \"Ireland\", \"United Kingdom\", \"Cape Verde\", \"Cote d'Ivoire\", \"Ghana\", \"Liberia\",\n",
    "    \"Portugal\", \"Spain\", \"Burkina Faso\", \"Guinea\", \"Guinea-Bissau\", \"Mali\",\n",
    "    \"Senegal\", \"Sierra Leone\", \"The Gambia\", \"Djibouti\", \"Eritrea\", \"Ethiopia\", \"Mongolia\",\n",
    "    \"Iraq\", \"Jordan\", \"Kazakhstan\", \"Norway\", \"Russia\", \"Sweden\",\n",
    "    \"Algeria\", \"Cameroon\", \"Central African Republic\", \"Tunisia\", \"Benin\",\n",
    "    \"Equatorial Guinea\", \"Kiribati\", \"Niger\", \"Nigeria\", \"Sao Tome and Principe\", \"Togo\",\n",
    "    \"Albania\", \"Bosnia and Herzegovina\", \"Croatia\", \"Italy\", \"Macedonia\", \"Malta\",\n",
    "    \"Bulgaria\", \"Cyprus\", \"Georgia\", \"Greece\", \"Lebanon\",\n",
    "    \"Turkey\", \"Austria\", \"Czech Republic\", \"Denmark\", \"Hungary\", \"Poland\",\n",
    "    \"Slovakia\", \"Slovenia\", \"Belgium\", \"France\", \"Luxembourg\", \"Netherlands\",\n",
    "    \"Switzerland\", \"Belarus\", \"Estonia\", \"Finland\", \"Latvia\", \"Lithuania\", \"Moldova\",\n",
    "    \"Romania\", \"Ukraine\", \"Maldives\", \"Oman\", \"Somalia\", \"Sri Lanka\", \"Turkmenistan\",\n",
    "    \"Uzbekistan\", \"Yemen\", \"Armenia\", \"Azerbaijan\", \"Bahrain\", \"Iran\", \"Kuwait\",\n",
    "    \"Qatar\", \"Saudi Arabia\", \"United Arab Emirates\", \"Afghanistan\", \"Kyrgyzstan\",\n",
    "    \"Nepal\", \"Pakistan\", \"Tajikistan\", \"Bangladesh\", \"Bhutan\", \"Brunei\",\n",
    "    \"Japan\", \"North Korea\", \"Palau\", \"Philippines\", \"South Korea\",\n",
    "    \"Cambodia\", \"Laos\", \"Myanmar\", \"Thailand\", \"Vietnam\", \"Marshall Is.\",\n",
    "    \"Micronesia\", \"Botswana\", \"Burundi\", \"Rwanda\", \"Zambia\", \"Zimbabwe\",\n",
    "    \"Comoros\", \"Lesotho\", \"Malawi\", \"Mozambique\", \"South Africa\", \"Swaziland\",\n",
    "    \"Angola\", \"Congo\", \"Congo, DRC\", \"Fiji\", \"Gabon\", \"Namibia\",\n",
    "    \"New Zealand\", \"Madagascar\", \"Mauritius\", \"Seychelles\", \"Timor Leste\",\n",
    "    \"Australia\", \"Nauru\", \"Papua New Guinea\", \"Solomon Is.\", \"Tuvalu\",\n",
    "    \"Vanuatu\", \"Canada\", \"Germany\", \"Taiwan\", \"China\", \"Malaysia\",\n",
    "    \"Singapore\", \"Indonesia\", \"Libya\", \"Chad\", \"Israel\", \"Syria\",\n",
    "    \"Egypt\", \"India\", \"Montenegro\", \"Kosovo\", \"Serbia\", \"United States\",\n",
    "    \"Uganda\", \"Kenya\", \"Tanzania\", \"Morocco\", \"Mauritania\", \"Sudan\", \"South Sudan\"\n",
    "]\n"
   ],
   "metadata": {
    "collapsed": false
   }
  },
  {
   "cell_type": "markdown",
   "source": [
    "**List of categorized countries based on the World Economic Situation and Prospects (WESP) 2022 report**\n",
    "To be found here: https://www.un.org/development/desa/dpad/wp-content/uploads/sites/45/WESP2022_ANNEX.pdf"
   ],
   "metadata": {
    "collapsed": false
   }
  },
  {
   "cell_type": "code",
   "execution_count": null,
   "outputs": [],
   "source": [
    "# List of developed economies from Table A\n",
    "developed_economies = [\n",
    "    \"Canada\", \"United States\", \"Australia\", \"Japan\", \"New Zealand\",\n",
    "    \"Austria\", \"Belgium\", \"Denmark\", \"Finland\", \"France\", \"Germany\",\n",
    "    \"Greece\", \"Ireland\", \"Italy\", \"Luxembourg\", \"Netherlands\", \"Portugal\",\n",
    "    \"Spain\", \"Sweden\", \"Bulgaria\", \"Croatia\", \"Cyprus\", \"Czech Republic\",\n",
    "    \"Estonia\", \"Hungary\", \"Latvia\", \"Lithuania\", \"Malta\", \"Poland\",\n",
    "    \"Romania\", \"Slovakia\", \"Slovenia\", \"Iceland\", \"Norway\", \"Switzerland\",\n",
    "    \"United Kingdom\"\n",
    "]"
   ],
   "metadata": {
    "collapsed": false
   }
  },
  {
   "cell_type": "code",
   "execution_count": null,
   "outputs": [],
   "source": [
    "# List of economies in transition from Table B\n",
    "economies_in_transition = [\n",
    "    \"Albania\", \"Bosnia and Herzegovina\", \"Montenegro\", \"Macedonia\", \"Serbia\",\n",
    "    \"Armenia\", \"Azerbaijan\", \"Belarus\", \"Georgia\", \"Kazakhstan\", \"Kyrgyzstan\",\n",
    "    \"Moldova\", \"Russia\", \"Tajikistan\", \"Turkmenistan\",\n",
    "    \"Ukraine\", \"Uzbekistan\"\n",
    "]"
   ],
   "metadata": {
    "collapsed": false
   }
  },
  {
   "cell_type": "code",
   "execution_count": null,
   "outputs": [],
   "source": [
    "# List of developing economies from Table C\n",
    "developing_economies = [\n",
    "    # North Africa\n",
    "    \"Algeria\", \"Egypt\", \"Libya\", \"Mauritania\", \"Morocco\", \"Sudan\", \"Tunisia\",\n",
    "    # Central Africa\n",
    "    \"Cameroon\", \"Central African Republic\", \"Chad\", \"Congo, DRC\", \"Equatorial Guinea\", \"Gabon\", \"Sao Tome and Prinicipe\",\n",
    "    # East Africa\n",
    "    \"Burundi\", \"Congo\", \"Comoros\", \"Djibouti\", \"Eritrea\", \"Ethiopia\", \"Kenya\", \"Madagascar\", \"Rwanda\", \"Somalia\", \"South Sudan\", \"Tanzania\", \"Uganda\",\n",
    "    # Southern Africa\n",
    "    \"Angola\", \"Botswana\", \"Swaziland\", \"Lesotho\", \"Malawi\", \"Mauritius\", \"Mozambique\", \"Namibia\", \"South Africa\", \"Zambia\", \"Zimbabwe\",\n",
    "    # West Africa\n",
    "    \"Benin\", \"Burkina Faso\", \"Cape Verde\", \"Cote d'Ivoire\", \"The Gambia\", \"Ghana\", \"Guinea\", \"Guinea-Bissau\", \"Liberia\", \"Mali\", \"Niger\", \"Nigeria\", \"Senegal\", \"Sierra Leone\", \"Togo\",\n",
    "    # Asia\n",
    "    \"Brunei\", \"Cambodia\", \"China\", \"North Korea\", \"Fiji\", \"Hong Kong SAR\", \"Indonesia\", \"Kiribati\", \"Laos\", \"Malaysia\", \"Mongolia\", \"Myanmar\", \"Papua New Guinea\", \"Philippines\", \"South Korea\", \"Samoa\", \"Singapore\", \"Solomon Is.\", \"Taiwan\", \"Thailand\", \"Timor-Leste\", \"Vanuatu\", \"Vietnam\",\n",
    "    \"Afghanistan\", \"Bangladesh\", \"Bhutan\", \"India\", \"Iran\", \"Maldives\", \"Nepal\", \"Pakistan\", \"Sri Lanka\",\n",
    "    \"Bahrain\", \"Iraq\", \"Israel\", \"Jordan\", \"Kuwait\", \"Lebanon\", \"Oman\", \"Qatar\", \"Saudi Arabia\", \"State of Palestine\", \"Syria\", \"Turkey\", \"United Arab Emirates\", \"Yemen\",\n",
    "    # Latin America and the Caribbean\n",
    "    \"Bahamas\", \"Barbados\", \"Belize\", \"Guyana\", \"Jamaica\", \"Suriname\", \"Trinidad and Tobago\", \"Costa Rica\", \"Cuba\", \"Dominican Republic\", \"El Salvador\", \"Guatemala\", \"Haiti\", \"Honduras\", \"Mexico\", \"Nicaragua\", \"Panama\",\n",
    "    \"Argentina\", \"Bolivia\", \"Brazil\", \"Chile\", \"Colombia\", \"Ecuador\", \"Paraguay\", \"Peru\", \"Uruguay\", \"Venezuela\"\n",
    "]\n"
   ],
   "metadata": {
    "collapsed": false
   }
  },
  {
   "cell_type": "code",
   "execution_count": null,
   "outputs": [],
   "source": [
    "# List of the least developed economies from Table F based on the UN list of LDCs\n",
    "least_developed_countries = [\n",
    "    \"Angola\", \"Benin\", \"Burkina Faso\", \"Burundi\", \"Central African Republic\",\n",
    "    \"Chad\", \"Comoros\", \"Congo, DRC\", \"Djibouti\", \"Eritrea\",\n",
    "    \"Ethiopia\", \"The Gambia\", \"Guinea\", \"Guinea-Bissau\", \"Lesotho\", \"Liberia\",\n",
    "    \"Madagascar\", \"Malawi\", \"Mali\", \"Mauritania\", \"Mozambique\", \"Niger\",\n",
    "    \"Rwanda\", \"Sao Tome and Principe\", \"Senegal\", \"Sierra Leone\", \"Somalia\",\n",
    "    \"South Sudan\", \"Sudan\", \"Togo\", \"Uganda\", \"Tanzania\",\n",
    "    \"Zambia\", \"Cambodia\", \"Kiribati\", \"Laos\",\n",
    "    \"Myanmar\", \"Solomon Is.\", \"Timor Leste\", \"Tuvalu\", \"Afghanistan\",\n",
    "    \"Bangladesh\", \"Bhutan\", \"Nepal\", \"Yemen\", \"Haiti\"\n",
    "]"
   ],
   "metadata": {
    "collapsed": false
   }
  },
  {
   "cell_type": "code",
   "execution_count": null,
   "outputs": [],
   "source": [
    "# List of small developing island states from Table H based on the UN list of SIDS\n",
    "small_islands_developing_states = [\n",
    "    \"Antigua and Barbuda\", \"Bahamas\", \"Bahrain\", \"Barbados\", \"Belize\", \"Cape Verde\", \"Comoros\", \"Cuba\", \"Dominica\", \"Dominican Republic\", \"Micronesia\", \"Fiji\", \"Grenada\", \"Guinea-Bissau\", \"Guyana\", \"Haiti\", \"Jamaica\", \"Kiribati\",  \"Maldives\", \"Marshall Is.\", \"Mauritius\", \"Nauru\", \"Palau\", \"Papua New Guinea\", \"St. Kitts and Nevis\", \"St. Lucia\", \"St. Vincent and the Grenadines\", \"Samoa\", \"Sao Tome and Principe\", \"Seychelles\", \"Singapore\", \"Solomon Is.\", \"Suriname\", \"Timor-Leste\", \"Tonga\", \"Trinidad and Tobago\", \"Tuvalu\", \"Vanuatu\", \"American Samoa\", \"Anguilla\", \"Aruba\", \"Bermuda\", \"British Virgin Islands\", \"Cayman Islands\", \"Commonwealth of Northern Marianas\", \"Cook Islands\", \"Curaçao\", \"French Polynesia\", \"Guadeloupe\", \"Guam\", \"Martinique\", \"Montserrat\", \"New Caledonia\", \"Niue\", \"Puerto Rico\", \"Sint Maarten\", \"Turks and Caicos Islands\", \"U.S. Virgin Islands\"\n",
    "]\n"
   ],
   "metadata": {
    "collapsed": false
   }
  },
  {
   "cell_type": "code",
   "execution_count": null,
   "outputs": [],
   "source": [
    "# not fully recognized countries\n",
    "not_recognized_countries = ['Kosovo']"
   ],
   "metadata": {
    "collapsed": false
   }
  },
  {
   "cell_type": "markdown",
   "source": [
    "Construct different sets of countries "
   ],
   "metadata": {
    "collapsed": false
   }
  },
  {
   "cell_type": "code",
   "execution_count": null,
   "outputs": [],
   "source": [
    "# Combined economies types from WESP 2022 report\n",
    "all_economies_wesp = developed_economies + economies_in_transition + developing_economies"
   ],
   "metadata": {
    "collapsed": false
   }
  },
  {
   "cell_type": "code",
   "execution_count": null,
   "outputs": [],
   "source": [
    "# Combined economies types from WESP 2022 report extended by LDCs and SIDS\n",
    "all_economies_wesp_plus_UN = list(set(all_economies_wesp + least_developed_countries + small_islands_developing_states))"
   ],
   "metadata": {
    "collapsed": false
   }
  },
  {
   "cell_type": "code",
   "execution_count": null,
   "outputs": [],
   "source": [
    "# Developing economies from WESP 2022 report extended by LDCs, SIDS ans outlier countries\n",
    "developing_economies_extended = developing_economies + least_developed_countries + small_islands_developing_states + not_recognized_countries\n",
    "developing_economies_extended = list(set(developing_economies_extended))"
   ],
   "metadata": {
    "collapsed": false
   }
  },
  {
   "cell_type": "code",
   "execution_count": null,
   "outputs": [],
   "source": [
    "# List of developing economies without LDCs n\n",
    "developing_economies_extended_without_LDC = list(set(developing_economies_extended) - set(least_developed_countries))"
   ],
   "metadata": {
    "collapsed": false
   }
  },
  {
   "cell_type": "code",
   "execution_count": null,
   "outputs": [],
   "source": [
    "df_all_countries = pd.DataFrame(all_economies_wesp_plus_UN, columns=['country'])\n",
    "# Print countires in views_country_list which are not in all_economies_wesp_plus_UN\n",
    "divergences = []\n",
    "for country in views_country_list:\n",
    "    if country not in all_economies_wesp_plus_UN:   \n",
    "        divergences.append(country)\n",
    "divergences_df = pd.DataFrame(divergences, columns=['country']); divergences_df"
   ],
   "metadata": {
    "collapsed": false
   }
  },
  {
   "cell_type": "code",
   "execution_count": null,
   "outputs": [],
   "source": [
    "def are_lists_distinct(*lists):\n",
    "    all_elements = []\n",
    "    for lst in lists:\n",
    "        all_elements.extend(lst)\n",
    "    return len(all_elements) == len(set(all_elements))"
   ],
   "metadata": {
    "collapsed": false
   }
  },
  {
   "cell_type": "markdown",
   "source": [
    "Explore Data of different country sets"
   ],
   "metadata": {
    "collapsed": false
   }
  },
  {
   "cell_type": "code",
   "execution_count": null,
   "outputs": [],
   "source": [
    "from mappings import import_country_mapping\n",
    "from data_gathering import gather_data_features, gather_data_actuals\n",
    "from data_preparation import preprocess_data\n",
    "\n",
    "country_mapping = import_country_mapping()"
   ],
   "metadata": {
    "collapsed": false
   }
  },
  {
   "cell_type": "code",
   "execution_count": null,
   "outputs": [],
   "source": [
    "# Load features data\n",
    "data_cm_features_2017, data_cm_features_2018, data_cm_features_2019, data_cm_features_2020, data_cm_features_allyears \\\n",
    "    = gather_data_features()"
   ],
   "metadata": {
    "collapsed": false
   }
  },
  {
   "cell_type": "code",
   "execution_count": null,
   "outputs": [],
   "source": [
    "# Retrieve country_ids for different country sets\n",
    "developed_countries_ids = country_mapping[country_mapping['name'].isin(developed_economies)]['country_id'].tolist()\n",
    "countries_in_transition_ids = country_mapping[country_mapping['name'].isin(economies_in_transition)]['country_id'].tolist()\n",
    "developing_countries_extended_without_LDC_ids = country_mapping[country_mapping['name'].isin(developing_economies_extended_without_LDC)]['country_id'].tolist()\n",
    "least_developed_countries_ids = country_mapping[country_mapping['name'].isin(least_developed_countries)]['country_id'].tolist()\n"
   ],
   "metadata": {
    "collapsed": false
   }
  },
  {
   "cell_type": "code",
   "execution_count": null,
   "outputs": [],
   "source": [
    "# Plot the distribution of the ged_sb variable for different country sets based on the features data\n",
    "import seaborn as sns\n",
    "import matplotlib.pyplot as plt\n",
    "def plot_variable_distribution(df: pd.DataFrame, variable: str):\n",
    "    fig, ax = plt.subplots(figsize=(8, 4))\n",
    "    sns.histplot(data=df, x=variable, ax=ax, kde=True)\n",
    "    ax.set_title(f'Distribution of {variable}')\n",
    "    plt.show()"
   ],
   "metadata": {
    "collapsed": false
   }
  },
  {
   "cell_type": "code",
   "execution_count": null,
   "outputs": [],
   "source": [
    "data_cm_features_allyears.describe()"
   ],
   "metadata": {
    "collapsed": false
   }
  },
  {
   "cell_type": "code",
   "execution_count": null,
   "outputs": [],
   "source": [
    "# Plot the distribution of the ged_sb variable over all countries\n",
    "plot_variable_distribution(data_cm_features_allyears, 'ged_sb')\n",
    "# Plot the distribution of the ged_sb variable over all countries\n",
    "plot_variable_distribution(np.log(data_cm_features_allyears[data_cm_features_allyears['ged_sb'] > 0]), 'ged_sb')\n",
    "# Plot the distribution of the ged_sb variable over all countries\n",
    "plot_variable_distribution(data_cm_features_allyears[data_cm_features_allyears['ged_sb'] < 1000], 'ged_sb')\n",
    "# Plot the distribution of the ged_sb variable over all countries\n",
    "plot_variable_distribution(data_cm_features_allyears[data_cm_features_allyears['ged_sb'] >= 1000], 'ged_sb')"
   ],
   "metadata": {
    "collapsed": false
   }
  },
  {
   "cell_type": "code",
   "execution_count": null,
   "outputs": [],
   "source": [
    "plot_variable_distribution(data_cm_features_allyears[(data_cm_features_allyears['country_id'].isin(developed_countries_ids))], 'ged_sb')\n",
    "plot_variable_distribution(np.log(data_cm_features_allyears[(data_cm_features_allyears['country_id'].isin(developed_countries_ids)) & (data_cm_features_allyears['ged_sb'] > 0)]), 'ged_sb')\n",
    "plot_variable_distribution(data_cm_features_allyears[(data_cm_features_allyears['country_id'].isin(developed_countries_ids)) & (data_cm_features_allyears['ged_sb'] < 1000)], 'ged_sb')\n",
    "plot_variable_distribution(data_cm_features_allyears[(data_cm_features_allyears['country_id'].isin(developed_countries_ids)) & (data_cm_features_allyears['ged_sb'] >= 1000)], 'ged_sb')"
   ],
   "metadata": {
    "collapsed": false
   }
  },
  {
   "cell_type": "code",
   "execution_count": null,
   "outputs": [],
   "source": [
    "plot_variable_distribution(data_cm_features_allyears[(data_cm_features_allyears['country_id'].isin(countries_in_transition_ids))], 'ged_sb')\n",
    "plot_variable_distribution(np.log(data_cm_features_allyears[(data_cm_features_allyears['country_id'].isin(countries_in_transition_ids)) & (data_cm_features_allyears['ged_sb'] > 0)]), 'ged_sb')\n",
    "plot_variable_distribution(data_cm_features_allyears[(data_cm_features_allyears['country_id'].isin(countries_in_transition_ids)) & (data_cm_features_allyears['ged_sb'] < 1000)], 'ged_sb')\n",
    "plot_variable_distribution(data_cm_features_allyears[(data_cm_features_allyears['country_id'].isin(countries_in_transition_ids)) & (data_cm_features_allyears['ged_sb'] >= 1000)], 'ged_sb')"
   ],
   "metadata": {
    "collapsed": false
   }
  },
  {
   "cell_type": "code",
   "execution_count": null,
   "outputs": [],
   "source": [
    "plot_variable_distribution(data_cm_features_allyears[(data_cm_features_allyears['country_id'].isin(developing_countries_extended_without_LDC_ids))], 'ged_sb')\n",
    "plot_variable_distribution(np.log(data_cm_features_allyears[(data_cm_features_allyears['country_id'].isin(developing_countries_extended_without_LDC_ids)) & (data_cm_features_allyears['ged_sb'] > 0)]), 'ged_sb')\n",
    "plot_variable_distribution(data_cm_features_allyears[(data_cm_features_allyears['country_id'].isin(developing_countries_extended_without_LDC_ids)) & (data_cm_features_allyears['ged_sb'] < 1000)], 'ged_sb')\n",
    "plot_variable_distribution(data_cm_features_allyears[(data_cm_features_allyears['country_id'].isin(developing_countries_extended_without_LDC_ids)) & (data_cm_features_allyears['ged_sb'] >= 1000)], 'ged_sb')"
   ],
   "metadata": {
    "collapsed": false
   }
  },
  {
   "cell_type": "code",
   "execution_count": null,
   "outputs": [],
   "source": [
    "plot_variable_distribution(data_cm_features_allyears[(data_cm_features_allyears['country_id'].isin(least_developed_countries_ids))], 'ged_sb')\n",
    "plot_variable_distribution(np.log(data_cm_features_allyears[(data_cm_features_allyears['country_id'].isin(least_developed_countries_ids)) & (data_cm_features_allyears['ged_sb'] > 0)]), 'ged_sb')\n",
    "plot_variable_distribution(data_cm_features_allyears[(data_cm_features_allyears['country_id'].isin(least_developed_countries_ids)) & (data_cm_features_allyears['ged_sb'] < 1000)], 'ged_sb')\n",
    "plot_variable_distribution(data_cm_features_allyears[(data_cm_features_allyears['country_id'].isin(least_developed_countries_ids)) & (data_cm_features_allyears['ged_sb'] >= 1000)], 'ged_sb')"
   ],
   "metadata": {
    "collapsed": false
   }
  },
  {
   "cell_type": "code",
   "execution_count": null,
   "outputs": [],
   "source": [
    "# Compute max and average values for ged_sb over all countries\n",
    "print(f\"Max value of ged_sb over all countries: {data_cm_features_allyears['ged_sb'].max()}\")\n",
    "print(f\"Average value of ged_sb over all countries: {data_cm_features_allyears['ged_sb'].mean()}\")"
   ],
   "metadata": {
    "collapsed": false
   }
  },
  {
   "cell_type": "code",
   "execution_count": null,
   "outputs": [],
   "source": [
    "# Compute max and average values for ged_sb on different country sets\n",
    "print(f\"Max value of ged_sb for developed countries: {data_cm_features_allyears[data_cm_features_allyears['country_id'].isin(developed_countries_ids)]['ged_sb'].max()}\")\n",
    "print(f\"Max value of ged_sb for countries in transition: {data_cm_features_allyears[data_cm_features_allyears['country_id'].isin(countries_in_transition_ids)]['ged_sb'].max()}\")\n",
    "print(f\"Max value of ged_sb for developing countries: {data_cm_features_allyears[data_cm_features_allyears['country_id'].isin(developing_countries_extended_without_LDC_ids)]['ged_sb'].max()}\")\n",
    "print(f\"Max value of ged_sb for least developed countries: {data_cm_features_allyears[data_cm_features_allyears['country_id'].isin(least_developed_countries_ids)]['ged_sb'].max()}\")"
   ],
   "metadata": {
    "collapsed": false
   }
  },
  {
   "cell_type": "code",
   "execution_count": null,
   "outputs": [],
   "source": [
    "print(f\"Average value of ged_sb for developed countries: {data_cm_features_allyears[data_cm_features_allyears['country_id'].isin(developed_countries_ids)]['ged_sb'].mean()}\")\n",
    "print(f\"Average value of ged_sb for countries in transition: {data_cm_features_allyears[data_cm_features_allyears['country_id'].isin(countries_in_transition_ids)]['ged_sb'].mean()}\")\n",
    "print(f\"Average value of ged_sb for developing countries: {data_cm_features_allyears[data_cm_features_allyears['country_id'].isin(developing_countries_extended_without_LDC_ids)]['ged_sb'].mean()}\")\n",
    "print(f\"Average value of ged_sb for least developed countries: {data_cm_features_allyears[data_cm_features_allyears['country_id'].isin(least_developed_countries_ids)]['ged_sb'].mean()}\")"
   ],
   "metadata": {
    "collapsed": false
   }
  },
  {
   "cell_type": "code",
   "execution_count": null,
   "outputs": [],
   "source": [
    "# Select data based on country sets\n",
    "df_developed_countries = data_cm_features_allyears[data_cm_features_allyears['country_id'].isin(developed_countries_ids)]\n",
    "df_countries_in_transition = data_cm_features_allyears[data_cm_features_allyears['country_id'].isin(countries_in_transition_ids)]\n",
    "df_developing_countries_extended_without_LDC = data_cm_features_allyears[data_cm_features_allyears['country_id'].isin(developing_countries_extended_without_LDC_ids)]\n",
    "df_least_developed_countries = data_cm_features_allyears[data_cm_features_allyears['country_id'].isin(least_developed_countries_ids)]\n"
   ],
   "metadata": {
    "collapsed": false
   }
  },
  {
   "cell_type": "code",
   "execution_count": null,
   "outputs": [],
   "source": [
    "# Store the set-specific data in a dictionary under the respective key\n",
    "dict_country_sets = {\n",
    "    \"developed_countries\": df_developed_countries,\n",
    "    \"countries_in_transition\": df_countries_in_transition,\n",
    "    \"developing_countries_extended_without_LDC\": df_developing_countries_extended_without_LDC,\n",
    "    \"least_developed_countries\": df_least_developed_countries\n",
    "}"
   ],
   "metadata": {
    "collapsed": false
   }
  },
  {
   "cell_type": "code",
   "execution_count": null,
   "outputs": [],
   "source": [
    "# Use the funtion \"temporary_standardization\" to standardize the data for each country set, and \"temporary_feature_selection\" to select the features for each country set\n",
    "for key in dict_country_sets.keys():\n",
    "    df = dict_country_sets[key]\n",
    "    df = temporary_feature_selection(df)\n",
    "    df = temporary_standardization(df)\n",
    "    dict_country_sets[key] = df"
   ],
   "metadata": {
    "collapsed": false
   }
  },
  {
   "cell_type": "code",
   "execution_count": null,
   "outputs": [],
   "source": [
    "# Export the set-specific data to parquet files under the name \"data_cm_features_allyears_{key}.parquet\"\n",
    "for key in dict_country_sets.keys():\n",
    "    df = dict_country_sets[key]\n",
    "    df.to_parquet(f\"C:/Users/Uwe Drauz/Documents/bachelor_thesis_local/personal_competition_data/temp/data_cm_features_allyears_{key}.parquet\")"
   ],
   "metadata": {
    "collapsed": false
   }
  },
  {
   "cell_type": "code",
   "execution_count": null,
   "outputs": [],
   "source": [
    "# Preprocess data\n",
    "lagged_covariates = [\"ged_sb\", \"ged_sb_tsum_24\", \"decay_ged_sb_5\", \"decay_ged_sb_100\", \"decay_ged_sb_500\"]\n",
    "important_vdem_features = [\"vdem_v2x_veracc\",\n",
    "                          \"vdem_v2x_horacc\",\n",
    "                          \"vdem_v2xnp_client\",\n",
    "                          \"vdem_v2x_divparctrl\",\n",
    "                          \"vdem_v2xpe_exlpol\",\n",
    "                          \"vdem_v2xpe_exlsocgr\"]\n",
    "important_wdi_features = [\"wdi_ms_mil_xpnd_zs\", \n",
    "                          \"wdi_sm_pop_refg_or\",\n",
    "                          \"wdi_sm_pop_netm\",\n",
    "                          \"wdi_sp_pop_grow\",\n",
    "                          \"wdi_dt_oda_odat_pc_zs\"]\n",
    "covariates =  important_vdem_features + important_wdi_features"
   ],
   "metadata": {
    "collapsed": false
   }
  },
  {
   "cell_type": "code",
   "execution_count": null,
   "outputs": [],
   "source": [
    "from importlib import reload\n",
    "\n"
   ],
   "metadata": {
    "collapsed": false
   }
  },
  {
   "cell_type": "code",
   "execution_count": null,
   "outputs": [],
   "source": [
    "data = preprocess_data(df=data_cm_features_allyears, covariates=covariates, lagged_covariates=lagged_covariates, standardize=True)"
   ],
   "metadata": {
    "collapsed": false
   }
  },
  {
   "cell_type": "code",
   "execution_count": null,
   "outputs": [],
   "source": [
    "data.to_parquet(\"C:/Users/Uwe Drauz/Documents/bachelor_thesis_local/personal_competition_data/temp/special_feature_selection_std.parquet\")"
   ],
   "metadata": {
    "collapsed": false
   }
  },
  {
   "cell_type": "code",
   "execution_count": null,
   "outputs": [],
   "source": [
    "from data_visualization import global_scatter_plot"
   ],
   "metadata": {
    "collapsed": false
   }
  },
  {
   "cell_type": "markdown",
   "source": [],
   "metadata": {
    "collapsed": false
   }
  },
  {
   "cell_type": "code",
   "execution_count": null,
   "outputs": [],
   "source": [
    "# Plot the vdem and wdi indices against ged_sb\n",
    "for vdem in important_vdem_features:\n",
    "    global_scatter_plot(data, vdem, \"ged_sb\", output_dir=\"C:/Users/Uwe Drauz/Documents/bachelor_thesis_local/personal_competition_data/temp\")"
   ],
   "metadata": {
    "collapsed": false
   }
  },
  {
   "cell_type": "code",
   "execution_count": null,
   "outputs": [],
   "source": [
    "for wdi in important_wdi_features:\n",
    "    global_scatter_plot(data, wdi, \"ged_sb\", output_dir=\"C:/Users/Uwe Drauz/Documents/bachelor_thesis_local/personal_competition_data/temp\")"
   ],
   "metadata": {
    "collapsed": false
   }
  },
  {
   "cell_type": "code",
   "execution_count": null,
   "outputs": [],
   "source": [
    "global_scatter_plot(data, \"decay_ged_sb_100_tlag_3\", \"ged_sb\", output_dir=\"C:/Users/Uwe Drauz/Documents/bachelor_thesis_local/personal_competition_data/temp\")"
   ],
   "metadata": {
    "collapsed": false
   }
  },
  {
   "cell_type": "code",
   "execution_count": null,
   "outputs": [],
   "source": [
    "result_data_2021[result_data_2021['test_score'] > 2000].sort_values(by=['country_id', 'month_id'])"
   ],
   "metadata": {
    "collapsed": false
   }
  },
  {
   "cell_type": "code",
   "execution_count": null,
   "outputs": [],
   "source": [
    "result_data_2021[result_data_2021['test_score'] > 2000].sum()\n"
   ],
   "metadata": {
    "collapsed": false
   }
  },
  {
   "cell_type": "code",
   "execution_count": null,
   "outputs": [],
   "source": [
    "from mappings import map_month_id_to_datetime\n",
    "from mappings import map_country_id_to_country_name"
   ],
   "metadata": {
    "collapsed": false
   }
  },
  {
   "cell_type": "code",
   "execution_count": null,
   "outputs": [],
   "source": [
    "import mappings\n",
    "reload(mappings)\n",
    "from mappings import map_country_id_to_country_name"
   ],
   "metadata": {
    "collapsed": false
   }
  },
  {
   "cell_type": "code",
   "execution_count": null,
   "outputs": [],
   "source": [
    "data_cm_actual_2018, data_cm_actual_2019, data_cm_actual_2020, data_cm_actual_2021, data_cm_actual_allyears \\\n",
    "    = gather_data_actuals()"
   ],
   "metadata": {
    "collapsed": false
   }
  },
  {
   "cell_type": "code",
   "execution_count": null,
   "outputs": [],
   "source": [
    "map_month_id_to_datetime(498)"
   ],
   "metadata": {
    "collapsed": false
   }
  },
  {
   "cell_type": "code",
   "execution_count": null,
   "outputs": [],
   "source": [
    "map_country_id_to_country_name(133)"
   ],
   "metadata": {
    "collapsed": false
   }
  },
  {
   "cell_type": "code",
   "execution_count": null,
   "outputs": [],
   "source": [
    "data_cm_actual_2021[(data_cm_actual_2021['country_id'] == 133)]"
   ],
   "metadata": {
    "collapsed": false
   }
  },
  {
   "cell_type": "markdown",
   "source": [
    "Rolling window lengths of month country_combination"
   ],
   "metadata": {
    "collapsed": false
   }
  },
  {
   "cell_type": "markdown",
   "source": [
    "Test Scores of month country_combination"
   ],
   "metadata": {
    "collapsed": false
   }
  },
  {
   "cell_type": "code",
   "execution_count": 47,
   "outputs": [
    {
     "data": {
      "text/plain": "                     January 2018  February 2018  March 2018  April 2018  \\\nTrinidad and Tobago      0.000000       0.000000    0.000000    0.000000   \nVenezuela                0.000000       0.000000    0.000000    0.000000   \nEcuador                  0.000000       0.000000    0.000000    0.000000   \nPeru                     0.026218       0.030012    0.034696    0.023043   \nGuatemala                0.000000       0.000000    0.000000    0.000000   \n...                           ...            ...         ...         ...   \nTanzania                 0.000000       0.000000    0.000000    0.000000   \nMorocco                  0.000000       0.000000    0.000000    0.000000   \nMauritania               0.000000       0.000000    0.000000    0.000000   \nSudan                    3.688134       2.028846   18.129666    6.819406   \nSouth Sudan              9.169068      18.194705    8.870887   58.992088   \n\n                       May 2018  June 2018  July 2018  August 2018  \\\nTrinidad and Tobago    0.000000   0.000000   0.000000     0.000000   \nVenezuela              0.000000   0.000000   0.000000     0.000000   \nEcuador                0.000000   0.000000   0.000000     0.000000   \nPeru                   0.026218   0.030012   0.034696     0.040518   \nGuatemala              0.000000   0.000000   0.000000     0.000000   \n...                         ...        ...        ...          ...   \nTanzania               0.000000   0.000000   0.000000     0.000000   \nMorocco                0.000000   0.000000   0.000000     0.000000   \nMauritania             0.000000   0.000000   0.000000     0.000000   \nSudan                 25.122941  15.345552  19.019859    24.943496   \nSouth Sudan          115.493415  33.649354   9.953219    10.241477   \n\n                     September 2018  October 2018  November 2018  \\\nTrinidad and Tobago        0.000000      0.000000       0.000000   \nVenezuela                  0.000000      0.000000       0.000000   \nEcuador                    0.000000      0.000000       0.000000   \nPeru                       0.047865      0.057340       0.069789   \nGuatemala                  0.000000      0.000000       0.000000   \n...                             ...           ...            ...   \nTanzania                   0.000000      0.000000       0.000000   \nMorocco                    0.000000      0.000000       0.000000   \nMauritania                 0.000000      0.000000       0.000000   \nSudan                     19.869960     24.387940      19.137435   \nSouth Sudan                7.324790     10.553037      13.835058   \n\n                     December 2018  \nTrinidad and Tobago       0.000000  \nVenezuela                 0.000000  \nEcuador                   0.000000  \nPeru                      0.034696  \nGuatemala                 0.000000  \n...                            ...  \nTanzania                  0.000000  \nMorocco                   0.000000  \nMauritania                0.000000  \nSudan                    21.785516  \nSouth Sudan              12.459404  \n\n[96 rows x 12 columns]",
      "text/html": "<div>\n<style scoped>\n    .dataframe tbody tr th:only-of-type {\n        vertical-align: middle;\n    }\n\n    .dataframe tbody tr th {\n        vertical-align: top;\n    }\n\n    .dataframe thead th {\n        text-align: right;\n    }\n</style>\n<table border=\"1\" class=\"dataframe\">\n  <thead>\n    <tr style=\"text-align: right;\">\n      <th></th>\n      <th>January 2018</th>\n      <th>February 2018</th>\n      <th>March 2018</th>\n      <th>April 2018</th>\n      <th>May 2018</th>\n      <th>June 2018</th>\n      <th>July 2018</th>\n      <th>August 2018</th>\n      <th>September 2018</th>\n      <th>October 2018</th>\n      <th>November 2018</th>\n      <th>December 2018</th>\n    </tr>\n  </thead>\n  <tbody>\n    <tr>\n      <th>Trinidad and Tobago</th>\n      <td>0.000000</td>\n      <td>0.000000</td>\n      <td>0.000000</td>\n      <td>0.000000</td>\n      <td>0.000000</td>\n      <td>0.000000</td>\n      <td>0.000000</td>\n      <td>0.000000</td>\n      <td>0.000000</td>\n      <td>0.000000</td>\n      <td>0.000000</td>\n      <td>0.000000</td>\n    </tr>\n    <tr>\n      <th>Venezuela</th>\n      <td>0.000000</td>\n      <td>0.000000</td>\n      <td>0.000000</td>\n      <td>0.000000</td>\n      <td>0.000000</td>\n      <td>0.000000</td>\n      <td>0.000000</td>\n      <td>0.000000</td>\n      <td>0.000000</td>\n      <td>0.000000</td>\n      <td>0.000000</td>\n      <td>0.000000</td>\n    </tr>\n    <tr>\n      <th>Ecuador</th>\n      <td>0.000000</td>\n      <td>0.000000</td>\n      <td>0.000000</td>\n      <td>0.000000</td>\n      <td>0.000000</td>\n      <td>0.000000</td>\n      <td>0.000000</td>\n      <td>0.000000</td>\n      <td>0.000000</td>\n      <td>0.000000</td>\n      <td>0.000000</td>\n      <td>0.000000</td>\n    </tr>\n    <tr>\n      <th>Peru</th>\n      <td>0.026218</td>\n      <td>0.030012</td>\n      <td>0.034696</td>\n      <td>0.023043</td>\n      <td>0.026218</td>\n      <td>0.030012</td>\n      <td>0.034696</td>\n      <td>0.040518</td>\n      <td>0.047865</td>\n      <td>0.057340</td>\n      <td>0.069789</td>\n      <td>0.034696</td>\n    </tr>\n    <tr>\n      <th>Guatemala</th>\n      <td>0.000000</td>\n      <td>0.000000</td>\n      <td>0.000000</td>\n      <td>0.000000</td>\n      <td>0.000000</td>\n      <td>0.000000</td>\n      <td>0.000000</td>\n      <td>0.000000</td>\n      <td>0.000000</td>\n      <td>0.000000</td>\n      <td>0.000000</td>\n      <td>0.000000</td>\n    </tr>\n    <tr>\n      <th>...</th>\n      <td>...</td>\n      <td>...</td>\n      <td>...</td>\n      <td>...</td>\n      <td>...</td>\n      <td>...</td>\n      <td>...</td>\n      <td>...</td>\n      <td>...</td>\n      <td>...</td>\n      <td>...</td>\n      <td>...</td>\n    </tr>\n    <tr>\n      <th>Tanzania</th>\n      <td>0.000000</td>\n      <td>0.000000</td>\n      <td>0.000000</td>\n      <td>0.000000</td>\n      <td>0.000000</td>\n      <td>0.000000</td>\n      <td>0.000000</td>\n      <td>0.000000</td>\n      <td>0.000000</td>\n      <td>0.000000</td>\n      <td>0.000000</td>\n      <td>0.000000</td>\n    </tr>\n    <tr>\n      <th>Morocco</th>\n      <td>0.000000</td>\n      <td>0.000000</td>\n      <td>0.000000</td>\n      <td>0.000000</td>\n      <td>0.000000</td>\n      <td>0.000000</td>\n      <td>0.000000</td>\n      <td>0.000000</td>\n      <td>0.000000</td>\n      <td>0.000000</td>\n      <td>0.000000</td>\n      <td>0.000000</td>\n    </tr>\n    <tr>\n      <th>Mauritania</th>\n      <td>0.000000</td>\n      <td>0.000000</td>\n      <td>0.000000</td>\n      <td>0.000000</td>\n      <td>0.000000</td>\n      <td>0.000000</td>\n      <td>0.000000</td>\n      <td>0.000000</td>\n      <td>0.000000</td>\n      <td>0.000000</td>\n      <td>0.000000</td>\n      <td>0.000000</td>\n    </tr>\n    <tr>\n      <th>Sudan</th>\n      <td>3.688134</td>\n      <td>2.028846</td>\n      <td>18.129666</td>\n      <td>6.819406</td>\n      <td>25.122941</td>\n      <td>15.345552</td>\n      <td>19.019859</td>\n      <td>24.943496</td>\n      <td>19.869960</td>\n      <td>24.387940</td>\n      <td>19.137435</td>\n      <td>21.785516</td>\n    </tr>\n    <tr>\n      <th>South Sudan</th>\n      <td>9.169068</td>\n      <td>18.194705</td>\n      <td>8.870887</td>\n      <td>58.992088</td>\n      <td>115.493415</td>\n      <td>33.649354</td>\n      <td>9.953219</td>\n      <td>10.241477</td>\n      <td>7.324790</td>\n      <td>10.553037</td>\n      <td>13.835058</td>\n      <td>12.459404</td>\n    </tr>\n  </tbody>\n</table>\n<p>96 rows × 12 columns</p>\n</div>"
     },
     "execution_count": 47,
     "metadata": {},
     "output_type": "execute_result"
    }
   ],
   "source": [
    "result_data_2018_FH_test_score"
   ],
   "metadata": {
    "collapsed": false,
    "ExecuteTime": {
     "end_time": "2023-12-29T16:23:46.068932800Z",
     "start_time": "2023-12-29T16:23:45.968692900Z"
    }
   }
  },
  {
   "cell_type": "code",
   "execution_count": null,
   "outputs": [],
   "source": [],
   "metadata": {
    "collapsed": false
   }
  },
  {
   "cell_type": "markdown",
   "source": [
    "### CRPS scores of Stan model"
   ],
   "metadata": {
    "collapsed": false
   }
  },
  {
   "cell_type": "code",
   "execution_count": 5,
   "outputs": [],
   "source": [
    "import pandas as pd\n",
    "import CRPS.CRPS as crps"
   ],
   "metadata": {
    "collapsed": false,
    "ExecuteTime": {
     "end_time": "2023-10-24T10:38:49.535151900Z",
     "start_time": "2023-10-24T10:38:49.425716200Z"
    }
   }
  },
  {
   "cell_type": "code",
   "execution_count": 15,
   "outputs": [],
   "source": [
    "posterior_samples_zinb = pd.read_csv(r\"C:\\Users\\Uwe Drauz\\Documents\\bachelor_thesis_local\\personal_competition_data\\temp\\posterior_samples_zinb.csv\")\n",
    "posterior_samples_nb = pd.read_csv(r\"C:\\Users\\Uwe Drauz\\Documents\\bachelor_thesis_local\\personal_competition_data\\temp\\posterior_samples_nb.csv\")\n",
    "df_eval = pd.read_csv(r\"C:\\Users\\Uwe Drauz\\Documents\\bachelor_thesis_local\\personal_competition_data\\temp\\df_eval.csv\")"
   ],
   "metadata": {
    "collapsed": false,
    "ExecuteTime": {
     "end_time": "2023-10-24T11:03:03.722645Z",
     "start_time": "2023-10-24T11:03:03.287141800Z"
    }
   }
  },
  {
   "cell_type": "code",
   "execution_count": 16,
   "outputs": [],
   "source": [
    "posterior_samples_zinb = posterior_samples_zinb.drop(columns=['Unnamed: 0'])\n",
    "posterior_samples_nb = posterior_samples_nb.drop(columns=['Unnamed: 0'])"
   ],
   "metadata": {
    "collapsed": false,
    "ExecuteTime": {
     "end_time": "2023-10-24T11:03:05.506818900Z",
     "start_time": "2023-10-24T11:03:05.334982900Z"
    }
   }
  },
  {
   "cell_type": "code",
   "execution_count": 17,
   "outputs": [],
   "source": [
    "# Calculate CRPS score for each column in posterior_samples corresponding to the observation (column \"ged_sb\") in df_eval\n",
    "crps_scores_zinb = pd.DataFrame(columns=['crps_score', 'country_id'])\n",
    "for i in range(0, len(posterior_samples_zinb.columns)):\n",
    "    posterior_samples_zinb_country = posterior_samples_zinb.iloc[:, i]\n",
    "    observation = df_eval['ged_sb'][i]\n",
    "    country_id = df_eval['country_id'][i]\n",
    "    crps_score_zinb, _, _ = crps(posterior_samples_zinb_country, observation).compute()\n",
    "    crps_scores_zinb = crps_scores_zinb.append({'crps_score': crps_score_zinb, 'country_id': country_id}, ignore_index=True)    "
   ],
   "metadata": {
    "collapsed": false,
    "ExecuteTime": {
     "end_time": "2023-10-24T11:03:20.340656100Z",
     "start_time": "2023-10-24T11:03:17.556715500Z"
    }
   }
  },
  {
   "cell_type": "code",
   "execution_count": 18,
   "outputs": [],
   "source": [
    "# Calculate CRPS score for each column in posterior_samples corresponding to the observation (column \"ged_sb\") in df_eval\n",
    "crps_scores_nb = pd.DataFrame(columns=['crps_score', 'country_id'])\n",
    "for i in range(0, len(posterior_samples_nb.columns)):\n",
    "    posterior_samples_nb_country = posterior_samples_nb.iloc[:, i]\n",
    "    observation = df_eval['ged_sb'][i]\n",
    "    country_id = df_eval['country_id'][i]\n",
    "    crps_score_nb, _, _ = crps(posterior_samples_nb_country, observation).compute()\n",
    "    crps_scores_nb = crps_scores_nb.append({'crps_score': crps_score_nb, 'country_id': country_id}, ignore_index=True)    "
   ],
   "metadata": {
    "collapsed": false,
    "ExecuteTime": {
     "end_time": "2023-10-24T11:03:29.641916600Z",
     "start_time": "2023-10-24T11:03:25.922624400Z"
    }
   }
  },
  {
   "cell_type": "code",
   "execution_count": 19,
   "outputs": [
    {
     "data": {
      "text/plain": "64.07997440535021"
     },
     "execution_count": 19,
     "metadata": {},
     "output_type": "execute_result"
    }
   ],
   "source": [
    "# Calculate the mean CRPS score over all countries\n",
    "crps_scores_zinb['crps_score'].mean()\n"
   ],
   "metadata": {
    "collapsed": false,
    "ExecuteTime": {
     "end_time": "2023-10-24T11:03:31.488705200Z",
     "start_time": "2023-10-24T11:03:31.379349300Z"
    }
   }
  },
  {
   "cell_type": "code",
   "execution_count": 20,
   "outputs": [
    {
     "data": {
      "text/plain": "48.862956655092596"
     },
     "execution_count": 20,
     "metadata": {},
     "output_type": "execute_result"
    }
   ],
   "source": [
    "crps_scores_nb['crps_score'].mean()"
   ],
   "metadata": {
    "collapsed": false,
    "ExecuteTime": {
     "end_time": "2023-10-24T11:03:34.257103900Z",
     "start_time": "2023-10-24T11:03:34.178997700Z"
    }
   }
  },
  {
   "cell_type": "markdown",
   "source": [
    "### Inspect neigbors data"
   ],
   "metadata": {
    "collapsed": false
   }
  },
  {
   "cell_type": "code",
   "execution_count": 1,
   "outputs": [],
   "source": [
    "import pandas as pd"
   ],
   "metadata": {
    "collapsed": false,
    "ExecuteTime": {
     "end_time": "2023-10-27T15:11:40.335135800Z",
     "start_time": "2023-10-27T15:11:40.319553700Z"
    }
   }
  },
  {
   "cell_type": "code",
   "execution_count": 5,
   "outputs": [],
   "source": [
    "neigbors_data = pd.read_csv(r\"C:\\Users\\Uwe Drauz\\Documents\\bachelor_thesis_local\\shared_competition_data\\country_neighbors\\fallback3_prod_country_country_month.csv\")"
   ],
   "metadata": {
    "collapsed": false,
    "ExecuteTime": {
     "end_time": "2023-10-27T15:16:24.966484Z",
     "start_time": "2023-10-27T15:16:24.886869800Z"
    }
   }
  },
  {
   "cell_type": "code",
   "execution_count": 6,
   "outputs": [],
   "source": [
    "# Rename columns\n",
    "neigbors_data = neigbors_data.rename(columns={'59': 'country_id_a', 'Sudan': 'country_a', '70': 'country_id_b', 'Central African Republic': 'country_b', '[0,379)': 'month_id_period'})\n",
    "# Drop remaining columns\n",
    "neigbors_data = neigbors_data.drop(columns=['1', '625', '482'])"
   ],
   "metadata": {
    "collapsed": false,
    "ExecuteTime": {
     "end_time": "2023-10-27T15:16:25.739834600Z",
     "start_time": "2023-10-27T15:16:25.628924300Z"
    }
   }
  },
  {
   "cell_type": "code",
   "execution_count": 9,
   "outputs": [],
   "source": [
    "# Drop all entries where month_id_period does not end with \"612)\"\n",
    "neigbors_data_current = neigbors_data[neigbors_data['month_id_period'].str.endswith(\"612)\")]"
   ],
   "metadata": {
    "collapsed": false,
    "ExecuteTime": {
     "end_time": "2023-10-27T15:18:53.878568500Z",
     "start_time": "2023-10-27T15:18:53.752903800Z"
    }
   }
  },
  {
   "cell_type": "code",
   "execution_count": 10,
   "outputs": [
    {
     "data": {
      "text/plain": "156"
     },
     "execution_count": 10,
     "metadata": {},
     "output_type": "execute_result"
    }
   ],
   "source": [
    "# Count unique country_id_a\n",
    "neigbors_data_current['country_id_a'].nunique()"
   ],
   "metadata": {
    "collapsed": false,
    "ExecuteTime": {
     "end_time": "2023-10-27T15:19:01.694941100Z",
     "start_time": "2023-10-27T15:19:01.606171600Z"
    }
   }
  },
  {
   "cell_type": "code",
   "execution_count": 8,
   "outputs": [
    {
     "data": {
      "text/plain": "164"
     },
     "execution_count": 8,
     "metadata": {},
     "output_type": "execute_result"
    }
   ],
   "source": [
    "# count unique country_a\n",
    "neigbors_data['country_a'].nunique()"
   ],
   "metadata": {
    "collapsed": false,
    "ExecuteTime": {
     "end_time": "2023-10-27T15:17:30.840056800Z",
     "start_time": "2023-10-27T15:17:30.774077200Z"
    }
   }
  },
  {
   "cell_type": "markdown",
   "source": [
    "Analysing data of geodata"
   ],
   "metadata": {
    "collapsed": false
   }
  },
  {
   "cell_type": "code",
   "execution_count": 12,
   "outputs": [],
   "source": [
    "neigbors_data_geodata = pd.read_csv(r\"C:\\Users\\Uwe Drauz\\Documents\\bachelor_thesis_local\\shared_competition_data\\country_neighbors\\GEODATASOURCE-COUNTRY-BORDERS.csv\")"
   ],
   "metadata": {
    "collapsed": false,
    "ExecuteTime": {
     "end_time": "2023-10-27T15:20:53.271351500Z",
     "start_time": "2023-10-27T15:20:53.191565100Z"
    }
   }
  },
  {
   "cell_type": "code",
   "execution_count": 14,
   "outputs": [
    {
     "data": {
      "text/plain": "248"
     },
     "execution_count": 14,
     "metadata": {},
     "output_type": "execute_result"
    }
   ],
   "source": [
    "# Get number of unique country names\n",
    "neigbors_data_geodata['country_code'].nunique()"
   ],
   "metadata": {
    "collapsed": false,
    "ExecuteTime": {
     "end_time": "2023-10-27T15:22:22.077695800Z",
     "start_time": "2023-10-27T15:22:22.014106Z"
    }
   }
  },
  {
   "cell_type": "code",
   "execution_count": 16,
   "outputs": [
    {
     "data": {
      "text/plain": "162"
     },
     "execution_count": 16,
     "metadata": {},
     "output_type": "execute_result"
    }
   ],
   "source": [
    "# Get number of unique country names for all observations where country_code is not null\n",
    "neigbors_data_geodata[neigbors_data_geodata['country_border_code'].notnull()]['country_code'].nunique()"
   ],
   "metadata": {
    "collapsed": false,
    "ExecuteTime": {
     "end_time": "2023-10-27T15:27:15.932849100Z",
     "start_time": "2023-10-27T15:27:15.846765600Z"
    }
   }
  },
  {
   "cell_type": "markdown",
   "source": [
    "### Analyse share of structured zeros in fatalities"
   ],
   "metadata": {
    "collapsed": false
   }
  },
  {
   "cell_type": "code",
   "execution_count": 1,
   "outputs": [],
   "source": [
    "# Import packages\n",
    "import pandas as pd\n",
    "import numpy as np\n",
    "from data_gathering import gather_data_features, gather_data_actuals"
   ],
   "metadata": {
    "collapsed": false,
    "ExecuteTime": {
     "end_time": "2023-10-30T06:07:25.458918Z",
     "start_time": "2023-10-30T06:07:25.428290800Z"
    }
   }
  },
  {
   "cell_type": "code",
   "execution_count": 2,
   "outputs": [],
   "source": [
    "# Gather data\n",
    "data_cm_actual_2018, data_cm_actual_2019, data_cm_actual_2020, data_cm_actual_2021, data_cm_actual_allyears \\\n",
    "    = gather_data_actuals()\n",
    "data_cm_features_2018, data_cm_features_2019, data_cm_features_2020, data_cm_features_2021, data_cm_features_allyears \\\n",
    "    = gather_data_features()"
   ],
   "metadata": {
    "collapsed": false,
    "ExecuteTime": {
     "end_time": "2023-10-30T06:07:26.570315300Z",
     "start_time": "2023-10-30T06:07:25.458918Z"
    }
   }
  },
  {
   "cell_type": "code",
   "execution_count": 6,
   "outputs": [],
   "source": [
    "# Calculate share of structured zeros in fatalities and average fatalities per month per country (fatalities = ged_sb)\n",
    "data_cm_features_allyears['share_structured_zeros'] = data_cm_features_allyears[data_cm_features_allyears['ged_sb'] == 0].groupby('country_id')['ged_sb'].count() / data_cm_features_allyears.groupby('country_id')['ged_sb'].count()\n",
    "data_cm_features_allyears['avg_fatalities_per_month'] = data_cm_features_allyears.groupby('country_id')['ged_sb'].mean()\n",
    "desired_data = data_cm_features_allyears[['country_id', 'share_structured_zeros', 'avg_fatalities_per_month']].dropna().sort_values(by='share_structured_zeros', ascending=True).reset_index(drop=True)"
   ],
   "metadata": {
    "collapsed": false,
    "ExecuteTime": {
     "end_time": "2023-10-30T06:09:15.833158500Z",
     "start_time": "2023-10-30T06:09:15.692538500Z"
    }
   }
  },
  {
   "cell_type": "code",
   "execution_count": 15,
   "outputs": [],
   "source": [
    "# Calculate quantiles of share of structured zeros in fatalities and average fatalities per month per country (fatalities = ged_sb) excluding the countries with structured zeros share of 1\n",
    "structured_zeros_quantiles = desired_data['share_structured_zeros'].quantile([0.25, 0.5, 0.75])\n",
    "avg_fatalities_quantiles = desired_data['avg_fatalities_per_month'].quantile([0.25, 0.5, 0.75])"
   ],
   "metadata": {
    "collapsed": false,
    "ExecuteTime": {
     "end_time": "2023-10-30T06:23:59.684512400Z",
     "start_time": "2023-10-30T06:23:59.606354300Z"
    }
   }
  },
  {
   "cell_type": "code",
   "execution_count": 16,
   "outputs": [
    {
     "name": "stdout",
     "output_type": "stream",
     "text": [
      "0.25    0.830502\n",
      "0.50    1.000000\n",
      "0.75    1.000000\n",
      "Name: share_structured_zeros, dtype: float64\n",
      "0.25    0.000000\n",
      "0.50    0.000000\n",
      "0.75    5.289189\n",
      "Name: avg_fatalities_per_month, dtype: float64\n"
     ]
    }
   ],
   "source": [
    "print(structured_zeros_quantiles)\n",
    "print(avg_fatalities_quantiles)"
   ],
   "metadata": {
    "collapsed": false,
    "ExecuteTime": {
     "end_time": "2023-10-30T06:24:00.218498100Z",
     "start_time": "2023-10-30T06:23:59.968526900Z"
    }
   }
  },
  {
   "cell_type": "code",
   "execution_count": null,
   "outputs": [],
   "source": [
    "# Select only the data fpr which the average fatalities per month is greater than the 0.75 quantile of average fatalities per month\n",
    "data_cm_features_allyears_selected = data_cm_features_allyears[data_cm_features_allyears['avg_fatalities_per_month'] > avg_fatalities_quantiles[0.75]]"
   ],
   "metadata": {
    "collapsed": false
   }
  },
  {
   "cell_type": "code",
   "execution_count": 2,
   "outputs": [],
   "source": [
    "from mappings import map_month_id_to_datetime"
   ],
   "metadata": {
    "collapsed": false,
    "ExecuteTime": {
     "end_time": "2023-11-11T21:05:30.814719100Z",
     "start_time": "2023-11-11T21:05:30.601720500Z"
    }
   }
  },
  {
   "cell_type": "code",
   "execution_count": 3,
   "outputs": [
    {
     "data": {
      "text/plain": "datetime.datetime(2018, 12, 1, 0, 0)"
     },
     "execution_count": 3,
     "metadata": {},
     "output_type": "execute_result"
    }
   ],
   "source": [
    "map_month_id_to_datetime(468)"
   ],
   "metadata": {
    "collapsed": false,
    "ExecuteTime": {
     "end_time": "2023-11-11T21:05:33.278038500Z",
     "start_time": "2023-11-11T21:05:33.184311100Z"
    }
   }
  }
 ],
 "metadata": {
  "kernelspec": {
   "display_name": "Python 3",
   "language": "python",
   "name": "python3"
  },
  "language_info": {
   "codemirror_mode": {
    "name": "ipython",
    "version": 2
   },
   "file_extension": ".py",
   "mimetype": "text/x-python",
   "name": "python",
   "nbconvert_exporter": "python",
   "pygments_lexer": "ipython2",
   "version": "2.7.6"
  }
 },
 "nbformat": 4,
 "nbformat_minor": 0
}
