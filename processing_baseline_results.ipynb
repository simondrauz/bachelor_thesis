{
 "cells": [
  {
   "cell_type": "code",
   "execution_count": null,
   "id": "initial_id",
   "metadata": {
    "collapsed": true,
    "ExecuteTime": {
     "end_time": "2024-02-27T11:40:19.455077900Z",
     "start_time": "2024-02-27T11:40:19.421486700Z"
    }
   },
   "outputs": [],
   "source": []
  },
  {
   "cell_type": "code",
   "execution_count": 1,
   "outputs": [],
   "source": [
    "import numpy as np\n",
    "import pandas as pd\n",
    "import os\n",
    "from mappings import map_country_id_to_country_name, map_month_id_to_datetime\n",
    "from data_gathering import gather_data_features, gather_data_actuals\n",
    "import seaborn as sns\n",
    "import matplotlib.pyplot as plt\n",
    "import pickle"
   ],
   "metadata": {
    "collapsed": false,
    "ExecuteTime": {
     "end_time": "2024-02-27T11:40:19.455077900Z",
     "start_time": "2024-02-27T11:40:19.439212800Z"
    }
   },
   "id": "ec18787ffbf18f9c"
  },
  {
   "cell_type": "code",
   "execution_count": 2,
   "outputs": [],
   "source": [
    "data_cm_actual_2018, data_cm_actual_2019, data_cm_actual_2020, data_cm_actual_2021, data_cm_actual_allyears \\\n",
    "    = gather_data_actuals()"
   ],
   "metadata": {
    "collapsed": false,
    "ExecuteTime": {
     "end_time": "2024-02-27T11:40:19.707267100Z",
     "start_time": "2024-02-27T11:40:19.455077900Z"
    }
   },
   "id": "cb318d7d0a6dc198"
  },
  {
   "cell_type": "code",
   "execution_count": 3,
   "outputs": [],
   "source": [
    "# Load country list with countries above average quantile, in which at least one conflict fatality occured and which are in the actuals data\n",
    "with open(fr'C:\\Users\\Uwe Drauz\\Documents\\bachelor_thesis_local\\personal_competition_data\\data\\feature_and_actuals_countries_non_zero_above_avg_quantile.pkl', 'rb') as f:\n",
    "    feature_and_actuals_countries_non_zero_above_avg_quantile = pickle.load(f)\n",
    "filter =False\n",
    "if filter:\n",
    "    y_lim = 650\n",
    "else:\n",
    "    y_lim = 1200"
   ],
   "metadata": {
    "collapsed": false,
    "ExecuteTime": {
     "end_time": "2024-02-27T11:40:19.789221400Z",
     "start_time": "2024-02-27T11:40:19.723227700Z"
    }
   },
   "id": "68bab9ba3e38b4ff"
  },
  {
   "cell_type": "code",
   "execution_count": 4,
   "outputs": [],
   "source": [
    "# Optional setting for consistent font sized throughout the plots (not yet used)\n",
    "legend_text_size = 13\n",
    "title_text_size = 14\n",
    "yax_text_size = 13\n",
    "xax_text_size = 13\n",
    "xticklabel_size = 12\n",
    "yticklabel_size = 12"
   ],
   "metadata": {
    "collapsed": false,
    "ExecuteTime": {
     "end_time": "2024-02-27T11:40:19.789221400Z",
     "start_time": "2024-02-27T11:40:19.739150100Z"
    }
   },
   "id": "7b8ec683da524ad9"
  },
  {
   "cell_type": "code",
   "execution_count": 5,
   "outputs": [],
   "source": [
    "result_data_2018_FH = pd.read_parquet(\"mlruns/3/5b3acdf73aeb4eecb8bb007157f3535d/artifacts/BaselineModel_results_all_countries2018.parquet\")\n",
    "result_data_2019_FH = pd.read_parquet(\"mlruns/3/df6e7240234c40cebc96397963780cf9/artifacts/BaselineModel_results_all_countries2019.parquet\")\n",
    "result_data_2020_FH = pd.read_parquet(\"mlruns/3/301944cf5760482da0291a8e9daca4e1/artifacts/BaselineModel_results_all_countries2020.parquet\")\n",
    "result_data_2021_FH = pd.read_parquet(\"mlruns/3/3cc10d101573487aa558f41b21de99c5/artifacts/BaselineModel_results_all_countries2021.parquet\")"
   ],
   "metadata": {
    "collapsed": false,
    "ExecuteTime": {
     "end_time": "2024-02-27T11:40:19.904227Z",
     "start_time": "2024-02-27T11:40:19.789221400Z"
    }
   },
   "id": "6acb44b1e812c8d2"
  },
  {
   "cell_type": "code",
   "execution_count": 6,
   "outputs": [],
   "source": [
    "result_data_2018_FH_and_M = pd.read_parquet(\"mlruns/3/9d8897f7efd242bdb33fdfe0c8c1eb6a/artifacts/BaselineModel_results_all_countries2018.parquet\")\n",
    "result_data_2019_FH_and_M = pd.read_parquet(\"mlruns/3/80caad1b10bf4513b5b5fbb9e8827d49/artifacts/BaselineModel_results_all_countries2019.parquet\")\n",
    "result_data_2020_FH_and_M = pd.read_parquet(\"mlruns/3/47685285ae8b45d38e966b28d5c27579/artifacts/BaselineModel_results_all_countries2020.parquet\")\n",
    "result_data_2021_FH_and_M = pd.read_parquet(\"mlruns/3/021e0fc647be407d8924e4d134093adc/artifacts/BaselineModel_results_all_countries2021.parquet\")"
   ],
   "metadata": {
    "collapsed": false,
    "ExecuteTime": {
     "end_time": "2024-02-27T11:40:19.972500700Z",
     "start_time": "2024-02-27T11:40:19.889113300Z"
    }
   },
   "id": "6a473e3cd902002a"
  },
  {
   "cell_type": "code",
   "execution_count": 7,
   "outputs": [],
   "source": [
    "# Filter the results for countries with more than 5 fatalities on average\n",
    "if filter:\n",
    "    result_data_2018_FH = result_data_2018_FH[result_data_2018_FH['country_id'].isin(feature_and_actuals_countries_non_zero_above_avg_quantile)]\n",
    "    result_data_2019_FH = result_data_2019_FH[result_data_2019_FH['country_id'].isin(feature_and_actuals_countries_non_zero_above_avg_quantile)]\n",
    "    result_data_2020_FH = result_data_2020_FH[result_data_2020_FH['country_id'].isin(feature_and_actuals_countries_non_zero_above_avg_quantile)]\n",
    "    result_data_2021_FH = result_data_2021_FH[result_data_2021_FH['country_id'].isin(feature_and_actuals_countries_non_zero_above_avg_quantile)]\n"
   ],
   "metadata": {
    "collapsed": false,
    "ExecuteTime": {
     "end_time": "2024-02-27T11:40:19.972500700Z",
     "start_time": "2024-02-27T11:40:19.955112600Z"
    }
   },
   "id": "f18e3d3af2b6db08"
  },
  {
   "cell_type": "code",
   "execution_count": 8,
   "outputs": [],
   "source": [
    "# Filter the results for countries with more than 5 fatalities on average\n",
    "if filter:\n",
    "    result_data_2018_FH_and_M = result_data_2018_FH_and_M[result_data_2018_FH_and_M['country_id'].isin(feature_and_actuals_countries_non_zero_above_avg_quantile)]\n",
    "    result_data_2019_FH_and_M = result_data_2019_FH_and_M[result_data_2019_FH_and_M['country_id'].isin(feature_and_actuals_countries_non_zero_above_avg_quantile)]\n",
    "    result_data_2020_FH_and_M = result_data_2020_FH_and_M[result_data_2020_FH_and_M['country_id'].isin(feature_and_actuals_countries_non_zero_above_avg_quantile)]\n",
    "    result_data_2021_FH_and_M = result_data_2021_FH_and_M[result_data_2021_FH_and_M['country_id'].isin(feature_and_actuals_countries_non_zero_above_avg_quantile)]"
   ],
   "metadata": {
    "collapsed": false,
    "ExecuteTime": {
     "end_time": "2024-02-27T11:40:20.022215700Z",
     "start_time": "2024-02-27T11:40:19.972500700Z"
    }
   },
   "id": "f4bac1e383144254"
  },
  {
   "cell_type": "code",
   "execution_count": 9,
   "outputs": [],
   "source": [
    "def get_test_scores(df):\n",
    "    # Create an empty DataFrame to hold the rearranged data\n",
    "    rearranged_df = pd.DataFrame()\n",
    "\n",
    "    # Loop over each row in the input DataFrame\n",
    "    for index, row in df.iterrows():\n",
    "        # Get the test_score from the DataFrame\n",
    "        test_score = row['test_score']\n",
    "        # Update the rearranged DataFrame with the rolling_window_length\n",
    "        country_id = row['country_id']\n",
    "        month_id = row['month_id']\n",
    "        if country_id not in rearranged_df.index:\n",
    "            rearranged_df.loc[country_id, month_id] = test_score\n",
    "        else:\n",
    "            rearranged_df.at[country_id, month_id] = test_score\n",
    "    # Convert the DataFrame to integer type\n",
    "    rearranged_df = rearranged_df.astype(float)\n",
    "\n",
    "    return rearranged_df"
   ],
   "metadata": {
    "collapsed": false,
    "ExecuteTime": {
     "end_time": "2024-02-27T11:40:20.055588300Z",
     "start_time": "2024-02-27T11:40:20.006188300Z"
    }
   },
   "id": "cafbb8c0e4ffc630"
  },
  {
   "cell_type": "code",
   "execution_count": 10,
   "outputs": [],
   "source": [
    "def get_rolling_window_lengths(df):\n",
    "    # Create an empty DataFrame to hold the rearranged data\n",
    "    rearranged_df = pd.DataFrame()\n",
    "\n",
    "    # Loop over each row in the input DataFrame\n",
    "    for index, row in df.iterrows():\n",
    "        # Build the path to the rolling_window_length file for the current run_id\n",
    "        rolling_window_length_path = f'mlruns\\\\2\\\\{row[\"run_id\"]}\\\\params\\\\rolling_window_length'\n",
    "\n",
    "        # Read the value of rolling_window_length from the file\n",
    "        try:\n",
    "            with open(rolling_window_length_path, 'r') as f:\n",
    "                rolling_window_length = f.read().strip()\n",
    "        except FileNotFoundError:\n",
    "            print(f\"File not found for RunID: {row['run_id']}\")\n",
    "            rolling_window_length = None\n",
    "\n",
    "        # Update the rearranged DataFrame with the rolling_window_length\n",
    "        country_id = row['country_id']\n",
    "        month_id = row['month_id']\n",
    "        if country_id not in rearranged_df.index:\n",
    "            rearranged_df.loc[country_id, month_id] = rolling_window_length\n",
    "        else:\n",
    "            rearranged_df.at[country_id, month_id] = rolling_window_length\n",
    "    # Convert the DataFrame to integer type\n",
    "    rearranged_df = rearranged_df.astype(int)\n",
    "\n",
    "    return rearranged_df\n",
    "\n",
    "def rename_indices(df):\n",
    "    df.index = df.index.map(map_country_id_to_country_name)\n",
    "    df.columns = df.columns.map(lambda x: map_month_id_to_datetime(x).strftime('%B %Y'))\n",
    "    return df"
   ],
   "metadata": {
    "collapsed": false,
    "ExecuteTime": {
     "end_time": "2024-02-27T11:40:20.089392200Z",
     "start_time": "2024-02-27T11:40:20.055588300Z"
    }
   },
   "id": "56455292d95a9026"
  },
  {
   "cell_type": "code",
   "execution_count": 11,
   "outputs": [],
   "source": [
    "def compute_medians(df):\n",
    "    median_by_month = df.median(axis=0)\n",
    "    median_by_country = df.median(axis=1)\n",
    "    return median_by_month.astype(int), median_by_country.astype(int)\n"
   ],
   "metadata": {
    "collapsed": false,
    "ExecuteTime": {
     "end_time": "2024-02-27T11:40:20.127384900Z",
     "start_time": "2024-02-27T11:40:20.089392200Z"
    }
   },
   "id": "ed7ed2a6d9ec3d85"
  },
  {
   "cell_type": "code",
   "execution_count": 12,
   "outputs": [],
   "source": [
    "def compute_means(df):\n",
    "    mean_by_month = df.mean(axis=0)\n",
    "    mean_by_country = df.mean(axis=1)\n",
    "    return mean_by_month, mean_by_country"
   ],
   "metadata": {
    "collapsed": false,
    "ExecuteTime": {
     "end_time": "2024-02-27T11:40:20.155927100Z",
     "start_time": "2024-02-27T11:40:20.122007200Z"
    }
   },
   "id": "b883a7dd572c191b"
  },
  {
   "cell_type": "code",
   "execution_count": 13,
   "outputs": [],
   "source": [
    "def concatenate_dataframes(dfs):\n",
    "    return pd.concat(dfs, axis=1).sort_index(axis=1)\n"
   ],
   "metadata": {
    "collapsed": false,
    "ExecuteTime": {
     "end_time": "2024-02-27T11:40:20.220978500Z",
     "start_time": "2024-02-27T11:40:20.155927100Z"
    }
   },
   "id": "af74a14f358cb20f"
  },
  {
   "cell_type": "code",
   "execution_count": 14,
   "outputs": [],
   "source": [
    "def create_heatmap_org(df, figsize, cmap, year, cv_approach, countries: str, export=False):\n",
    "    # Check data type and range\n",
    "\n",
    "    plt.figure(figsize=figsize)\n",
    "    ax = sns.heatmap(df, cmap=cmap, vmin=1, vmax=36, annot=False, cbar=True)  # Added explicit color bar\n",
    "\n",
    "    # Increase font size and add padding for better visibility\n",
    "    plt.title(f'Training Months for {year} and CV-Approach {cv_approach}', fontsize=34, pad=40)\n",
    "    plt.xlabel('Forecasted Months', fontsize=32, labelpad=10)\n",
    "    plt.ylabel('Countries', fontsize=32, labelpad=10)\n",
    "    plt.xticks(fontsize=18)\n",
    "    plt.yticks(fontsize=18)\n",
    "\n",
    "    # Adjust color bar label size\n",
    "    cbar = ax.collections[0].colorbar\n",
    "    cbar.ax.tick_params(labelsize=24)\n",
    "    \n",
    "    # Replace spaces with underscores in cv_approach for file naming\n",
    "    if cv_approach == \"FH and M\":\n",
    "        cv_approach = \"FH_and_M\"\n",
    "\n",
    "    # Export the plot if required\n",
    "    if export:\n",
    "        export_path = rf\"C:\\Users\\Uwe Drauz\\Documents\\bachelor_thesis_local\\personal_competition_data\\Plots\\rolling_window_heatmap\\rolling_window_length_{cv_approach}_{year}_{countries}.png\"\n",
    "        plt.savefig(export_path, dpi=300, bbox_inches='tight')\n",
    "    \n",
    "    plt.show()"
   ],
   "metadata": {
    "collapsed": false,
    "ExecuteTime": {
     "end_time": "2024-02-27T11:40:20.299613700Z",
     "start_time": "2024-02-27T11:40:20.189697900Z"
    }
   },
   "id": "796d3e966ede191f"
  },
  {
   "cell_type": "code",
   "execution_count": 15,
   "outputs": [],
   "source": [
    "def create_heatmap_org_test_score(df, figsize, cmap, year, cv_approach, countries: str, export=False):\n",
    "    # Check data type and range\n",
    "\n",
    "    plt.figure(figsize=figsize)\n",
    "    ax = sns.heatmap(df, cmap=cmap, annot=False, cbar=True)  # Added explicit color bar\n",
    "\n",
    "    # Increase font size and add padding for better visibility\n",
    "    plt.title(f'Test Score for {year} and CV-Approach {cv_approach}', fontsize=34, pad=40)\n",
    "    plt.xlabel('Forecasted Months', fontsize=32, labelpad=10)\n",
    "    plt.ylabel('Countries', fontsize=32, labelpad=10)\n",
    "    plt.xticks(fontsize=18)\n",
    "    plt.yticks(fontsize=18)\n",
    "\n",
    "    # Adjust color bar label size\n",
    "    cbar = ax.collections[0].colorbar\n",
    "    cbar.ax.tick_params(labelsize=24)\n",
    "    \n",
    "    # Replace spaces with underscores in cv_approach for file naming\n",
    "    if cv_approach == \"FH and M\":\n",
    "        cv_approach = \"FH_and_M\"\n",
    "\n",
    "    # Export the plot if required\n",
    "    if export:\n",
    "        export_path = rf\"C:\\Users\\Uwe Drauz\\Documents\\bachelor_thesis_local\\personal_competition_data\\Plots\\baseline_test_score_heatmap\\test_score_{cv_approach}_{year}_{countries}.png\"\n",
    "        plt.savefig(export_path, dpi=300, bbox_inches='tight')\n",
    "    \n",
    "    plt.show()"
   ],
   "metadata": {
    "collapsed": false,
    "ExecuteTime": {
     "end_time": "2024-02-27T11:40:20.404897200Z",
     "start_time": "2024-02-27T11:40:20.287728900Z"
    }
   },
   "id": "498ca6ef57f4a302"
  },
  {
   "cell_type": "code",
   "execution_count": 16,
   "outputs": [],
   "source": [
    "def create_heatmap_org_test_score_vmax(df, figsize, cmap, year, cv_approach, countries: str,vmax, export=False):\n",
    "    # Check data type and range\n",
    "\n",
    "    plt.figure(figsize=figsize)\n",
    "    ax = sns.heatmap(df, cmap=cmap, vmax=vmax, annot=False, cbar=True)  # Added explicit color bar\n",
    "\n",
    "    # Increase font size and add padding for better visibility\n",
    "    plt.title(f'Test Score for {year} and CV-Approach {cv_approach}', fontsize=34, pad=40)\n",
    "    plt.xlabel('Forecasted Months', fontsize=32, labelpad=10)\n",
    "    plt.ylabel('Countries', fontsize=32, labelpad=10)\n",
    "    plt.xticks(fontsize=18)\n",
    "    plt.yticks(fontsize=18)\n",
    "\n",
    "    # Adjust color bar label size\n",
    "    cbar = ax.collections[0].colorbar\n",
    "    cbar.ax.tick_params(labelsize=24)\n",
    "    \n",
    "    # Replace spaces with underscores in cv_approach for file naming\n",
    "    if cv_approach == \"FH and M\":\n",
    "        cv_approach = \"FH_and_M\"\n",
    "\n",
    "    # Export the plot if required\n",
    "    if export:\n",
    "        export_path = rf\"C:\\Users\\Uwe Drauz\\Documents\\bachelor_thesis_local\\personal_competition_data\\Plots\\baseline_test_score_heatmap\\test_score_{cv_approach}_{year}_{countries}_vmax{vmax}.png\"\n",
    "        plt.savefig(export_path, dpi=300, bbox_inches='tight')\n",
    "    \n",
    "    plt.show()"
   ],
   "metadata": {
    "collapsed": false,
    "ExecuteTime": {
     "end_time": "2024-02-27T11:40:20.438174900Z",
     "start_time": "2024-02-27T11:40:20.404897200Z"
    }
   },
   "id": "2ed60ed8d0e689c9"
  },
  {
   "cell_type": "code",
   "execution_count": 17,
   "outputs": [],
   "source": [
    "result_data_2018_FH_and_M_rwl = get_rolling_window_lengths(result_data_2018_FH_and_M)\n",
    "result_data_2019_FH_and_M_rwl = get_rolling_window_lengths(result_data_2019_FH_and_M)\n",
    "result_data_2020_FH_and_M_rwl = get_rolling_window_lengths(result_data_2020_FH_and_M)\n",
    "result_data_2021_FH_and_M_rwl = get_rolling_window_lengths(result_data_2021_FH_and_M)"
   ],
   "metadata": {
    "collapsed": false,
    "ExecuteTime": {
     "end_time": "2024-02-27T11:40:28.230217100Z",
     "start_time": "2024-02-27T11:40:20.438174900Z"
    }
   },
   "id": "ba68cacb7b1be894"
  },
  {
   "cell_type": "code",
   "execution_count": 18,
   "outputs": [],
   "source": [
    "result_data_2018_FH_and_M_rwl = rename_indices(result_data_2018_FH_and_M_rwl)\n",
    "result_data_2019_FH_and_M_rwl = rename_indices(result_data_2019_FH_and_M_rwl)\n",
    "result_data_2020_FH_and_M_rwl = rename_indices(result_data_2020_FH_and_M_rwl)\n",
    "result_data_2021_FH_and_M_rwl = rename_indices(result_data_2021_FH_and_M_rwl)"
   ],
   "metadata": {
    "collapsed": false,
    "ExecuteTime": {
     "end_time": "2024-02-27T11:40:29.301584900Z",
     "start_time": "2024-02-27T11:40:28.230217100Z"
    }
   },
   "id": "80640b677f31635d"
  },
  {
   "cell_type": "code",
   "execution_count": 19,
   "outputs": [],
   "source": [
    "result_data_2018_FH_rwl = get_rolling_window_lengths(result_data_2018_FH)\n",
    "result_data_2019_FH_rwl = get_rolling_window_lengths(result_data_2019_FH)\n",
    "result_data_2020_FH_rwl = get_rolling_window_lengths(result_data_2020_FH)\n",
    "result_data_2021_FH_rwl = get_rolling_window_lengths(result_data_2021_FH)\n"
   ],
   "metadata": {
    "collapsed": false,
    "ExecuteTime": {
     "end_time": "2024-02-27T11:40:34.789770400Z",
     "start_time": "2024-02-27T11:40:29.315991800Z"
    }
   },
   "id": "79d83cdebd220d5"
  },
  {
   "cell_type": "code",
   "execution_count": 20,
   "outputs": [],
   "source": [
    "result_data_2018_FH_rwl = rename_indices(result_data_2018_FH_rwl)\n",
    "result_data_2019_FH_rwl = rename_indices(result_data_2019_FH_rwl)\n",
    "result_data_2020_FH_rwl = rename_indices(result_data_2020_FH_rwl)\n",
    "result_data_2021_FH_rwl = rename_indices(result_data_2021_FH_rwl)"
   ],
   "metadata": {
    "collapsed": false,
    "ExecuteTime": {
     "end_time": "2024-02-27T11:40:35.788265800Z",
     "start_time": "2024-02-27T11:40:34.807569800Z"
    }
   },
   "id": "6137a27aed6f3631"
  },
  {
   "cell_type": "code",
   "execution_count": 21,
   "outputs": [],
   "source": [
    "result_data_2018_FH_test_score = get_test_scores(result_data_2018_FH)\n",
    "result_data_2019_FH_test_score = get_test_scores(result_data_2019_FH)\n",
    "result_data_2020_FH_test_score = get_test_scores(result_data_2020_FH)\n",
    "result_data_2021_FH_test_score = get_test_scores(result_data_2021_FH)"
   ],
   "metadata": {
    "collapsed": false,
    "ExecuteTime": {
     "end_time": "2024-02-27T11:40:36.839142600Z",
     "start_time": "2024-02-27T11:40:35.788265800Z"
    }
   },
   "id": "2b2ef59e5b774d74"
  },
  {
   "cell_type": "code",
   "execution_count": 22,
   "outputs": [],
   "source": [
    "result_data_2018_FH_test_score\n",
    "from mappings import map_country_id_to_country_name, map_month_id_to_datetime"
   ],
   "metadata": {
    "collapsed": false,
    "ExecuteTime": {
     "end_time": "2024-02-27T11:40:36.855638300Z",
     "start_time": "2024-02-27T11:40:36.845747100Z"
    }
   },
   "id": "498191ffc9bd6631"
  },
  {
   "cell_type": "code",
   "execution_count": 23,
   "outputs": [],
   "source": [
    "result_data_2018_FH_test_score = rename_indices(result_data_2018_FH_test_score)\n",
    "result_data_2019_FH_test_score = rename_indices(result_data_2019_FH_test_score)\n",
    "result_data_2020_FH_test_score = rename_indices(result_data_2020_FH_test_score)\n",
    "result_data_2021_FH_test_score = rename_indices(result_data_2021_FH_test_score)\n"
   ],
   "metadata": {
    "collapsed": false,
    "ExecuteTime": {
     "end_time": "2024-02-27T11:40:37.809349400Z",
     "start_time": "2024-02-27T11:40:36.855638300Z"
    }
   },
   "id": "b2a6c3b4d9c61dcb"
  },
  {
   "cell_type": "code",
   "execution_count": 24,
   "outputs": [],
   "source": [
    "result_data_2018_FH_and_M_test_score = get_test_scores(result_data_2018_FH_and_M)\n",
    "result_data_2019_FH_and_M_test_score = get_test_scores(result_data_2019_FH_and_M)\n",
    "result_data_2020_FH_and_M_test_score = get_test_scores(result_data_2020_FH_and_M)\n",
    "result_data_2021_FH_and_M_test_score = get_test_scores(result_data_2021_FH_and_M)\n"
   ],
   "metadata": {
    "collapsed": false,
    "ExecuteTime": {
     "end_time": "2024-02-27T11:40:38.791754100Z",
     "start_time": "2024-02-27T11:40:37.825139100Z"
    }
   },
   "id": "db2ee46803cb2dca"
  },
  {
   "cell_type": "code",
   "execution_count": 25,
   "outputs": [],
   "source": [
    "result_data_2018_FH_and_M_test_score = rename_indices(result_data_2018_FH_and_M_test_score)\n",
    "result_data_2019_FH_and_M_test_score = rename_indices(result_data_2019_FH_and_M_test_score)\n",
    "result_data_2020_FH_and_M_test_score = rename_indices(result_data_2020_FH_and_M_test_score)\n",
    "result_data_2021_FH_and_M_test_score = rename_indices(result_data_2021_FH_and_M_test_score)"
   ],
   "metadata": {
    "collapsed": false,
    "ExecuteTime": {
     "end_time": "2024-02-27T11:40:39.692334100Z",
     "start_time": "2024-02-27T11:40:38.791754100Z"
    }
   },
   "id": "4cda0c93b693c081"
  },
  {
   "cell_type": "code",
   "execution_count": 26,
   "outputs": [],
   "source": [
    "all_years_FH_rwl = concatenate_dataframes([result_data_2018_FH_rwl, result_data_2019_FH_rwl, result_data_2020_FH_rwl, result_data_2021_FH_rwl])\n",
    "all_years_FH_and_M_rwl = concatenate_dataframes([result_data_2018_FH_and_M_rwl, result_data_2019_FH_and_M_rwl, result_data_2020_FH_and_M_rwl, result_data_2021_FH_and_M_rwl])"
   ],
   "metadata": {
    "collapsed": false,
    "ExecuteTime": {
     "end_time": "2024-02-27T11:40:39.707899500Z",
     "start_time": "2024-02-27T11:40:39.692334100Z"
    }
   },
   "id": "bf562e3a4a90e96b"
  },
  {
   "cell_type": "code",
   "execution_count": 26,
   "outputs": [],
   "source": [],
   "metadata": {
    "collapsed": false,
    "ExecuteTime": {
     "end_time": "2024-02-27T11:40:39.742072100Z",
     "start_time": "2024-02-27T11:40:39.707899500Z"
    }
   },
   "id": "4cd7f9a2da6ae017"
  },
  {
   "cell_type": "code",
   "execution_count": 67,
   "outputs": [],
   "source": [
    "def plot_rwl_histogram(rwlengths, ylim, approach, export=False):\n",
    "    rwlengths = rwlengths.values.flatten()\n",
    "    # Create a histogram with ylim(0, 1100)\n",
    "    sns.set_style('white')\n",
    "    # Stil aktuell an R angespasst (helleres Blau, schwarze Kanten)\n",
    "    sns.histplot(rwlengths, bins=36, color=sns.color_palette('Blues_r', 10)[5], edgecolor='black', kde=False, linewidth=0.66)\n",
    "\n",
    "    # Set font sizes of ticks and labels\n",
    "    plt.xticks(fontsize=xticklabel_size+2)\n",
    "    plt.yticks(fontsize=yticklabel_size+2)\n",
    "    plt.xlabel('Fixed Window Length', fontsize=xax_text_size+2)\n",
    "    plt.ylabel('Count', fontsize=yax_text_size+2)\n",
    "    plt.ylim(0, ylim)\n",
    "    plt.xlim(1, 36)\n",
    "    # plt.subplots_adjust(left=0.15, bottom=0.15)\n",
    "    if export:\n",
    "        export_path = rf\"C:\\Users\\Uwe Drauz\\Documents\\bachelor_thesis_local\\personal_competition_data\\Plots\\plots_for_results_section\\rolling_window_length_histogram\\rolling_window_length_histogram{approach}_ylim_{ylim}.png\"\n",
    "        plt.savefig(export_path, dpi=300)"
   ],
   "metadata": {
    "collapsed": false,
    "ExecuteTime": {
     "end_time": "2024-02-27T15:56:27.755798800Z",
     "start_time": "2024-02-27T15:56:27.694962100Z"
    }
   },
   "id": "e5ea2e8918b999ec"
  },
  {
   "cell_type": "code",
   "execution_count": 71,
   "outputs": [],
   "source": [
    "export_rwl_FH = all_years_FH_rwl.values.flatten()\n",
    "export_rwl_FH_df = pd.DataFrame(export_rwl_FH)\n",
    "export_rwl_FH_and_M = all_years_FH_and_M_rwl.values.flatten()\n",
    "export_rwl_FH_and_M_df = pd.DataFrame(export_rwl_FH_and_M)\n",
    "export_path = 'C:/Users/Uwe Drauz/Documents/bachelor_thesis_local/personal_competition_data/Plots/plot_data'\n",
    "# Export as csv\n",
    "export_rwl_FH_df.to_csv(export_path + '/rolling_window_length_FH.csv', index=False)\n",
    "export_rwl_FH_and_M_df.to_csv(export_path + '/rolling_window_length_FH_and_M.csv', index=False)"
   ],
   "metadata": {
    "collapsed": false,
    "ExecuteTime": {
     "end_time": "2024-03-01T14:03:15.450022400Z",
     "start_time": "2024-03-01T14:03:15.384640300Z"
    }
   },
   "id": "13d65cbdb073486"
  },
  {
   "cell_type": "code",
   "execution_count": 68,
   "outputs": [
    {
     "data": {
      "text/plain": "<Figure size 640x480 with 1 Axes>",
      "image/png": "[encoded data removed]"
     },
     "metadata": {},
     "output_type": "display_data"
    }
   ],
   "source": [
    "plot_rwl_histogram(all_years_FH_rwl, y_lim, 'FH', True)"
   ],
   "metadata": {
    "collapsed": false,
    "ExecuteTime": {
     "end_time": "2024-02-27T15:56:28.778891400Z",
     "start_time": "2024-02-27T15:56:28.094878500Z"
    }
   },
   "id": "36d519a015b7b7fb"
  },
  {
   "cell_type": "code",
   "execution_count": 69,
   "outputs": [
    {
     "data": {
      "text/plain": "<Figure size 640x480 with 1 Axes>",
      "image/png": "[encoded data removed]"
     },
     "metadata": {},
     "output_type": "display_data"
    }
   ],
   "source": [
    "plot_rwl_histogram(all_years_FH_and_M_rwl, y_lim, 'FHM', True)"
   ],
   "metadata": {
    "collapsed": false,
    "ExecuteTime": {
     "end_time": "2024-02-27T15:56:30.280303400Z",
     "start_time": "2024-02-27T15:56:28.778891400Z"
    }
   },
   "id": "72bae7b3d3b5a7f2"
  },
  {
   "cell_type": "code",
   "execution_count": null,
   "outputs": [],
   "source": [
    "# COncatenate the DataFrames of the test scores\n",
    "all_years_FH_test_score = concatenate_dataframes([result_data_2018_FH_test_score, result_data_2019_FH_test_score, result_data_2020_FH_test_score, result_data_2021_FH_test_score])\n",
    "all_years_FH_and_M_test_score = concatenate_dataframes([result_data_2018_FH_and_M_test_score, result_data_2019_FH_and_M_test_score, result_data_2020_FH_and_M_test_score, result_data_2021_FH_and_M_test_score])\n",
    "# Create histograms for the test scores on a logarithmic scale\n",
    "all_years_FH_test_score_np = all_years_FH_test_score.values\n",
    "plt.hist(all_years_FH_test_score_np.flatten(), bins=36, log=True)\n",
    "plt.show()\n",
    "all_years_FH_and_M_test_score_np = all_years_FH_and_M_test_score.values\n",
    "plt.hist(all_years_FH_and_M_test_score_np.flatten(), bins=36, log=True)\n",
    "plt.show()"
   ],
   "metadata": {
    "collapsed": false,
    "ExecuteTime": {
     "start_time": "2023-12-30T11:24:54.934148500Z"
    }
   },
   "id": "fe2724926bb333de"
  },
  {
   "cell_type": "code",
   "execution_count": null,
   "outputs": [],
   "source": [
    "FH_and_M_median_by_month, FH_and_M_median_by_country = compute_medians(all_years_FH_and_M_rwl)\n",
    "FH_median_by_month, FH_median_by_country = compute_medians(all_years_FH_rwl)"
   ],
   "metadata": {
    "collapsed": false,
    "ExecuteTime": {
     "start_time": "2023-12-30T11:24:54.934148500Z"
    }
   },
   "id": "22b8b849ff2dda97"
  },
  {
   "cell_type": "code",
   "execution_count": null,
   "outputs": [],
   "source": [
    "FH_and_M_mean_by_month, FH_and_M_mean_by_country = compute_means(all_years_FH_and_M_rwl)\n",
    "FH_mean_by_month, FH_mean_by_country = compute_means(all_years_FH_rwl)"
   ],
   "metadata": {
    "collapsed": false,
    "ExecuteTime": {
     "start_time": "2023-12-30T11:24:54.934148500Z"
    }
   },
   "id": "6ffd3fc45b671eb1"
  },
  {
   "cell_type": "code",
   "execution_count": null,
   "outputs": [],
   "source": [
    "figsize_all_countries = (12, 48)\n",
    "figsize_selected_on_avg = (18, 15)\n",
    "cmap = \"Blues\""
   ],
   "metadata": {
    "collapsed": false,
    "ExecuteTime": {
     "start_time": "2023-12-30T11:24:54.949775500Z"
    }
   },
   "id": "315fb0bcbf8e67db"
  },
  {
   "cell_type": "code",
   "execution_count": null,
   "outputs": [],
   "source": [
    "create_heatmap_org(result_data_2018_FH_rwl, figsize_selected_on_avg, cmap, 2018, \"FH\", countries=\"selected_on_avg\", export=True)\n",
    "create_heatmap_org(result_data_2019_FH_rwl, figsize_selected_on_avg, cmap, 2019, \"FH\", countries=\"selected_on_avg\", export=True)\n",
    "create_heatmap_org(result_data_2020_FH_rwl, figsize_selected_on_avg, cmap, 2020, \"FH\", countries=\"selected_on_avg\", export=True)\n",
    "create_heatmap_org(result_data_2021_FH_rwl, figsize_selected_on_avg, cmap, 2021, \"FH\", countries=\"selected_on_avg\", export=True)\n",
    "create_heatmap_org(result_data_2018_FH_and_M_rwl, figsize_selected_on_avg, cmap, 2018, \"FH and M\", countries=\"selected_on_avg\", export=True)\n",
    "create_heatmap_org(result_data_2019_FH_and_M_rwl, figsize_selected_on_avg, cmap, 2019, \"FH and M\", countries=\"selected_on_avg\", export=True)\n",
    "create_heatmap_org(result_data_2020_FH_and_M_rwl, figsize_selected_on_avg, cmap, 2020, \"FH and M\", countries=\"selected_on_avg\", export=True)\n",
    "create_heatmap_org(result_data_2021_FH_and_M_rwl, figsize_selected_on_avg, cmap, 2021, \"FH and M\", countries=\"selected_on_avg\", export=True)"
   ],
   "metadata": {
    "collapsed": false,
    "ExecuteTime": {
     "start_time": "2023-12-30T11:24:54.949775500Z"
    }
   },
   "id": "dd9d99244c9850ed"
  },
  {
   "cell_type": "code",
   "execution_count": null,
   "outputs": [],
   "source": [
    "cmap = \"Blues\""
   ],
   "metadata": {
    "collapsed": false,
    "ExecuteTime": {
     "start_time": "2023-12-30T11:24:54.959287200Z"
    }
   },
   "id": "9c5cc0624c7d1069"
  },
  {
   "cell_type": "code",
   "execution_count": null,
   "outputs": [],
   "source": [
    "create_heatmap_org_test_score(result_data_2018_FH_test_score, figsize_selected_on_avg, cmap, 2018, \"FH\", countries=\"selected_on_avg\", export=True)\n",
    "create_heatmap_org_test_score(result_data_2019_FH_test_score, figsize_selected_on_avg, cmap, 2019, \"FH\", countries=\"selected_on_avg\", export=True)\n",
    "create_heatmap_org_test_score(result_data_2020_FH_test_score, figsize_selected_on_avg, cmap, 2020, \"FH\", countries=\"selected_on_avg\", export=True)\n",
    "create_heatmap_org_test_score(result_data_2021_FH_test_score, figsize_selected_on_avg, cmap, 2021, \"FH\", countries=\"selected_on_avg\", export=True)\n",
    "create_heatmap_org_test_score(result_data_2018_FH_and_M_test_score, figsize_selected_on_avg, cmap, 2018, \"FH and M\", countries=\"selected_on_avg\", export=True)\n",
    "create_heatmap_org_test_score(result_data_2019_FH_and_M_test_score, figsize_selected_on_avg, cmap, 2019, \"FH and M\", countries=\"selected_on_avg\", export=True)\n",
    "create_heatmap_org_test_score(result_data_2020_FH_and_M_test_score, figsize_selected_on_avg, cmap, 2020, \"FH and M\", countries=\"selected_on_avg\", export=True)\n",
    "create_heatmap_org_test_score(result_data_2021_FH_and_M_test_score, figsize_selected_on_avg, cmap, 2021, \"FH and M\", countries=\"selected_on_avg\", export=True)"
   ],
   "metadata": {
    "collapsed": false,
    "ExecuteTime": {
     "start_time": "2023-12-30T11:24:54.959287200Z"
    }
   },
   "id": "cea6e21e9ca25f97"
  },
  {
   "cell_type": "code",
   "execution_count": null,
   "outputs": [],
   "source": [
    "export_path = rf\"C:\\Users\\Uwe Drauz\\Documents\\bachelor_thesis_local\\personal_competition_data\\Plots\\rolling_window_length_{validation_approach}_{year}.png\""
   ],
   "metadata": {
    "collapsed": false,
    "ExecuteTime": {
     "end_time": "2023-12-30T11:24:55.059366300Z",
     "start_time": "2023-12-30T11:24:54.959287200Z"
    }
   },
   "id": "c35a47feb7670f65"
  },
  {
   "cell_type": "code",
   "execution_count": null,
   "outputs": [],
   "source": [
    "# Export the plots to the path with correspinding name\n"
   ],
   "metadata": {
    "collapsed": false,
    "ExecuteTime": {
     "start_time": "2023-12-30T11:24:54.959287200Z"
    }
   },
   "id": "722d64e81724fcbf"
  },
  {
   "cell_type": "code",
   "execution_count": null,
   "outputs": [],
   "source": [
    "# Determine the number of countries with a least one value in \"test_score\" greater than 0\n",
    "result_data_2018_FH_and_M[result_data_2018_FH_and_M['test_score'] > 5]['country_id'].nunique()"
   ],
   "metadata": {
    "collapsed": false,
    "ExecuteTime": {
     "start_time": "2023-12-30T11:24:54.976245500Z"
    }
   },
   "id": "47025fb7d6851026"
  },
  {
   "cell_type": "code",
   "execution_count": null,
   "outputs": [],
   "source": [
    "data = data.pivot(\"month\", \"year\", \"passengers\")\n",
    "sns.heatmap(data, cmap=\"rocket\")\n",
    "plt.show()"
   ],
   "metadata": {
    "collapsed": false,
    "ExecuteTime": {
     "start_time": "2023-12-30T11:24:54.976245500Z"
    }
   },
   "id": "9addd65f25903479"
  },
  {
   "cell_type": "code",
   "execution_count": null,
   "outputs": [],
   "source": [
    "glue = sns.load_dataset(\"glue\").pivot(index=\"Model\", columns=\"Task\", values=\"Score\")\n",
    "sns.heatmap(glue, cmap=\"Blues_r\")"
   ],
   "metadata": {
    "collapsed": false,
    "ExecuteTime": {
     "start_time": "2023-12-30T11:24:54.976245500Z"
    }
   },
   "id": "9d6119fd64d50876"
  }
 ],
 "metadata": {
  "kernelspec": {
   "display_name": "Python 3",
   "language": "python",
   "name": "python3"
  },
  "language_info": {
   "codemirror_mode": {
    "name": "ipython",
    "version": 2
   },
   "file_extension": ".py",
   "mimetype": "text/x-python",
   "name": "python",
   "nbconvert_exporter": "python",
   "pygments_lexer": "ipython2",
   "version": "2.7.6"
  }
 },
 "nbformat": 4,
 "nbformat_minor": 5
}
