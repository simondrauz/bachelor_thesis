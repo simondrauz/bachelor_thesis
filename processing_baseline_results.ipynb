{
 "cells": [
  {
   "cell_type": "code",
   "execution_count": null,
   "id": "initial_id",
   "metadata": {
    "collapsed": true,
    "ExecuteTime": {
     "end_time": "2024-01-05T12:49:59.326489500Z",
     "start_time": "2024-01-05T12:49:59.310927400Z"
    }
   },
   "outputs": [],
   "source": []
  },
  {
   "cell_type": "code",
   "execution_count": 1,
   "outputs": [],
   "source": [
    "import numpy as np\n",
    "import pandas as pd\n",
    "import os\n",
    "from mappings import map_country_id_to_country_name, map_month_id_to_datetime\n",
    "from data_gathering import gather_data_features, gather_data_actuals\n",
    "import seaborn as sns\n",
    "import matplotlib.pyplot as plt\n",
    "import pickle"
   ],
   "metadata": {
    "collapsed": false,
    "ExecuteTime": {
     "end_time": "2024-01-05T12:49:59.355866700Z",
     "start_time": "2024-01-05T12:49:59.338613300Z"
    }
   },
   "id": "ec18787ffbf18f9c"
  },
  {
   "cell_type": "code",
   "execution_count": 2,
   "outputs": [],
   "source": [
    "data_cm_actual_2018, data_cm_actual_2019, data_cm_actual_2020, data_cm_actual_2021, data_cm_actual_allyears \\\n",
    "    = gather_data_actuals()"
   ],
   "metadata": {
    "collapsed": false,
    "ExecuteTime": {
     "end_time": "2024-01-05T12:50:02.002883Z",
     "start_time": "2024-01-05T12:49:59.355866700Z"
    }
   },
   "id": "cb318d7d0a6dc198"
  },
  {
   "cell_type": "code",
   "execution_count": 3,
   "outputs": [],
   "source": [
    "# Load country list with countries above average quantile, in which at least one conflict fatality occured and which are in the actuals data\n",
    "with open(fr'C:\\Users\\Uwe Drauz\\Documents\\bachelor_thesis_local\\personal_competition_data\\data\\feature_and_actuals_countries_non_zero_above_avg_quantile.pkl', 'rb') as f:\n",
    "    feature_and_actuals_countries_non_zero_above_avg_quantile = pickle.load(f)\n",
    "filter =False\n",
    "if filter:\n",
    "    y_lim = 650\n",
    "else:\n",
    "    y_lim = 1200"
   ],
   "metadata": {
    "collapsed": false,
    "ExecuteTime": {
     "end_time": "2024-01-05T12:50:02.060170800Z",
     "start_time": "2024-01-05T12:50:02.002883Z"
    }
   },
   "id": "68bab9ba3e38b4ff"
  },
  {
   "cell_type": "code",
   "execution_count": 26,
   "outputs": [],
   "source": [
    "# Optional setting for consistent font sized throughout the plots (not yet used)\n",
    "legend_text_size = 13\n",
    "title_text_size = 14\n",
    "yax_text_size = 13\n",
    "xax_text_size = 13\n",
    "xticklabel_size = 12\n",
    "yticklabel_size = 12"
   ],
   "metadata": {
    "collapsed": false,
    "ExecuteTime": {
     "end_time": "2024-01-05T12:50:23.772617800Z",
     "start_time": "2024-01-05T12:50:23.709519900Z"
    }
   },
   "id": "7b8ec683da524ad9"
  },
  {
   "cell_type": "code",
   "execution_count": 57,
   "outputs": [],
   "source": [
    "result_data_2018_FH = pd.read_parquet(\"mlruns/3/5b3acdf73aeb4eecb8bb007157f3535d/artifacts/BaselineModel_results_all_countries2018.parquet\")\n",
    "result_data_2019_FH = pd.read_parquet(\"mlruns/3/df6e7240234c40cebc96397963780cf9/artifacts/BaselineModel_results_all_countries2019.parquet\")\n",
    "result_data_2020_FH = pd.read_parquet(\"mlruns/3/301944cf5760482da0291a8e9daca4e1/artifacts/BaselineModel_results_all_countries2020.parquet\")\n",
    "result_data_2021_FH = pd.read_parquet(\"mlruns/3/3cc10d101573487aa558f41b21de99c5/artifacts/BaselineModel_results_all_countries2021.parquet\")"
   ],
   "metadata": {
    "collapsed": false,
    "ExecuteTime": {
     "end_time": "2024-01-05T13:04:36.594609600Z",
     "start_time": "2024-01-05T13:04:36.532086800Z"
    }
   },
   "id": "6acb44b1e812c8d2"
  },
  {
   "cell_type": "code",
   "execution_count": 58,
   "outputs": [],
   "source": [
    "result_data_2018_FH_and_M = pd.read_parquet(\"mlruns/3/9d8897f7efd242bdb33fdfe0c8c1eb6a/artifacts/BaselineModel_results_all_countries2018.parquet\")\n",
    "result_data_2019_FH_and_M = pd.read_parquet(\"mlruns/3/80caad1b10bf4513b5b5fbb9e8827d49/artifacts/BaselineModel_results_all_countries2019.parquet\")\n",
    "result_data_2020_FH_and_M = pd.read_parquet(\"mlruns/3/47685285ae8b45d38e966b28d5c27579/artifacts/BaselineModel_results_all_countries2020.parquet\")\n",
    "result_data_2021_FH_and_M = pd.read_parquet(\"mlruns/3/021e0fc647be407d8924e4d134093adc/artifacts/BaselineModel_results_all_countries2021.parquet\")"
   ],
   "metadata": {
    "collapsed": false,
    "ExecuteTime": {
     "end_time": "2024-01-05T13:04:37.249529200Z",
     "start_time": "2024-01-05T13:04:37.171420600Z"
    }
   },
   "id": "6a473e3cd902002a"
  },
  {
   "cell_type": "code",
   "execution_count": 6,
   "outputs": [],
   "source": [
    "# Filter the results for countries with more than 5 fatalities on average\n",
    "if filter:\n",
    "    result_data_2018_FH = result_data_2018_FH[result_data_2018_FH['country_id'].isin(feature_and_actuals_countries_non_zero_above_avg_quantile)]\n",
    "    result_data_2019_FH = result_data_2019_FH[result_data_2019_FH['country_id'].isin(feature_and_actuals_countries_non_zero_above_avg_quantile)]\n",
    "    result_data_2020_FH = result_data_2020_FH[result_data_2020_FH['country_id'].isin(feature_and_actuals_countries_non_zero_above_avg_quantile)]\n",
    "    result_data_2021_FH = result_data_2021_FH[result_data_2021_FH['country_id'].isin(feature_and_actuals_countries_non_zero_above_avg_quantile)]\n"
   ],
   "metadata": {
    "collapsed": false,
    "ExecuteTime": {
     "end_time": "2024-01-05T12:50:02.189817800Z",
     "start_time": "2024-01-05T12:50:02.138280800Z"
    }
   },
   "id": "f18e3d3af2b6db08"
  },
  {
   "cell_type": "code",
   "execution_count": 7,
   "outputs": [],
   "source": [
    "# Filter the results for countries with more than 5 fatalities on average\n",
    "if filter:\n",
    "    result_data_2018_FH_and_M = result_data_2018_FH_and_M[result_data_2018_FH_and_M['country_id'].isin(feature_and_actuals_countries_non_zero_above_avg_quantile)]\n",
    "    result_data_2019_FH_and_M = result_data_2019_FH_and_M[result_data_2019_FH_and_M['country_id'].isin(feature_and_actuals_countries_non_zero_above_avg_quantile)]\n",
    "    result_data_2020_FH_and_M = result_data_2020_FH_and_M[result_data_2020_FH_and_M['country_id'].isin(feature_and_actuals_countries_non_zero_above_avg_quantile)]\n",
    "    result_data_2021_FH_and_M = result_data_2021_FH_and_M[result_data_2021_FH_and_M['country_id'].isin(feature_and_actuals_countries_non_zero_above_avg_quantile)]"
   ],
   "metadata": {
    "collapsed": false,
    "ExecuteTime": {
     "end_time": "2024-01-05T12:50:02.189817800Z",
     "start_time": "2024-01-05T12:50:02.158576Z"
    }
   },
   "id": "f4bac1e383144254"
  },
  {
   "cell_type": "code",
   "execution_count": 8,
   "outputs": [],
   "source": [
    "def get_test_scores(df):\n",
    "    # Create an empty DataFrame to hold the rearranged data\n",
    "    rearranged_df = pd.DataFrame()\n",
    "\n",
    "    # Loop over each row in the input DataFrame\n",
    "    for index, row in df.iterrows():\n",
    "        # Get the test_score from the DataFrame\n",
    "        test_score = row['test_score']\n",
    "        # Update the rearranged DataFrame with the rolling_window_length\n",
    "        country_id = row['country_id']\n",
    "        month_id = row['month_id']\n",
    "        if country_id not in rearranged_df.index:\n",
    "            rearranged_df.loc[country_id, month_id] = test_score\n",
    "        else:\n",
    "            rearranged_df.at[country_id, month_id] = test_score\n",
    "    # Convert the DataFrame to integer type\n",
    "    rearranged_df = rearranged_df.astype(float)\n",
    "\n",
    "    return rearranged_df"
   ],
   "metadata": {
    "collapsed": false,
    "ExecuteTime": {
     "end_time": "2024-01-05T12:50:02.189817800Z",
     "start_time": "2024-01-05T12:50:02.174195400Z"
    }
   },
   "id": "cafbb8c0e4ffc630"
  },
  {
   "cell_type": "code",
   "execution_count": 9,
   "outputs": [],
   "source": [
    "def get_rolling_window_lengths(df):\n",
    "    # Create an empty DataFrame to hold the rearranged data\n",
    "    rearranged_df = pd.DataFrame()\n",
    "\n",
    "    # Loop over each row in the input DataFrame\n",
    "    for index, row in df.iterrows():\n",
    "        # Build the path to the rolling_window_length file for the current run_id\n",
    "        rolling_window_length_path = f'mlruns\\\\2\\\\{row[\"run_id\"]}\\\\params\\\\rolling_window_length'\n",
    "\n",
    "        # Read the value of rolling_window_length from the file\n",
    "        try:\n",
    "            with open(rolling_window_length_path, 'r') as f:\n",
    "                rolling_window_length = f.read().strip()\n",
    "        except FileNotFoundError:\n",
    "            print(f\"File not found for RunID: {row['run_id']}\")\n",
    "            rolling_window_length = None\n",
    "\n",
    "        # Update the rearranged DataFrame with the rolling_window_length\n",
    "        country_id = row['country_id']\n",
    "        month_id = row['month_id']\n",
    "        if country_id not in rearranged_df.index:\n",
    "            rearranged_df.loc[country_id, month_id] = rolling_window_length\n",
    "        else:\n",
    "            rearranged_df.at[country_id, month_id] = rolling_window_length\n",
    "    # Convert the DataFrame to integer type\n",
    "    rearranged_df = rearranged_df.astype(int)\n",
    "\n",
    "    return rearranged_df\n",
    "\n",
    "def rename_indices(df):\n",
    "    df.index = df.index.map(map_country_id_to_country_name)\n",
    "    df.columns = df.columns.map(lambda x: map_month_id_to_datetime(x).strftime('%B %Y'))\n",
    "    return df"
   ],
   "metadata": {
    "collapsed": false,
    "ExecuteTime": {
     "end_time": "2024-01-05T12:50:02.299164600Z",
     "start_time": "2024-01-05T12:50:02.189817800Z"
    }
   },
   "id": "56455292d95a9026"
  },
  {
   "cell_type": "code",
   "execution_count": 10,
   "outputs": [],
   "source": [
    "def compute_medians(df):\n",
    "    median_by_month = df.median(axis=0)\n",
    "    median_by_country = df.median(axis=1)\n",
    "    return median_by_month.astype(int), median_by_country.astype(int)\n"
   ],
   "metadata": {
    "collapsed": false,
    "ExecuteTime": {
     "end_time": "2024-01-05T12:50:02.299164600Z",
     "start_time": "2024-01-05T12:50:02.221061100Z"
    }
   },
   "id": "ed7ed2a6d9ec3d85"
  },
  {
   "cell_type": "code",
   "execution_count": 11,
   "outputs": [],
   "source": [
    "def compute_means(df):\n",
    "    mean_by_month = df.mean(axis=0)\n",
    "    mean_by_country = df.mean(axis=1)\n",
    "    return mean_by_month, mean_by_country"
   ],
   "metadata": {
    "collapsed": false,
    "ExecuteTime": {
     "end_time": "2024-01-05T12:50:02.299164600Z",
     "start_time": "2024-01-05T12:50:02.236680800Z"
    }
   },
   "id": "b883a7dd572c191b"
  },
  {
   "cell_type": "code",
   "execution_count": 12,
   "outputs": [],
   "source": [
    "def concatenate_dataframes(dfs):\n",
    "    return pd.concat(dfs, axis=1).sort_index(axis=1)\n"
   ],
   "metadata": {
    "collapsed": false,
    "ExecuteTime": {
     "end_time": "2024-01-05T12:50:02.299164600Z",
     "start_time": "2024-01-05T12:50:02.252300400Z"
    }
   },
   "id": "af74a14f358cb20f"
  },
  {
   "cell_type": "code",
   "execution_count": 13,
   "outputs": [],
   "source": [
    "def create_heatmap_org(df, figsize, cmap, year, cv_approach, countries: str, export=False):\n",
    "    # Check data type and range\n",
    "\n",
    "    plt.figure(figsize=figsize)\n",
    "    ax = sns.heatmap(df, cmap=cmap, vmin=1, vmax=36, annot=False, cbar=True)  # Added explicit color bar\n",
    "\n",
    "    # Increase font size and add padding for better visibility\n",
    "    plt.title(f'Training Months for {year} and CV-Approach {cv_approach}', fontsize=34, pad=40)\n",
    "    plt.xlabel('Forecasted Months', fontsize=32, labelpad=10)\n",
    "    plt.ylabel('Countries', fontsize=32, labelpad=10)\n",
    "    plt.xticks(fontsize=18)\n",
    "    plt.yticks(fontsize=18)\n",
    "\n",
    "    # Adjust color bar label size\n",
    "    cbar = ax.collections[0].colorbar\n",
    "    cbar.ax.tick_params(labelsize=24)\n",
    "    \n",
    "    # Replace spaces with underscores in cv_approach for file naming\n",
    "    if cv_approach == \"FH and M\":\n",
    "        cv_approach = \"FH_and_M\"\n",
    "\n",
    "    # Export the plot if required\n",
    "    if export:\n",
    "        export_path = rf\"C:\\Users\\Uwe Drauz\\Documents\\bachelor_thesis_local\\personal_competition_data\\Plots\\rolling_window_heatmap\\rolling_window_length_{cv_approach}_{year}_{countries}.png\"\n",
    "        plt.savefig(export_path, dpi=300, bbox_inches='tight')\n",
    "    \n",
    "    plt.show()"
   ],
   "metadata": {
    "collapsed": false,
    "ExecuteTime": {
     "end_time": "2024-01-05T12:50:02.299164600Z",
     "start_time": "2024-01-05T12:50:02.267957900Z"
    }
   },
   "id": "796d3e966ede191f"
  },
  {
   "cell_type": "code",
   "execution_count": 14,
   "outputs": [],
   "source": [
    "def create_heatmap_org_test_score(df, figsize, cmap, year, cv_approach, countries: str, export=False):\n",
    "    # Check data type and range\n",
    "\n",
    "    plt.figure(figsize=figsize)\n",
    "    ax = sns.heatmap(df, cmap=cmap, annot=False, cbar=True)  # Added explicit color bar\n",
    "\n",
    "    # Increase font size and add padding for better visibility\n",
    "    plt.title(f'Test Score for {year} and CV-Approach {cv_approach}', fontsize=34, pad=40)\n",
    "    plt.xlabel('Forecasted Months', fontsize=32, labelpad=10)\n",
    "    plt.ylabel('Countries', fontsize=32, labelpad=10)\n",
    "    plt.xticks(fontsize=18)\n",
    "    plt.yticks(fontsize=18)\n",
    "\n",
    "    # Adjust color bar label size\n",
    "    cbar = ax.collections[0].colorbar\n",
    "    cbar.ax.tick_params(labelsize=24)\n",
    "    \n",
    "    # Replace spaces with underscores in cv_approach for file naming\n",
    "    if cv_approach == \"FH and M\":\n",
    "        cv_approach = \"FH_and_M\"\n",
    "\n",
    "    # Export the plot if required\n",
    "    if export:\n",
    "        export_path = rf\"C:\\Users\\Uwe Drauz\\Documents\\bachelor_thesis_local\\personal_competition_data\\Plots\\baseline_test_score_heatmap\\test_score_{cv_approach}_{year}_{countries}.png\"\n",
    "        plt.savefig(export_path, dpi=300, bbox_inches='tight')\n",
    "    \n",
    "    plt.show()"
   ],
   "metadata": {
    "collapsed": false,
    "ExecuteTime": {
     "end_time": "2024-01-05T12:50:02.502242100Z",
     "start_time": "2024-01-05T12:50:02.283545300Z"
    }
   },
   "id": "498ca6ef57f4a302"
  },
  {
   "cell_type": "code",
   "execution_count": 15,
   "outputs": [],
   "source": [
    "def create_heatmap_org_test_score_vmax(df, figsize, cmap, year, cv_approach, countries: str,vmax, export=False):\n",
    "    # Check data type and range\n",
    "\n",
    "    plt.figure(figsize=figsize)\n",
    "    ax = sns.heatmap(df, cmap=cmap, vmax=vmax, annot=False, cbar=True)  # Added explicit color bar\n",
    "\n",
    "    # Increase font size and add padding for better visibility\n",
    "    plt.title(f'Test Score for {year} and CV-Approach {cv_approach}', fontsize=34, pad=40)\n",
    "    plt.xlabel('Forecasted Months', fontsize=32, labelpad=10)\n",
    "    plt.ylabel('Countries', fontsize=32, labelpad=10)\n",
    "    plt.xticks(fontsize=18)\n",
    "    plt.yticks(fontsize=18)\n",
    "\n",
    "    # Adjust color bar label size\n",
    "    cbar = ax.collections[0].colorbar\n",
    "    cbar.ax.tick_params(labelsize=24)\n",
    "    \n",
    "    # Replace spaces with underscores in cv_approach for file naming\n",
    "    if cv_approach == \"FH and M\":\n",
    "        cv_approach = \"FH_and_M\"\n",
    "\n",
    "    # Export the plot if required\n",
    "    if export:\n",
    "        export_path = rf\"C:\\Users\\Uwe Drauz\\Documents\\bachelor_thesis_local\\personal_competition_data\\Plots\\baseline_test_score_heatmap\\test_score_{cv_approach}_{year}_{countries}_vmax{vmax}.png\"\n",
    "        plt.savefig(export_path, dpi=300, bbox_inches='tight')\n",
    "    \n",
    "    plt.show()"
   ],
   "metadata": {
    "collapsed": false,
    "ExecuteTime": {
     "end_time": "2024-01-05T12:50:02.502242100Z",
     "start_time": "2024-01-05T12:50:02.314788300Z"
    }
   },
   "id": "2ed60ed8d0e689c9"
  },
  {
   "cell_type": "code",
   "execution_count": 59,
   "outputs": [],
   "source": [
    "result_data_2018_FH_and_M_rwl = get_rolling_window_lengths(result_data_2018_FH_and_M)\n",
    "result_data_2019_FH_and_M_rwl = get_rolling_window_lengths(result_data_2019_FH_and_M)\n",
    "result_data_2020_FH_and_M_rwl = get_rolling_window_lengths(result_data_2020_FH_and_M)\n",
    "result_data_2021_FH_and_M_rwl = get_rolling_window_lengths(result_data_2021_FH_and_M)"
   ],
   "metadata": {
    "collapsed": false,
    "ExecuteTime": {
     "end_time": "2024-01-05T13:05:01.632094100Z",
     "start_time": "2024-01-05T13:04:57.880741100Z"
    }
   },
   "id": "ba68cacb7b1be894"
  },
  {
   "cell_type": "code",
   "execution_count": 60,
   "outputs": [],
   "source": [
    "result_data_2018_FH_and_M_rwl = rename_indices(result_data_2018_FH_and_M_rwl)\n",
    "result_data_2019_FH_and_M_rwl = rename_indices(result_data_2019_FH_and_M_rwl)\n",
    "result_data_2020_FH_and_M_rwl = rename_indices(result_data_2020_FH_and_M_rwl)\n",
    "result_data_2021_FH_and_M_rwl = rename_indices(result_data_2021_FH_and_M_rwl)"
   ],
   "metadata": {
    "collapsed": false,
    "ExecuteTime": {
     "end_time": "2024-01-05T13:05:02.548205900Z",
     "start_time": "2024-01-05T13:05:01.632094100Z"
    }
   },
   "id": "80640b677f31635d"
  },
  {
   "cell_type": "code",
   "execution_count": 61,
   "outputs": [],
   "source": [
    "result_data_2018_FH_rwl = get_rolling_window_lengths(result_data_2018_FH)\n",
    "result_data_2019_FH_rwl = get_rolling_window_lengths(result_data_2019_FH)\n",
    "result_data_2020_FH_rwl = get_rolling_window_lengths(result_data_2020_FH)\n",
    "result_data_2021_FH_rwl = get_rolling_window_lengths(result_data_2021_FH)\n"
   ],
   "metadata": {
    "collapsed": false,
    "ExecuteTime": {
     "end_time": "2024-01-05T13:05:04.489453600Z",
     "start_time": "2024-01-05T13:05:02.548205900Z"
    }
   },
   "id": "79d83cdebd220d5"
  },
  {
   "cell_type": "code",
   "execution_count": 62,
   "outputs": [],
   "source": [
    "result_data_2018_FH_rwl = rename_indices(result_data_2018_FH_rwl)\n",
    "result_data_2019_FH_rwl = rename_indices(result_data_2019_FH_rwl)\n",
    "result_data_2020_FH_rwl = rename_indices(result_data_2020_FH_rwl)\n",
    "result_data_2021_FH_rwl = rename_indices(result_data_2021_FH_rwl)"
   ],
   "metadata": {
    "collapsed": false,
    "ExecuteTime": {
     "end_time": "2024-01-05T13:05:05.424566500Z",
     "start_time": "2024-01-05T13:05:04.489453600Z"
    }
   },
   "id": "6137a27aed6f3631"
  },
  {
   "cell_type": "code",
   "execution_count": 63,
   "outputs": [],
   "source": [
    "result_data_2018_FH_test_score = get_test_scores(result_data_2018_FH)\n",
    "result_data_2019_FH_test_score = get_test_scores(result_data_2019_FH)\n",
    "result_data_2020_FH_test_score = get_test_scores(result_data_2020_FH)\n",
    "result_data_2021_FH_test_score = get_test_scores(result_data_2021_FH)"
   ],
   "metadata": {
    "collapsed": false,
    "ExecuteTime": {
     "end_time": "2024-01-05T13:05:06.331063200Z",
     "start_time": "2024-01-05T13:05:05.447032Z"
    }
   },
   "id": "2b2ef59e5b774d74"
  },
  {
   "cell_type": "code",
   "execution_count": 64,
   "outputs": [],
   "source": [
    "result_data_2018_FH_test_score\n",
    "from mappings import map_country_id_to_country_name, map_month_id_to_datetime"
   ],
   "metadata": {
    "collapsed": false,
    "ExecuteTime": {
     "end_time": "2024-01-05T13:05:09.489390100Z",
     "start_time": "2024-01-05T13:05:09.426904300Z"
    }
   },
   "id": "498191ffc9bd6631"
  },
  {
   "cell_type": "code",
   "execution_count": 65,
   "outputs": [],
   "source": [
    "result_data_2018_FH_test_score = rename_indices(result_data_2018_FH_test_score)\n",
    "result_data_2019_FH_test_score = rename_indices(result_data_2019_FH_test_score)\n",
    "result_data_2020_FH_test_score = rename_indices(result_data_2020_FH_test_score)\n",
    "result_data_2021_FH_test_score = rename_indices(result_data_2021_FH_test_score)\n"
   ],
   "metadata": {
    "collapsed": false,
    "ExecuteTime": {
     "end_time": "2024-01-05T13:05:12.049503200Z",
     "start_time": "2024-01-05T13:05:10.180225800Z"
    }
   },
   "id": "b2a6c3b4d9c61dcb"
  },
  {
   "cell_type": "code",
   "execution_count": 66,
   "outputs": [],
   "source": [
    "result_data_2018_FH_and_M_test_score = get_test_scores(result_data_2018_FH_and_M)\n",
    "result_data_2019_FH_and_M_test_score = get_test_scores(result_data_2019_FH_and_M)\n",
    "result_data_2020_FH_and_M_test_score = get_test_scores(result_data_2020_FH_and_M)\n",
    "result_data_2021_FH_and_M_test_score = get_test_scores(result_data_2021_FH_and_M)\n"
   ],
   "metadata": {
    "collapsed": false,
    "ExecuteTime": {
     "end_time": "2024-01-05T13:05:14.067614500Z",
     "start_time": "2024-01-05T13:05:12.049503200Z"
    }
   },
   "id": "db2ee46803cb2dca"
  },
  {
   "cell_type": "code",
   "execution_count": 67,
   "outputs": [],
   "source": [
    "result_data_2018_FH_and_M_test_score = rename_indices(result_data_2018_FH_and_M_test_score)\n",
    "result_data_2019_FH_and_M_test_score = rename_indices(result_data_2019_FH_and_M_test_score)\n",
    "result_data_2020_FH_and_M_test_score = rename_indices(result_data_2020_FH_and_M_test_score)\n",
    "result_data_2021_FH_and_M_test_score = rename_indices(result_data_2021_FH_and_M_test_score)"
   ],
   "metadata": {
    "collapsed": false,
    "ExecuteTime": {
     "end_time": "2024-01-05T13:05:16.207725Z",
     "start_time": "2024-01-05T13:05:14.067614500Z"
    }
   },
   "id": "4cda0c93b693c081"
  },
  {
   "cell_type": "code",
   "execution_count": 68,
   "outputs": [],
   "source": [
    "all_years_FH_rwl = concatenate_dataframes([result_data_2018_FH_rwl, result_data_2019_FH_rwl, result_data_2020_FH_rwl, result_data_2021_FH_rwl])\n",
    "all_years_FH_and_M_rwl = concatenate_dataframes([result_data_2018_FH_and_M_rwl, result_data_2019_FH_and_M_rwl, result_data_2020_FH_and_M_rwl, result_data_2021_FH_and_M_rwl])"
   ],
   "metadata": {
    "collapsed": false,
    "ExecuteTime": {
     "end_time": "2024-01-05T13:05:16.252407700Z",
     "start_time": "2024-01-05T13:05:16.207725Z"
    }
   },
   "id": "bf562e3a4a90e96b"
  },
  {
   "cell_type": "code",
   "execution_count": 68,
   "outputs": [],
   "source": [],
   "metadata": {
    "collapsed": false,
    "ExecuteTime": {
     "end_time": "2024-01-05T13:05:16.252407700Z",
     "start_time": "2024-01-05T13:05:16.236817700Z"
    }
   },
   "id": "4cd7f9a2da6ae017"
  },
  {
   "cell_type": "code",
   "execution_count": 75,
   "outputs": [],
   "source": [
    "def plot_rwl_histogram(rwlengths, ylim, approach, export=False):\n",
    "    rwlengths = rwlengths.values.flatten()\n",
    "    # Create a histogram with ylim(0, 1100)\n",
    "    sns.set_style('white')\n",
    "    sns.histplot(rwlengths, bins=36)\n",
    "    # Set font sizes of ticks and labels\n",
    "    plt.xticks(fontsize=xticklabel_size+2)\n",
    "    plt.yticks(fontsize=yticklabel_size+2)\n",
    "    plt.xlabel('Fixed Window Length', fontsize=xax_text_size+2)\n",
    "    plt.ylabel('Count', fontsize=yax_text_size+2)\n",
    "    plt.ylim(0, ylim)\n",
    "    plt.xlim(1, 36)\n",
    "    # plt.subplots_adjust(left=0.15, bottom=0.15)\n",
    "    if export:\n",
    "        export_path = rf\"C:\\Users\\Uwe Drauz\\Documents\\bachelor_thesis_local\\personal_competition_data\\Plots\\plots_for_results_section\\rolling_window_length_histogram\\rolling_window_length_histogram{approach}_ylim_{ylim}.png\"\n",
    "        plt.savefig(export_path, dpi=300)"
   ],
   "metadata": {
    "collapsed": false,
    "ExecuteTime": {
     "end_time": "2024-01-05T13:09:11.056510700Z",
     "start_time": "2024-01-05T13:09:10.978402500Z"
    }
   },
   "id": "e5ea2e8918b999ec"
  },
  {
   "cell_type": "code",
   "execution_count": 76,
   "outputs": [
    {
     "data": {
      "text/plain": "<Figure size 640x480 with 1 Axes>",
      "image/png": "[encoded data removed]"
     },
     "metadata": {},
     "output_type": "display_data"
    }
   ],
   "source": [
    "plot_rwl_histogram(all_years_FH_rwl, y_lim, 'FH', True)"
   ],
   "metadata": {
    "collapsed": false,
    "ExecuteTime": {
     "end_time": "2024-01-05T13:09:12.547687100Z",
     "start_time": "2024-01-05T13:09:11.659589500Z"
    }
   },
   "id": "36d519a015b7b7fb"
  },
  {
   "cell_type": "code",
   "execution_count": 77,
   "outputs": [
    {
     "data": {
      "text/plain": "<Figure size 640x480 with 1 Axes>",
      "image/png": "[encoded data removed]"
     },
     "metadata": {},
     "output_type": "display_data"
    }
   ],
   "source": [
    "plot_rwl_histogram(all_years_FH_and_M_rwl, y_lim, 'FHM', True)"
   ],
   "metadata": {
    "collapsed": false,
    "ExecuteTime": {
     "end_time": "2024-01-05T13:09:13.933404500Z",
     "start_time": "2024-01-05T13:09:12.503310900Z"
    }
   },
   "id": "72bae7b3d3b5a7f2"
  },
  {
   "cell_type": "code",
   "execution_count": null,
   "outputs": [],
   "source": [
    "# COncatenate the DataFrames of the test scores\n",
    "all_years_FH_test_score = concatenate_dataframes([result_data_2018_FH_test_score, result_data_2019_FH_test_score, result_data_2020_FH_test_score, result_data_2021_FH_test_score])\n",
    "all_years_FH_and_M_test_score = concatenate_dataframes([result_data_2018_FH_and_M_test_score, result_data_2019_FH_and_M_test_score, result_data_2020_FH_and_M_test_score, result_data_2021_FH_and_M_test_score])\n",
    "# Create histograms for the test scores on a logarithmic scale\n",
    "all_years_FH_test_score_np = all_years_FH_test_score.values\n",
    "plt.hist(all_years_FH_test_score_np.flatten(), bins=36, log=True)\n",
    "plt.show()\n",
    "all_years_FH_and_M_test_score_np = all_years_FH_and_M_test_score.values\n",
    "plt.hist(all_years_FH_and_M_test_score_np.flatten(), bins=36, log=True)\n",
    "plt.show()"
   ],
   "metadata": {
    "collapsed": false,
    "ExecuteTime": {
     "start_time": "2023-12-30T11:24:54.934148500Z"
    }
   },
   "id": "fe2724926bb333de"
  },
  {
   "cell_type": "code",
   "execution_count": null,
   "outputs": [],
   "source": [
    "FH_and_M_median_by_month, FH_and_M_median_by_country = compute_medians(all_years_FH_and_M_rwl)\n",
    "FH_median_by_month, FH_median_by_country = compute_medians(all_years_FH_rwl)"
   ],
   "metadata": {
    "collapsed": false,
    "ExecuteTime": {
     "start_time": "2023-12-30T11:24:54.934148500Z"
    }
   },
   "id": "22b8b849ff2dda97"
  },
  {
   "cell_type": "code",
   "execution_count": null,
   "outputs": [],
   "source": [
    "FH_and_M_mean_by_month, FH_and_M_mean_by_country = compute_means(all_years_FH_and_M_rwl)\n",
    "FH_mean_by_month, FH_mean_by_country = compute_means(all_years_FH_rwl)"
   ],
   "metadata": {
    "collapsed": false,
    "ExecuteTime": {
     "start_time": "2023-12-30T11:24:54.934148500Z"
    }
   },
   "id": "6ffd3fc45b671eb1"
  },
  {
   "cell_type": "code",
   "execution_count": null,
   "outputs": [],
   "source": [
    "figsize_all_countries = (12, 48)\n",
    "figsize_selected_on_avg = (18, 15)\n",
    "cmap = \"Blues\""
   ],
   "metadata": {
    "collapsed": false,
    "ExecuteTime": {
     "start_time": "2023-12-30T11:24:54.949775500Z"
    }
   },
   "id": "315fb0bcbf8e67db"
  },
  {
   "cell_type": "code",
   "execution_count": null,
   "outputs": [],
   "source": [
    "create_heatmap_org(result_data_2018_FH_rwl, figsize_selected_on_avg, cmap, 2018, \"FH\", countries=\"selected_on_avg\", export=True)\n",
    "create_heatmap_org(result_data_2019_FH_rwl, figsize_selected_on_avg, cmap, 2019, \"FH\", countries=\"selected_on_avg\", export=True)\n",
    "create_heatmap_org(result_data_2020_FH_rwl, figsize_selected_on_avg, cmap, 2020, \"FH\", countries=\"selected_on_avg\", export=True)\n",
    "create_heatmap_org(result_data_2021_FH_rwl, figsize_selected_on_avg, cmap, 2021, \"FH\", countries=\"selected_on_avg\", export=True)\n",
    "create_heatmap_org(result_data_2018_FH_and_M_rwl, figsize_selected_on_avg, cmap, 2018, \"FH and M\", countries=\"selected_on_avg\", export=True)\n",
    "create_heatmap_org(result_data_2019_FH_and_M_rwl, figsize_selected_on_avg, cmap, 2019, \"FH and M\", countries=\"selected_on_avg\", export=True)\n",
    "create_heatmap_org(result_data_2020_FH_and_M_rwl, figsize_selected_on_avg, cmap, 2020, \"FH and M\", countries=\"selected_on_avg\", export=True)\n",
    "create_heatmap_org(result_data_2021_FH_and_M_rwl, figsize_selected_on_avg, cmap, 2021, \"FH and M\", countries=\"selected_on_avg\", export=True)"
   ],
   "metadata": {
    "collapsed": false,
    "ExecuteTime": {
     "start_time": "2023-12-30T11:24:54.949775500Z"
    }
   },
   "id": "dd9d99244c9850ed"
  },
  {
   "cell_type": "code",
   "execution_count": null,
   "outputs": [],
   "source": [
    "cmap = \"Blues\""
   ],
   "metadata": {
    "collapsed": false,
    "ExecuteTime": {
     "start_time": "2023-12-30T11:24:54.959287200Z"
    }
   },
   "id": "9c5cc0624c7d1069"
  },
  {
   "cell_type": "code",
   "execution_count": null,
   "outputs": [],
   "source": [
    "create_heatmap_org_test_score(result_data_2018_FH_test_score, figsize_selected_on_avg, cmap, 2018, \"FH\", countries=\"selected_on_avg\", export=True)\n",
    "create_heatmap_org_test_score(result_data_2019_FH_test_score, figsize_selected_on_avg, cmap, 2019, \"FH\", countries=\"selected_on_avg\", export=True)\n",
    "create_heatmap_org_test_score(result_data_2020_FH_test_score, figsize_selected_on_avg, cmap, 2020, \"FH\", countries=\"selected_on_avg\", export=True)\n",
    "create_heatmap_org_test_score(result_data_2021_FH_test_score, figsize_selected_on_avg, cmap, 2021, \"FH\", countries=\"selected_on_avg\", export=True)\n",
    "create_heatmap_org_test_score(result_data_2018_FH_and_M_test_score, figsize_selected_on_avg, cmap, 2018, \"FH and M\", countries=\"selected_on_avg\", export=True)\n",
    "create_heatmap_org_test_score(result_data_2019_FH_and_M_test_score, figsize_selected_on_avg, cmap, 2019, \"FH and M\", countries=\"selected_on_avg\", export=True)\n",
    "create_heatmap_org_test_score(result_data_2020_FH_and_M_test_score, figsize_selected_on_avg, cmap, 2020, \"FH and M\", countries=\"selected_on_avg\", export=True)\n",
    "create_heatmap_org_test_score(result_data_2021_FH_and_M_test_score, figsize_selected_on_avg, cmap, 2021, \"FH and M\", countries=\"selected_on_avg\", export=True)"
   ],
   "metadata": {
    "collapsed": false,
    "ExecuteTime": {
     "start_time": "2023-12-30T11:24:54.959287200Z"
    }
   },
   "id": "cea6e21e9ca25f97"
  },
  {
   "cell_type": "code",
   "execution_count": null,
   "outputs": [],
   "source": [
    "export_path = rf\"C:\\Users\\Uwe Drauz\\Documents\\bachelor_thesis_local\\personal_competition_data\\Plots\\rolling_window_length_{validation_approach}_{year}.png\""
   ],
   "metadata": {
    "collapsed": false,
    "ExecuteTime": {
     "end_time": "2023-12-30T11:24:55.059366300Z",
     "start_time": "2023-12-30T11:24:54.959287200Z"
    }
   },
   "id": "c35a47feb7670f65"
  },
  {
   "cell_type": "code",
   "execution_count": null,
   "outputs": [],
   "source": [
    "# Export the plots to the path with correspinding name\n"
   ],
   "metadata": {
    "collapsed": false,
    "ExecuteTime": {
     "start_time": "2023-12-30T11:24:54.959287200Z"
    }
   },
   "id": "722d64e81724fcbf"
  },
  {
   "cell_type": "code",
   "execution_count": null,
   "outputs": [],
   "source": [
    "# Determine the number of countries with a least one value in \"test_score\" greater than 0\n",
    "result_data_2018_FH_and_M[result_data_2018_FH_and_M['test_score'] > 5]['country_id'].nunique()"
   ],
   "metadata": {
    "collapsed": false,
    "ExecuteTime": {
     "start_time": "2023-12-30T11:24:54.976245500Z"
    }
   },
   "id": "47025fb7d6851026"
  },
  {
   "cell_type": "code",
   "execution_count": null,
   "outputs": [],
   "source": [
    "data = data.pivot(\"month\", \"year\", \"passengers\")\n",
    "sns.heatmap(data, cmap=\"rocket\")\n",
    "plt.show()"
   ],
   "metadata": {
    "collapsed": false,
    "ExecuteTime": {
     "start_time": "2023-12-30T11:24:54.976245500Z"
    }
   },
   "id": "9addd65f25903479"
  },
  {
   "cell_type": "code",
   "execution_count": null,
   "outputs": [],
   "source": [
    "glue = sns.load_dataset(\"glue\").pivot(index=\"Model\", columns=\"Task\", values=\"Score\")\n",
    "sns.heatmap(glue, cmap=\"Blues_r\")"
   ],
   "metadata": {
    "collapsed": false,
    "ExecuteTime": {
     "start_time": "2023-12-30T11:24:54.976245500Z"
    }
   },
   "id": "9d6119fd64d50876"
  }
 ],
 "metadata": {
  "kernelspec": {
   "display_name": "Python 3",
   "language": "python",
   "name": "python3"
  },
  "language_info": {
   "codemirror_mode": {
    "name": "ipython",
    "version": 2
   },
   "file_extension": ".py",
   "mimetype": "text/x-python",
   "name": "python",
   "nbconvert_exporter": "python",
   "pygments_lexer": "ipython2",
   "version": "2.7.6"
  }
 },
 "nbformat": 4,
 "nbformat_minor": 5
}
