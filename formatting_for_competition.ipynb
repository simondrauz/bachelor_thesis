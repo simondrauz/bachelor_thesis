{
 "cells": [
  {
   "cell_type": "markdown",
   "source": [
    "### Formatting Results for Competition"
   ],
   "metadata": {
    "collapsed": false
   },
   "id": "336c59f462b84c94"
  },
  {
   "cell_type": "code",
   "execution_count": 1,
   "outputs": [],
   "source": [
    "import itertools\n",
    "import pandas as pd\n",
    "from data_gathering import gather_data_features, gather_data_actuals"
   ],
   "metadata": {
    "collapsed": false,
    "ExecuteTime": {
     "end_time": "2023-12-06T13:56:49.423326300Z",
     "start_time": "2023-12-06T13:56:49.411699700Z"
    }
   },
   "id": "ccbc25438ce26711"
  },
  {
   "cell_type": "code",
   "execution_count": 10,
   "outputs": [],
   "source": [
    "\n",
    "contribution_results_2018_val_f_m = pd.read_parquet(\n",
    "    \"mlruns/3/9d8897f7efd242bdb33fdfe0c8c1eb6a/artifacts/contribution_becker_drauz_BaselineModel_test_window_2018.parquet\")\n",
    "contribution_results_2018_val_f = pd.read_parquet(\n",
    "    \"mlruns/3/5b3acdf73aeb4eecb8bb007157f3535d/artifacts/contribution_becker_drauz_BaselineModel_test_window_2018.parquet\")\n",
    "contribution_results_2019_val_f_m = pd.read_parquet(\n",
    "    \"mlruns/3/80caad1b10bf4513b5b5fbb9e8827d49/artifacts/contribution_becker_drauz_BaselineModel_test_window_2019.parquet\")\n",
    "contribution_results_2019_val_f = pd.read_parquet(\n",
    "    \"mlruns/3/df6e7240234c40cebc96397963780cf9/artifacts/contribution_becker_drauz_BaselineModel_test_window_2019.parquet\")\n",
    "contribution_results_2020_val_f_m = pd.read_parquet(\n",
    "    \"mlruns/3/47685285ae8b45d38e966b28d5c27579/artifacts/contribution_becker_drauz_BaselineModel_test_window_2020.parquet\")\n",
    "contribution_results_2020_val_f = pd.read_parquet(\n",
    "    \"mlruns/3/301944cf5760482da0291a8e9daca4e1/artifacts/contribution_becker_drauz_BaselineModel_test_window_2020.parquet\")\n",
    "contribution_results_2021_val_f_m = pd.read_parquet(\n",
    "    \"mlruns/3/021e0fc647be407d8924e4d134093adc/artifacts/contribution_becker_drauz_BaselineModel_test_window_2021.parquet\")\n",
    "contribution_results_2021_val_f = pd.read_parquet(\n",
    "    \"mlruns/3/3cc10d101573487aa558f41b21de99c5/artifacts/contribution_becker_drauz_BaselineModel_test_window_2021.parquet\")"
   ],
   "metadata": {
    "collapsed": false,
    "ExecuteTime": {
     "end_time": "2023-12-06T15:12:51.478562100Z",
     "start_time": "2023-12-06T15:12:51.335905900Z"
    }
   },
   "id": "10919865020b3ac0"
  },
  {
   "cell_type": "code",
   "execution_count": 5,
   "outputs": [
    {
     "name": "stdout",
     "output_type": "stream",
     "text": [
      "Data type checks:\n",
      "2018: <class 'pandas.core.frame.DataFrame'>\n",
      "2019: <class 'pandas.core.frame.DataFrame'>\n",
      "2020: <class 'pandas.core.frame.DataFrame'>\n",
      "2021: <class 'pandas.core.frame.DataFrame'>\n"
     ]
    }
   ],
   "source": [
    "# First, check each object's type\n",
    "print(\"Data type checks:\")\n",
    "print(\"2018:\", type(contribution_results_2018_val_f_m))\n",
    "print(\"2019:\", type(contribution_results_2019_val_f_m))\n",
    "print(\"2020:\", type(contribution_results_2020_val_f_m))\n",
    "print(\"2021:\", type(contribution_results_2021_val_f_m))\n"
   ],
   "metadata": {
    "collapsed": false,
    "ExecuteTime": {
     "end_time": "2023-12-06T14:05:22.663350300Z",
     "start_time": "2023-12-06T14:05:22.493009Z"
    }
   },
   "id": "948889a3456d4570"
  },
  {
   "cell_type": "code",
   "execution_count": 11,
   "outputs": [],
   "source": [
    "# Concat the contribution results of four years into one dataframe\n",
    "contribution_results_allyears_val_f_m = pd.concat(\n",
    "    [contribution_results_2018_val_f_m, \n",
    "     contribution_results_2019_val_f_m, \n",
    "     contribution_results_2020_val_f_m,\n",
    "     contribution_results_2021_val_f_m]).reset_index(drop=True)\n",
    "contribution_results_allyears_val_f = pd.concat(\n",
    "    [contribution_results_2018_val_f, \n",
    "    contribution_results_2019_val_f,\n",
    "    contribution_results_2020_val_f, \n",
    "    contribution_results_2021_val_f]).reset_index(drop=True)"
   ],
   "metadata": {
    "collapsed": false,
    "ExecuteTime": {
     "end_time": "2023-12-06T15:12:56.568141900Z",
     "start_time": "2023-12-06T15:12:56.517478500Z"
    }
   },
   "id": "90b5e8b95be24a25"
  },
  {
   "cell_type": "code",
   "execution_count": 12,
   "outputs": [],
   "source": [
    "# Remove column draw from the dataframes\n",
    "contribution_results_allyears_val_f_m = contribution_results_allyears_val_f_m.drop(columns=['draw'])\n",
    "contribution_results_allyears_val_f = contribution_results_allyears_val_f.drop(columns=['draw'])\n",
    "\n",
    "# Rename each column that starts with \"sample_\" to \"draw_\"\n",
    "contribution_results_allyears_val_f_m = contribution_results_allyears_val_f_m.rename(\n",
    "    columns={col: col.replace('sample', 'draw') for col in contribution_results_2018_val_f_m.columns})\n",
    "contribution_results_allyears_val_f = contribution_results_allyears_val_f.rename(\n",
    "    columns={col: col.replace('sample', 'draw') for col in contribution_results_2018_val_f.columns})\n",
    "\n",
    "# Export the dataframes to parquet files in export folder\n",
    "export_path = \"C:/Users/Uwe Drauz/Documents/bachelor_thesis_local/personal_competition_data/Results\"\n",
    "contribution_results_allyears_val_f_m.to_parquet(fr\"{export_path}/baseline_f_m_posterior_predictive_samples.parquet\")\n",
    "contribution_results_allyears_val_f.to_parquet(fr\"{export_path}/baseline_f_posterior_predictive_samples.parquet\")"
   ],
   "metadata": {
    "collapsed": false,
    "ExecuteTime": {
     "end_time": "2023-12-06T15:12:57.968873600Z",
     "start_time": "2023-12-06T15:12:57.786182400Z"
    }
   },
   "id": "163c6e81b744298c"
  },
  {
   "cell_type": "code",
   "execution_count": 4,
   "outputs": [],
   "source": [
    "# Create a nested dictionary with key1: \"validation_on_forecast_horizon\" (_f in df) and key2: \"validation_on_forecast_horizon_and_month\" (_f_m in df). The inner dictionaires contain the dataframes with the contribution results for each year\n",
    "contribution_results = {\n",
    "    \"validate_on_forecast_horizon\": {\n",
    "        2018: contribution_results_2018_val_f,\n",
    "        2019: contribution_results_2019_val_f,\n",
    "        2020: contribution_results_2020_val_f,\n",
    "        2021: contribution_results_2021_val_f\n",
    "    },\n",
    "    \"validate_on_forecast_horizon_and_month\": {\n",
    "        2018: contribution_results_2018_val_f_m,\n",
    "        2019: contribution_results_2019_val_f_m,\n",
    "        2020: contribution_results_2020_val_f_m,\n",
    "        2021: contribution_results_2021_val_f_m\n",
    "    }\n",
    "}\n",
    "test_window_dict = {\n",
    "    \"validate_on_forecast_horizon\": {\n",
    "        2018: None,\n",
    "        2019: None,\n",
    "        2020: None,\n",
    "        2021: None\n",
    "    },\n",
    "    \"validate_on_forecast_horizon_and_month\": {\n",
    "        2018: None,\n",
    "        2019: None,\n",
    "        2020: None,\n",
    "        2021: None\n",
    "    }\n",
    "}"
   ],
   "metadata": {
    "collapsed": false
   },
   "id": "ca60f2e6426ff1b9"
  },
  {
   "cell_type": "code",
   "execution_count": 7,
   "outputs": [],
   "source": [
    "# Load 'Actuals' data\n",
    "data_cm_actual_2018, data_cm_actual_2019, data_cm_actual_2020, data_cm_actual_2021, data_cm_actual_allyears \\\n",
    "    = gather_data_actuals()\n",
    "# Load features data\n",
    "data_cm_features_2017, data_cm_features_2018, data_cm_features_2019, data_cm_features_2020, data_cm_features_allyears \\\n",
    "    = gather_data_features()"
   ],
   "metadata": {
    "collapsed": false,
    "ExecuteTime": {
     "end_time": "2023-11-23T07:23:40.516060400Z",
     "start_time": "2023-11-23T07:23:39.244076500Z"
    }
   },
   "id": "afe34b8cf9426109"
  },
  {
   "cell_type": "code",
   "execution_count": 8,
   "outputs": [],
   "source": [
    "# Determine all countries\n",
    "actual_countries = data_cm_actual_allyears['country_id'].unique()\n",
    "# Determine countries with at least one conflict fatality\n",
    "feature_countries_non_zero = data_cm_features_allyears[data_cm_features_allyears['ged_sb'] > 0][\n",
    "    'country_id'].unique()\n",
    "# Determine countries which have at least one conflict fatality and are in the actuals data\n",
    "feature_and_actuals_countries_non_zero = list(set(feature_countries_non_zero) & set(actual_countries))\n",
    "\n",
    "# Determine the counties which are in actual_countries but not in feature_and_actuals_countries_non_zero\n",
    "countries_in_actuals_without_observations = list(\n",
    "    set(actual_countries) - set(feature_and_actuals_countries_non_zero))"
   ],
   "metadata": {
    "collapsed": false,
    "ExecuteTime": {
     "end_time": "2023-11-23T07:23:42.595567500Z",
     "start_time": "2023-11-23T07:23:42.529815600Z"
    }
   },
   "id": "c5c3f824c57a5c49"
  },
  {
   "cell_type": "code",
   "execution_count": 7,
   "outputs": [],
   "source": [
    "countries_in_results = contribution_results_2021_val_f['country_id'].unique()"
   ],
   "metadata": {
    "collapsed": false
   },
   "id": "9695ae09fa64d10c"
  },
  {
   "cell_type": "code",
   "execution_count": 5,
   "outputs": [],
   "source": [
    "def prepare_dataframe_for_formatting(df: pd.DataFrame, missing_country_ids: list):\n",
    "    if 'draw' in df.columns:\n",
    "        df = df.drop(columns=['draw'])\n",
    "    # Unique month_ids in the original DataFrame\n",
    "    unique_month_ids = df['month_id'].unique()\n",
    "    # Create an empty list to store new rows\n",
    "    new_rows = []\n",
    "    \n",
    "    # Generate new rows\n",
    "    for month_id in unique_month_ids:\n",
    "        for country_id in missing_country_ids:\n",
    "            new_row = {'month_id': month_id, 'country_id': country_id}\n",
    "            for sample_col in [f'sample_{i}' for i in range(1, 100)]:\n",
    "                new_row[sample_col] = 0.0\n",
    "            new_rows.append(new_row)\n",
    "    \n",
    "    # Create a new DataFrame from the list of new rows\n",
    "    new_df = pd.DataFrame(new_rows)\n",
    "    \n",
    "    # Append the new DataFrame to the original DataFrame\n",
    "    df = pd.concat([df, new_df], ignore_index=True)\n",
    "    \n",
    "    # Optionally, you can sort the DataFrame\n",
    "    df = df.sort_values(by=['country_id', 'month_id']).reset_index(drop=True)\n",
    "    \n",
    "    return df\n",
    "\n",
    "    "
   ],
   "metadata": {
    "collapsed": false,
    "ExecuteTime": {
     "end_time": "2023-11-23T07:22:29.882118900Z",
     "start_time": "2023-11-23T07:22:29.813866500Z"
    }
   },
   "id": "a626eee49cae2d5f"
  },
  {
   "cell_type": "code",
   "execution_count": 14,
   "outputs": [],
   "source": [
    "# Prepare each datafame in the contribution_results dictionary for formatting\n",
    "for validation_type in contribution_results.keys():\n",
    "    for year in contribution_results[validation_type].keys():\n",
    "        df = contribution_results[validation_type][year]\n",
    "        df = prepare_dataframe_for_formatting(df, countries_in_actuals_without_observations)\n",
    "        contribution_results[validation_type][year] = df"
   ],
   "metadata": {
    "collapsed": false
   },
   "id": "3e446c7fd0390959"
  },
  {
   "cell_type": "code",
   "execution_count": 6,
   "outputs": [],
   "source": [
    "# OPTIONAL: Implementation if not all country, month combinations have the same numer of samples, could be like this:\n",
    "        # # Check if there are nan values in the sample_values list and drop them if there are\n",
    "        # if any([pd.isna(sample_value) for sample_value in sample_values]):\n",
    "        #     sample_values = [sample_value for sample_value in sample_values if not pd.isna(sample_value)]\n",
    "def format_dataframe_for_competition(df: pd.DataFrame):\n",
    "    results_formatted = pd.DataFrame()\n",
    "    month_ids = df['month_id'].unique()\n",
    "    country_ids = df['country_id'].unique()\n",
    "    for month_id, country_id in itertools.product(month_ids, country_ids):\n",
    "        filtered_df = df[(df['month_id'] == month_id) & (df['country_id'] == country_id)]\n",
    "        sample_columns = [col for col in df.columns if 'sample_' in col]\n",
    "        sample_values = filtered_df[sample_columns].values.tolist()\n",
    "        if len(sample_values) > 0:\n",
    "            sample_values = sample_values[0]\n",
    "        draw = list(range(0, len(sample_values)))\n",
    "        index_tuple_list = []\n",
    "        for i in range(len(sample_values)):\n",
    "            index_tuple_list.append((month_id, country_id, draw[i]))\n",
    "        index = pd.MultiIndex.from_tuples(index_tuple_list, names=['month_id', 'country_id', 'draw'])\n",
    "        outcome = sample_values\n",
    "        df_single_iteration = pd.DataFrame({\"outcome\": outcome}, index=index)\n",
    "        results_formatted = pd.concat([results_formatted, df_single_iteration], ignore_index=False)\n",
    "        \n",
    "    return results_formatted "
   ],
   "metadata": {
    "collapsed": false,
    "ExecuteTime": {
     "end_time": "2023-11-23T07:22:32.750527600Z",
     "start_time": "2023-11-23T07:22:32.668736Z"
    }
   },
   "id": "ca4ef29f3b2372e6"
  },
  {
   "cell_type": "code",
   "execution_count": 16,
   "outputs": [],
   "source": [
    "# Format each datafame in the contribution_results dictionary and store it in the test_window_dict\n",
    "for validation_type in contribution_results.keys():\n",
    "    for year in contribution_results[validation_type].keys():\n",
    "        df = contribution_results[validation_type][year]\n",
    "        df = format_dataframe_for_competition(df)\n",
    "        test_window_dict[validation_type][year] = df"
   ],
   "metadata": {
    "collapsed": false
   },
   "id": "d78cbfd4399e6b21"
  },
  {
   "cell_type": "code",
   "execution_count": 20,
   "outputs": [],
   "source": [
    "# Define path for export\n",
    "contribution_export_path = \"competition_results\"\n",
    "# Export the formatted dataframes to parquet files as f\"test_window_{year}_baseline_{validation_type}.parquet\"\n",
    "for validation_type in test_window_dict.keys():\n",
    "    for year in test_window_dict[validation_type].keys():\n",
    "        df = test_window_dict[validation_type][year]\n",
    "        df.to_parquet(fr\"{contribution_export_path}/test_window_{year}_baseline_{validation_type}.parquet\")"
   ],
   "metadata": {
    "collapsed": false
   },
   "id": "1ee7d01399b81667"
  },
  {
   "cell_type": "code",
   "execution_count": 4,
   "outputs": [],
   "source": [
    "dict_actuals = {\n",
    "        \"2018\": data_cm_actual_2018,\n",
    "        \"2019\": data_cm_actual_2019,\n",
    "        \"2020\": data_cm_actual_2020,\n",
    "        \"2021\": data_cm_actual_2021\n",
    "        }"
   ],
   "metadata": {
    "collapsed": false
   },
   "id": "2044a7d01567bc6e"
  },
  {
   "cell_type": "code",
   "execution_count": 24,
   "outputs": [
    {
     "name": "stdout",
     "output_type": "stream",
     "text": [
      "Unique countries in validate_on_forecast_horizon 2018 are the same as in the actuals data\n",
      "Unique months in validate_on_forecast_horizon 2018 are the same as in the actuals data\n",
      "Unique countries in validate_on_forecast_horizon 2019 are the same as in the actuals data\n",
      "Unique months in validate_on_forecast_horizon 2019 are the same as in the actuals data\n",
      "Unique countries in validate_on_forecast_horizon 2020 are the same as in the actuals data\n",
      "Unique months in validate_on_forecast_horizon 2020 are the same as in the actuals data\n",
      "Unique countries in validate_on_forecast_horizon 2021 are the same as in the actuals data\n",
      "Unique months in validate_on_forecast_horizon 2021 are the same as in the actuals data\n",
      "Unique countries in validate_on_forecast_horizon_and_month 2018 are the same as in the actuals data\n",
      "Unique months in validate_on_forecast_horizon_and_month 2018 are the same as in the actuals data\n",
      "Unique countries in validate_on_forecast_horizon_and_month 2019 are the same as in the actuals data\n",
      "Unique months in validate_on_forecast_horizon_and_month 2019 are the same as in the actuals data\n",
      "Unique countries in validate_on_forecast_horizon_and_month 2020 are the same as in the actuals data\n",
      "Unique months in validate_on_forecast_horizon_and_month 2020 are the same as in the actuals data\n",
      "Unique countries in validate_on_forecast_horizon_and_month 2021 are the same as in the actuals data\n",
      "Unique months in validate_on_forecast_horizon_and_month 2021 are the same as in the actuals data\n"
     ]
    }
   ],
   "source": [
    "# Compare for every dataframe in the test_window_dict if the unique countries and months are the same unique countries and months as in the actuals data\n",
    "for validation_type in test_window_dict.keys():\n",
    "    for year in test_window_dict[validation_type].keys():\n",
    "        df = test_window_dict[validation_type][year]\n",
    "        unique_countries = df.index.get_level_values('country_id').unique()\n",
    "        unique_months = df.index.get_level_values('month_id').unique()\n",
    "        actual_countries = dict_actuals[str(year)]['country_id'].unique()\n",
    "        actual_months = dict_actuals[str(year)]['month_id'].unique()\n",
    "        if not set(unique_countries) == set(actual_countries):\n",
    "            print(f\"Unique countries in {validation_type} {year} are not the same as in the actuals data\")\n",
    "        else: \n",
    "            print(f\"Unique countries in {validation_type} {year} are the same as in the actuals data\")\n",
    "        if not set(unique_months) == set(actual_months):\n",
    "            print(f\"Unique months in {validation_type} {year} are not the same as in the actuals data\")\n",
    "        else:\n",
    "            print(f\"Unique months in {validation_type} {year} are the same as in the actuals data\")"
   ],
   "metadata": {
    "collapsed": false
   },
   "id": "29b34b5c4f7c10e7"
  },
  {
   "cell_type": "code",
   "execution_count": 25,
   "outputs": [
    {
     "name": "stdout",
     "output_type": "stream",
     "text": [
      "Number of rows in validate_on_forecast_horizon 2018: 226908\n",
      "Number of rows in validate_on_forecast_horizon 2019: 226908\n",
      "Number of rows in validate_on_forecast_horizon 2020: 226908\n",
      "Number of rows in validate_on_forecast_horizon 2021: 226908\n",
      "Number of rows in validate_on_forecast_horizon_and_month 2018: 226908\n",
      "Number of rows in validate_on_forecast_horizon_and_month 2019: 226908\n",
      "Number of rows in validate_on_forecast_horizon_and_month 2020: 226908\n",
      "Number of rows in validate_on_forecast_horizon_and_month 2021: 226908\n"
     ]
    }
   ],
   "source": [
    "# Print the no of rows of each dataframe in the test_window_dict\n",
    "for validation_type in test_window_dict.keys():\n",
    "    for year in test_window_dict[validation_type].keys():\n",
    "        df = test_window_dict[validation_type][year]\n",
    "        print(f\"Number of rows in {validation_type} {year}: {df.shape[0]}\")"
   ],
   "metadata": {
    "collapsed": false
   },
   "id": "30e77f6d09437188"
  },
  {
   "cell_type": "code",
   "execution_count": 26,
   "outputs": [
    {
     "name": "stdout",
     "output_type": "stream",
     "text": [
      "226908\n"
     ]
    }
   ],
   "source": [
    "print(12 * 191 * 99)"
   ],
   "metadata": {
    "collapsed": false
   },
   "id": "7df96d2974b91d65"
  },
  {
   "cell_type": "markdown",
   "source": [
    "Test reformatting for Bayesian Model"
   ],
   "metadata": {
    "collapsed": false
   },
   "id": "9c21ab43f1c2cbb3"
  },
  {
   "cell_type": "code",
   "execution_count": null,
   "outputs": [],
   "source": [
    "bayesian_results = pd.read_parquet(\n",
    "    r'C:\\Users\\Uwe Drauz\\Documents\\bachelor_thesis_local\\personal_competition_data\\Results\\model3_zinb_feature_set1_posterior_predicitve_samples.parquet')\n",
    "# Change the word \"draw\" to \"sample\" in the column names of the bayesian_results dataframe\n",
    "bayesian_results.columns = [col.replace('draw', 'sample') for col in bayesian_results.columns]\n",
    "# Drop \"ged_sb\" column\n",
    "bayesian_results = bayesian_results.drop(columns=['ged_sb'])"
   ],
   "metadata": {
    "collapsed": false
   },
   "id": "ff3b7beed4b72f26"
  },
  {
   "cell_type": "code",
   "execution_count": 9,
   "outputs": [],
   "source": [
    "# Prepare the bayesian_results dataframe for formatting\n",
    "bayesian_results = prepare_dataframe_for_formatting(bayesian_results, countries_in_actuals_without_observations)"
   ],
   "metadata": {
    "collapsed": false,
    "ExecuteTime": {
     "end_time": "2023-11-23T07:24:25.076863400Z",
     "start_time": "2023-11-23T07:24:24.223234100Z"
    }
   },
   "id": "ea352f01ce82b30"
  },
  {
   "cell_type": "code",
   "execution_count": 10,
   "outputs": [],
   "source": [
    "# Format the bayesian_results dataframe\n",
    "bayesian_results_formatted = format_dataframe_for_competition(bayesian_results)"
   ],
   "metadata": {
    "collapsed": false,
    "ExecuteTime": {
     "end_time": "2023-11-23T07:29:27.817219900Z",
     "start_time": "2023-11-23T07:24:38.035403100Z"
    }
   },
   "id": "bcca5f3953544fe9"
  },
  {
   "cell_type": "code",
   "execution_count": 11,
   "outputs": [],
   "source": [
    "# Format one of the baseline dataframes for comparison\n",
    "baseline_results = prepare_dataframe_for_formatting(contribution_results_2021_val_f, countries_in_actuals_without_observations)\n",
    "baseline_results_formatted = format_dataframe_for_competition(baseline_results)"
   ],
   "metadata": {
    "collapsed": false,
    "ExecuteTime": {
     "end_time": "2023-11-23T07:31:39.925566100Z",
     "start_time": "2023-11-23T07:31:31.240379700Z"
    }
   },
   "id": "9885901026734225"
  },
  {
   "cell_type": "code",
   "execution_count": null,
   "outputs": [],
   "source": [],
   "metadata": {
    "collapsed": false
   },
   "id": "57ac8f3e9c44e3b9"
  }
 ],
 "metadata": {
  "kernelspec": {
   "display_name": "Python 3",
   "language": "python",
   "name": "python3"
  },
  "language_info": {
   "codemirror_mode": {
    "name": "ipython",
    "version": 2
   },
   "file_extension": ".py",
   "mimetype": "text/x-python",
   "name": "python",
   "nbconvert_exporter": "python",
   "pygments_lexer": "ipython2",
   "version": "2.7.6"
  }
 },
 "nbformat": 4,
 "nbformat_minor": 5
}
