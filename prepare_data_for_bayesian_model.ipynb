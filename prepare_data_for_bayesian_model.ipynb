{
 "cells": [
  {
   "cell_type": "code",
   "execution_count": 1,
   "id": "78142ef30cf40fc1",
   "metadata": {
    "collapsed": true,
    "ExecuteTime": {
     "end_time": "2023-11-02T08:21:07.418810300Z",
     "start_time": "2023-11-02T08:21:07.219804700Z"
    }
   },
   "outputs": [],
   "source": [
    "# Import functions\n",
    "import pandas as pd\n",
    "from data_gathering import gather_data_actuals, gather_data_features\n",
    "from data_preparation import preprocess_data"
   ]
  },
  {
   "cell_type": "code",
   "execution_count": 2,
   "outputs": [],
   "source": [
    "# STEP: LOAD DATA\n",
    "# Load 'Actuals' data\n",
    "_, _,_, _, data_cm_actual_allyears \\\n",
    "    = gather_data_actuals()\n",
    "\n",
    "# Load features data\n",
    "_, _, _, _, data_cm_features_allyears \\\n",
    "    = gather_data_features()"
   ],
   "metadata": {
    "collapsed": false,
    "ExecuteTime": {
     "end_time": "2023-11-02T08:21:07.937063900Z",
     "start_time": "2023-11-02T08:21:07.269818Z"
    }
   },
   "id": "a005bcc75799d8c3"
  },
  {
   "cell_type": "code",
   "execution_count": 3,
   "outputs": [],
   "source": [
    "# Calculate the share of zeros for each 'country_id'.\n",
    "share_of_zeros = data_cm_features_allyears.groupby('country_id')['ged_sb'].apply(lambda x: (x == 0).mean())\n",
    "\n",
    "# Calculate the average fatalities for each 'country_id'.\n",
    "average_fatalities = data_cm_features_allyears.groupby('country_id')['ged_sb'].mean()\n",
    "\n",
    "# Combine the results into a new DataFrame.\n",
    "desired_data = pd.DataFrame({\n",
    "    'country_id': share_of_zeros.index,\n",
    "    'share_structured_zeros': share_of_zeros.values,\n",
    "    'avg_fatalities_per_month': average_fatalities.values\n",
    "})"
   ],
   "metadata": {
    "collapsed": false,
    "ExecuteTime": {
     "end_time": "2023-11-02T08:21:08.103761400Z",
     "start_time": "2023-11-02T08:21:07.937063900Z"
    }
   },
   "id": "8ac5cbb914b851e9"
  },
  {
   "cell_type": "code",
   "execution_count": 4,
   "outputs": [],
   "source": [
    "# Calculate quantiles of share of structured zeros in fatalities and average fatalities per month per country (fatalities = ged_sb) excluding the countries with structured zeros share of 1\n",
    "structured_zeros_quantiles = desired_data['share_structured_zeros'].quantile([0.25, 0.5, 0.75])\n",
    "avg_fatalities_quantiles = desired_data['avg_fatalities_per_month'].quantile([0.25, 0.5, 0.75])"
   ],
   "metadata": {
    "collapsed": false,
    "ExecuteTime": {
     "end_time": "2023-11-02T08:21:08.120508300Z",
     "start_time": "2023-11-02T08:21:08.103761400Z"
    }
   },
   "id": "387cae3a7a901265"
  },
  {
   "cell_type": "code",
   "execution_count": 5,
   "outputs": [],
   "source": [
    "# Determine all countries\n",
    "actual_countries = data_cm_actual_allyears['country_id'].unique()\n",
    "# Determine countries with at least one conflict fatality\n",
    "feature_countries_non_zero = data_cm_features_allyears[data_cm_features_allyears['ged_sb'] > 0][\n",
    "    'country_id'].unique()\n",
    "# Determine countries whose the average fatalities per month are greater than the 0.75 quantile of average fatalities per month\n",
    "countries_over_quantile = desired_data[desired_data['avg_fatalities_per_month'] > avg_fatalities_quantiles[0.75]]['country_id'].unique()"
   ],
   "metadata": {
    "collapsed": false,
    "ExecuteTime": {
     "end_time": "2023-11-02T08:21:08.187487300Z",
     "start_time": "2023-11-02T08:21:08.120508300Z"
    }
   },
   "id": "c4805993d75bf062"
  },
  {
   "cell_type": "code",
   "execution_count": 6,
   "outputs": [],
   "source": [
    "# Determine countries with at least one conflict fatality and in actuals data\n",
    "feature_and_actuals_countries_non_zero = list(set(feature_countries_non_zero) & set(actual_countries))\n",
    "\n",
    "# Determine the overlap between \"actual_countries\" and \"countries_over_quantile\"\n",
    "feature_and_actuals_countries_non_zero_above_avg_quantile= list(set(feature_countries_non_zero) & set(actual_countries) & set(countries_over_quantile))"
   ],
   "metadata": {
    "collapsed": false,
    "ExecuteTime": {
     "end_time": "2023-11-02T08:21:08.203993400Z",
     "start_time": "2023-11-02T08:21:08.187487300Z"
    }
   },
   "id": "36f8fb4568d538dd"
  },
  {
   "cell_type": "code",
   "execution_count": 7,
   "outputs": [],
   "source": [
    "# Set country filter\n",
    "country_filter = feature_and_actuals_countries_non_zero"
   ],
   "metadata": {
    "collapsed": false,
    "ExecuteTime": {
     "end_time": "2023-11-02T08:21:08.237515900Z",
     "start_time": "2023-11-02T08:21:08.203993400Z"
    }
   },
   "id": "fb846163363a8093"
  },
  {
   "cell_type": "code",
   "execution_count": 10,
   "outputs": [],
   "source": [
    "# Set country filter\n",
    "country_filter = feature_and_actuals_countries_non_zero_above_avg_quantile"
   ],
   "metadata": {
    "collapsed": false,
    "ExecuteTime": {
     "end_time": "2023-11-02T08:21:26.983964300Z",
     "start_time": "2023-11-02T08:21:26.933612700Z"
    }
   },
   "id": "d182c2499e588507"
  },
  {
   "cell_type": "code",
   "execution_count": 11,
   "outputs": [],
   "source": [
    "# STEP: FEATURE SELECTION AND STANDARDIZATION\n",
    "covariates = []\n",
    "lagged_covariates = ['ged_sb', 'decay_ged_sb_5', 'decay_ged_sb_100', 'decay_ged_sb_500', 'ged_sb_tsum_24']\n",
    "# Select countries which have at least one conflict fatality\n",
    "filtered_data = data_cm_features_allyears[data_cm_features_allyears['country_id'].isin(country_filter)]\n",
    "filtered_data = preprocess_data(filtered_data, covariates, lagged_covariates, standardize=True)"
   ],
   "metadata": {
    "collapsed": false,
    "ExecuteTime": {
     "end_time": "2023-11-02T08:21:28.620663200Z",
     "start_time": "2023-11-02T08:21:27.900940500Z"
    }
   },
   "id": "initial_id"
  },
  {
   "cell_type": "code",
   "execution_count": 12,
   "outputs": [],
   "source": [
    "# Export data\n",
    "filtered_data.to_parquet(r'C:\\Users\\Uwe Drauz\\Documents\\bachelor_thesis_local\\personal_competition_data\\data\\cm_features_allyears_feature_set2.parquet')"
   ],
   "metadata": {
    "collapsed": false,
    "ExecuteTime": {
     "end_time": "2023-11-02T08:21:34.705850300Z",
     "start_time": "2023-11-02T08:21:34.588716800Z"
    }
   },
   "id": "149472c3f4281f95"
  }
 ],
 "metadata": {
  "kernelspec": {
   "display_name": "Python 3",
   "language": "python",
   "name": "python3"
  },
  "language_info": {
   "codemirror_mode": {
    "name": "ipython",
    "version": 2
   },
   "file_extension": ".py",
   "mimetype": "text/x-python",
   "name": "python",
   "nbconvert_exporter": "python",
   "pygments_lexer": "ipython2",
   "version": "2.7.6"
  }
 },
 "nbformat": 4,
 "nbformat_minor": 5
}
