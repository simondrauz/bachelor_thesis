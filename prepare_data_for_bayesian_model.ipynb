{
 "cells": [
  {
   "cell_type": "code",
   "execution_count": 1,
   "id": "78142ef30cf40fc1",
   "metadata": {
    "collapsed": true,
    "ExecuteTime": {
     "end_time": "2023-12-08T15:08:33.812885600Z",
     "start_time": "2023-12-08T15:08:33.696097500Z"
    }
   },
   "outputs": [],
   "source": [
    "# Import functions\n",
    "import pandas as pd\n",
    "from data_gathering import gather_data_actuals, gather_data_features\n",
    "from data_preparation import preprocess_data"
   ]
  },
  {
   "cell_type": "code",
   "execution_count": 2,
   "outputs": [],
   "source": [
    "# STEP: LOAD DATA\n",
    "# Load 'Actuals' data\n",
    "data_cm_actual_2018, data_cm_actual_2019, data_cm_actual_2020, data_cm_actual_2021, data_cm_actual_allyears \\\n",
    "    = gather_data_actuals()\n",
    "\n",
    "# Load features data\n",
    "_, _, _, _, data_cm_features_allyears \\\n",
    "    = gather_data_features()"
   ],
   "metadata": {
    "collapsed": false,
    "ExecuteTime": {
     "end_time": "2023-12-08T15:08:34.247580100Z",
     "start_time": "2023-12-08T15:08:33.828840900Z"
    }
   },
   "id": "a005bcc75799d8c3"
  },
  {
   "cell_type": "code",
   "execution_count": 3,
   "outputs": [],
   "source": [
    "from mappings import map_date_to_month_id"
   ],
   "metadata": {
    "collapsed": false,
    "ExecuteTime": {
     "end_time": "2023-12-08T15:08:34.269518Z",
     "start_time": "2023-12-08T15:08:34.252563500Z"
    }
   },
   "id": "db709b9dcc8bb4fe"
  },
  {
   "cell_type": "code",
   "execution_count": 4,
   "outputs": [],
   "source": [
    "end_training_2018 = map_date_to_month_id(2017,10)\n",
    "end_actuals_2018 = map_date_to_month_id(2018,12)\n",
    "end_training_2019 = map_date_to_month_id(2018,10)\n",
    "end_actuals_2019 = map_date_to_month_id(2019,12)\n",
    "end_training_2020 = map_date_to_month_id(2019,10)\n",
    "end_actuals_2020 = map_date_to_month_id(2020,12)\n",
    "end_training_2021 = map_date_to_month_id(2020,10)\n",
    "end_actuals_2021 = map_date_to_month_id(2021,12)\n",
    "end_training_composed = map_date_to_month_id(2017,10)\n",
    "end_actuals_composed = map_date_to_month_id(2021,12)"
   ],
   "metadata": {
    "collapsed": false,
    "ExecuteTime": {
     "end_time": "2023-12-08T15:08:34.317391100Z",
     "start_time": "2023-12-08T15:08:34.269518Z"
    }
   },
   "id": "4fa40755fc49c226"
  },
  {
   "cell_type": "markdown",
   "source": [
    "Determine quantiles of share of structured zeros in fatalities and average fatalities based on training data for the years respectively\n",
    "Export year specific data for the previously determined countries up until the end of the respective actuals data\n",
    "Later also the adjacency matrix needs to be year specific \n",
    "(would have to see if it makes a difference, more probable for feature set 2 than 1 that we have changes in the countries)"
   ],
   "metadata": {
    "collapsed": false
   },
   "id": "783da7d41f969dbe"
  },
  {
   "cell_type": "code",
   "execution_count": 5,
   "outputs": [],
   "source": [
    "# Add the actual data to the data_cm_features_allyears (data_cm_features_allyears is up until month_id 490 corresponding to 2020-10, data_cm_actual_allyears has data including month_id 491 corresponding to 2020-11 and onwards)\n",
    "additional_actual_data = data_cm_actual_allyears[data_cm_actual_allyears['month_id'] > 490]\n",
    "data_cm_features_allyears = pd.concat([data_cm_features_allyears, additional_actual_data])"
   ],
   "metadata": {
    "collapsed": false,
    "ExecuteTime": {
     "end_time": "2023-12-08T15:08:34.394438800Z",
     "start_time": "2023-12-08T15:08:34.313401Z"
    }
   },
   "id": "8c0b65d8be615530"
  },
  {
   "cell_type": "code",
   "execution_count": 6,
   "outputs": [],
   "source": [
    "end_training = end_training_2018\n",
    "end_actuals = end_actuals_2021\n",
    "year = \"\"\n",
    "actuals_data = data_cm_actual_allyears\n",
    "feature_set = 4"
   ],
   "metadata": {
    "collapsed": false,
    "ExecuteTime": {
     "end_time": "2023-12-08T15:08:34.537073200Z",
     "start_time": "2023-12-08T15:08:34.421414300Z"
    }
   },
   "id": "5798f8b6e30804d6"
  },
  {
   "cell_type": "code",
   "execution_count": 7,
   "outputs": [],
   "source": [
    "small_set_lin_predictors = ['vdem_v2x_accountability', 'vdem_v2xpe_exlecon', 'vdem_v2xpe_exlpol', 'wdi_sm_pop_netm', 'wdi_sm_pop_refg_or', 'wdi_ms_mil_xpnd_zs', 'wdi_dt_oda_odat_pc_zs', 'wdi_sp_pop_totl']\n",
    "\n",
    "large_set_lin_predictors = ['vdem_v2x_horacc', 'vdem_v2x_veracc', 'vdem_v2xnp_client', 'vdem_v2x_divparctrl', 'vdem_v2xpe_exlecon', 'vdem_v2xpe_exlpol', 'vdem_v2xpe_exlsocgr', 'vdem_v2xpe_exlgeo', 'vdem_v2xpe_exlgender', 'vdem_v2x_libdem', 'wdi_sm_pop_netm', 'wdi_sm_pop_refg_or', 'wdi_ms_mil_xpnd_zs', 'wdi_dt_oda_odat_pc_zs', 'wdi_sp_pop_totl', 'wdi_sp_dyn_imrt_in']"
   ],
   "metadata": {
    "collapsed": false,
    "ExecuteTime": {
     "end_time": "2023-12-08T15:08:34.538042200Z",
     "start_time": "2023-12-08T15:08:34.462246200Z"
    }
   },
   "id": "32d44a5ba80415a8"
  },
  {
   "cell_type": "code",
   "execution_count": 8,
   "outputs": [],
   "source": [
    "# Calculate the share of zeros for each 'country_id'.\n",
    "share_of_zeros = data_cm_features_allyears[data_cm_features_allyears['month_id'] <= end_training].groupby('country_id')['ged_sb'].apply(lambda x: (x == 0).mean())\n",
    "\n",
    "# Calculate the average fatalities for each 'country_id'.\n",
    "average_fatalities = data_cm_features_allyears[data_cm_features_allyears['month_id'] <= end_training].groupby('country_id')['ged_sb'].mean()\n",
    "\n",
    "# Combine the results into a new DataFrame.\n",
    "desired_data = pd.DataFrame({\n",
    "    'country_id': share_of_zeros.index,\n",
    "    'share_structured_zeros': share_of_zeros.values,\n",
    "    'avg_fatalities_per_month': average_fatalities.values\n",
    "})"
   ],
   "metadata": {
    "collapsed": false,
    "ExecuteTime": {
     "end_time": "2023-12-08T15:08:34.790470Z",
     "start_time": "2023-12-08T15:08:34.494161200Z"
    }
   },
   "id": "8ac5cbb914b851e9"
  },
  {
   "cell_type": "code",
   "execution_count": 9,
   "outputs": [],
   "source": [
    "# Calculate quantiles of share of structured zeros in fatalities and average fatalities per month per country (fatalities = ged_sb) excluding the countries with structured zeros share of 1\n",
    "structured_zeros_quantiles = desired_data['share_structured_zeros'].quantile([0.25, 0.5, 0.75])\n",
    "avg_fatalities_quantiles = desired_data['avg_fatalities_per_month'].quantile([0.25, 0.5, 0.75])"
   ],
   "metadata": {
    "collapsed": false,
    "ExecuteTime": {
     "end_time": "2023-12-08T15:08:34.882222300Z",
     "start_time": "2023-12-08T15:08:34.815447100Z"
    }
   },
   "id": "387cae3a7a901265"
  },
  {
   "cell_type": "code",
   "execution_count": 10,
   "outputs": [],
   "source": [
    "# Determine all countries\n",
    "actual_countries = data_cm_actual_allyears[data_cm_actual_allyears['month_id'] <= end_actuals]['country_id'].unique()\n",
    "# Determine countries with at least one conflict fatality\n",
    "feature_countries_non_zero = data_cm_features_allyears[(data_cm_features_allyears['ged_sb'] > 0) & (data_cm_features_allyears[\"month_id\"] <= end_training)][\n",
    "    'country_id'].unique()\n",
    "# Determine countries whose the average fatalities per month are greater than the 0.75 quantile of average fatalities per month\n",
    "countries_over_quantile = desired_data[desired_data['avg_fatalities_per_month'] > avg_fatalities_quantiles[0.75]]['country_id'].unique()"
   ],
   "metadata": {
    "collapsed": false,
    "ExecuteTime": {
     "end_time": "2023-12-08T15:08:34.965000900Z",
     "start_time": "2023-12-08T15:08:34.851316700Z"
    }
   },
   "id": "c4805993d75bf062"
  },
  {
   "cell_type": "code",
   "execution_count": 11,
   "outputs": [],
   "source": [
    "# Determine countries with at least one conflict fatality and in actuals data\n",
    "feature_and_actuals_countries_non_zero = list(set(feature_countries_non_zero) & set(actual_countries))\n",
    "\n",
    "# Determine the overlap between \"actual_countries\" and \"countries_over_quantile\"\n",
    "feature_and_actuals_countries_non_zero_above_avg_quantile= list(set(feature_countries_non_zero) & set(actual_countries) & set(countries_over_quantile))"
   ],
   "metadata": {
    "collapsed": false,
    "ExecuteTime": {
     "end_time": "2023-12-08T15:08:34.965996700Z",
     "start_time": "2023-12-08T15:08:34.921123600Z"
    }
   },
   "id": "36f8fb4568d538dd"
  },
  {
   "cell_type": "code",
   "execution_count": 12,
   "outputs": [],
   "source": [
    "# Set country filter\n",
    "country_filter = feature_and_actuals_countries_non_zero"
   ],
   "metadata": {
    "collapsed": false,
    "ExecuteTime": {
     "end_time": "2023-12-08T15:08:34.999906700Z",
     "start_time": "2023-12-08T15:08:34.933089500Z"
    }
   },
   "id": "fb846163363a8093"
  },
  {
   "cell_type": "code",
   "execution_count": 13,
   "outputs": [],
   "source": [
    "# Set country filter\n",
    "# country_filter = feature_and_actuals_countries_non_zero_above_avg_quantile"
   ],
   "metadata": {
    "collapsed": false,
    "ExecuteTime": {
     "end_time": "2023-12-08T15:08:35.036478100Z",
     "start_time": "2023-12-08T15:08:34.978965800Z"
    }
   },
   "id": "d182c2499e588507"
  },
  {
   "cell_type": "code",
   "execution_count": 14,
   "outputs": [],
   "source": [
    "# Set country filter to all countries\n",
    "# country_filter = actual_countries"
   ],
   "metadata": {
    "collapsed": false,
    "ExecuteTime": {
     "end_time": "2023-12-08T15:08:35.052405500Z",
     "start_time": "2023-12-08T15:08:35.024481200Z"
    }
   },
   "id": "e7afd3def72a7011"
  },
  {
   "cell_type": "code",
   "execution_count": 124,
   "outputs": [
    {
     "name": "stderr",
     "output_type": "stream",
     "text": [
      "C:\\Users\\Uwe Drauz\\PycharmProjects\\bachelor_thesis\\data_preparation.py:559: PerformanceWarning: DataFrame is highly fragmented.  This is usually the result of calling `frame.insert` many times, which has poor performance.  Consider joining all columns at once using pd.concat(axis=1) instead. To get a de-fragmented frame, use `newframe = frame.copy()`\n",
      "  df[new_column_name] = (df['country_id'] == country_id).astype(int)\n",
      "C:\\Users\\Uwe Drauz\\PycharmProjects\\bachelor_thesis\\data_preparation.py:559: PerformanceWarning: DataFrame is highly fragmented.  This is usually the result of calling `frame.insert` many times, which has poor performance.  Consider joining all columns at once using pd.concat(axis=1) instead. To get a de-fragmented frame, use `newframe = frame.copy()`\n",
      "  df[new_column_name] = (df['country_id'] == country_id).astype(int)\n",
      "C:\\Users\\Uwe Drauz\\PycharmProjects\\bachelor_thesis\\data_preparation.py:559: PerformanceWarning: DataFrame is highly fragmented.  This is usually the result of calling `frame.insert` many times, which has poor performance.  Consider joining all columns at once using pd.concat(axis=1) instead. To get a de-fragmented frame, use `newframe = frame.copy()`\n",
      "  df[new_column_name] = (df['country_id'] == country_id).astype(int)\n",
      "C:\\Users\\Uwe Drauz\\PycharmProjects\\bachelor_thesis\\data_preparation.py:559: PerformanceWarning: DataFrame is highly fragmented.  This is usually the result of calling `frame.insert` many times, which has poor performance.  Consider joining all columns at once using pd.concat(axis=1) instead. To get a de-fragmented frame, use `newframe = frame.copy()`\n",
      "  df[new_column_name] = (df['country_id'] == country_id).astype(int)\n",
      "C:\\Users\\Uwe Drauz\\PycharmProjects\\bachelor_thesis\\data_preparation.py:559: PerformanceWarning: DataFrame is highly fragmented.  This is usually the result of calling `frame.insert` many times, which has poor performance.  Consider joining all columns at once using pd.concat(axis=1) instead. To get a de-fragmented frame, use `newframe = frame.copy()`\n",
      "  df[new_column_name] = (df['country_id'] == country_id).astype(int)\n",
      "C:\\Users\\Uwe Drauz\\PycharmProjects\\bachelor_thesis\\data_preparation.py:559: PerformanceWarning: DataFrame is highly fragmented.  This is usually the result of calling `frame.insert` many times, which has poor performance.  Consider joining all columns at once using pd.concat(axis=1) instead. To get a de-fragmented frame, use `newframe = frame.copy()`\n",
      "  df[new_column_name] = (df['country_id'] == country_id).astype(int)\n",
      "C:\\Users\\Uwe Drauz\\PycharmProjects\\bachelor_thesis\\data_preparation.py:559: PerformanceWarning: DataFrame is highly fragmented.  This is usually the result of calling `frame.insert` many times, which has poor performance.  Consider joining all columns at once using pd.concat(axis=1) instead. To get a de-fragmented frame, use `newframe = frame.copy()`\n",
      "  df[new_column_name] = (df['country_id'] == country_id).astype(int)\n",
      "C:\\Users\\Uwe Drauz\\PycharmProjects\\bachelor_thesis\\data_preparation.py:559: PerformanceWarning: DataFrame is highly fragmented.  This is usually the result of calling `frame.insert` many times, which has poor performance.  Consider joining all columns at once using pd.concat(axis=1) instead. To get a de-fragmented frame, use `newframe = frame.copy()`\n",
      "  df[new_column_name] = (df['country_id'] == country_id).astype(int)\n",
      "C:\\Users\\Uwe Drauz\\PycharmProjects\\bachelor_thesis\\data_preparation.py:559: PerformanceWarning: DataFrame is highly fragmented.  This is usually the result of calling `frame.insert` many times, which has poor performance.  Consider joining all columns at once using pd.concat(axis=1) instead. To get a de-fragmented frame, use `newframe = frame.copy()`\n",
      "  df[new_column_name] = (df['country_id'] == country_id).astype(int)\n",
      "C:\\Users\\Uwe Drauz\\PycharmProjects\\bachelor_thesis\\data_preparation.py:559: PerformanceWarning: DataFrame is highly fragmented.  This is usually the result of calling `frame.insert` many times, which has poor performance.  Consider joining all columns at once using pd.concat(axis=1) instead. To get a de-fragmented frame, use `newframe = frame.copy()`\n",
      "  df[new_column_name] = (df['country_id'] == country_id).astype(int)\n",
      "C:\\Users\\Uwe Drauz\\PycharmProjects\\bachelor_thesis\\data_preparation.py:559: PerformanceWarning: DataFrame is highly fragmented.  This is usually the result of calling `frame.insert` many times, which has poor performance.  Consider joining all columns at once using pd.concat(axis=1) instead. To get a de-fragmented frame, use `newframe = frame.copy()`\n",
      "  df[new_column_name] = (df['country_id'] == country_id).astype(int)\n",
      "C:\\Users\\Uwe Drauz\\PycharmProjects\\bachelor_thesis\\data_preparation.py:559: PerformanceWarning: DataFrame is highly fragmented.  This is usually the result of calling `frame.insert` many times, which has poor performance.  Consider joining all columns at once using pd.concat(axis=1) instead. To get a de-fragmented frame, use `newframe = frame.copy()`\n",
      "  df[new_column_name] = (df['country_id'] == country_id).astype(int)\n",
      "C:\\Users\\Uwe Drauz\\PycharmProjects\\bachelor_thesis\\data_preparation.py:559: PerformanceWarning: DataFrame is highly fragmented.  This is usually the result of calling `frame.insert` many times, which has poor performance.  Consider joining all columns at once using pd.concat(axis=1) instead. To get a de-fragmented frame, use `newframe = frame.copy()`\n",
      "  df[new_column_name] = (df['country_id'] == country_id).astype(int)\n",
      "C:\\Users\\Uwe Drauz\\PycharmProjects\\bachelor_thesis\\data_preparation.py:559: PerformanceWarning: DataFrame is highly fragmented.  This is usually the result of calling `frame.insert` many times, which has poor performance.  Consider joining all columns at once using pd.concat(axis=1) instead. To get a de-fragmented frame, use `newframe = frame.copy()`\n",
      "  df[new_column_name] = (df['country_id'] == country_id).astype(int)\n",
      "C:\\Users\\Uwe Drauz\\PycharmProjects\\bachelor_thesis\\data_preparation.py:559: PerformanceWarning: DataFrame is highly fragmented.  This is usually the result of calling `frame.insert` many times, which has poor performance.  Consider joining all columns at once using pd.concat(axis=1) instead. To get a de-fragmented frame, use `newframe = frame.copy()`\n",
      "  df[new_column_name] = (df['country_id'] == country_id).astype(int)\n",
      "C:\\Users\\Uwe Drauz\\PycharmProjects\\bachelor_thesis\\data_preparation.py:559: PerformanceWarning: DataFrame is highly fragmented.  This is usually the result of calling `frame.insert` many times, which has poor performance.  Consider joining all columns at once using pd.concat(axis=1) instead. To get a de-fragmented frame, use `newframe = frame.copy()`\n",
      "  df[new_column_name] = (df['country_id'] == country_id).astype(int)\n",
      "C:\\Users\\Uwe Drauz\\PycharmProjects\\bachelor_thesis\\data_preparation.py:559: PerformanceWarning: DataFrame is highly fragmented.  This is usually the result of calling `frame.insert` many times, which has poor performance.  Consider joining all columns at once using pd.concat(axis=1) instead. To get a de-fragmented frame, use `newframe = frame.copy()`\n",
      "  df[new_column_name] = (df['country_id'] == country_id).astype(int)\n",
      "C:\\Users\\Uwe Drauz\\PycharmProjects\\bachelor_thesis\\data_preparation.py:559: PerformanceWarning: DataFrame is highly fragmented.  This is usually the result of calling `frame.insert` many times, which has poor performance.  Consider joining all columns at once using pd.concat(axis=1) instead. To get a de-fragmented frame, use `newframe = frame.copy()`\n",
      "  df[new_column_name] = (df['country_id'] == country_id).astype(int)\n",
      "C:\\Users\\Uwe Drauz\\PycharmProjects\\bachelor_thesis\\data_preparation.py:559: PerformanceWarning: DataFrame is highly fragmented.  This is usually the result of calling `frame.insert` many times, which has poor performance.  Consider joining all columns at once using pd.concat(axis=1) instead. To get a de-fragmented frame, use `newframe = frame.copy()`\n",
      "  df[new_column_name] = (df['country_id'] == country_id).astype(int)\n",
      "C:\\Users\\Uwe Drauz\\PycharmProjects\\bachelor_thesis\\data_preparation.py:559: PerformanceWarning: DataFrame is highly fragmented.  This is usually the result of calling `frame.insert` many times, which has poor performance.  Consider joining all columns at once using pd.concat(axis=1) instead. To get a de-fragmented frame, use `newframe = frame.copy()`\n",
      "  df[new_column_name] = (df['country_id'] == country_id).astype(int)\n",
      "C:\\Users\\Uwe Drauz\\PycharmProjects\\bachelor_thesis\\data_preparation.py:559: PerformanceWarning: DataFrame is highly fragmented.  This is usually the result of calling `frame.insert` many times, which has poor performance.  Consider joining all columns at once using pd.concat(axis=1) instead. To get a de-fragmented frame, use `newframe = frame.copy()`\n",
      "  df[new_column_name] = (df['country_id'] == country_id).astype(int)\n",
      "C:\\Users\\Uwe Drauz\\PycharmProjects\\bachelor_thesis\\data_preparation.py:559: PerformanceWarning: DataFrame is highly fragmented.  This is usually the result of calling `frame.insert` many times, which has poor performance.  Consider joining all columns at once using pd.concat(axis=1) instead. To get a de-fragmented frame, use `newframe = frame.copy()`\n",
      "  df[new_column_name] = (df['country_id'] == country_id).astype(int)\n",
      "C:\\Users\\Uwe Drauz\\PycharmProjects\\bachelor_thesis\\data_preparation.py:559: PerformanceWarning: DataFrame is highly fragmented.  This is usually the result of calling `frame.insert` many times, which has poor performance.  Consider joining all columns at once using pd.concat(axis=1) instead. To get a de-fragmented frame, use `newframe = frame.copy()`\n",
      "  df[new_column_name] = (df['country_id'] == country_id).astype(int)\n",
      "C:\\Users\\Uwe Drauz\\PycharmProjects\\bachelor_thesis\\data_preparation.py:559: PerformanceWarning: DataFrame is highly fragmented.  This is usually the result of calling `frame.insert` many times, which has poor performance.  Consider joining all columns at once using pd.concat(axis=1) instead. To get a de-fragmented frame, use `newframe = frame.copy()`\n",
      "  df[new_column_name] = (df['country_id'] == country_id).astype(int)\n",
      "C:\\Users\\Uwe Drauz\\PycharmProjects\\bachelor_thesis\\data_preparation.py:559: PerformanceWarning: DataFrame is highly fragmented.  This is usually the result of calling `frame.insert` many times, which has poor performance.  Consider joining all columns at once using pd.concat(axis=1) instead. To get a de-fragmented frame, use `newframe = frame.copy()`\n",
      "  df[new_column_name] = (df['country_id'] == country_id).astype(int)\n",
      "C:\\Users\\Uwe Drauz\\PycharmProjects\\bachelor_thesis\\data_preparation.py:559: PerformanceWarning: DataFrame is highly fragmented.  This is usually the result of calling `frame.insert` many times, which has poor performance.  Consider joining all columns at once using pd.concat(axis=1) instead. To get a de-fragmented frame, use `newframe = frame.copy()`\n",
      "  df[new_column_name] = (df['country_id'] == country_id).astype(int)\n",
      "C:\\Users\\Uwe Drauz\\PycharmProjects\\bachelor_thesis\\data_preparation.py:559: PerformanceWarning: DataFrame is highly fragmented.  This is usually the result of calling `frame.insert` many times, which has poor performance.  Consider joining all columns at once using pd.concat(axis=1) instead. To get a de-fragmented frame, use `newframe = frame.copy()`\n",
      "  df[new_column_name] = (df['country_id'] == country_id).astype(int)\n",
      "C:\\Users\\Uwe Drauz\\PycharmProjects\\bachelor_thesis\\data_preparation.py:559: PerformanceWarning: DataFrame is highly fragmented.  This is usually the result of calling `frame.insert` many times, which has poor performance.  Consider joining all columns at once using pd.concat(axis=1) instead. To get a de-fragmented frame, use `newframe = frame.copy()`\n",
      "  df[new_column_name] = (df['country_id'] == country_id).astype(int)\n",
      "C:\\Users\\Uwe Drauz\\PycharmProjects\\bachelor_thesis\\data_preparation.py:559: PerformanceWarning: DataFrame is highly fragmented.  This is usually the result of calling `frame.insert` many times, which has poor performance.  Consider joining all columns at once using pd.concat(axis=1) instead. To get a de-fragmented frame, use `newframe = frame.copy()`\n",
      "  df[new_column_name] = (df['country_id'] == country_id).astype(int)\n",
      "C:\\Users\\Uwe Drauz\\PycharmProjects\\bachelor_thesis\\data_preparation.py:559: PerformanceWarning: DataFrame is highly fragmented.  This is usually the result of calling `frame.insert` many times, which has poor performance.  Consider joining all columns at once using pd.concat(axis=1) instead. To get a de-fragmented frame, use `newframe = frame.copy()`\n",
      "  df[new_column_name] = (df['country_id'] == country_id).astype(int)\n",
      "C:\\Users\\Uwe Drauz\\PycharmProjects\\bachelor_thesis\\data_preparation.py:559: PerformanceWarning: DataFrame is highly fragmented.  This is usually the result of calling `frame.insert` many times, which has poor performance.  Consider joining all columns at once using pd.concat(axis=1) instead. To get a de-fragmented frame, use `newframe = frame.copy()`\n",
      "  df[new_column_name] = (df['country_id'] == country_id).astype(int)\n",
      "C:\\Users\\Uwe Drauz\\PycharmProjects\\bachelor_thesis\\data_preparation.py:559: PerformanceWarning: DataFrame is highly fragmented.  This is usually the result of calling `frame.insert` many times, which has poor performance.  Consider joining all columns at once using pd.concat(axis=1) instead. To get a de-fragmented frame, use `newframe = frame.copy()`\n",
      "  df[new_column_name] = (df['country_id'] == country_id).astype(int)\n",
      "C:\\Users\\Uwe Drauz\\PycharmProjects\\bachelor_thesis\\data_preparation.py:559: PerformanceWarning: DataFrame is highly fragmented.  This is usually the result of calling `frame.insert` many times, which has poor performance.  Consider joining all columns at once using pd.concat(axis=1) instead. To get a de-fragmented frame, use `newframe = frame.copy()`\n",
      "  df[new_column_name] = (df['country_id'] == country_id).astype(int)\n",
      "C:\\Users\\Uwe Drauz\\PycharmProjects\\bachelor_thesis\\data_preparation.py:559: PerformanceWarning: DataFrame is highly fragmented.  This is usually the result of calling `frame.insert` many times, which has poor performance.  Consider joining all columns at once using pd.concat(axis=1) instead. To get a de-fragmented frame, use `newframe = frame.copy()`\n",
      "  df[new_column_name] = (df['country_id'] == country_id).astype(int)\n",
      "C:\\Users\\Uwe Drauz\\PycharmProjects\\bachelor_thesis\\data_preparation.py:559: PerformanceWarning: DataFrame is highly fragmented.  This is usually the result of calling `frame.insert` many times, which has poor performance.  Consider joining all columns at once using pd.concat(axis=1) instead. To get a de-fragmented frame, use `newframe = frame.copy()`\n",
      "  df[new_column_name] = (df['country_id'] == country_id).astype(int)\n",
      "C:\\Users\\Uwe Drauz\\PycharmProjects\\bachelor_thesis\\data_preparation.py:559: PerformanceWarning: DataFrame is highly fragmented.  This is usually the result of calling `frame.insert` many times, which has poor performance.  Consider joining all columns at once using pd.concat(axis=1) instead. To get a de-fragmented frame, use `newframe = frame.copy()`\n",
      "  df[new_column_name] = (df['country_id'] == country_id).astype(int)\n",
      "C:\\Users\\Uwe Drauz\\PycharmProjects\\bachelor_thesis\\data_preparation.py:559: PerformanceWarning: DataFrame is highly fragmented.  This is usually the result of calling `frame.insert` many times, which has poor performance.  Consider joining all columns at once using pd.concat(axis=1) instead. To get a de-fragmented frame, use `newframe = frame.copy()`\n",
      "  df[new_column_name] = (df['country_id'] == country_id).astype(int)\n",
      "C:\\Users\\Uwe Drauz\\PycharmProjects\\bachelor_thesis\\data_preparation.py:559: PerformanceWarning: DataFrame is highly fragmented.  This is usually the result of calling `frame.insert` many times, which has poor performance.  Consider joining all columns at once using pd.concat(axis=1) instead. To get a de-fragmented frame, use `newframe = frame.copy()`\n",
      "  df[new_column_name] = (df['country_id'] == country_id).astype(int)\n",
      "C:\\Users\\Uwe Drauz\\PycharmProjects\\bachelor_thesis\\data_preparation.py:559: PerformanceWarning: DataFrame is highly fragmented.  This is usually the result of calling `frame.insert` many times, which has poor performance.  Consider joining all columns at once using pd.concat(axis=1) instead. To get a de-fragmented frame, use `newframe = frame.copy()`\n",
      "  df[new_column_name] = (df['country_id'] == country_id).astype(int)\n",
      "C:\\Users\\Uwe Drauz\\PycharmProjects\\bachelor_thesis\\data_preparation.py:559: PerformanceWarning: DataFrame is highly fragmented.  This is usually the result of calling `frame.insert` many times, which has poor performance.  Consider joining all columns at once using pd.concat(axis=1) instead. To get a de-fragmented frame, use `newframe = frame.copy()`\n",
      "  df[new_column_name] = (df['country_id'] == country_id).astype(int)\n",
      "C:\\Users\\Uwe Drauz\\PycharmProjects\\bachelor_thesis\\data_preparation.py:559: PerformanceWarning: DataFrame is highly fragmented.  This is usually the result of calling `frame.insert` many times, which has poor performance.  Consider joining all columns at once using pd.concat(axis=1) instead. To get a de-fragmented frame, use `newframe = frame.copy()`\n",
      "  df[new_column_name] = (df['country_id'] == country_id).astype(int)\n",
      "C:\\Users\\Uwe Drauz\\PycharmProjects\\bachelor_thesis\\data_preparation.py:559: PerformanceWarning: DataFrame is highly fragmented.  This is usually the result of calling `frame.insert` many times, which has poor performance.  Consider joining all columns at once using pd.concat(axis=1) instead. To get a de-fragmented frame, use `newframe = frame.copy()`\n",
      "  df[new_column_name] = (df['country_id'] == country_id).astype(int)\n",
      "C:\\Users\\Uwe Drauz\\PycharmProjects\\bachelor_thesis\\data_preparation.py:559: PerformanceWarning: DataFrame is highly fragmented.  This is usually the result of calling `frame.insert` many times, which has poor performance.  Consider joining all columns at once using pd.concat(axis=1) instead. To get a de-fragmented frame, use `newframe = frame.copy()`\n",
      "  df[new_column_name] = (df['country_id'] == country_id).astype(int)\n",
      "C:\\Users\\Uwe Drauz\\PycharmProjects\\bachelor_thesis\\data_preparation.py:559: PerformanceWarning: DataFrame is highly fragmented.  This is usually the result of calling `frame.insert` many times, which has poor performance.  Consider joining all columns at once using pd.concat(axis=1) instead. To get a de-fragmented frame, use `newframe = frame.copy()`\n",
      "  df[new_column_name] = (df['country_id'] == country_id).astype(int)\n",
      "C:\\Users\\Uwe Drauz\\PycharmProjects\\bachelor_thesis\\data_preparation.py:559: PerformanceWarning: DataFrame is highly fragmented.  This is usually the result of calling `frame.insert` many times, which has poor performance.  Consider joining all columns at once using pd.concat(axis=1) instead. To get a de-fragmented frame, use `newframe = frame.copy()`\n",
      "  df[new_column_name] = (df['country_id'] == country_id).astype(int)\n",
      "C:\\Users\\Uwe Drauz\\PycharmProjects\\bachelor_thesis\\data_preparation.py:559: PerformanceWarning: DataFrame is highly fragmented.  This is usually the result of calling `frame.insert` many times, which has poor performance.  Consider joining all columns at once using pd.concat(axis=1) instead. To get a de-fragmented frame, use `newframe = frame.copy()`\n",
      "  df[new_column_name] = (df['country_id'] == country_id).astype(int)\n",
      "C:\\Users\\Uwe Drauz\\PycharmProjects\\bachelor_thesis\\data_preparation.py:559: PerformanceWarning: DataFrame is highly fragmented.  This is usually the result of calling `frame.insert` many times, which has poor performance.  Consider joining all columns at once using pd.concat(axis=1) instead. To get a de-fragmented frame, use `newframe = frame.copy()`\n",
      "  df[new_column_name] = (df['country_id'] == country_id).astype(int)\n",
      "C:\\Users\\Uwe Drauz\\PycharmProjects\\bachelor_thesis\\data_preparation.py:559: PerformanceWarning: DataFrame is highly fragmented.  This is usually the result of calling `frame.insert` many times, which has poor performance.  Consider joining all columns at once using pd.concat(axis=1) instead. To get a de-fragmented frame, use `newframe = frame.copy()`\n",
      "  df[new_column_name] = (df['country_id'] == country_id).astype(int)\n",
      "C:\\Users\\Uwe Drauz\\PycharmProjects\\bachelor_thesis\\data_preparation.py:559: PerformanceWarning: DataFrame is highly fragmented.  This is usually the result of calling `frame.insert` many times, which has poor performance.  Consider joining all columns at once using pd.concat(axis=1) instead. To get a de-fragmented frame, use `newframe = frame.copy()`\n",
      "  df[new_column_name] = (df['country_id'] == country_id).astype(int)\n",
      "C:\\Users\\Uwe Drauz\\PycharmProjects\\bachelor_thesis\\data_preparation.py:559: PerformanceWarning: DataFrame is highly fragmented.  This is usually the result of calling `frame.insert` many times, which has poor performance.  Consider joining all columns at once using pd.concat(axis=1) instead. To get a de-fragmented frame, use `newframe = frame.copy()`\n",
      "  df[new_column_name] = (df['country_id'] == country_id).astype(int)\n",
      "C:\\Users\\Uwe Drauz\\PycharmProjects\\bachelor_thesis\\data_preparation.py:559: PerformanceWarning: DataFrame is highly fragmented.  This is usually the result of calling `frame.insert` many times, which has poor performance.  Consider joining all columns at once using pd.concat(axis=1) instead. To get a de-fragmented frame, use `newframe = frame.copy()`\n",
      "  df[new_column_name] = (df['country_id'] == country_id).astype(int)\n",
      "C:\\Users\\Uwe Drauz\\PycharmProjects\\bachelor_thesis\\data_preparation.py:559: PerformanceWarning: DataFrame is highly fragmented.  This is usually the result of calling `frame.insert` many times, which has poor performance.  Consider joining all columns at once using pd.concat(axis=1) instead. To get a de-fragmented frame, use `newframe = frame.copy()`\n",
      "  df[new_column_name] = (df['country_id'] == country_id).astype(int)\n",
      "C:\\Users\\Uwe Drauz\\PycharmProjects\\bachelor_thesis\\data_preparation.py:559: PerformanceWarning: DataFrame is highly fragmented.  This is usually the result of calling `frame.insert` many times, which has poor performance.  Consider joining all columns at once using pd.concat(axis=1) instead. To get a de-fragmented frame, use `newframe = frame.copy()`\n",
      "  df[new_column_name] = (df['country_id'] == country_id).astype(int)\n",
      "C:\\Users\\Uwe Drauz\\PycharmProjects\\bachelor_thesis\\data_preparation.py:559: PerformanceWarning: DataFrame is highly fragmented.  This is usually the result of calling `frame.insert` many times, which has poor performance.  Consider joining all columns at once using pd.concat(axis=1) instead. To get a de-fragmented frame, use `newframe = frame.copy()`\n",
      "  df[new_column_name] = (df['country_id'] == country_id).astype(int)\n",
      "C:\\Users\\Uwe Drauz\\PycharmProjects\\bachelor_thesis\\data_preparation.py:559: PerformanceWarning: DataFrame is highly fragmented.  This is usually the result of calling `frame.insert` many times, which has poor performance.  Consider joining all columns at once using pd.concat(axis=1) instead. To get a de-fragmented frame, use `newframe = frame.copy()`\n",
      "  df[new_column_name] = (df['country_id'] == country_id).astype(int)\n",
      "C:\\Users\\Uwe Drauz\\PycharmProjects\\bachelor_thesis\\data_preparation.py:559: PerformanceWarning: DataFrame is highly fragmented.  This is usually the result of calling `frame.insert` many times, which has poor performance.  Consider joining all columns at once using pd.concat(axis=1) instead. To get a de-fragmented frame, use `newframe = frame.copy()`\n",
      "  df[new_column_name] = (df['country_id'] == country_id).astype(int)\n",
      "C:\\Users\\Uwe Drauz\\PycharmProjects\\bachelor_thesis\\data_preparation.py:559: PerformanceWarning: DataFrame is highly fragmented.  This is usually the result of calling `frame.insert` many times, which has poor performance.  Consider joining all columns at once using pd.concat(axis=1) instead. To get a de-fragmented frame, use `newframe = frame.copy()`\n",
      "  df[new_column_name] = (df['country_id'] == country_id).astype(int)\n",
      "C:\\Users\\Uwe Drauz\\PycharmProjects\\bachelor_thesis\\data_preparation.py:559: PerformanceWarning: DataFrame is highly fragmented.  This is usually the result of calling `frame.insert` many times, which has poor performance.  Consider joining all columns at once using pd.concat(axis=1) instead. To get a de-fragmented frame, use `newframe = frame.copy()`\n",
      "  df[new_column_name] = (df['country_id'] == country_id).astype(int)\n",
      "C:\\Users\\Uwe Drauz\\PycharmProjects\\bachelor_thesis\\data_preparation.py:559: PerformanceWarning: DataFrame is highly fragmented.  This is usually the result of calling `frame.insert` many times, which has poor performance.  Consider joining all columns at once using pd.concat(axis=1) instead. To get a de-fragmented frame, use `newframe = frame.copy()`\n",
      "  df[new_column_name] = (df['country_id'] == country_id).astype(int)\n",
      "C:\\Users\\Uwe Drauz\\PycharmProjects\\bachelor_thesis\\data_preparation.py:559: PerformanceWarning: DataFrame is highly fragmented.  This is usually the result of calling `frame.insert` many times, which has poor performance.  Consider joining all columns at once using pd.concat(axis=1) instead. To get a de-fragmented frame, use `newframe = frame.copy()`\n",
      "  df[new_column_name] = (df['country_id'] == country_id).astype(int)\n",
      "C:\\Users\\Uwe Drauz\\PycharmProjects\\bachelor_thesis\\data_preparation.py:559: PerformanceWarning: DataFrame is highly fragmented.  This is usually the result of calling `frame.insert` many times, which has poor performance.  Consider joining all columns at once using pd.concat(axis=1) instead. To get a de-fragmented frame, use `newframe = frame.copy()`\n",
      "  df[new_column_name] = (df['country_id'] == country_id).astype(int)\n",
      "C:\\Users\\Uwe Drauz\\PycharmProjects\\bachelor_thesis\\data_preparation.py:559: PerformanceWarning: DataFrame is highly fragmented.  This is usually the result of calling `frame.insert` many times, which has poor performance.  Consider joining all columns at once using pd.concat(axis=1) instead. To get a de-fragmented frame, use `newframe = frame.copy()`\n",
      "  df[new_column_name] = (df['country_id'] == country_id).astype(int)\n",
      "C:\\Users\\Uwe Drauz\\PycharmProjects\\bachelor_thesis\\data_preparation.py:559: PerformanceWarning: DataFrame is highly fragmented.  This is usually the result of calling `frame.insert` many times, which has poor performance.  Consider joining all columns at once using pd.concat(axis=1) instead. To get a de-fragmented frame, use `newframe = frame.copy()`\n",
      "  df[new_column_name] = (df['country_id'] == country_id).astype(int)\n",
      "C:\\Users\\Uwe Drauz\\PycharmProjects\\bachelor_thesis\\data_preparation.py:559: PerformanceWarning: DataFrame is highly fragmented.  This is usually the result of calling `frame.insert` many times, which has poor performance.  Consider joining all columns at once using pd.concat(axis=1) instead. To get a de-fragmented frame, use `newframe = frame.copy()`\n",
      "  df[new_column_name] = (df['country_id'] == country_id).astype(int)\n",
      "C:\\Users\\Uwe Drauz\\PycharmProjects\\bachelor_thesis\\data_preparation.py:559: PerformanceWarning: DataFrame is highly fragmented.  This is usually the result of calling `frame.insert` many times, which has poor performance.  Consider joining all columns at once using pd.concat(axis=1) instead. To get a de-fragmented frame, use `newframe = frame.copy()`\n",
      "  df[new_column_name] = (df['country_id'] == country_id).astype(int)\n",
      "C:\\Users\\Uwe Drauz\\PycharmProjects\\bachelor_thesis\\data_preparation.py:559: PerformanceWarning: DataFrame is highly fragmented.  This is usually the result of calling `frame.insert` many times, which has poor performance.  Consider joining all columns at once using pd.concat(axis=1) instead. To get a de-fragmented frame, use `newframe = frame.copy()`\n",
      "  df[new_column_name] = (df['country_id'] == country_id).astype(int)\n",
      "C:\\Users\\Uwe Drauz\\PycharmProjects\\bachelor_thesis\\data_preparation.py:559: PerformanceWarning: DataFrame is highly fragmented.  This is usually the result of calling `frame.insert` many times, which has poor performance.  Consider joining all columns at once using pd.concat(axis=1) instead. To get a de-fragmented frame, use `newframe = frame.copy()`\n",
      "  df[new_column_name] = (df['country_id'] == country_id).astype(int)\n",
      "C:\\Users\\Uwe Drauz\\PycharmProjects\\bachelor_thesis\\data_preparation.py:559: PerformanceWarning: DataFrame is highly fragmented.  This is usually the result of calling `frame.insert` many times, which has poor performance.  Consider joining all columns at once using pd.concat(axis=1) instead. To get a de-fragmented frame, use `newframe = frame.copy()`\n",
      "  df[new_column_name] = (df['country_id'] == country_id).astype(int)\n",
      "C:\\Users\\Uwe Drauz\\PycharmProjects\\bachelor_thesis\\data_preparation.py:559: PerformanceWarning: DataFrame is highly fragmented.  This is usually the result of calling `frame.insert` many times, which has poor performance.  Consider joining all columns at once using pd.concat(axis=1) instead. To get a de-fragmented frame, use `newframe = frame.copy()`\n",
      "  df[new_column_name] = (df['country_id'] == country_id).astype(int)\n",
      "C:\\Users\\Uwe Drauz\\PycharmProjects\\bachelor_thesis\\data_preparation.py:559: PerformanceWarning: DataFrame is highly fragmented.  This is usually the result of calling `frame.insert` many times, which has poor performance.  Consider joining all columns at once using pd.concat(axis=1) instead. To get a de-fragmented frame, use `newframe = frame.copy()`\n",
      "  df[new_column_name] = (df['country_id'] == country_id).astype(int)\n",
      "C:\\Users\\Uwe Drauz\\PycharmProjects\\bachelor_thesis\\data_preparation.py:559: PerformanceWarning: DataFrame is highly fragmented.  This is usually the result of calling `frame.insert` many times, which has poor performance.  Consider joining all columns at once using pd.concat(axis=1) instead. To get a de-fragmented frame, use `newframe = frame.copy()`\n",
      "  df[new_column_name] = (df['country_id'] == country_id).astype(int)\n",
      "C:\\Users\\Uwe Drauz\\PycharmProjects\\bachelor_thesis\\data_preparation.py:559: PerformanceWarning: DataFrame is highly fragmented.  This is usually the result of calling `frame.insert` many times, which has poor performance.  Consider joining all columns at once using pd.concat(axis=1) instead. To get a de-fragmented frame, use `newframe = frame.copy()`\n",
      "  df[new_column_name] = (df['country_id'] == country_id).astype(int)\n",
      "C:\\Users\\Uwe Drauz\\PycharmProjects\\bachelor_thesis\\data_preparation.py:559: PerformanceWarning: DataFrame is highly fragmented.  This is usually the result of calling `frame.insert` many times, which has poor performance.  Consider joining all columns at once using pd.concat(axis=1) instead. To get a de-fragmented frame, use `newframe = frame.copy()`\n",
      "  df[new_column_name] = (df['country_id'] == country_id).astype(int)\n",
      "C:\\Users\\Uwe Drauz\\PycharmProjects\\bachelor_thesis\\data_preparation.py:559: PerformanceWarning: DataFrame is highly fragmented.  This is usually the result of calling `frame.insert` many times, which has poor performance.  Consider joining all columns at once using pd.concat(axis=1) instead. To get a de-fragmented frame, use `newframe = frame.copy()`\n",
      "  df[new_column_name] = (df['country_id'] == country_id).astype(int)\n",
      "C:\\Users\\Uwe Drauz\\PycharmProjects\\bachelor_thesis\\data_preparation.py:559: PerformanceWarning: DataFrame is highly fragmented.  This is usually the result of calling `frame.insert` many times, which has poor performance.  Consider joining all columns at once using pd.concat(axis=1) instead. To get a de-fragmented frame, use `newframe = frame.copy()`\n",
      "  df[new_column_name] = (df['country_id'] == country_id).astype(int)\n",
      "C:\\Users\\Uwe Drauz\\PycharmProjects\\bachelor_thesis\\data_preparation.py:559: PerformanceWarning: DataFrame is highly fragmented.  This is usually the result of calling `frame.insert` many times, which has poor performance.  Consider joining all columns at once using pd.concat(axis=1) instead. To get a de-fragmented frame, use `newframe = frame.copy()`\n",
      "  df[new_column_name] = (df['country_id'] == country_id).astype(int)\n",
      "C:\\Users\\Uwe Drauz\\PycharmProjects\\bachelor_thesis\\data_preparation.py:559: PerformanceWarning: DataFrame is highly fragmented.  This is usually the result of calling `frame.insert` many times, which has poor performance.  Consider joining all columns at once using pd.concat(axis=1) instead. To get a de-fragmented frame, use `newframe = frame.copy()`\n",
      "  df[new_column_name] = (df['country_id'] == country_id).astype(int)\n",
      "C:\\Users\\Uwe Drauz\\PycharmProjects\\bachelor_thesis\\data_preparation.py:559: PerformanceWarning: DataFrame is highly fragmented.  This is usually the result of calling `frame.insert` many times, which has poor performance.  Consider joining all columns at once using pd.concat(axis=1) instead. To get a de-fragmented frame, use `newframe = frame.copy()`\n",
      "  df[new_column_name] = (df['country_id'] == country_id).astype(int)\n",
      "C:\\Users\\Uwe Drauz\\PycharmProjects\\bachelor_thesis\\data_preparation.py:559: PerformanceWarning: DataFrame is highly fragmented.  This is usually the result of calling `frame.insert` many times, which has poor performance.  Consider joining all columns at once using pd.concat(axis=1) instead. To get a de-fragmented frame, use `newframe = frame.copy()`\n",
      "  df[new_column_name] = (df['country_id'] == country_id).astype(int)\n",
      "C:\\Users\\Uwe Drauz\\PycharmProjects\\bachelor_thesis\\data_preparation.py:559: PerformanceWarning: DataFrame is highly fragmented.  This is usually the result of calling `frame.insert` many times, which has poor performance.  Consider joining all columns at once using pd.concat(axis=1) instead. To get a de-fragmented frame, use `newframe = frame.copy()`\n",
      "  df[new_column_name] = (df['country_id'] == country_id).astype(int)\n",
      "C:\\Users\\Uwe Drauz\\PycharmProjects\\bachelor_thesis\\data_preparation.py:559: PerformanceWarning: DataFrame is highly fragmented.  This is usually the result of calling `frame.insert` many times, which has poor performance.  Consider joining all columns at once using pd.concat(axis=1) instead. To get a de-fragmented frame, use `newframe = frame.copy()`\n",
      "  df[new_column_name] = (df['country_id'] == country_id).astype(int)\n",
      "C:\\Users\\Uwe Drauz\\PycharmProjects\\bachelor_thesis\\data_preparation.py:559: PerformanceWarning: DataFrame is highly fragmented.  This is usually the result of calling `frame.insert` many times, which has poor performance.  Consider joining all columns at once using pd.concat(axis=1) instead. To get a de-fragmented frame, use `newframe = frame.copy()`\n",
      "  df[new_column_name] = (df['country_id'] == country_id).astype(int)\n",
      "C:\\Users\\Uwe Drauz\\PycharmProjects\\bachelor_thesis\\data_preparation.py:559: PerformanceWarning: DataFrame is highly fragmented.  This is usually the result of calling `frame.insert` many times, which has poor performance.  Consider joining all columns at once using pd.concat(axis=1) instead. To get a de-fragmented frame, use `newframe = frame.copy()`\n",
      "  df[new_column_name] = (df['country_id'] == country_id).astype(int)\n",
      "C:\\Users\\Uwe Drauz\\PycharmProjects\\bachelor_thesis\\data_preparation.py:559: PerformanceWarning: DataFrame is highly fragmented.  This is usually the result of calling `frame.insert` many times, which has poor performance.  Consider joining all columns at once using pd.concat(axis=1) instead. To get a de-fragmented frame, use `newframe = frame.copy()`\n",
      "  df[new_column_name] = (df['country_id'] == country_id).astype(int)\n",
      "C:\\Users\\Uwe Drauz\\PycharmProjects\\bachelor_thesis\\data_preparation.py:559: PerformanceWarning: DataFrame is highly fragmented.  This is usually the result of calling `frame.insert` many times, which has poor performance.  Consider joining all columns at once using pd.concat(axis=1) instead. To get a de-fragmented frame, use `newframe = frame.copy()`\n",
      "  df[new_column_name] = (df['country_id'] == country_id).astype(int)\n",
      "C:\\Users\\Uwe Drauz\\PycharmProjects\\bachelor_thesis\\data_preparation.py:559: PerformanceWarning: DataFrame is highly fragmented.  This is usually the result of calling `frame.insert` many times, which has poor performance.  Consider joining all columns at once using pd.concat(axis=1) instead. To get a de-fragmented frame, use `newframe = frame.copy()`\n",
      "  df[new_column_name] = (df['country_id'] == country_id).astype(int)\n",
      "C:\\Users\\Uwe Drauz\\PycharmProjects\\bachelor_thesis\\data_preparation.py:559: PerformanceWarning: DataFrame is highly fragmented.  This is usually the result of calling `frame.insert` many times, which has poor performance.  Consider joining all columns at once using pd.concat(axis=1) instead. To get a de-fragmented frame, use `newframe = frame.copy()`\n",
      "  df[new_column_name] = (df['country_id'] == country_id).astype(int)\n",
      "C:\\Users\\Uwe Drauz\\PycharmProjects\\bachelor_thesis\\data_preparation.py:559: PerformanceWarning: DataFrame is highly fragmented.  This is usually the result of calling `frame.insert` many times, which has poor performance.  Consider joining all columns at once using pd.concat(axis=1) instead. To get a de-fragmented frame, use `newframe = frame.copy()`\n",
      "  df[new_column_name] = (df['country_id'] == country_id).astype(int)\n",
      "C:\\Users\\Uwe Drauz\\PycharmProjects\\bachelor_thesis\\data_preparation.py:559: PerformanceWarning: DataFrame is highly fragmented.  This is usually the result of calling `frame.insert` many times, which has poor performance.  Consider joining all columns at once using pd.concat(axis=1) instead. To get a de-fragmented frame, use `newframe = frame.copy()`\n",
      "  df[new_column_name] = (df['country_id'] == country_id).astype(int)\n",
      "C:\\Users\\Uwe Drauz\\PycharmProjects\\bachelor_thesis\\data_preparation.py:559: PerformanceWarning: DataFrame is highly fragmented.  This is usually the result of calling `frame.insert` many times, which has poor performance.  Consider joining all columns at once using pd.concat(axis=1) instead. To get a de-fragmented frame, use `newframe = frame.copy()`\n",
      "  df[new_column_name] = (df['country_id'] == country_id).astype(int)\n",
      "C:\\Users\\Uwe Drauz\\PycharmProjects\\bachelor_thesis\\data_preparation.py:559: PerformanceWarning: DataFrame is highly fragmented.  This is usually the result of calling `frame.insert` many times, which has poor performance.  Consider joining all columns at once using pd.concat(axis=1) instead. To get a de-fragmented frame, use `newframe = frame.copy()`\n",
      "  df[new_column_name] = (df['country_id'] == country_id).astype(int)\n",
      "C:\\Users\\Uwe Drauz\\PycharmProjects\\bachelor_thesis\\data_preparation.py:559: PerformanceWarning: DataFrame is highly fragmented.  This is usually the result of calling `frame.insert` many times, which has poor performance.  Consider joining all columns at once using pd.concat(axis=1) instead. To get a de-fragmented frame, use `newframe = frame.copy()`\n",
      "  df[new_column_name] = (df['country_id'] == country_id).astype(int)\n",
      "C:\\Users\\Uwe Drauz\\PycharmProjects\\bachelor_thesis\\data_preparation.py:559: PerformanceWarning: DataFrame is highly fragmented.  This is usually the result of calling `frame.insert` many times, which has poor performance.  Consider joining all columns at once using pd.concat(axis=1) instead. To get a de-fragmented frame, use `newframe = frame.copy()`\n",
      "  df[new_column_name] = (df['country_id'] == country_id).astype(int)\n",
      "C:\\Users\\Uwe Drauz\\PycharmProjects\\bachelor_thesis\\data_preparation.py:559: PerformanceWarning: DataFrame is highly fragmented.  This is usually the result of calling `frame.insert` many times, which has poor performance.  Consider joining all columns at once using pd.concat(axis=1) instead. To get a de-fragmented frame, use `newframe = frame.copy()`\n",
      "  df[new_column_name] = (df['country_id'] == country_id).astype(int)\n",
      "C:\\Users\\Uwe Drauz\\PycharmProjects\\bachelor_thesis\\data_preparation.py:574: PerformanceWarning: DataFrame is highly fragmented.  This is usually the result of calling `frame.insert` many times, which has poor performance.  Consider joining all columns at once using pd.concat(axis=1) instead. To get a de-fragmented frame, use `newframe = frame.copy()`\n",
      "  df['month'] = (df['month_id'] - 121) % 12 + 1\n",
      "C:\\Users\\Uwe Drauz\\PycharmProjects\\bachelor_thesis\\data_preparation.py:577: PerformanceWarning: DataFrame is highly fragmented.  This is usually the result of calling `frame.insert` many times, which has poor performance.  Consider joining all columns at once using pd.concat(axis=1) instead. To get a de-fragmented frame, use `newframe = frame.copy()`\n",
      "  df['Winter'] = 0\n",
      "C:\\Users\\Uwe Drauz\\PycharmProjects\\bachelor_thesis\\data_preparation.py:578: PerformanceWarning: DataFrame is highly fragmented.  This is usually the result of calling `frame.insert` many times, which has poor performance.  Consider joining all columns at once using pd.concat(axis=1) instead. To get a de-fragmented frame, use `newframe = frame.copy()`\n",
      "  df['Spring'] = 0\n",
      "C:\\Users\\Uwe Drauz\\PycharmProjects\\bachelor_thesis\\data_preparation.py:579: PerformanceWarning: DataFrame is highly fragmented.  This is usually the result of calling `frame.insert` many times, which has poor performance.  Consider joining all columns at once using pd.concat(axis=1) instead. To get a de-fragmented frame, use `newframe = frame.copy()`\n",
      "  df['Summer'] = 0\n",
      "C:\\Users\\Uwe Drauz\\PycharmProjects\\bachelor_thesis\\data_preparation.py:580: PerformanceWarning: DataFrame is highly fragmented.  This is usually the result of calling `frame.insert` many times, which has poor performance.  Consider joining all columns at once using pd.concat(axis=1) instead. To get a de-fragmented frame, use `newframe = frame.copy()`\n",
      "  df['Fall'] = 0\n"
     ]
    }
   ],
   "source": [
    "# STEP: FEATURE SELECTION AND STANDARDIZATION\n",
    "covariates = []\n",
    "lagged_covariates = ['ged_sb', 'decay_ged_sb_5', 'decay_ged_sb_100', 'decay_ged_sb_500', 'ged_sb_tsum_24']\n",
    "# Add small linear set to lagged covariates\n",
    "lagged_covariates.extend(small_set_lin_predictors)\n",
    "# Select countries which have at least one conflict fatality\n",
    "filtered_data = data_cm_features_allyears[data_cm_features_allyears['country_id'].isin(country_filter)]\n",
    "filtered_data = preprocess_data(filtered_data, covariates, lagged_covariates, standardize=True, lags_needed=3, drop_na=True)\n",
    "filtered_data_export = filtered_data[filtered_data['month_id'] <= end_actuals]"
   ],
   "metadata": {
    "collapsed": false,
    "ExecuteTime": {
     "end_time": "2023-12-05T16:12:07.477935100Z",
     "start_time": "2023-12-05T16:12:05.252044700Z"
    }
   },
   "id": "11e5f6c071468851"
  },
  {
   "cell_type": "code",
   "execution_count": 142,
   "outputs": [
    {
     "name": "stderr",
     "output_type": "stream",
     "text": [
      "C:\\Users\\Uwe Drauz\\PycharmProjects\\bachelor_thesis\\data_preparation.py:559: PerformanceWarning: DataFrame is highly fragmented.  This is usually the result of calling `frame.insert` many times, which has poor performance.  Consider joining all columns at once using pd.concat(axis=1) instead. To get a de-fragmented frame, use `newframe = frame.copy()`\n",
      "  df[new_column_name] = (df['country_id'] == country_id).astype(int)\n",
      "C:\\Users\\Uwe Drauz\\PycharmProjects\\bachelor_thesis\\data_preparation.py:559: PerformanceWarning: DataFrame is highly fragmented.  This is usually the result of calling `frame.insert` many times, which has poor performance.  Consider joining all columns at once using pd.concat(axis=1) instead. To get a de-fragmented frame, use `newframe = frame.copy()`\n",
      "  df[new_column_name] = (df['country_id'] == country_id).astype(int)\n",
      "C:\\Users\\Uwe Drauz\\PycharmProjects\\bachelor_thesis\\data_preparation.py:559: PerformanceWarning: DataFrame is highly fragmented.  This is usually the result of calling `frame.insert` many times, which has poor performance.  Consider joining all columns at once using pd.concat(axis=1) instead. To get a de-fragmented frame, use `newframe = frame.copy()`\n",
      "  df[new_column_name] = (df['country_id'] == country_id).astype(int)\n",
      "C:\\Users\\Uwe Drauz\\PycharmProjects\\bachelor_thesis\\data_preparation.py:559: PerformanceWarning: DataFrame is highly fragmented.  This is usually the result of calling `frame.insert` many times, which has poor performance.  Consider joining all columns at once using pd.concat(axis=1) instead. To get a de-fragmented frame, use `newframe = frame.copy()`\n",
      "  df[new_column_name] = (df['country_id'] == country_id).astype(int)\n",
      "C:\\Users\\Uwe Drauz\\PycharmProjects\\bachelor_thesis\\data_preparation.py:559: PerformanceWarning: DataFrame is highly fragmented.  This is usually the result of calling `frame.insert` many times, which has poor performance.  Consider joining all columns at once using pd.concat(axis=1) instead. To get a de-fragmented frame, use `newframe = frame.copy()`\n",
      "  df[new_column_name] = (df['country_id'] == country_id).astype(int)\n",
      "C:\\Users\\Uwe Drauz\\PycharmProjects\\bachelor_thesis\\data_preparation.py:559: PerformanceWarning: DataFrame is highly fragmented.  This is usually the result of calling `frame.insert` many times, which has poor performance.  Consider joining all columns at once using pd.concat(axis=1) instead. To get a de-fragmented frame, use `newframe = frame.copy()`\n",
      "  df[new_column_name] = (df['country_id'] == country_id).astype(int)\n",
      "C:\\Users\\Uwe Drauz\\PycharmProjects\\bachelor_thesis\\data_preparation.py:559: PerformanceWarning: DataFrame is highly fragmented.  This is usually the result of calling `frame.insert` many times, which has poor performance.  Consider joining all columns at once using pd.concat(axis=1) instead. To get a de-fragmented frame, use `newframe = frame.copy()`\n",
      "  df[new_column_name] = (df['country_id'] == country_id).astype(int)\n",
      "C:\\Users\\Uwe Drauz\\PycharmProjects\\bachelor_thesis\\data_preparation.py:559: PerformanceWarning: DataFrame is highly fragmented.  This is usually the result of calling `frame.insert` many times, which has poor performance.  Consider joining all columns at once using pd.concat(axis=1) instead. To get a de-fragmented frame, use `newframe = frame.copy()`\n",
      "  df[new_column_name] = (df['country_id'] == country_id).astype(int)\n",
      "C:\\Users\\Uwe Drauz\\PycharmProjects\\bachelor_thesis\\data_preparation.py:559: PerformanceWarning: DataFrame is highly fragmented.  This is usually the result of calling `frame.insert` many times, which has poor performance.  Consider joining all columns at once using pd.concat(axis=1) instead. To get a de-fragmented frame, use `newframe = frame.copy()`\n",
      "  df[new_column_name] = (df['country_id'] == country_id).astype(int)\n",
      "C:\\Users\\Uwe Drauz\\PycharmProjects\\bachelor_thesis\\data_preparation.py:559: PerformanceWarning: DataFrame is highly fragmented.  This is usually the result of calling `frame.insert` many times, which has poor performance.  Consider joining all columns at once using pd.concat(axis=1) instead. To get a de-fragmented frame, use `newframe = frame.copy()`\n",
      "  df[new_column_name] = (df['country_id'] == country_id).astype(int)\n",
      "C:\\Users\\Uwe Drauz\\PycharmProjects\\bachelor_thesis\\data_preparation.py:559: PerformanceWarning: DataFrame is highly fragmented.  This is usually the result of calling `frame.insert` many times, which has poor performance.  Consider joining all columns at once using pd.concat(axis=1) instead. To get a de-fragmented frame, use `newframe = frame.copy()`\n",
      "  df[new_column_name] = (df['country_id'] == country_id).astype(int)\n",
      "C:\\Users\\Uwe Drauz\\PycharmProjects\\bachelor_thesis\\data_preparation.py:559: PerformanceWarning: DataFrame is highly fragmented.  This is usually the result of calling `frame.insert` many times, which has poor performance.  Consider joining all columns at once using pd.concat(axis=1) instead. To get a de-fragmented frame, use `newframe = frame.copy()`\n",
      "  df[new_column_name] = (df['country_id'] == country_id).astype(int)\n",
      "C:\\Users\\Uwe Drauz\\PycharmProjects\\bachelor_thesis\\data_preparation.py:559: PerformanceWarning: DataFrame is highly fragmented.  This is usually the result of calling `frame.insert` many times, which has poor performance.  Consider joining all columns at once using pd.concat(axis=1) instead. To get a de-fragmented frame, use `newframe = frame.copy()`\n",
      "  df[new_column_name] = (df['country_id'] == country_id).astype(int)\n",
      "C:\\Users\\Uwe Drauz\\PycharmProjects\\bachelor_thesis\\data_preparation.py:559: PerformanceWarning: DataFrame is highly fragmented.  This is usually the result of calling `frame.insert` many times, which has poor performance.  Consider joining all columns at once using pd.concat(axis=1) instead. To get a de-fragmented frame, use `newframe = frame.copy()`\n",
      "  df[new_column_name] = (df['country_id'] == country_id).astype(int)\n",
      "C:\\Users\\Uwe Drauz\\PycharmProjects\\bachelor_thesis\\data_preparation.py:559: PerformanceWarning: DataFrame is highly fragmented.  This is usually the result of calling `frame.insert` many times, which has poor performance.  Consider joining all columns at once using pd.concat(axis=1) instead. To get a de-fragmented frame, use `newframe = frame.copy()`\n",
      "  df[new_column_name] = (df['country_id'] == country_id).astype(int)\n",
      "C:\\Users\\Uwe Drauz\\PycharmProjects\\bachelor_thesis\\data_preparation.py:559: PerformanceWarning: DataFrame is highly fragmented.  This is usually the result of calling `frame.insert` many times, which has poor performance.  Consider joining all columns at once using pd.concat(axis=1) instead. To get a de-fragmented frame, use `newframe = frame.copy()`\n",
      "  df[new_column_name] = (df['country_id'] == country_id).astype(int)\n",
      "C:\\Users\\Uwe Drauz\\PycharmProjects\\bachelor_thesis\\data_preparation.py:559: PerformanceWarning: DataFrame is highly fragmented.  This is usually the result of calling `frame.insert` many times, which has poor performance.  Consider joining all columns at once using pd.concat(axis=1) instead. To get a de-fragmented frame, use `newframe = frame.copy()`\n",
      "  df[new_column_name] = (df['country_id'] == country_id).astype(int)\n",
      "C:\\Users\\Uwe Drauz\\PycharmProjects\\bachelor_thesis\\data_preparation.py:559: PerformanceWarning: DataFrame is highly fragmented.  This is usually the result of calling `frame.insert` many times, which has poor performance.  Consider joining all columns at once using pd.concat(axis=1) instead. To get a de-fragmented frame, use `newframe = frame.copy()`\n",
      "  df[new_column_name] = (df['country_id'] == country_id).astype(int)\n",
      "C:\\Users\\Uwe Drauz\\PycharmProjects\\bachelor_thesis\\data_preparation.py:559: PerformanceWarning: DataFrame is highly fragmented.  This is usually the result of calling `frame.insert` many times, which has poor performance.  Consider joining all columns at once using pd.concat(axis=1) instead. To get a de-fragmented frame, use `newframe = frame.copy()`\n",
      "  df[new_column_name] = (df['country_id'] == country_id).astype(int)\n",
      "C:\\Users\\Uwe Drauz\\PycharmProjects\\bachelor_thesis\\data_preparation.py:559: PerformanceWarning: DataFrame is highly fragmented.  This is usually the result of calling `frame.insert` many times, which has poor performance.  Consider joining all columns at once using pd.concat(axis=1) instead. To get a de-fragmented frame, use `newframe = frame.copy()`\n",
      "  df[new_column_name] = (df['country_id'] == country_id).astype(int)\n",
      "C:\\Users\\Uwe Drauz\\PycharmProjects\\bachelor_thesis\\data_preparation.py:559: PerformanceWarning: DataFrame is highly fragmented.  This is usually the result of calling `frame.insert` many times, which has poor performance.  Consider joining all columns at once using pd.concat(axis=1) instead. To get a de-fragmented frame, use `newframe = frame.copy()`\n",
      "  df[new_column_name] = (df['country_id'] == country_id).astype(int)\n",
      "C:\\Users\\Uwe Drauz\\PycharmProjects\\bachelor_thesis\\data_preparation.py:559: PerformanceWarning: DataFrame is highly fragmented.  This is usually the result of calling `frame.insert` many times, which has poor performance.  Consider joining all columns at once using pd.concat(axis=1) instead. To get a de-fragmented frame, use `newframe = frame.copy()`\n",
      "  df[new_column_name] = (df['country_id'] == country_id).astype(int)\n",
      "C:\\Users\\Uwe Drauz\\PycharmProjects\\bachelor_thesis\\data_preparation.py:559: PerformanceWarning: DataFrame is highly fragmented.  This is usually the result of calling `frame.insert` many times, which has poor performance.  Consider joining all columns at once using pd.concat(axis=1) instead. To get a de-fragmented frame, use `newframe = frame.copy()`\n",
      "  df[new_column_name] = (df['country_id'] == country_id).astype(int)\n",
      "C:\\Users\\Uwe Drauz\\PycharmProjects\\bachelor_thesis\\data_preparation.py:559: PerformanceWarning: DataFrame is highly fragmented.  This is usually the result of calling `frame.insert` many times, which has poor performance.  Consider joining all columns at once using pd.concat(axis=1) instead. To get a de-fragmented frame, use `newframe = frame.copy()`\n",
      "  df[new_column_name] = (df['country_id'] == country_id).astype(int)\n",
      "C:\\Users\\Uwe Drauz\\PycharmProjects\\bachelor_thesis\\data_preparation.py:559: PerformanceWarning: DataFrame is highly fragmented.  This is usually the result of calling `frame.insert` many times, which has poor performance.  Consider joining all columns at once using pd.concat(axis=1) instead. To get a de-fragmented frame, use `newframe = frame.copy()`\n",
      "  df[new_column_name] = (df['country_id'] == country_id).astype(int)\n",
      "C:\\Users\\Uwe Drauz\\PycharmProjects\\bachelor_thesis\\data_preparation.py:559: PerformanceWarning: DataFrame is highly fragmented.  This is usually the result of calling `frame.insert` many times, which has poor performance.  Consider joining all columns at once using pd.concat(axis=1) instead. To get a de-fragmented frame, use `newframe = frame.copy()`\n",
      "  df[new_column_name] = (df['country_id'] == country_id).astype(int)\n",
      "C:\\Users\\Uwe Drauz\\PycharmProjects\\bachelor_thesis\\data_preparation.py:559: PerformanceWarning: DataFrame is highly fragmented.  This is usually the result of calling `frame.insert` many times, which has poor performance.  Consider joining all columns at once using pd.concat(axis=1) instead. To get a de-fragmented frame, use `newframe = frame.copy()`\n",
      "  df[new_column_name] = (df['country_id'] == country_id).astype(int)\n",
      "C:\\Users\\Uwe Drauz\\PycharmProjects\\bachelor_thesis\\data_preparation.py:559: PerformanceWarning: DataFrame is highly fragmented.  This is usually the result of calling `frame.insert` many times, which has poor performance.  Consider joining all columns at once using pd.concat(axis=1) instead. To get a de-fragmented frame, use `newframe = frame.copy()`\n",
      "  df[new_column_name] = (df['country_id'] == country_id).astype(int)\n",
      "C:\\Users\\Uwe Drauz\\PycharmProjects\\bachelor_thesis\\data_preparation.py:559: PerformanceWarning: DataFrame is highly fragmented.  This is usually the result of calling `frame.insert` many times, which has poor performance.  Consider joining all columns at once using pd.concat(axis=1) instead. To get a de-fragmented frame, use `newframe = frame.copy()`\n",
      "  df[new_column_name] = (df['country_id'] == country_id).astype(int)\n",
      "C:\\Users\\Uwe Drauz\\PycharmProjects\\bachelor_thesis\\data_preparation.py:559: PerformanceWarning: DataFrame is highly fragmented.  This is usually the result of calling `frame.insert` many times, which has poor performance.  Consider joining all columns at once using pd.concat(axis=1) instead. To get a de-fragmented frame, use `newframe = frame.copy()`\n",
      "  df[new_column_name] = (df['country_id'] == country_id).astype(int)\n",
      "C:\\Users\\Uwe Drauz\\PycharmProjects\\bachelor_thesis\\data_preparation.py:559: PerformanceWarning: DataFrame is highly fragmented.  This is usually the result of calling `frame.insert` many times, which has poor performance.  Consider joining all columns at once using pd.concat(axis=1) instead. To get a de-fragmented frame, use `newframe = frame.copy()`\n",
      "  df[new_column_name] = (df['country_id'] == country_id).astype(int)\n",
      "C:\\Users\\Uwe Drauz\\PycharmProjects\\bachelor_thesis\\data_preparation.py:559: PerformanceWarning: DataFrame is highly fragmented.  This is usually the result of calling `frame.insert` many times, which has poor performance.  Consider joining all columns at once using pd.concat(axis=1) instead. To get a de-fragmented frame, use `newframe = frame.copy()`\n",
      "  df[new_column_name] = (df['country_id'] == country_id).astype(int)\n",
      "C:\\Users\\Uwe Drauz\\PycharmProjects\\bachelor_thesis\\data_preparation.py:559: PerformanceWarning: DataFrame is highly fragmented.  This is usually the result of calling `frame.insert` many times, which has poor performance.  Consider joining all columns at once using pd.concat(axis=1) instead. To get a de-fragmented frame, use `newframe = frame.copy()`\n",
      "  df[new_column_name] = (df['country_id'] == country_id).astype(int)\n",
      "C:\\Users\\Uwe Drauz\\PycharmProjects\\bachelor_thesis\\data_preparation.py:559: PerformanceWarning: DataFrame is highly fragmented.  This is usually the result of calling `frame.insert` many times, which has poor performance.  Consider joining all columns at once using pd.concat(axis=1) instead. To get a de-fragmented frame, use `newframe = frame.copy()`\n",
      "  df[new_column_name] = (df['country_id'] == country_id).astype(int)\n",
      "C:\\Users\\Uwe Drauz\\PycharmProjects\\bachelor_thesis\\data_preparation.py:559: PerformanceWarning: DataFrame is highly fragmented.  This is usually the result of calling `frame.insert` many times, which has poor performance.  Consider joining all columns at once using pd.concat(axis=1) instead. To get a de-fragmented frame, use `newframe = frame.copy()`\n",
      "  df[new_column_name] = (df['country_id'] == country_id).astype(int)\n",
      "C:\\Users\\Uwe Drauz\\PycharmProjects\\bachelor_thesis\\data_preparation.py:559: PerformanceWarning: DataFrame is highly fragmented.  This is usually the result of calling `frame.insert` many times, which has poor performance.  Consider joining all columns at once using pd.concat(axis=1) instead. To get a de-fragmented frame, use `newframe = frame.copy()`\n",
      "  df[new_column_name] = (df['country_id'] == country_id).astype(int)\n",
      "C:\\Users\\Uwe Drauz\\PycharmProjects\\bachelor_thesis\\data_preparation.py:559: PerformanceWarning: DataFrame is highly fragmented.  This is usually the result of calling `frame.insert` many times, which has poor performance.  Consider joining all columns at once using pd.concat(axis=1) instead. To get a de-fragmented frame, use `newframe = frame.copy()`\n",
      "  df[new_column_name] = (df['country_id'] == country_id).astype(int)\n",
      "C:\\Users\\Uwe Drauz\\PycharmProjects\\bachelor_thesis\\data_preparation.py:559: PerformanceWarning: DataFrame is highly fragmented.  This is usually the result of calling `frame.insert` many times, which has poor performance.  Consider joining all columns at once using pd.concat(axis=1) instead. To get a de-fragmented frame, use `newframe = frame.copy()`\n",
      "  df[new_column_name] = (df['country_id'] == country_id).astype(int)\n",
      "C:\\Users\\Uwe Drauz\\PycharmProjects\\bachelor_thesis\\data_preparation.py:559: PerformanceWarning: DataFrame is highly fragmented.  This is usually the result of calling `frame.insert` many times, which has poor performance.  Consider joining all columns at once using pd.concat(axis=1) instead. To get a de-fragmented frame, use `newframe = frame.copy()`\n",
      "  df[new_column_name] = (df['country_id'] == country_id).astype(int)\n",
      "C:\\Users\\Uwe Drauz\\PycharmProjects\\bachelor_thesis\\data_preparation.py:559: PerformanceWarning: DataFrame is highly fragmented.  This is usually the result of calling `frame.insert` many times, which has poor performance.  Consider joining all columns at once using pd.concat(axis=1) instead. To get a de-fragmented frame, use `newframe = frame.copy()`\n",
      "  df[new_column_name] = (df['country_id'] == country_id).astype(int)\n",
      "C:\\Users\\Uwe Drauz\\PycharmProjects\\bachelor_thesis\\data_preparation.py:559: PerformanceWarning: DataFrame is highly fragmented.  This is usually the result of calling `frame.insert` many times, which has poor performance.  Consider joining all columns at once using pd.concat(axis=1) instead. To get a de-fragmented frame, use `newframe = frame.copy()`\n",
      "  df[new_column_name] = (df['country_id'] == country_id).astype(int)\n",
      "C:\\Users\\Uwe Drauz\\PycharmProjects\\bachelor_thesis\\data_preparation.py:559: PerformanceWarning: DataFrame is highly fragmented.  This is usually the result of calling `frame.insert` many times, which has poor performance.  Consider joining all columns at once using pd.concat(axis=1) instead. To get a de-fragmented frame, use `newframe = frame.copy()`\n",
      "  df[new_column_name] = (df['country_id'] == country_id).astype(int)\n",
      "C:\\Users\\Uwe Drauz\\PycharmProjects\\bachelor_thesis\\data_preparation.py:559: PerformanceWarning: DataFrame is highly fragmented.  This is usually the result of calling `frame.insert` many times, which has poor performance.  Consider joining all columns at once using pd.concat(axis=1) instead. To get a de-fragmented frame, use `newframe = frame.copy()`\n",
      "  df[new_column_name] = (df['country_id'] == country_id).astype(int)\n",
      "C:\\Users\\Uwe Drauz\\PycharmProjects\\bachelor_thesis\\data_preparation.py:559: PerformanceWarning: DataFrame is highly fragmented.  This is usually the result of calling `frame.insert` many times, which has poor performance.  Consider joining all columns at once using pd.concat(axis=1) instead. To get a de-fragmented frame, use `newframe = frame.copy()`\n",
      "  df[new_column_name] = (df['country_id'] == country_id).astype(int)\n",
      "C:\\Users\\Uwe Drauz\\PycharmProjects\\bachelor_thesis\\data_preparation.py:559: PerformanceWarning: DataFrame is highly fragmented.  This is usually the result of calling `frame.insert` many times, which has poor performance.  Consider joining all columns at once using pd.concat(axis=1) instead. To get a de-fragmented frame, use `newframe = frame.copy()`\n",
      "  df[new_column_name] = (df['country_id'] == country_id).astype(int)\n",
      "C:\\Users\\Uwe Drauz\\PycharmProjects\\bachelor_thesis\\data_preparation.py:559: PerformanceWarning: DataFrame is highly fragmented.  This is usually the result of calling `frame.insert` many times, which has poor performance.  Consider joining all columns at once using pd.concat(axis=1) instead. To get a de-fragmented frame, use `newframe = frame.copy()`\n",
      "  df[new_column_name] = (df['country_id'] == country_id).astype(int)\n",
      "C:\\Users\\Uwe Drauz\\PycharmProjects\\bachelor_thesis\\data_preparation.py:559: PerformanceWarning: DataFrame is highly fragmented.  This is usually the result of calling `frame.insert` many times, which has poor performance.  Consider joining all columns at once using pd.concat(axis=1) instead. To get a de-fragmented frame, use `newframe = frame.copy()`\n",
      "  df[new_column_name] = (df['country_id'] == country_id).astype(int)\n",
      "C:\\Users\\Uwe Drauz\\PycharmProjects\\bachelor_thesis\\data_preparation.py:559: PerformanceWarning: DataFrame is highly fragmented.  This is usually the result of calling `frame.insert` many times, which has poor performance.  Consider joining all columns at once using pd.concat(axis=1) instead. To get a de-fragmented frame, use `newframe = frame.copy()`\n",
      "  df[new_column_name] = (df['country_id'] == country_id).astype(int)\n",
      "C:\\Users\\Uwe Drauz\\PycharmProjects\\bachelor_thesis\\data_preparation.py:559: PerformanceWarning: DataFrame is highly fragmented.  This is usually the result of calling `frame.insert` many times, which has poor performance.  Consider joining all columns at once using pd.concat(axis=1) instead. To get a de-fragmented frame, use `newframe = frame.copy()`\n",
      "  df[new_column_name] = (df['country_id'] == country_id).astype(int)\n",
      "C:\\Users\\Uwe Drauz\\PycharmProjects\\bachelor_thesis\\data_preparation.py:559: PerformanceWarning: DataFrame is highly fragmented.  This is usually the result of calling `frame.insert` many times, which has poor performance.  Consider joining all columns at once using pd.concat(axis=1) instead. To get a de-fragmented frame, use `newframe = frame.copy()`\n",
      "  df[new_column_name] = (df['country_id'] == country_id).astype(int)\n",
      "C:\\Users\\Uwe Drauz\\PycharmProjects\\bachelor_thesis\\data_preparation.py:559: PerformanceWarning: DataFrame is highly fragmented.  This is usually the result of calling `frame.insert` many times, which has poor performance.  Consider joining all columns at once using pd.concat(axis=1) instead. To get a de-fragmented frame, use `newframe = frame.copy()`\n",
      "  df[new_column_name] = (df['country_id'] == country_id).astype(int)\n",
      "C:\\Users\\Uwe Drauz\\PycharmProjects\\bachelor_thesis\\data_preparation.py:559: PerformanceWarning: DataFrame is highly fragmented.  This is usually the result of calling `frame.insert` many times, which has poor performance.  Consider joining all columns at once using pd.concat(axis=1) instead. To get a de-fragmented frame, use `newframe = frame.copy()`\n",
      "  df[new_column_name] = (df['country_id'] == country_id).astype(int)\n",
      "C:\\Users\\Uwe Drauz\\PycharmProjects\\bachelor_thesis\\data_preparation.py:559: PerformanceWarning: DataFrame is highly fragmented.  This is usually the result of calling `frame.insert` many times, which has poor performance.  Consider joining all columns at once using pd.concat(axis=1) instead. To get a de-fragmented frame, use `newframe = frame.copy()`\n",
      "  df[new_column_name] = (df['country_id'] == country_id).astype(int)\n",
      "C:\\Users\\Uwe Drauz\\PycharmProjects\\bachelor_thesis\\data_preparation.py:559: PerformanceWarning: DataFrame is highly fragmented.  This is usually the result of calling `frame.insert` many times, which has poor performance.  Consider joining all columns at once using pd.concat(axis=1) instead. To get a de-fragmented frame, use `newframe = frame.copy()`\n",
      "  df[new_column_name] = (df['country_id'] == country_id).astype(int)\n",
      "C:\\Users\\Uwe Drauz\\PycharmProjects\\bachelor_thesis\\data_preparation.py:559: PerformanceWarning: DataFrame is highly fragmented.  This is usually the result of calling `frame.insert` many times, which has poor performance.  Consider joining all columns at once using pd.concat(axis=1) instead. To get a de-fragmented frame, use `newframe = frame.copy()`\n",
      "  df[new_column_name] = (df['country_id'] == country_id).astype(int)\n",
      "C:\\Users\\Uwe Drauz\\PycharmProjects\\bachelor_thesis\\data_preparation.py:559: PerformanceWarning: DataFrame is highly fragmented.  This is usually the result of calling `frame.insert` many times, which has poor performance.  Consider joining all columns at once using pd.concat(axis=1) instead. To get a de-fragmented frame, use `newframe = frame.copy()`\n",
      "  df[new_column_name] = (df['country_id'] == country_id).astype(int)\n",
      "C:\\Users\\Uwe Drauz\\PycharmProjects\\bachelor_thesis\\data_preparation.py:559: PerformanceWarning: DataFrame is highly fragmented.  This is usually the result of calling `frame.insert` many times, which has poor performance.  Consider joining all columns at once using pd.concat(axis=1) instead. To get a de-fragmented frame, use `newframe = frame.copy()`\n",
      "  df[new_column_name] = (df['country_id'] == country_id).astype(int)\n",
      "C:\\Users\\Uwe Drauz\\PycharmProjects\\bachelor_thesis\\data_preparation.py:559: PerformanceWarning: DataFrame is highly fragmented.  This is usually the result of calling `frame.insert` many times, which has poor performance.  Consider joining all columns at once using pd.concat(axis=1) instead. To get a de-fragmented frame, use `newframe = frame.copy()`\n",
      "  df[new_column_name] = (df['country_id'] == country_id).astype(int)\n",
      "C:\\Users\\Uwe Drauz\\PycharmProjects\\bachelor_thesis\\data_preparation.py:559: PerformanceWarning: DataFrame is highly fragmented.  This is usually the result of calling `frame.insert` many times, which has poor performance.  Consider joining all columns at once using pd.concat(axis=1) instead. To get a de-fragmented frame, use `newframe = frame.copy()`\n",
      "  df[new_column_name] = (df['country_id'] == country_id).astype(int)\n",
      "C:\\Users\\Uwe Drauz\\PycharmProjects\\bachelor_thesis\\data_preparation.py:559: PerformanceWarning: DataFrame is highly fragmented.  This is usually the result of calling `frame.insert` many times, which has poor performance.  Consider joining all columns at once using pd.concat(axis=1) instead. To get a de-fragmented frame, use `newframe = frame.copy()`\n",
      "  df[new_column_name] = (df['country_id'] == country_id).astype(int)\n",
      "C:\\Users\\Uwe Drauz\\PycharmProjects\\bachelor_thesis\\data_preparation.py:559: PerformanceWarning: DataFrame is highly fragmented.  This is usually the result of calling `frame.insert` many times, which has poor performance.  Consider joining all columns at once using pd.concat(axis=1) instead. To get a de-fragmented frame, use `newframe = frame.copy()`\n",
      "  df[new_column_name] = (df['country_id'] == country_id).astype(int)\n",
      "C:\\Users\\Uwe Drauz\\PycharmProjects\\bachelor_thesis\\data_preparation.py:559: PerformanceWarning: DataFrame is highly fragmented.  This is usually the result of calling `frame.insert` many times, which has poor performance.  Consider joining all columns at once using pd.concat(axis=1) instead. To get a de-fragmented frame, use `newframe = frame.copy()`\n",
      "  df[new_column_name] = (df['country_id'] == country_id).astype(int)\n",
      "C:\\Users\\Uwe Drauz\\PycharmProjects\\bachelor_thesis\\data_preparation.py:559: PerformanceWarning: DataFrame is highly fragmented.  This is usually the result of calling `frame.insert` many times, which has poor performance.  Consider joining all columns at once using pd.concat(axis=1) instead. To get a de-fragmented frame, use `newframe = frame.copy()`\n",
      "  df[new_column_name] = (df['country_id'] == country_id).astype(int)\n",
      "C:\\Users\\Uwe Drauz\\PycharmProjects\\bachelor_thesis\\data_preparation.py:559: PerformanceWarning: DataFrame is highly fragmented.  This is usually the result of calling `frame.insert` many times, which has poor performance.  Consider joining all columns at once using pd.concat(axis=1) instead. To get a de-fragmented frame, use `newframe = frame.copy()`\n",
      "  df[new_column_name] = (df['country_id'] == country_id).astype(int)\n",
      "C:\\Users\\Uwe Drauz\\PycharmProjects\\bachelor_thesis\\data_preparation.py:559: PerformanceWarning: DataFrame is highly fragmented.  This is usually the result of calling `frame.insert` many times, which has poor performance.  Consider joining all columns at once using pd.concat(axis=1) instead. To get a de-fragmented frame, use `newframe = frame.copy()`\n",
      "  df[new_column_name] = (df['country_id'] == country_id).astype(int)\n",
      "C:\\Users\\Uwe Drauz\\PycharmProjects\\bachelor_thesis\\data_preparation.py:559: PerformanceWarning: DataFrame is highly fragmented.  This is usually the result of calling `frame.insert` many times, which has poor performance.  Consider joining all columns at once using pd.concat(axis=1) instead. To get a de-fragmented frame, use `newframe = frame.copy()`\n",
      "  df[new_column_name] = (df['country_id'] == country_id).astype(int)\n",
      "C:\\Users\\Uwe Drauz\\PycharmProjects\\bachelor_thesis\\data_preparation.py:559: PerformanceWarning: DataFrame is highly fragmented.  This is usually the result of calling `frame.insert` many times, which has poor performance.  Consider joining all columns at once using pd.concat(axis=1) instead. To get a de-fragmented frame, use `newframe = frame.copy()`\n",
      "  df[new_column_name] = (df['country_id'] == country_id).astype(int)\n",
      "C:\\Users\\Uwe Drauz\\PycharmProjects\\bachelor_thesis\\data_preparation.py:559: PerformanceWarning: DataFrame is highly fragmented.  This is usually the result of calling `frame.insert` many times, which has poor performance.  Consider joining all columns at once using pd.concat(axis=1) instead. To get a de-fragmented frame, use `newframe = frame.copy()`\n",
      "  df[new_column_name] = (df['country_id'] == country_id).astype(int)\n",
      "C:\\Users\\Uwe Drauz\\PycharmProjects\\bachelor_thesis\\data_preparation.py:559: PerformanceWarning: DataFrame is highly fragmented.  This is usually the result of calling `frame.insert` many times, which has poor performance.  Consider joining all columns at once using pd.concat(axis=1) instead. To get a de-fragmented frame, use `newframe = frame.copy()`\n",
      "  df[new_column_name] = (df['country_id'] == country_id).astype(int)\n",
      "C:\\Users\\Uwe Drauz\\PycharmProjects\\bachelor_thesis\\data_preparation.py:559: PerformanceWarning: DataFrame is highly fragmented.  This is usually the result of calling `frame.insert` many times, which has poor performance.  Consider joining all columns at once using pd.concat(axis=1) instead. To get a de-fragmented frame, use `newframe = frame.copy()`\n",
      "  df[new_column_name] = (df['country_id'] == country_id).astype(int)\n",
      "C:\\Users\\Uwe Drauz\\PycharmProjects\\bachelor_thesis\\data_preparation.py:559: PerformanceWarning: DataFrame is highly fragmented.  This is usually the result of calling `frame.insert` many times, which has poor performance.  Consider joining all columns at once using pd.concat(axis=1) instead. To get a de-fragmented frame, use `newframe = frame.copy()`\n",
      "  df[new_column_name] = (df['country_id'] == country_id).astype(int)\n",
      "C:\\Users\\Uwe Drauz\\PycharmProjects\\bachelor_thesis\\data_preparation.py:559: PerformanceWarning: DataFrame is highly fragmented.  This is usually the result of calling `frame.insert` many times, which has poor performance.  Consider joining all columns at once using pd.concat(axis=1) instead. To get a de-fragmented frame, use `newframe = frame.copy()`\n",
      "  df[new_column_name] = (df['country_id'] == country_id).astype(int)\n",
      "C:\\Users\\Uwe Drauz\\PycharmProjects\\bachelor_thesis\\data_preparation.py:559: PerformanceWarning: DataFrame is highly fragmented.  This is usually the result of calling `frame.insert` many times, which has poor performance.  Consider joining all columns at once using pd.concat(axis=1) instead. To get a de-fragmented frame, use `newframe = frame.copy()`\n",
      "  df[new_column_name] = (df['country_id'] == country_id).astype(int)\n",
      "C:\\Users\\Uwe Drauz\\PycharmProjects\\bachelor_thesis\\data_preparation.py:559: PerformanceWarning: DataFrame is highly fragmented.  This is usually the result of calling `frame.insert` many times, which has poor performance.  Consider joining all columns at once using pd.concat(axis=1) instead. To get a de-fragmented frame, use `newframe = frame.copy()`\n",
      "  df[new_column_name] = (df['country_id'] == country_id).astype(int)\n",
      "C:\\Users\\Uwe Drauz\\PycharmProjects\\bachelor_thesis\\data_preparation.py:559: PerformanceWarning: DataFrame is highly fragmented.  This is usually the result of calling `frame.insert` many times, which has poor performance.  Consider joining all columns at once using pd.concat(axis=1) instead. To get a de-fragmented frame, use `newframe = frame.copy()`\n",
      "  df[new_column_name] = (df['country_id'] == country_id).astype(int)\n",
      "C:\\Users\\Uwe Drauz\\PycharmProjects\\bachelor_thesis\\data_preparation.py:559: PerformanceWarning: DataFrame is highly fragmented.  This is usually the result of calling `frame.insert` many times, which has poor performance.  Consider joining all columns at once using pd.concat(axis=1) instead. To get a de-fragmented frame, use `newframe = frame.copy()`\n",
      "  df[new_column_name] = (df['country_id'] == country_id).astype(int)\n",
      "C:\\Users\\Uwe Drauz\\PycharmProjects\\bachelor_thesis\\data_preparation.py:559: PerformanceWarning: DataFrame is highly fragmented.  This is usually the result of calling `frame.insert` many times, which has poor performance.  Consider joining all columns at once using pd.concat(axis=1) instead. To get a de-fragmented frame, use `newframe = frame.copy()`\n",
      "  df[new_column_name] = (df['country_id'] == country_id).astype(int)\n",
      "C:\\Users\\Uwe Drauz\\PycharmProjects\\bachelor_thesis\\data_preparation.py:559: PerformanceWarning: DataFrame is highly fragmented.  This is usually the result of calling `frame.insert` many times, which has poor performance.  Consider joining all columns at once using pd.concat(axis=1) instead. To get a de-fragmented frame, use `newframe = frame.copy()`\n",
      "  df[new_column_name] = (df['country_id'] == country_id).astype(int)\n",
      "C:\\Users\\Uwe Drauz\\PycharmProjects\\bachelor_thesis\\data_preparation.py:559: PerformanceWarning: DataFrame is highly fragmented.  This is usually the result of calling `frame.insert` many times, which has poor performance.  Consider joining all columns at once using pd.concat(axis=1) instead. To get a de-fragmented frame, use `newframe = frame.copy()`\n",
      "  df[new_column_name] = (df['country_id'] == country_id).astype(int)\n",
      "C:\\Users\\Uwe Drauz\\PycharmProjects\\bachelor_thesis\\data_preparation.py:559: PerformanceWarning: DataFrame is highly fragmented.  This is usually the result of calling `frame.insert` many times, which has poor performance.  Consider joining all columns at once using pd.concat(axis=1) instead. To get a de-fragmented frame, use `newframe = frame.copy()`\n",
      "  df[new_column_name] = (df['country_id'] == country_id).astype(int)\n",
      "C:\\Users\\Uwe Drauz\\PycharmProjects\\bachelor_thesis\\data_preparation.py:559: PerformanceWarning: DataFrame is highly fragmented.  This is usually the result of calling `frame.insert` many times, which has poor performance.  Consider joining all columns at once using pd.concat(axis=1) instead. To get a de-fragmented frame, use `newframe = frame.copy()`\n",
      "  df[new_column_name] = (df['country_id'] == country_id).astype(int)\n",
      "C:\\Users\\Uwe Drauz\\PycharmProjects\\bachelor_thesis\\data_preparation.py:559: PerformanceWarning: DataFrame is highly fragmented.  This is usually the result of calling `frame.insert` many times, which has poor performance.  Consider joining all columns at once using pd.concat(axis=1) instead. To get a de-fragmented frame, use `newframe = frame.copy()`\n",
      "  df[new_column_name] = (df['country_id'] == country_id).astype(int)\n",
      "C:\\Users\\Uwe Drauz\\PycharmProjects\\bachelor_thesis\\data_preparation.py:559: PerformanceWarning: DataFrame is highly fragmented.  This is usually the result of calling `frame.insert` many times, which has poor performance.  Consider joining all columns at once using pd.concat(axis=1) instead. To get a de-fragmented frame, use `newframe = frame.copy()`\n",
      "  df[new_column_name] = (df['country_id'] == country_id).astype(int)\n",
      "C:\\Users\\Uwe Drauz\\PycharmProjects\\bachelor_thesis\\data_preparation.py:559: PerformanceWarning: DataFrame is highly fragmented.  This is usually the result of calling `frame.insert` many times, which has poor performance.  Consider joining all columns at once using pd.concat(axis=1) instead. To get a de-fragmented frame, use `newframe = frame.copy()`\n",
      "  df[new_column_name] = (df['country_id'] == country_id).astype(int)\n",
      "C:\\Users\\Uwe Drauz\\PycharmProjects\\bachelor_thesis\\data_preparation.py:559: PerformanceWarning: DataFrame is highly fragmented.  This is usually the result of calling `frame.insert` many times, which has poor performance.  Consider joining all columns at once using pd.concat(axis=1) instead. To get a de-fragmented frame, use `newframe = frame.copy()`\n",
      "  df[new_column_name] = (df['country_id'] == country_id).astype(int)\n",
      "C:\\Users\\Uwe Drauz\\PycharmProjects\\bachelor_thesis\\data_preparation.py:559: PerformanceWarning: DataFrame is highly fragmented.  This is usually the result of calling `frame.insert` many times, which has poor performance.  Consider joining all columns at once using pd.concat(axis=1) instead. To get a de-fragmented frame, use `newframe = frame.copy()`\n",
      "  df[new_column_name] = (df['country_id'] == country_id).astype(int)\n",
      "C:\\Users\\Uwe Drauz\\PycharmProjects\\bachelor_thesis\\data_preparation.py:559: PerformanceWarning: DataFrame is highly fragmented.  This is usually the result of calling `frame.insert` many times, which has poor performance.  Consider joining all columns at once using pd.concat(axis=1) instead. To get a de-fragmented frame, use `newframe = frame.copy()`\n",
      "  df[new_column_name] = (df['country_id'] == country_id).astype(int)\n",
      "C:\\Users\\Uwe Drauz\\PycharmProjects\\bachelor_thesis\\data_preparation.py:559: PerformanceWarning: DataFrame is highly fragmented.  This is usually the result of calling `frame.insert` many times, which has poor performance.  Consider joining all columns at once using pd.concat(axis=1) instead. To get a de-fragmented frame, use `newframe = frame.copy()`\n",
      "  df[new_column_name] = (df['country_id'] == country_id).astype(int)\n",
      "C:\\Users\\Uwe Drauz\\PycharmProjects\\bachelor_thesis\\data_preparation.py:559: PerformanceWarning: DataFrame is highly fragmented.  This is usually the result of calling `frame.insert` many times, which has poor performance.  Consider joining all columns at once using pd.concat(axis=1) instead. To get a de-fragmented frame, use `newframe = frame.copy()`\n",
      "  df[new_column_name] = (df['country_id'] == country_id).astype(int)\n",
      "C:\\Users\\Uwe Drauz\\PycharmProjects\\bachelor_thesis\\data_preparation.py:559: PerformanceWarning: DataFrame is highly fragmented.  This is usually the result of calling `frame.insert` many times, which has poor performance.  Consider joining all columns at once using pd.concat(axis=1) instead. To get a de-fragmented frame, use `newframe = frame.copy()`\n",
      "  df[new_column_name] = (df['country_id'] == country_id).astype(int)\n",
      "C:\\Users\\Uwe Drauz\\PycharmProjects\\bachelor_thesis\\data_preparation.py:559: PerformanceWarning: DataFrame is highly fragmented.  This is usually the result of calling `frame.insert` many times, which has poor performance.  Consider joining all columns at once using pd.concat(axis=1) instead. To get a de-fragmented frame, use `newframe = frame.copy()`\n",
      "  df[new_column_name] = (df['country_id'] == country_id).astype(int)\n",
      "C:\\Users\\Uwe Drauz\\PycharmProjects\\bachelor_thesis\\data_preparation.py:559: PerformanceWarning: DataFrame is highly fragmented.  This is usually the result of calling `frame.insert` many times, which has poor performance.  Consider joining all columns at once using pd.concat(axis=1) instead. To get a de-fragmented frame, use `newframe = frame.copy()`\n",
      "  df[new_column_name] = (df['country_id'] == country_id).astype(int)\n",
      "C:\\Users\\Uwe Drauz\\PycharmProjects\\bachelor_thesis\\data_preparation.py:559: PerformanceWarning: DataFrame is highly fragmented.  This is usually the result of calling `frame.insert` many times, which has poor performance.  Consider joining all columns at once using pd.concat(axis=1) instead. To get a de-fragmented frame, use `newframe = frame.copy()`\n",
      "  df[new_column_name] = (df['country_id'] == country_id).astype(int)\n",
      "C:\\Users\\Uwe Drauz\\PycharmProjects\\bachelor_thesis\\data_preparation.py:559: PerformanceWarning: DataFrame is highly fragmented.  This is usually the result of calling `frame.insert` many times, which has poor performance.  Consider joining all columns at once using pd.concat(axis=1) instead. To get a de-fragmented frame, use `newframe = frame.copy()`\n",
      "  df[new_column_name] = (df['country_id'] == country_id).astype(int)\n",
      "C:\\Users\\Uwe Drauz\\PycharmProjects\\bachelor_thesis\\data_preparation.py:574: PerformanceWarning: DataFrame is highly fragmented.  This is usually the result of calling `frame.insert` many times, which has poor performance.  Consider joining all columns at once using pd.concat(axis=1) instead. To get a de-fragmented frame, use `newframe = frame.copy()`\n",
      "  df['month'] = (df['month_id'] - 121) % 12 + 1\n",
      "C:\\Users\\Uwe Drauz\\PycharmProjects\\bachelor_thesis\\data_preparation.py:577: PerformanceWarning: DataFrame is highly fragmented.  This is usually the result of calling `frame.insert` many times, which has poor performance.  Consider joining all columns at once using pd.concat(axis=1) instead. To get a de-fragmented frame, use `newframe = frame.copy()`\n",
      "  df['Winter'] = 0\n",
      "C:\\Users\\Uwe Drauz\\PycharmProjects\\bachelor_thesis\\data_preparation.py:578: PerformanceWarning: DataFrame is highly fragmented.  This is usually the result of calling `frame.insert` many times, which has poor performance.  Consider joining all columns at once using pd.concat(axis=1) instead. To get a de-fragmented frame, use `newframe = frame.copy()`\n",
      "  df['Spring'] = 0\n",
      "C:\\Users\\Uwe Drauz\\PycharmProjects\\bachelor_thesis\\data_preparation.py:579: PerformanceWarning: DataFrame is highly fragmented.  This is usually the result of calling `frame.insert` many times, which has poor performance.  Consider joining all columns at once using pd.concat(axis=1) instead. To get a de-fragmented frame, use `newframe = frame.copy()`\n",
      "  df['Summer'] = 0\n",
      "C:\\Users\\Uwe Drauz\\PycharmProjects\\bachelor_thesis\\data_preparation.py:580: PerformanceWarning: DataFrame is highly fragmented.  This is usually the result of calling `frame.insert` many times, which has poor performance.  Consider joining all columns at once using pd.concat(axis=1) instead. To get a de-fragmented frame, use `newframe = frame.copy()`\n",
      "  df['Fall'] = 0\n"
     ]
    }
   ],
   "source": [
    "# STEP: FEATURE SELECTION AND STANDARDIZATION\n",
    "covariates = []\n",
    "lagged_covariates = ['ged_sb', 'decay_ged_sb_5', 'decay_ged_sb_100', 'decay_ged_sb_500', 'ged_sb_tsum_24']\n",
    "# Add large linear set to lagged covariates\n",
    "lagged_covariates.extend(large_set_lin_predictors)\n",
    "# Select countries which have at least one conflict fatality\n",
    "filtered_data = data_cm_features_allyears[data_cm_features_allyears['country_id'].isin(country_filter)]\n",
    "filtered_data = preprocess_data(filtered_data, covariates, lagged_covariates, standardize=True, lags_needed=3, drop_na=True)\n",
    "filtered_data_export = filtered_data[filtered_data['month_id'] <= end_actuals]"
   ],
   "metadata": {
    "collapsed": false,
    "ExecuteTime": {
     "end_time": "2023-12-05T16:12:59.715033Z",
     "start_time": "2023-12-05T16:12:55.904548200Z"
    }
   },
   "id": "ac83dc1e31ed58ec"
  },
  {
   "cell_type": "code",
   "execution_count": 17,
   "outputs": [],
   "source": [
    "# STEP: FEATURE SELECTION AND STANDARDIZATION\n",
    "covariates = []\n",
    "lagged_covariates = ['ged_sb', 'decay_ged_sb_5', 'decay_ged_sb_100', 'decay_ged_sb_500', 'ged_sb_tsum_24']\n",
    "# Select countries which have at least one conflict fatality\n",
    "filtered_data = data_cm_features_allyears[data_cm_features_allyears['country_id'].isin(country_filter)]\n",
    "filtered_data = preprocess_data(filtered_data, covariates, lagged_covariates, standardize=True, lags_needed=3, drop_na=False)\n",
    "filtered_data_export = filtered_data[filtered_data['month_id'] <= end_actuals]"
   ],
   "metadata": {
    "collapsed": false,
    "ExecuteTime": {
     "end_time": "2023-11-15T10:55:50.362345200Z",
     "start_time": "2023-11-15T10:55:48.466192200Z"
    }
   },
   "id": "initial_id"
  },
  {
   "cell_type": "code",
   "execution_count": 14,
   "outputs": [],
   "source": [
    "# Export as csv\n",
    "filtered_data_export.to_csv(fr'C:\\Users\\Uwe Drauz\\Documents\\bachelor_thesis_local\\personal_competition_data\\data\\cm_features_allyears_feature_set{feature_set}{year}.csv')"
   ],
   "metadata": {
    "collapsed": false,
    "ExecuteTime": {
     "end_time": "2023-11-15T08:51:33.609562200Z",
     "start_time": "2023-11-15T08:51:24.647029200Z"
    }
   },
   "id": "23d7d08fac0ebe90"
  },
  {
   "cell_type": "code",
   "execution_count": 143,
   "outputs": [],
   "source": [
    "# Export data\n",
    "filtered_data_export.to_parquet(fr'C:\\Users\\Uwe Drauz\\Documents\\bachelor_thesis_local\\personal_competition_data\\data\\cm_features_allyears_feature_set{feature_set}{year}.parquet')"
   ],
   "metadata": {
    "collapsed": false,
    "ExecuteTime": {
     "end_time": "2023-12-05T16:13:09.994910500Z",
     "start_time": "2023-12-05T16:13:09.105401900Z"
    }
   },
   "id": "149472c3f4281f95"
  },
  {
   "cell_type": "code",
   "execution_count": 107,
   "outputs": [
    {
     "data": {
      "text/plain": "191"
     },
     "execution_count": 107,
     "metadata": {},
     "output_type": "execute_result"
    }
   ],
   "source": [
    "len(actual_countries)"
   ],
   "metadata": {
    "collapsed": false,
    "ExecuteTime": {
     "end_time": "2023-12-05T16:08:52.419012200Z",
     "start_time": "2023-12-05T16:08:52.387585400Z"
    }
   },
   "id": "862dbb8ca7488b2b"
  },
  {
   "cell_type": "code",
   "execution_count": 144,
   "outputs": [
    {
     "data": {
      "text/plain": "94"
     },
     "execution_count": 144,
     "metadata": {},
     "output_type": "execute_result"
    }
   ],
   "source": [
    "filtered_data['country_id'].nunique()"
   ],
   "metadata": {
    "collapsed": false,
    "ExecuteTime": {
     "end_time": "2023-12-05T16:13:12.027387300Z",
     "start_time": "2023-12-05T16:13:11.980538800Z"
    }
   },
   "id": "ecc3387243ade6e2"
  },
  {
   "cell_type": "code",
   "execution_count": 0,
   "outputs": [],
   "source": [
    "data_2018 = pd.read_parquet(fr'C:\\Users\\Uwe Drauz\\Documents\\bachelor_thesis_local\\personal_competition_data\\data\\cm_features_allyears_feature_set1_2018.parquet')\n",
    "data_2019 = pd.read_parquet(fr'C:\\Users\\Uwe Drauz\\Documents\\bachelor_thesis_local\\personal_competition_data\\data\\cm_features_allyears_feature_set1_2019.parquet')\n",
    "data_2020 = pd.read_parquet(fr'C:\\Users\\Uwe Drauz\\Documents\\bachelor_thesis_local\\personal_competition_data\\data\\cm_features_allyears_feature_set1_2020.parquet')\n",
    "data_2021 = pd.read_parquet(fr'C:\\Users\\Uwe Drauz\\Documents\\bachelor_thesis_local\\personal_competition_data\\data\\cm_features_allyears_feature_set1_2021.parquet')"
   ],
   "metadata": {
    "collapsed": false
   },
   "id": "e14e2577f9dca8bd"
  },
  {
   "cell_type": "code",
   "execution_count": 109,
   "outputs": [],
   "source": [
    "data_composed = pd.read_parquet(fr'C:\\Users\\Uwe Drauz\\Documents\\bachelor_thesis_local\\personal_competition_data\\data\\cm_features_allyears_feature_set1.parquet')"
   ],
   "metadata": {
    "collapsed": false,
    "ExecuteTime": {
     "end_time": "2023-12-05T16:10:07.480486200Z",
     "start_time": "2023-12-05T16:10:07.355483500Z"
    }
   },
   "id": "5cfa7dde96546120"
  },
  {
   "cell_type": "code",
   "execution_count": 15,
   "outputs": [],
   "source": [
    "# Export list of countries non zero and above average quantile\n",
    "import pickle\n",
    "with open(fr'C:\\Users\\Uwe Drauz\\Documents\\bachelor_thesis_local\\personal_competition_data\\data\\feature_and_actuals_countries_non_zero_above_avg_quantile.pkl', 'wb') as f:\n",
    "    pickle.dump(feature_and_actuals_countries_non_zero_above_avg_quantile, f)"
   ],
   "metadata": {
    "collapsed": false,
    "ExecuteTime": {
     "end_time": "2023-12-08T15:09:12.310894100Z",
     "start_time": "2023-12-08T15:09:12.230769300Z"
    }
   },
   "id": "3bff96b49103909f"
  },
  {
   "cell_type": "code",
   "execution_count": null,
   "outputs": [],
   "source": [],
   "metadata": {
    "collapsed": false
   },
   "id": "43f0e74f912874dc"
  }
 ],
 "metadata": {
  "kernelspec": {
   "display_name": "Python 3",
   "language": "python",
   "name": "python3"
  },
  "language_info": {
   "codemirror_mode": {
    "name": "ipython",
    "version": 2
   },
   "file_extension": ".py",
   "mimetype": "text/x-python",
   "name": "python",
   "nbconvert_exporter": "python",
   "pygments_lexer": "ipython2",
   "version": "2.7.6"
  }
 },
 "nbformat": 4,
 "nbformat_minor": 5
}
